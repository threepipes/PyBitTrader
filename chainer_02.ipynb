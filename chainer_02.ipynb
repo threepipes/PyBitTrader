{
 "cells": [
  {
   "cell_type": "code",
   "execution_count": 1,
   "metadata": {
    "collapsed": true
   },
   "outputs": [],
   "source": [
    "import numpy as np\n",
    "import pandas as pd\n",
    "import time\n",
    "import chainer\n",
    "from chainer import cuda, Function, gradient_check, report, training, utils, Variable\n",
    "from chainer import datasets, iterators, optimizers, serializers\n",
    "from chainer import Link, Chain, ChainList, cuda\n",
    "import chainer.functions as F\n",
    "import chainer.links as L\n",
    "from chainer.training import extensions\n",
    "from chaineripy.extensions import PrintReport, ProgressBar\n",
    "from database.TradeHistory import get_session, History\n",
    "from database.db_utils import get_recent_hist15_df\n",
    "\n",
    "session = get_session()"
   ]
  },
  {
   "cell_type": "code",
   "execution_count": 2,
   "metadata": {
    "collapsed": true
   },
   "outputs": [],
   "source": [
    "from matplotlib import pyplot as plt\n",
    "%matplotlib inline"
   ]
  },
  {
   "cell_type": "code",
   "execution_count": 3,
   "metadata": {
    "collapsed": true
   },
   "outputs": [],
   "source": [
    "def zs(p, n, shift=0):\n",
    "    return (p.shift(shift) - p.rolling(n).mean()) / p.rolling(n).std().replace(0, 1)\n",
    "\n",
    "\n",
    "def avg(p, n):\n",
    "    return p.rolling(n).mean()\n",
    "\n",
    "\n",
    "def std(p, n):\n",
    "    return p.rolling(n).std()"
   ]
  },
  {
   "cell_type": "code",
   "execution_count": 5,
   "metadata": {},
   "outputs": [
    {
     "name": "stdout",
     "output_type": "stream",
     "text": [
      "loading from db\n",
      "loaded from db: 4.399554s\n"
     ]
    }
   ],
   "source": [
    "start = time.time()\n",
    "print('loading from db')\n",
    "df = pd.read_sql_query('select * from history5min', session.bind)\n",
    "print('loaded from db: %fs' % (time.time() - start))\n",
    "df.exec_date = pd.to_datetime(df.exec_date)\n",
    "df = df.set_index('exec_date')\n",
    "df = df.loc['2016-03':]"
   ]
  },
  {
   "cell_type": "code",
   "execution_count": 6,
   "metadata": {
    "scrolled": true
   },
   "outputs": [
    {
     "data": {
      "text/html": [
       "<div>\n",
       "<style>\n",
       "    .dataframe thead tr:only-child th {\n",
       "        text-align: right;\n",
       "    }\n",
       "\n",
       "    .dataframe thead th {\n",
       "        text-align: left;\n",
       "    }\n",
       "\n",
       "    .dataframe tbody tr th {\n",
       "        vertical-align: top;\n",
       "    }\n",
       "</style>\n",
       "<table border=\"1\" class=\"dataframe\">\n",
       "  <thead>\n",
       "    <tr style=\"text-align: right;\">\n",
       "      <th></th>\n",
       "      <th>price</th>\n",
       "      <th>size</th>\n",
       "    </tr>\n",
       "    <tr>\n",
       "      <th>exec_date</th>\n",
       "      <th></th>\n",
       "      <th></th>\n",
       "    </tr>\n",
       "  </thead>\n",
       "  <tbody>\n",
       "    <tr>\n",
       "      <th>2016-03-01 00:00:00</th>\n",
       "      <td>4.991371e+04</td>\n",
       "      <td>5.581900</td>\n",
       "    </tr>\n",
       "    <tr>\n",
       "      <th>2016-03-01 00:05:00</th>\n",
       "      <td>4.993420e+04</td>\n",
       "      <td>5.040500</td>\n",
       "    </tr>\n",
       "    <tr>\n",
       "      <th>2016-03-01 00:10:00</th>\n",
       "      <td>4.997394e+04</td>\n",
       "      <td>15.364827</td>\n",
       "    </tr>\n",
       "    <tr>\n",
       "      <th>2016-03-01 00:15:00</th>\n",
       "      <td>5.001271e+04</td>\n",
       "      <td>6.554000</td>\n",
       "    </tr>\n",
       "    <tr>\n",
       "      <th>2016-03-01 00:20:00</th>\n",
       "      <td>4.995983e+04</td>\n",
       "      <td>5.598000</td>\n",
       "    </tr>\n",
       "    <tr>\n",
       "      <th>2016-03-01 00:25:00</th>\n",
       "      <td>4.995490e+04</td>\n",
       "      <td>3.397000</td>\n",
       "    </tr>\n",
       "    <tr>\n",
       "      <th>2016-03-01 00:30:00</th>\n",
       "      <td>4.997905e+04</td>\n",
       "      <td>33.716964</td>\n",
       "    </tr>\n",
       "    <tr>\n",
       "      <th>2016-03-01 00:35:00</th>\n",
       "      <td>5.001895e+04</td>\n",
       "      <td>13.828000</td>\n",
       "    </tr>\n",
       "    <tr>\n",
       "      <th>2016-03-01 00:40:00</th>\n",
       "      <td>5.005329e+04</td>\n",
       "      <td>4.023432</td>\n",
       "    </tr>\n",
       "    <tr>\n",
       "      <th>2016-03-01 00:45:00</th>\n",
       "      <td>5.014410e+04</td>\n",
       "      <td>0.984000</td>\n",
       "    </tr>\n",
       "    <tr>\n",
       "      <th>2016-03-01 00:50:00</th>\n",
       "      <td>5.010554e+04</td>\n",
       "      <td>3.321000</td>\n",
       "    </tr>\n",
       "    <tr>\n",
       "      <th>2016-03-01 00:55:00</th>\n",
       "      <td>5.006075e+04</td>\n",
       "      <td>0.180000</td>\n",
       "    </tr>\n",
       "    <tr>\n",
       "      <th>2016-03-01 01:00:00</th>\n",
       "      <td>5.001947e+04</td>\n",
       "      <td>1.317860</td>\n",
       "    </tr>\n",
       "    <tr>\n",
       "      <th>2016-03-01 01:05:00</th>\n",
       "      <td>4.985600e+04</td>\n",
       "      <td>6.997459</td>\n",
       "    </tr>\n",
       "    <tr>\n",
       "      <th>2016-03-01 01:10:00</th>\n",
       "      <td>4.986827e+04</td>\n",
       "      <td>22.592540</td>\n",
       "    </tr>\n",
       "    <tr>\n",
       "      <th>2016-03-01 01:15:00</th>\n",
       "      <td>4.987229e+04</td>\n",
       "      <td>5.832000</td>\n",
       "    </tr>\n",
       "    <tr>\n",
       "      <th>2016-03-01 01:20:00</th>\n",
       "      <td>4.996558e+04</td>\n",
       "      <td>8.929000</td>\n",
       "    </tr>\n",
       "    <tr>\n",
       "      <th>2016-03-01 01:25:00</th>\n",
       "      <td>4.994920e+04</td>\n",
       "      <td>1.265564</td>\n",
       "    </tr>\n",
       "    <tr>\n",
       "      <th>2016-03-01 01:30:00</th>\n",
       "      <td>4.995285e+04</td>\n",
       "      <td>1.935000</td>\n",
       "    </tr>\n",
       "    <tr>\n",
       "      <th>2016-03-01 01:35:00</th>\n",
       "      <td>4.993479e+04</td>\n",
       "      <td>1.136000</td>\n",
       "    </tr>\n",
       "    <tr>\n",
       "      <th>2016-03-01 01:40:00</th>\n",
       "      <td>4.986820e+04</td>\n",
       "      <td>3.478000</td>\n",
       "    </tr>\n",
       "    <tr>\n",
       "      <th>2016-03-01 01:45:00</th>\n",
       "      <td>4.988254e+04</td>\n",
       "      <td>1.626000</td>\n",
       "    </tr>\n",
       "    <tr>\n",
       "      <th>2016-03-01 01:50:00</th>\n",
       "      <td>4.988608e+04</td>\n",
       "      <td>1.472000</td>\n",
       "    </tr>\n",
       "    <tr>\n",
       "      <th>2016-03-01 01:55:00</th>\n",
       "      <td>4.991486e+04</td>\n",
       "      <td>1.950000</td>\n",
       "    </tr>\n",
       "    <tr>\n",
       "      <th>2016-03-01 02:00:00</th>\n",
       "      <td>4.987750e+04</td>\n",
       "      <td>2.936000</td>\n",
       "    </tr>\n",
       "    <tr>\n",
       "      <th>2016-03-01 02:05:00</th>\n",
       "      <td>4.986644e+04</td>\n",
       "      <td>1.580000</td>\n",
       "    </tr>\n",
       "    <tr>\n",
       "      <th>2016-03-01 02:10:00</th>\n",
       "      <td>4.990318e+04</td>\n",
       "      <td>29.925220</td>\n",
       "    </tr>\n",
       "    <tr>\n",
       "      <th>2016-03-01 02:15:00</th>\n",
       "      <td>4.981482e+04</td>\n",
       "      <td>20.332000</td>\n",
       "    </tr>\n",
       "    <tr>\n",
       "      <th>2016-03-01 02:20:00</th>\n",
       "      <td>4.968914e+04</td>\n",
       "      <td>15.949000</td>\n",
       "    </tr>\n",
       "    <tr>\n",
       "      <th>2016-03-01 02:25:00</th>\n",
       "      <td>4.970153e+04</td>\n",
       "      <td>34.643000</td>\n",
       "    </tr>\n",
       "    <tr>\n",
       "      <th>...</th>\n",
       "      <td>...</td>\n",
       "      <td>...</td>\n",
       "    </tr>\n",
       "    <tr>\n",
       "      <th>2018-01-15 22:55:00</th>\n",
       "      <td>1.691696e+06</td>\n",
       "      <td>22.229642</td>\n",
       "    </tr>\n",
       "    <tr>\n",
       "      <th>2018-01-15 23:00:00</th>\n",
       "      <td>1.692797e+06</td>\n",
       "      <td>8.689934</td>\n",
       "    </tr>\n",
       "    <tr>\n",
       "      <th>2018-01-15 23:05:00</th>\n",
       "      <td>1.687896e+06</td>\n",
       "      <td>35.501805</td>\n",
       "    </tr>\n",
       "    <tr>\n",
       "      <th>2018-01-15 23:10:00</th>\n",
       "      <td>1.687282e+06</td>\n",
       "      <td>15.280841</td>\n",
       "    </tr>\n",
       "    <tr>\n",
       "      <th>2018-01-15 23:15:00</th>\n",
       "      <td>1.684279e+06</td>\n",
       "      <td>18.165006</td>\n",
       "    </tr>\n",
       "    <tr>\n",
       "      <th>2018-01-15 23:20:00</th>\n",
       "      <td>1.677770e+06</td>\n",
       "      <td>73.917207</td>\n",
       "    </tr>\n",
       "    <tr>\n",
       "      <th>2018-01-15 23:25:00</th>\n",
       "      <td>1.677575e+06</td>\n",
       "      <td>19.582369</td>\n",
       "    </tr>\n",
       "    <tr>\n",
       "      <th>2018-01-15 23:30:00</th>\n",
       "      <td>1.681322e+06</td>\n",
       "      <td>50.808306</td>\n",
       "    </tr>\n",
       "    <tr>\n",
       "      <th>2018-01-15 23:35:00</th>\n",
       "      <td>1.678920e+06</td>\n",
       "      <td>29.574786</td>\n",
       "    </tr>\n",
       "    <tr>\n",
       "      <th>2018-01-15 23:40:00</th>\n",
       "      <td>1.673304e+06</td>\n",
       "      <td>56.443834</td>\n",
       "    </tr>\n",
       "    <tr>\n",
       "      <th>2018-01-15 23:45:00</th>\n",
       "      <td>1.673369e+06</td>\n",
       "      <td>47.355735</td>\n",
       "    </tr>\n",
       "    <tr>\n",
       "      <th>2018-01-15 23:50:00</th>\n",
       "      <td>1.672970e+06</td>\n",
       "      <td>34.632562</td>\n",
       "    </tr>\n",
       "    <tr>\n",
       "      <th>2018-01-15 23:55:00</th>\n",
       "      <td>1.674706e+06</td>\n",
       "      <td>35.720986</td>\n",
       "    </tr>\n",
       "    <tr>\n",
       "      <th>2018-01-16 00:00:00</th>\n",
       "      <td>1.676290e+06</td>\n",
       "      <td>49.231668</td>\n",
       "    </tr>\n",
       "    <tr>\n",
       "      <th>2018-01-16 00:05:00</th>\n",
       "      <td>1.671691e+06</td>\n",
       "      <td>31.553440</td>\n",
       "    </tr>\n",
       "    <tr>\n",
       "      <th>2018-01-16 00:10:00</th>\n",
       "      <td>1.667855e+06</td>\n",
       "      <td>28.022749</td>\n",
       "    </tr>\n",
       "    <tr>\n",
       "      <th>2018-01-16 00:15:00</th>\n",
       "      <td>1.663342e+06</td>\n",
       "      <td>43.732556</td>\n",
       "    </tr>\n",
       "    <tr>\n",
       "      <th>2018-01-16 00:20:00</th>\n",
       "      <td>1.664186e+06</td>\n",
       "      <td>15.374123</td>\n",
       "    </tr>\n",
       "    <tr>\n",
       "      <th>2018-01-16 00:25:00</th>\n",
       "      <td>1.659446e+06</td>\n",
       "      <td>58.022008</td>\n",
       "    </tr>\n",
       "    <tr>\n",
       "      <th>2018-01-16 00:30:00</th>\n",
       "      <td>1.656052e+06</td>\n",
       "      <td>70.463592</td>\n",
       "    </tr>\n",
       "    <tr>\n",
       "      <th>2018-01-16 00:35:00</th>\n",
       "      <td>1.653787e+06</td>\n",
       "      <td>40.853823</td>\n",
       "    </tr>\n",
       "    <tr>\n",
       "      <th>2018-01-16 00:40:00</th>\n",
       "      <td>1.653653e+06</td>\n",
       "      <td>71.300918</td>\n",
       "    </tr>\n",
       "    <tr>\n",
       "      <th>2018-01-16 00:45:00</th>\n",
       "      <td>1.660081e+06</td>\n",
       "      <td>56.095296</td>\n",
       "    </tr>\n",
       "    <tr>\n",
       "      <th>2018-01-16 00:50:00</th>\n",
       "      <td>1.660294e+06</td>\n",
       "      <td>59.542996</td>\n",
       "    </tr>\n",
       "    <tr>\n",
       "      <th>2018-01-16 00:55:00</th>\n",
       "      <td>1.656771e+06</td>\n",
       "      <td>25.256500</td>\n",
       "    </tr>\n",
       "    <tr>\n",
       "      <th>2018-01-16 01:00:00</th>\n",
       "      <td>1.654849e+06</td>\n",
       "      <td>57.705276</td>\n",
       "    </tr>\n",
       "    <tr>\n",
       "      <th>2018-01-16 01:05:00</th>\n",
       "      <td>1.659731e+06</td>\n",
       "      <td>128.909802</td>\n",
       "    </tr>\n",
       "    <tr>\n",
       "      <th>2018-01-16 01:10:00</th>\n",
       "      <td>1.664989e+06</td>\n",
       "      <td>130.615762</td>\n",
       "    </tr>\n",
       "    <tr>\n",
       "      <th>2018-01-16 01:15:00</th>\n",
       "      <td>1.668586e+06</td>\n",
       "      <td>110.718987</td>\n",
       "    </tr>\n",
       "    <tr>\n",
       "      <th>2018-01-16 01:20:00</th>\n",
       "      <td>1.672040e+06</td>\n",
       "      <td>30.452812</td>\n",
       "    </tr>\n",
       "  </tbody>\n",
       "</table>\n",
       "<p>197585 rows × 2 columns</p>\n",
       "</div>"
      ],
      "text/plain": [
       "                            price        size\n",
       "exec_date                                    \n",
       "2016-03-01 00:00:00  4.991371e+04    5.581900\n",
       "2016-03-01 00:05:00  4.993420e+04    5.040500\n",
       "2016-03-01 00:10:00  4.997394e+04   15.364827\n",
       "2016-03-01 00:15:00  5.001271e+04    6.554000\n",
       "2016-03-01 00:20:00  4.995983e+04    5.598000\n",
       "2016-03-01 00:25:00  4.995490e+04    3.397000\n",
       "2016-03-01 00:30:00  4.997905e+04   33.716964\n",
       "2016-03-01 00:35:00  5.001895e+04   13.828000\n",
       "2016-03-01 00:40:00  5.005329e+04    4.023432\n",
       "2016-03-01 00:45:00  5.014410e+04    0.984000\n",
       "2016-03-01 00:50:00  5.010554e+04    3.321000\n",
       "2016-03-01 00:55:00  5.006075e+04    0.180000\n",
       "2016-03-01 01:00:00  5.001947e+04    1.317860\n",
       "2016-03-01 01:05:00  4.985600e+04    6.997459\n",
       "2016-03-01 01:10:00  4.986827e+04   22.592540\n",
       "2016-03-01 01:15:00  4.987229e+04    5.832000\n",
       "2016-03-01 01:20:00  4.996558e+04    8.929000\n",
       "2016-03-01 01:25:00  4.994920e+04    1.265564\n",
       "2016-03-01 01:30:00  4.995285e+04    1.935000\n",
       "2016-03-01 01:35:00  4.993479e+04    1.136000\n",
       "2016-03-01 01:40:00  4.986820e+04    3.478000\n",
       "2016-03-01 01:45:00  4.988254e+04    1.626000\n",
       "2016-03-01 01:50:00  4.988608e+04    1.472000\n",
       "2016-03-01 01:55:00  4.991486e+04    1.950000\n",
       "2016-03-01 02:00:00  4.987750e+04    2.936000\n",
       "2016-03-01 02:05:00  4.986644e+04    1.580000\n",
       "2016-03-01 02:10:00  4.990318e+04   29.925220\n",
       "2016-03-01 02:15:00  4.981482e+04   20.332000\n",
       "2016-03-01 02:20:00  4.968914e+04   15.949000\n",
       "2016-03-01 02:25:00  4.970153e+04   34.643000\n",
       "...                           ...         ...\n",
       "2018-01-15 22:55:00  1.691696e+06   22.229642\n",
       "2018-01-15 23:00:00  1.692797e+06    8.689934\n",
       "2018-01-15 23:05:00  1.687896e+06   35.501805\n",
       "2018-01-15 23:10:00  1.687282e+06   15.280841\n",
       "2018-01-15 23:15:00  1.684279e+06   18.165006\n",
       "2018-01-15 23:20:00  1.677770e+06   73.917207\n",
       "2018-01-15 23:25:00  1.677575e+06   19.582369\n",
       "2018-01-15 23:30:00  1.681322e+06   50.808306\n",
       "2018-01-15 23:35:00  1.678920e+06   29.574786\n",
       "2018-01-15 23:40:00  1.673304e+06   56.443834\n",
       "2018-01-15 23:45:00  1.673369e+06   47.355735\n",
       "2018-01-15 23:50:00  1.672970e+06   34.632562\n",
       "2018-01-15 23:55:00  1.674706e+06   35.720986\n",
       "2018-01-16 00:00:00  1.676290e+06   49.231668\n",
       "2018-01-16 00:05:00  1.671691e+06   31.553440\n",
       "2018-01-16 00:10:00  1.667855e+06   28.022749\n",
       "2018-01-16 00:15:00  1.663342e+06   43.732556\n",
       "2018-01-16 00:20:00  1.664186e+06   15.374123\n",
       "2018-01-16 00:25:00  1.659446e+06   58.022008\n",
       "2018-01-16 00:30:00  1.656052e+06   70.463592\n",
       "2018-01-16 00:35:00  1.653787e+06   40.853823\n",
       "2018-01-16 00:40:00  1.653653e+06   71.300918\n",
       "2018-01-16 00:45:00  1.660081e+06   56.095296\n",
       "2018-01-16 00:50:00  1.660294e+06   59.542996\n",
       "2018-01-16 00:55:00  1.656771e+06   25.256500\n",
       "2018-01-16 01:00:00  1.654849e+06   57.705276\n",
       "2018-01-16 01:05:00  1.659731e+06  128.909802\n",
       "2018-01-16 01:10:00  1.664989e+06  130.615762\n",
       "2018-01-16 01:15:00  1.668586e+06  110.718987\n",
       "2018-01-16 01:20:00  1.672040e+06   30.452812\n",
       "\n",
       "[197585 rows x 2 columns]"
      ]
     },
     "execution_count": 6,
     "metadata": {},
     "output_type": "execute_result"
    }
   ],
   "source": [
    "df"
   ]
  },
  {
   "cell_type": "code",
   "execution_count": 7,
   "metadata": {
    "collapsed": true
   },
   "outputs": [],
   "source": [
    "# bench_price = df.price\n",
    "# bench_size = df['size']\n",
    "dfb = df\n",
    "\n",
    "p = dfb.price\n",
    "v = dfb['size']\n",
    "\n",
    "dfb['pma12'] = zs(p / avg(p, 12) - 1, 96)\n",
    "dfb['pma96'] = zs(p / avg(p, 96) - 1, 96)\n",
    "dfb['pma672'] = zs(p / avg(p, 672) - 1, 96)\n",
    "\n",
    "dfb['ma4_36'] = zs(avg(p, 4) / avg(p, 36) - 1, 96)\n",
    "dfb['ma12_96'] = zs(avg(p, 12) / avg(p, 96) - 1, 96)\n",
    "dfb['ac12_12'] = zs((p / avg(p, 12)) / avg(p / avg(p, 12), 12), 96)\n",
    "dfb['ac96_96'] = zs((p / avg(p, 96)) / avg(p / avg(p, 96), 12), 96)\n",
    "\n",
    "dfb['vma12'] = zs(v / avg(v, 12) - 1, 96)\n",
    "dfb['vma96'] = zs(v / avg(v, 96) - 1, 96)\n",
    "dfb['vma672'] = zs(v / avg(v, 672) - 1, 96)\n",
    "\n",
    "dfb['vZ12'] = zs(v, 12)\n",
    "dfb['vZ96'] = zs(v, 96)\n",
    "dfb['vZ672'] = zs(v, 672)\n",
    "\n",
    "r_label_list = [\n",
    "    'r', 'r_1', 'r_2',\n",
    "]\n",
    "for r_label in r_label_list:\n",
    "    dfb[r_label] = 0\n",
    "dfb['state'] = 0\n",
    "\n",
    "dfb['pZ12'] = zs(p, 12)\n",
    "dfb['pZ96'] = zs(p, 96)\n",
    "dfb['vol12'] = zs(std(p, 12), 96)\n",
    "dfb['vol96'] = zs(std(p, 96), 96)\n",
    "dfb['vol672'] = zs(std(p, 672), 96)\n",
    "dfb['dv12_96'] = zs(std(p, 12) / avg(std(p, 12), 96), 96)\n",
    "dfb['dv96_672'] = zs(std(p, 96) / avg(std(p, 96), 672), 96)\n",
    "\n",
    "for i in range(96):\n",
    "    dfb['pZ96_s%02d' % i] = zs(p, 96, shift=i)\n",
    "\n",
    "for i in range(96):\n",
    "    dfb['pre_diff%02d' % i] = p.shift(i) / p.shift(i + 1) - 1\n",
    "\n",
    "dfb['max_diff12'] = p / p.rolling(12).max() - 1\n",
    "dfb['max_diff96'] = p / p.rolling(96).max() - 1\n",
    "dfb['max_diff672'] = p / p.rolling(672).max() - 1\n",
    "\n",
    "dfb['min_diff12'] = p / p.rolling(12).min() - 1\n",
    "dfb['min_diff96'] = p / p.rolling(96).min() - 1\n",
    "dfb['min_diff672'] = p / p.rolling(672).min() - 1\n",
    "\n",
    "dfb['utctime'] = (dfb.index.hour * 4 + dfb.index.minute / 15) / 96\n",
    "\n",
    "dfz = dfb\n",
    "\n",
    "indicator = dfz.reset_index().loc[:, 'pma12':'utctime']\n",
    "price_history = dfz.reset_index().price\n",
    "\n",
    "indicator['vma12'] = indicator.vma12.fillna(0)\n",
    "indicator['vZ12'] = indicator.vZ12.fillna(0)"
   ]
  },
  {
   "cell_type": "code",
   "execution_count": 8,
   "metadata": {
    "scrolled": true
   },
   "outputs": [
    {
     "data": {
      "text/plain": [
       "0         2\n",
       "1         1\n",
       "2         1\n",
       "3         0\n",
       "4         2\n",
       "5         2\n",
       "6         2\n",
       "7         2\n",
       "8         1\n",
       "9         0\n",
       "10        0\n",
       "11        0\n",
       "12        0\n",
       "13        2\n",
       "14        2\n",
       "15        2\n",
       "16        0\n",
       "17        0\n",
       "18        0\n",
       "19        0\n",
       "20        2\n",
       "21        1\n",
       "22        1\n",
       "23        1\n",
       "24        0\n",
       "25        0\n",
       "26        0\n",
       "27        0\n",
       "28        2\n",
       "29        2\n",
       "         ..\n",
       "197555    0\n",
       "197556    0\n",
       "197557    0\n",
       "197558    0\n",
       "197559    0\n",
       "197560    2\n",
       "197561    0\n",
       "197562    0\n",
       "197563    0\n",
       "197564    2\n",
       "197565    2\n",
       "197566    0\n",
       "197567    0\n",
       "197568    0\n",
       "197569    0\n",
       "197570    0\n",
       "197571    0\n",
       "197572    0\n",
       "197573    0\n",
       "197574    2\n",
       "197575    2\n",
       "197576    2\n",
       "197577    0\n",
       "197578    1\n",
       "197579    2\n",
       "197580    2\n",
       "197581    2\n",
       "197582    1\n",
       "197583    1\n",
       "197584    1\n",
       "Name: price, Length: 197585, dtype: category\n",
       "Categories (3, int64): [0 < 1 < 2]"
      ]
     },
     "execution_count": 8,
     "metadata": {},
     "output_type": "execute_result"
    }
   ],
   "source": [
    "answer = price_history.shift(-3) / price_history - 1\n",
    "answer = pd.qcut(answer, 3, labels=list(range(3))).fillna(1)\n",
    "answer"
   ]
  },
  {
   "cell_type": "code",
   "execution_count": 9,
   "metadata": {
    "scrolled": true
   },
   "outputs": [
    {
     "data": {
      "text/plain": [
       "(197585, 223)"
      ]
     },
     "execution_count": 9,
     "metadata": {},
     "output_type": "execute_result"
    }
   ],
   "source": [
    "indicator.shape"
   ]
  },
  {
   "cell_type": "code",
   "execution_count": 10,
   "metadata": {},
   "outputs": [
    {
     "data": {
      "text/plain": [
       "(0.000588, 0.129]        65861\n",
       "(-0.14, -0.000465]       65861\n",
       "(-0.000465, 0.000588]    65860\n",
       "Name: price, dtype: int64"
      ]
     },
     "execution_count": 10,
     "metadata": {},
     "output_type": "execute_result"
    }
   ],
   "source": [
    "pd.qcut(price_history.shift(-3) / price_history - 1, 3).value_counts()"
   ]
  },
  {
   "cell_type": "code",
   "execution_count": 14,
   "metadata": {
    "collapsed": true
   },
   "outputs": [],
   "source": [
    "indexer = indicator.dv96_672.notnull()\n",
    "for label in indicator.columns:\n",
    "    indexer = indexer & indicator[label].notnull()"
   ]
  },
  {
   "cell_type": "code",
   "execution_count": 15,
   "metadata": {
    "collapsed": true
   },
   "outputs": [],
   "source": [
    "xp = cuda.cupy\n",
    "\n",
    "d_exp = indicator.loc[indexer].reset_index(drop=True)\n",
    "d_obj = answer[indexer].reset_index(drop=True)\n",
    "\n",
    "border = d_exp.index[-1800]\n",
    "# last = d_exp.index[-200]\n",
    "test_exp = d_exp[border:]\n",
    "test_obj = d_obj[border:]\n",
    "d_exp = d_exp[:border]\n",
    "d_obj = d_obj[:border]\n",
    "\n",
    "data = xp.array(d_exp, dtype=xp.float32)\n",
    "t_data = xp.array(d_obj, dtype=xp.int32)\n",
    "data_test = xp.array(test_exp, dtype=xp.float32)\n",
    "t_data_test = xp.array(test_obj, dtype=xp.int32)"
   ]
  },
  {
   "cell_type": "code",
   "execution_count": 67,
   "metadata": {
    "collapsed": true,
    "scrolled": true
   },
   "outputs": [],
   "source": [
    "d_exp.describe().to_csv('tmp.csv')"
   ]
  },
  {
   "cell_type": "code",
   "execution_count": 17,
   "metadata": {
    "scrolled": true
   },
   "outputs": [
    {
     "data": {
      "text/html": [
       "<div>\n",
       "<style>\n",
       "    .dataframe thead tr:only-child th {\n",
       "        text-align: right;\n",
       "    }\n",
       "\n",
       "    .dataframe thead th {\n",
       "        text-align: left;\n",
       "    }\n",
       "\n",
       "    .dataframe tbody tr th {\n",
       "        vertical-align: top;\n",
       "    }\n",
       "</style>\n",
       "<table border=\"1\" class=\"dataframe\">\n",
       "  <thead>\n",
       "    <tr style=\"text-align: right;\">\n",
       "      <th></th>\n",
       "      <th>pma12</th>\n",
       "      <th>pma96</th>\n",
       "      <th>pma672</th>\n",
       "      <th>ma4_36</th>\n",
       "      <th>ma12_96</th>\n",
       "      <th>ac12_12</th>\n",
       "      <th>ac96_96</th>\n",
       "      <th>vma12</th>\n",
       "      <th>vma96</th>\n",
       "      <th>vma672</th>\n",
       "      <th>...</th>\n",
       "      <th>pre_diff93</th>\n",
       "      <th>pre_diff94</th>\n",
       "      <th>pre_diff95</th>\n",
       "      <th>max_diff12</th>\n",
       "      <th>max_diff96</th>\n",
       "      <th>max_diff672</th>\n",
       "      <th>min_diff12</th>\n",
       "      <th>min_diff96</th>\n",
       "      <th>min_diff672</th>\n",
       "      <th>utctime</th>\n",
       "    </tr>\n",
       "  </thead>\n",
       "  <tbody>\n",
       "    <tr>\n",
       "      <th>False</th>\n",
       "      <td>196724</td>\n",
       "      <td>196724</td>\n",
       "      <td>196724</td>\n",
       "      <td>196724</td>\n",
       "      <td>196724</td>\n",
       "      <td>196724</td>\n",
       "      <td>196724</td>\n",
       "      <td>196724</td>\n",
       "      <td>196724</td>\n",
       "      <td>196724</td>\n",
       "      <td>...</td>\n",
       "      <td>196724</td>\n",
       "      <td>196724</td>\n",
       "      <td>196724</td>\n",
       "      <td>196724</td>\n",
       "      <td>196724</td>\n",
       "      <td>196724</td>\n",
       "      <td>196724</td>\n",
       "      <td>196724</td>\n",
       "      <td>196724</td>\n",
       "      <td>196724</td>\n",
       "    </tr>\n",
       "  </tbody>\n",
       "</table>\n",
       "<p>1 rows × 223 columns</p>\n",
       "</div>"
      ],
      "text/plain": [
       "        pma12   pma96  pma672  ma4_36  ma12_96  ac12_12  ac96_96   vma12  \\\n",
       "False  196724  196724  196724  196724   196724   196724   196724  196724   \n",
       "\n",
       "        vma96  vma672   ...     pre_diff93  pre_diff94  pre_diff95  \\\n",
       "False  196724  196724   ...         196724      196724      196724   \n",
       "\n",
       "       max_diff12  max_diff96  max_diff672  min_diff12  min_diff96  \\\n",
       "False      196724      196724       196724      196724      196724   \n",
       "\n",
       "       min_diff672  utctime  \n",
       "False       196724   196724  \n",
       "\n",
       "[1 rows x 223 columns]"
      ]
     },
     "execution_count": 17,
     "metadata": {},
     "output_type": "execute_result"
    }
   ],
   "source": [
    "indicator[indexer].isnull().apply(pd.value_counts)"
   ]
  },
  {
   "cell_type": "code",
   "execution_count": 18,
   "metadata": {
    "collapsed": true
   },
   "outputs": [],
   "source": [
    "row, col = d_exp.shape\n",
    "\n",
    "ls_1 = 400\n",
    "ls_2 = 800\n",
    "ls_3 = 800\n",
    "ls_4 = 200\n",
    "# ls_5 = 200\n",
    "out_size = 3\n",
    "class MyChain(Chain):\n",
    "    def __init__(self):\n",
    "        super().__init__(\n",
    "            l1=L.Linear(col, ls_1),\n",
    "            l2=L.Linear(ls_1, ls_2),\n",
    "            l3=L.Linear(ls_2, ls_3),\n",
    "            l4=L.Linear(ls_3, ls_4),\n",
    "#             l5=L.Linear(ls_4, ls_5),\n",
    "            l5=L.Linear(ls_4, out_size)\n",
    "        )\n",
    "    \n",
    "    def __call__(self, x):\n",
    "        if chainer.config.train:\n",
    "            h = F.sigmoid(self.l1(x))\n",
    "#             h = F.dropout(F.sigmoid(self.l2(h)), ratio=0.01)\n",
    "            h = F.dropout(F.sigmoid(self.l2(h)), ratio=0.05)\n",
    "            h = F.dropout(F.leaky_relu(self.l3(h)), ratio=0.1)\n",
    "            h = F.sigmoid(self.l4(h))\n",
    "        else:\n",
    "            h = F.sigmoid(self.l1(x))\n",
    "#             h = F.sigmoid(self.l2(h))\n",
    "            h = F.sigmoid(self.l2(h))\n",
    "            h = F.leaky_relu(self.l3(h))\n",
    "            h = F.sigmoid(self.l4(h))\n",
    "        o = self.l5(h)\n",
    "        return o"
   ]
  },
  {
   "cell_type": "code",
   "execution_count": 19,
   "metadata": {
    "collapsed": true
   },
   "outputs": [],
   "source": [
    "train = datasets.tuple_dataset.TupleDataset(data, t_data)\n",
    "train = iterators.SerialIterator(train, batch_size=100, shuffle=True, repeat=True)\n",
    "\n",
    "testset = datasets.tuple_dataset.TupleDataset(data_test, t_data_test)\n",
    "testset = iterators.SerialIterator(testset, batch_size=100, shuffle=False, repeat=False)"
   ]
  },
  {
   "cell_type": "code",
   "execution_count": 20,
   "metadata": {
    "collapsed": true
   },
   "outputs": [],
   "source": [
    "model = L.Classifier(MyChain())\n",
    "\n",
    "gpu_device = 0\n",
    "cuda.get_device_from_id(gpu_device).use()\n",
    "model.to_gpu(gpu_device)\n",
    "\n",
    "optimizer = optimizers.SGD()\n",
    "optimizer.setup(model)\n",
    "updater = training.StandardUpdater(train, optimizer, device=gpu_device)"
   ]
  },
  {
   "cell_type": "code",
   "execution_count": 21,
   "metadata": {
    "scrolled": true
   },
   "outputs": [
    {
     "data": {
      "application/vnd.jupyter.widget-view+json": {
       "model_id": "80758f6038cf4bd2ab4cd8a2f5bb03d8",
       "version_major": 2,
       "version_minor": 0
      },
      "text/plain": [
       "A Jupyter Widget"
      ]
     },
     "metadata": {},
     "output_type": "display_data"
    },
    {
     "data": {
      "application/vnd.jupyter.widget-view+json": {
       "model_id": "55a5ec0f545445c4889f9290c6cfaac1",
       "version_major": 2,
       "version_minor": 0
      },
      "text/plain": [
       "A Jupyter Widget"
      ]
     },
     "metadata": {},
     "output_type": "display_data"
    },
    {
     "data": {
      "application/vnd.jupyter.widget-view+json": {
       "model_id": "d9c24b8946a5413889bf1b65d45db20a",
       "version_major": 2,
       "version_minor": 0
      },
      "text/plain": [
       "A Jupyter Widget"
      ]
     },
     "metadata": {},
     "output_type": "display_data"
    },
    {
     "data": {
      "application/vnd.jupyter.widget-view+json": {
       "model_id": "45d884eb6c6246ba8f2f8ca23566afa1",
       "version_major": 2,
       "version_minor": 0
      },
      "text/plain": [
       "A Jupyter Widget"
      ]
     },
     "metadata": {},
     "output_type": "display_data"
    },
    {
     "data": {
      "application/vnd.jupyter.widget-view+json": {
       "model_id": "2b576736841d44ab8ff85855660ec036",
       "version_major": 2,
       "version_minor": 0
      },
      "text/plain": [
       "A Jupyter Widget"
      ]
     },
     "metadata": {},
     "output_type": "display_data"
    },
    {
     "data": {
      "application/vnd.jupyter.widget-view+json": {
       "model_id": "c812455edf5d4c6aa156ca58614405ea",
       "version_major": 2,
       "version_minor": 0
      },
      "text/plain": [
       "A Jupyter Widget"
      ]
     },
     "metadata": {},
     "output_type": "display_data"
    },
    {
     "data": {
      "application/vnd.jupyter.widget-view+json": {
       "model_id": "453154d41fd048fe9f250cd537aea3c9",
       "version_major": 2,
       "version_minor": 0
      },
      "text/plain": [
       "A Jupyter Widget"
      ]
     },
     "metadata": {},
     "output_type": "display_data"
    },
    {
     "data": {
      "application/vnd.jupyter.widget-view+json": {
       "model_id": "8378dec226684b598013e8d9367c2594",
       "version_major": 2,
       "version_minor": 0
      },
      "text/plain": [
       "A Jupyter Widget"
      ]
     },
     "metadata": {},
     "output_type": "display_data"
    },
    {
     "data": {
      "application/vnd.jupyter.widget-view+json": {
       "model_id": "f30b834a0b0f43d497f8b442ee6c0a13",
       "version_major": 2,
       "version_minor": 0
      },
      "text/plain": [
       "A Jupyter Widget"
      ]
     },
     "metadata": {},
     "output_type": "display_data"
    },
    {
     "data": {
      "application/vnd.jupyter.widget-view+json": {
       "model_id": "d5ea19842c11484c89a0319bd5411b02",
       "version_major": 2,
       "version_minor": 0
      },
      "text/plain": [
       "A Jupyter Widget"
      ]
     },
     "metadata": {},
     "output_type": "display_data"
    },
    {
     "data": {
      "application/vnd.jupyter.widget-view+json": {
       "model_id": "c7f01a7fdfab40869fea210c62fc03fb",
       "version_major": 2,
       "version_minor": 0
      },
      "text/plain": [
       "A Jupyter Widget"
      ]
     },
     "metadata": {},
     "output_type": "display_data"
    },
    {
     "data": {
      "application/vnd.jupyter.widget-view+json": {
       "model_id": "de606ccdd3fd4e4aa88cc31e43854483",
       "version_major": 2,
       "version_minor": 0
      },
      "text/plain": [
       "A Jupyter Widget"
      ]
     },
     "metadata": {},
     "output_type": "display_data"
    },
    {
     "data": {
      "application/vnd.jupyter.widget-view+json": {
       "model_id": "fd30f4ac419b4ff9be808719f983db10",
       "version_major": 2,
       "version_minor": 0
      },
      "text/plain": [
       "A Jupyter Widget"
      ]
     },
     "metadata": {},
     "output_type": "display_data"
    },
    {
     "data": {
      "application/vnd.jupyter.widget-view+json": {
       "model_id": "bef0a58c1bde4bb4ade754aacfdd41f6",
       "version_major": 2,
       "version_minor": 0
      },
      "text/plain": [
       "A Jupyter Widget"
      ]
     },
     "metadata": {},
     "output_type": "display_data"
    },
    {
     "data": {
      "application/vnd.jupyter.widget-view+json": {
       "model_id": "21523a4db7d84853bb25305e23d8af99",
       "version_major": 2,
       "version_minor": 0
      },
      "text/plain": [
       "A Jupyter Widget"
      ]
     },
     "metadata": {},
     "output_type": "display_data"
    },
    {
     "data": {
      "application/vnd.jupyter.widget-view+json": {
       "model_id": "667895d91d544f1e8198280ea74b8b4e",
       "version_major": 2,
       "version_minor": 0
      },
      "text/plain": [
       "A Jupyter Widget"
      ]
     },
     "metadata": {},
     "output_type": "display_data"
    },
    {
     "data": {
      "application/vnd.jupyter.widget-view+json": {
       "model_id": "f6259a8357fe47c78b02a62d6b5148de",
       "version_major": 2,
       "version_minor": 0
      },
      "text/plain": [
       "A Jupyter Widget"
      ]
     },
     "metadata": {},
     "output_type": "display_data"
    },
    {
     "data": {
      "application/vnd.jupyter.widget-view+json": {
       "model_id": "00e400624db6468b9ef67a13bfaf8319",
       "version_major": 2,
       "version_minor": 0
      },
      "text/plain": [
       "A Jupyter Widget"
      ]
     },
     "metadata": {},
     "output_type": "display_data"
    },
    {
     "data": {
      "application/vnd.jupyter.widget-view+json": {
       "model_id": "351c6a4716114741bdb125fd6c7d3169",
       "version_major": 2,
       "version_minor": 0
      },
      "text/plain": [
       "A Jupyter Widget"
      ]
     },
     "metadata": {},
     "output_type": "display_data"
    },
    {
     "data": {
      "application/vnd.jupyter.widget-view+json": {
       "model_id": "02dc96e4e24243af873fa994465bc545",
       "version_major": 2,
       "version_minor": 0
      },
      "text/plain": [
       "A Jupyter Widget"
      ]
     },
     "metadata": {},
     "output_type": "display_data"
    },
    {
     "data": {
      "application/vnd.jupyter.widget-view+json": {
       "model_id": "e554f427b61043c3b1ab1eb2122148f2",
       "version_major": 2,
       "version_minor": 0
      },
      "text/plain": [
       "A Jupyter Widget"
      ]
     },
     "metadata": {},
     "output_type": "display_data"
    },
    {
     "data": {
      "application/vnd.jupyter.widget-view+json": {
       "model_id": "7ff667dde8394de186357781d462041e",
       "version_major": 2,
       "version_minor": 0
      },
      "text/plain": [
       "A Jupyter Widget"
      ]
     },
     "metadata": {},
     "output_type": "display_data"
    },
    {
     "data": {
      "application/vnd.jupyter.widget-view+json": {
       "model_id": "ab40d7e6ebe04b97bb38d3c5252d5235",
       "version_major": 2,
       "version_minor": 0
      },
      "text/plain": [
       "A Jupyter Widget"
      ]
     },
     "metadata": {},
     "output_type": "display_data"
    },
    {
     "data": {
      "application/vnd.jupyter.widget-view+json": {
       "model_id": "32d584451c28438a85a7d886a74138ab",
       "version_major": 2,
       "version_minor": 0
      },
      "text/plain": [
       "A Jupyter Widget"
      ]
     },
     "metadata": {},
     "output_type": "display_data"
    },
    {
     "data": {
      "application/vnd.jupyter.widget-view+json": {
       "model_id": "a934ca524d614a838639ac559efe8af5",
       "version_major": 2,
       "version_minor": 0
      },
      "text/plain": [
       "A Jupyter Widget"
      ]
     },
     "metadata": {},
     "output_type": "display_data"
    },
    {
     "data": {
      "application/vnd.jupyter.widget-view+json": {
       "model_id": "9f3425c5e1404d22b5b38595d7dbd32a",
       "version_major": 2,
       "version_minor": 0
      },
      "text/plain": [
       "A Jupyter Widget"
      ]
     },
     "metadata": {},
     "output_type": "display_data"
    },
    {
     "data": {
      "application/vnd.jupyter.widget-view+json": {
       "model_id": "bd129d235189403697e785df0c8c047d",
       "version_major": 2,
       "version_minor": 0
      },
      "text/plain": [
       "A Jupyter Widget"
      ]
     },
     "metadata": {},
     "output_type": "display_data"
    },
    {
     "data": {
      "application/vnd.jupyter.widget-view+json": {
       "model_id": "6b8b63118a534ddfb915d3248fc56207",
       "version_major": 2,
       "version_minor": 0
      },
      "text/plain": [
       "A Jupyter Widget"
      ]
     },
     "metadata": {},
     "output_type": "display_data"
    },
    {
     "data": {
      "application/vnd.jupyter.widget-view+json": {
       "model_id": "69f39481873443e898d3f2cea008fd76",
       "version_major": 2,
       "version_minor": 0
      },
      "text/plain": [
       "A Jupyter Widget"
      ]
     },
     "metadata": {},
     "output_type": "display_data"
    },
    {
     "data": {
      "application/vnd.jupyter.widget-view+json": {
       "model_id": "c5e43a5afc374e4ca2218b63990e6016",
       "version_major": 2,
       "version_minor": 0
      },
      "text/plain": [
       "A Jupyter Widget"
      ]
     },
     "metadata": {},
     "output_type": "display_data"
    },
    {
     "data": {
      "application/vnd.jupyter.widget-view+json": {
       "model_id": "e449b83bde124c58808de38684180569",
       "version_major": 2,
       "version_minor": 0
      },
      "text/plain": [
       "A Jupyter Widget"
      ]
     },
     "metadata": {},
     "output_type": "display_data"
    },
    {
     "data": {
      "application/vnd.jupyter.widget-view+json": {
       "model_id": "26153a69479e45d18c945cad72cb766c",
       "version_major": 2,
       "version_minor": 0
      },
      "text/plain": [
       "A Jupyter Widget"
      ]
     },
     "metadata": {},
     "output_type": "display_data"
    },
    {
     "data": {
      "application/vnd.jupyter.widget-view+json": {
       "model_id": "7d439e15ec1242da8c1f8763459682ea",
       "version_major": 2,
       "version_minor": 0
      },
      "text/plain": [
       "A Jupyter Widget"
      ]
     },
     "metadata": {},
     "output_type": "display_data"
    },
    {
     "data": {
      "application/vnd.jupyter.widget-view+json": {
       "model_id": "3401bf8a72c446398d9be5b62468d5cc",
       "version_major": 2,
       "version_minor": 0
      },
      "text/plain": [
       "A Jupyter Widget"
      ]
     },
     "metadata": {},
     "output_type": "display_data"
    },
    {
     "data": {
      "application/vnd.jupyter.widget-view+json": {
       "model_id": "b53714e3416c431cb74097b8271fb412",
       "version_major": 2,
       "version_minor": 0
      },
      "text/plain": [
       "A Jupyter Widget"
      ]
     },
     "metadata": {},
     "output_type": "display_data"
    },
    {
     "data": {
      "application/vnd.jupyter.widget-view+json": {
       "model_id": "a3ed9545656e4535ac22806812db9193",
       "version_major": 2,
       "version_minor": 0
      },
      "text/plain": [
       "A Jupyter Widget"
      ]
     },
     "metadata": {},
     "output_type": "display_data"
    },
    {
     "data": {
      "application/vnd.jupyter.widget-view+json": {
       "model_id": "8b793b4aeb24458294ddebda2094de55",
       "version_major": 2,
       "version_minor": 0
      },
      "text/plain": [
       "A Jupyter Widget"
      ]
     },
     "metadata": {},
     "output_type": "display_data"
    },
    {
     "data": {
      "application/vnd.jupyter.widget-view+json": {
       "model_id": "08c28ffaf899459c837d5266e04fb356",
       "version_major": 2,
       "version_minor": 0
      },
      "text/plain": [
       "A Jupyter Widget"
      ]
     },
     "metadata": {},
     "output_type": "display_data"
    },
    {
     "data": {
      "application/vnd.jupyter.widget-view+json": {
       "model_id": "966a083165424c33b46f65f544c29a9d",
       "version_major": 2,
       "version_minor": 0
      },
      "text/plain": [
       "A Jupyter Widget"
      ]
     },
     "metadata": {},
     "output_type": "display_data"
    },
    {
     "data": {
      "application/vnd.jupyter.widget-view+json": {
       "model_id": "48805b87053345c98ff2c36d8bcbebe4",
       "version_major": 2,
       "version_minor": 0
      },
      "text/plain": [
       "A Jupyter Widget"
      ]
     },
     "metadata": {},
     "output_type": "display_data"
    },
    {
     "data": {
      "application/vnd.jupyter.widget-view+json": {
       "model_id": "75895923a3aa49c1b483a94e8e6528c7",
       "version_major": 2,
       "version_minor": 0
      },
      "text/plain": [
       "A Jupyter Widget"
      ]
     },
     "metadata": {},
     "output_type": "display_data"
    },
    {
     "data": {
      "application/vnd.jupyter.widget-view+json": {
       "model_id": "c053934bb28e4865918ab4a62e447405",
       "version_major": 2,
       "version_minor": 0
      },
      "text/plain": [
       "A Jupyter Widget"
      ]
     },
     "metadata": {},
     "output_type": "display_data"
    },
    {
     "data": {
      "application/vnd.jupyter.widget-view+json": {
       "model_id": "f34ca18a654d4fc3b190c623581ca383",
       "version_major": 2,
       "version_minor": 0
      },
      "text/plain": [
       "A Jupyter Widget"
      ]
     },
     "metadata": {},
     "output_type": "display_data"
    },
    {
     "data": {
      "application/vnd.jupyter.widget-view+json": {
       "model_id": "3b645cd518b54731a783bf315f545987",
       "version_major": 2,
       "version_minor": 0
      },
      "text/plain": [
       "A Jupyter Widget"
      ]
     },
     "metadata": {},
     "output_type": "display_data"
    },
    {
     "data": {
      "application/vnd.jupyter.widget-view+json": {
       "model_id": "e029645cdbd548698748a83066166239",
       "version_major": 2,
       "version_minor": 0
      },
      "text/plain": [
       "A Jupyter Widget"
      ]
     },
     "metadata": {},
     "output_type": "display_data"
    },
    {
     "data": {
      "application/vnd.jupyter.widget-view+json": {
       "model_id": "74fa50fcba6f484ead66fa28fdff3f8a",
       "version_major": 2,
       "version_minor": 0
      },
      "text/plain": [
       "A Jupyter Widget"
      ]
     },
     "metadata": {},
     "output_type": "display_data"
    },
    {
     "data": {
      "application/vnd.jupyter.widget-view+json": {
       "model_id": "7b810383806441779a40bee682b5ebbd",
       "version_major": 2,
       "version_minor": 0
      },
      "text/plain": [
       "A Jupyter Widget"
      ]
     },
     "metadata": {},
     "output_type": "display_data"
    },
    {
     "data": {
      "application/vnd.jupyter.widget-view+json": {
       "model_id": "cfa9366f216341deb9187748caf0918e",
       "version_major": 2,
       "version_minor": 0
      },
      "text/plain": [
       "A Jupyter Widget"
      ]
     },
     "metadata": {},
     "output_type": "display_data"
    },
    {
     "data": {
      "application/vnd.jupyter.widget-view+json": {
       "model_id": "c37c353ee0034f208e4ee82a008640ec",
       "version_major": 2,
       "version_minor": 0
      },
      "text/plain": [
       "A Jupyter Widget"
      ]
     },
     "metadata": {},
     "output_type": "display_data"
    },
    {
     "data": {
      "application/vnd.jupyter.widget-view+json": {
       "model_id": "c75944aba1d44e588a2d8790968b5053",
       "version_major": 2,
       "version_minor": 0
      },
      "text/plain": [
       "A Jupyter Widget"
      ]
     },
     "metadata": {},
     "output_type": "display_data"
    },
    {
     "data": {
      "application/vnd.jupyter.widget-view+json": {
       "model_id": "67f7ae00994d4d8390de04a5623346fd",
       "version_major": 2,
       "version_minor": 0
      },
      "text/plain": [
       "A Jupyter Widget"
      ]
     },
     "metadata": {},
     "output_type": "display_data"
    },
    {
     "data": {
      "application/vnd.jupyter.widget-view+json": {
       "model_id": "615d614191884ced85003512eff139c2",
       "version_major": 2,
       "version_minor": 0
      },
      "text/plain": [
       "A Jupyter Widget"
      ]
     },
     "metadata": {},
     "output_type": "display_data"
    },
    {
     "data": {
      "application/vnd.jupyter.widget-view+json": {
       "model_id": "10110c11ac8f49e9ae7f48482f66da6b",
       "version_major": 2,
       "version_minor": 0
      },
      "text/plain": [
       "A Jupyter Widget"
      ]
     },
     "metadata": {},
     "output_type": "display_data"
    },
    {
     "data": {
      "application/vnd.jupyter.widget-view+json": {
       "model_id": "62c164c27fdc46d38fcb27184b7b4139",
       "version_major": 2,
       "version_minor": 0
      },
      "text/plain": [
       "A Jupyter Widget"
      ]
     },
     "metadata": {},
     "output_type": "display_data"
    },
    {
     "data": {
      "application/vnd.jupyter.widget-view+json": {
       "model_id": "2827748587794f13b466b699bc6d3e63",
       "version_major": 2,
       "version_minor": 0
      },
      "text/plain": [
       "A Jupyter Widget"
      ]
     },
     "metadata": {},
     "output_type": "display_data"
    },
    {
     "data": {
      "application/vnd.jupyter.widget-view+json": {
       "model_id": "1a5f446b5a8b4977ac55cd91fda893b5",
       "version_major": 2,
       "version_minor": 0
      },
      "text/plain": [
       "A Jupyter Widget"
      ]
     },
     "metadata": {},
     "output_type": "display_data"
    },
    {
     "data": {
      "application/vnd.jupyter.widget-view+json": {
       "model_id": "0732cee83e3b4325a79658e1c7725269",
       "version_major": 2,
       "version_minor": 0
      },
      "text/plain": [
       "A Jupyter Widget"
      ]
     },
     "metadata": {},
     "output_type": "display_data"
    },
    {
     "data": {
      "application/vnd.jupyter.widget-view+json": {
       "model_id": "fe99d6d541984f10907a5df1a6d77352",
       "version_major": 2,
       "version_minor": 0
      },
      "text/plain": [
       "A Jupyter Widget"
      ]
     },
     "metadata": {},
     "output_type": "display_data"
    },
    {
     "data": {
      "application/vnd.jupyter.widget-view+json": {
       "model_id": "28935bb7d57e44df9e0dc2c10c9be79f",
       "version_major": 2,
       "version_minor": 0
      },
      "text/plain": [
       "A Jupyter Widget"
      ]
     },
     "metadata": {},
     "output_type": "display_data"
    },
    {
     "data": {
      "application/vnd.jupyter.widget-view+json": {
       "model_id": "51078a0deb4442b58457eca0b1fccbf1",
       "version_major": 2,
       "version_minor": 0
      },
      "text/plain": [
       "A Jupyter Widget"
      ]
     },
     "metadata": {},
     "output_type": "display_data"
    },
    {
     "data": {
      "application/vnd.jupyter.widget-view+json": {
       "model_id": "6f1a1c2fbdbc40f6921b260d2404ceed",
       "version_major": 2,
       "version_minor": 0
      },
      "text/plain": [
       "A Jupyter Widget"
      ]
     },
     "metadata": {},
     "output_type": "display_data"
    },
    {
     "data": {
      "application/vnd.jupyter.widget-view+json": {
       "model_id": "c858c735b06f422d9dcc21a53d49bc80",
       "version_major": 2,
       "version_minor": 0
      },
      "text/plain": [
       "A Jupyter Widget"
      ]
     },
     "metadata": {},
     "output_type": "display_data"
    },
    {
     "data": {
      "application/vnd.jupyter.widget-view+json": {
       "model_id": "bfc11887b5a04a0db39b6cc6aa8aee3a",
       "version_major": 2,
       "version_minor": 0
      },
      "text/plain": [
       "A Jupyter Widget"
      ]
     },
     "metadata": {},
     "output_type": "display_data"
    },
    {
     "data": {
      "application/vnd.jupyter.widget-view+json": {
       "model_id": "4022f7d30c534b23abf58bb20a67780b",
       "version_major": 2,
       "version_minor": 0
      },
      "text/plain": [
       "A Jupyter Widget"
      ]
     },
     "metadata": {},
     "output_type": "display_data"
    },
    {
     "data": {
      "application/vnd.jupyter.widget-view+json": {
       "model_id": "e3cc202597964a9abddb280b9320995b",
       "version_major": 2,
       "version_minor": 0
      },
      "text/plain": [
       "A Jupyter Widget"
      ]
     },
     "metadata": {},
     "output_type": "display_data"
    },
    {
     "data": {
      "application/vnd.jupyter.widget-view+json": {
       "model_id": "b4ffe86ce4ae4de5b576b217ed43ed56",
       "version_major": 2,
       "version_minor": 0
      },
      "text/plain": [
       "A Jupyter Widget"
      ]
     },
     "metadata": {},
     "output_type": "display_data"
    },
    {
     "data": {
      "application/vnd.jupyter.widget-view+json": {
       "model_id": "0dd44c3471cc4181b689c57f7e1586b5",
       "version_major": 2,
       "version_minor": 0
      },
      "text/plain": [
       "A Jupyter Widget"
      ]
     },
     "metadata": {},
     "output_type": "display_data"
    },
    {
     "data": {
      "application/vnd.jupyter.widget-view+json": {
       "model_id": "380afebe42f140e6b889e07cb7df0968",
       "version_major": 2,
       "version_minor": 0
      },
      "text/plain": [
       "A Jupyter Widget"
      ]
     },
     "metadata": {},
     "output_type": "display_data"
    },
    {
     "data": {
      "application/vnd.jupyter.widget-view+json": {
       "model_id": "13831a55cc3f462b929bc18e5a6325e5",
       "version_major": 2,
       "version_minor": 0
      },
      "text/plain": [
       "A Jupyter Widget"
      ]
     },
     "metadata": {},
     "output_type": "display_data"
    },
    {
     "data": {
      "application/vnd.jupyter.widget-view+json": {
       "model_id": "9429c38d370047f3a73a429017abe036",
       "version_major": 2,
       "version_minor": 0
      },
      "text/plain": [
       "A Jupyter Widget"
      ]
     },
     "metadata": {},
     "output_type": "display_data"
    },
    {
     "data": {
      "application/vnd.jupyter.widget-view+json": {
       "model_id": "17324f84367444d2a4979761352cdfe5",
       "version_major": 2,
       "version_minor": 0
      },
      "text/plain": [
       "A Jupyter Widget"
      ]
     },
     "metadata": {},
     "output_type": "display_data"
    },
    {
     "data": {
      "application/vnd.jupyter.widget-view+json": {
       "model_id": "48d0548bfe7842de9d7a9f638bdb6da1",
       "version_major": 2,
       "version_minor": 0
      },
      "text/plain": [
       "A Jupyter Widget"
      ]
     },
     "metadata": {},
     "output_type": "display_data"
    },
    {
     "data": {
      "application/vnd.jupyter.widget-view+json": {
       "model_id": "c413c3503a914e5d98cd0cdcde39d35c",
       "version_major": 2,
       "version_minor": 0
      },
      "text/plain": [
       "A Jupyter Widget"
      ]
     },
     "metadata": {},
     "output_type": "display_data"
    },
    {
     "data": {
      "application/vnd.jupyter.widget-view+json": {
       "model_id": "afc23f9277214c6c9eea0b9169ec1afa",
       "version_major": 2,
       "version_minor": 0
      },
      "text/plain": [
       "A Jupyter Widget"
      ]
     },
     "metadata": {},
     "output_type": "display_data"
    },
    {
     "data": {
      "application/vnd.jupyter.widget-view+json": {
       "model_id": "f26d9798b2d04cd2a9728c3e1b2c0dd2",
       "version_major": 2,
       "version_minor": 0
      },
      "text/plain": [
       "A Jupyter Widget"
      ]
     },
     "metadata": {},
     "output_type": "display_data"
    },
    {
     "data": {
      "application/vnd.jupyter.widget-view+json": {
       "model_id": "aff1e596e94e40d0a46d1a34f5558ea6",
       "version_major": 2,
       "version_minor": 0
      },
      "text/plain": [
       "A Jupyter Widget"
      ]
     },
     "metadata": {},
     "output_type": "display_data"
    },
    {
     "data": {
      "application/vnd.jupyter.widget-view+json": {
       "model_id": "8eaebf40bc9b4bebb1264bb227a091e8",
       "version_major": 2,
       "version_minor": 0
      },
      "text/plain": [
       "A Jupyter Widget"
      ]
     },
     "metadata": {},
     "output_type": "display_data"
    },
    {
     "data": {
      "application/vnd.jupyter.widget-view+json": {
       "model_id": "f01ef019e5ce4e86a08943dc79a8146e",
       "version_major": 2,
       "version_minor": 0
      },
      "text/plain": [
       "A Jupyter Widget"
      ]
     },
     "metadata": {},
     "output_type": "display_data"
    },
    {
     "data": {
      "application/vnd.jupyter.widget-view+json": {
       "model_id": "71d537258fbe4aec8e4da599d44b5da7",
       "version_major": 2,
       "version_minor": 0
      },
      "text/plain": [
       "A Jupyter Widget"
      ]
     },
     "metadata": {},
     "output_type": "display_data"
    },
    {
     "data": {
      "application/vnd.jupyter.widget-view+json": {
       "model_id": "b1728cade3b64c46bfc52cff6da4aacf",
       "version_major": 2,
       "version_minor": 0
      },
      "text/plain": [
       "A Jupyter Widget"
      ]
     },
     "metadata": {},
     "output_type": "display_data"
    },
    {
     "data": {
      "application/vnd.jupyter.widget-view+json": {
       "model_id": "261efef41e7f46f0a207a537542d28ec",
       "version_major": 2,
       "version_minor": 0
      },
      "text/plain": [
       "A Jupyter Widget"
      ]
     },
     "metadata": {},
     "output_type": "display_data"
    },
    {
     "data": {
      "application/vnd.jupyter.widget-view+json": {
       "model_id": "f8f81a98c6074d278faaebec1eee730c",
       "version_major": 2,
       "version_minor": 0
      },
      "text/plain": [
       "A Jupyter Widget"
      ]
     },
     "metadata": {},
     "output_type": "display_data"
    },
    {
     "data": {
      "application/vnd.jupyter.widget-view+json": {
       "model_id": "b841d67aea534701a97956cac8cc507e",
       "version_major": 2,
       "version_minor": 0
      },
      "text/plain": [
       "A Jupyter Widget"
      ]
     },
     "metadata": {},
     "output_type": "display_data"
    },
    {
     "data": {
      "application/vnd.jupyter.widget-view+json": {
       "model_id": "74f25fb5f25b4453afc2f010f5377fb6",
       "version_major": 2,
       "version_minor": 0
      },
      "text/plain": [
       "A Jupyter Widget"
      ]
     },
     "metadata": {},
     "output_type": "display_data"
    },
    {
     "data": {
      "application/vnd.jupyter.widget-view+json": {
       "model_id": "08105e6ccdac4de8be3e1653b14de625",
       "version_major": 2,
       "version_minor": 0
      },
      "text/plain": [
       "A Jupyter Widget"
      ]
     },
     "metadata": {},
     "output_type": "display_data"
    },
    {
     "data": {
      "application/vnd.jupyter.widget-view+json": {
       "model_id": "e6b9f08832bc4a42be6af46ef72f39a9",
       "version_major": 2,
       "version_minor": 0
      },
      "text/plain": [
       "A Jupyter Widget"
      ]
     },
     "metadata": {},
     "output_type": "display_data"
    },
    {
     "data": {
      "application/vnd.jupyter.widget-view+json": {
       "model_id": "fb56e68e59884a2ba185931ea52f5f9b",
       "version_major": 2,
       "version_minor": 0
      },
      "text/plain": [
       "A Jupyter Widget"
      ]
     },
     "metadata": {},
     "output_type": "display_data"
    },
    {
     "data": {
      "application/vnd.jupyter.widget-view+json": {
       "model_id": "d8514c81dd474cdd9bb161f806e7ae7c",
       "version_major": 2,
       "version_minor": 0
      },
      "text/plain": [
       "A Jupyter Widget"
      ]
     },
     "metadata": {},
     "output_type": "display_data"
    },
    {
     "data": {
      "application/vnd.jupyter.widget-view+json": {
       "model_id": "5dc4bfa4d28f4c63bfc79ea946fc51c0",
       "version_major": 2,
       "version_minor": 0
      },
      "text/plain": [
       "A Jupyter Widget"
      ]
     },
     "metadata": {},
     "output_type": "display_data"
    },
    {
     "data": {
      "application/vnd.jupyter.widget-view+json": {
       "model_id": "852e0caed38f46caae34bfbcabf16efb",
       "version_major": 2,
       "version_minor": 0
      },
      "text/plain": [
       "A Jupyter Widget"
      ]
     },
     "metadata": {},
     "output_type": "display_data"
    },
    {
     "data": {
      "application/vnd.jupyter.widget-view+json": {
       "model_id": "e14cf9982ca94434a7897ca60a4a0b9d",
       "version_major": 2,
       "version_minor": 0
      },
      "text/plain": [
       "A Jupyter Widget"
      ]
     },
     "metadata": {},
     "output_type": "display_data"
    },
    {
     "data": {
      "application/vnd.jupyter.widget-view+json": {
       "model_id": "0fecbf99790044059ae3483c02c4dc01",
       "version_major": 2,
       "version_minor": 0
      },
      "text/plain": [
       "A Jupyter Widget"
      ]
     },
     "metadata": {},
     "output_type": "display_data"
    },
    {
     "data": {
      "application/vnd.jupyter.widget-view+json": {
       "model_id": "6e028fc7b61f433fbecbeeff8105313d",
       "version_major": 2,
       "version_minor": 0
      },
      "text/plain": [
       "A Jupyter Widget"
      ]
     },
     "metadata": {},
     "output_type": "display_data"
    },
    {
     "data": {
      "application/vnd.jupyter.widget-view+json": {
       "model_id": "832423d3fdfa4cc282b5fc68d65c6004",
       "version_major": 2,
       "version_minor": 0
      },
      "text/plain": [
       "A Jupyter Widget"
      ]
     },
     "metadata": {},
     "output_type": "display_data"
    },
    {
     "data": {
      "application/vnd.jupyter.widget-view+json": {
       "model_id": "6dccf3a8524347cf8a092fcd447152fe",
       "version_major": 2,
       "version_minor": 0
      },
      "text/plain": [
       "A Jupyter Widget"
      ]
     },
     "metadata": {},
     "output_type": "display_data"
    },
    {
     "data": {
      "application/vnd.jupyter.widget-view+json": {
       "model_id": "888b23bf94c543f6939510ef7bac5730",
       "version_major": 2,
       "version_minor": 0
      },
      "text/plain": [
       "A Jupyter Widget"
      ]
     },
     "metadata": {},
     "output_type": "display_data"
    },
    {
     "data": {
      "application/vnd.jupyter.widget-view+json": {
       "model_id": "e651d99fd3814392943fefafd7eaf8fc",
       "version_major": 2,
       "version_minor": 0
      },
      "text/plain": [
       "A Jupyter Widget"
      ]
     },
     "metadata": {},
     "output_type": "display_data"
    },
    {
     "data": {
      "application/vnd.jupyter.widget-view+json": {
       "model_id": "c4af8a5eb4274d4382a3298ea750ee6d",
       "version_major": 2,
       "version_minor": 0
      },
      "text/plain": [
       "A Jupyter Widget"
      ]
     },
     "metadata": {},
     "output_type": "display_data"
    },
    {
     "data": {
      "application/vnd.jupyter.widget-view+json": {
       "model_id": "22059a434ede4aaba0b1abf68cb66b17",
       "version_major": 2,
       "version_minor": 0
      },
      "text/plain": [
       "A Jupyter Widget"
      ]
     },
     "metadata": {},
     "output_type": "display_data"
    },
    {
     "data": {
      "application/vnd.jupyter.widget-view+json": {
       "model_id": "ef433ca2d18446148f61a22e74c6d82f",
       "version_major": 2,
       "version_minor": 0
      },
      "text/plain": [
       "A Jupyter Widget"
      ]
     },
     "metadata": {},
     "output_type": "display_data"
    },
    {
     "data": {
      "application/vnd.jupyter.widget-view+json": {
       "model_id": "64f47c74acd8417e988b73285bff62b1",
       "version_major": 2,
       "version_minor": 0
      },
      "text/plain": [
       "A Jupyter Widget"
      ]
     },
     "metadata": {},
     "output_type": "display_data"
    },
    {
     "data": {
      "application/vnd.jupyter.widget-view+json": {
       "model_id": "f0a286b36a2c48ff8af6bff067e9291f",
       "version_major": 2,
       "version_minor": 0
      },
      "text/plain": [
       "A Jupyter Widget"
      ]
     },
     "metadata": {},
     "output_type": "display_data"
    },
    {
     "data": {
      "application/vnd.jupyter.widget-view+json": {
       "model_id": "371508f0a6304065a9dce1713f69d667",
       "version_major": 2,
       "version_minor": 0
      },
      "text/plain": [
       "A Jupyter Widget"
      ]
     },
     "metadata": {},
     "output_type": "display_data"
    },
    {
     "data": {
      "application/vnd.jupyter.widget-view+json": {
       "model_id": "da40efbe308e46879756de98c30ebf36",
       "version_major": 2,
       "version_minor": 0
      },
      "text/plain": [
       "A Jupyter Widget"
      ]
     },
     "metadata": {},
     "output_type": "display_data"
    },
    {
     "data": {
      "application/vnd.jupyter.widget-view+json": {
       "model_id": "b42226d49dea40979956bd4a2a734482",
       "version_major": 2,
       "version_minor": 0
      },
      "text/plain": [
       "A Jupyter Widget"
      ]
     },
     "metadata": {},
     "output_type": "display_data"
    },
    {
     "data": {
      "application/vnd.jupyter.widget-view+json": {
       "model_id": "6cd6b99a984841e1af2886f75e14b65c",
       "version_major": 2,
       "version_minor": 0
      },
      "text/plain": [
       "A Jupyter Widget"
      ]
     },
     "metadata": {},
     "output_type": "display_data"
    },
    {
     "data": {
      "application/vnd.jupyter.widget-view+json": {
       "model_id": "9bba285d458245edbbe433602bcacb8a",
       "version_major": 2,
       "version_minor": 0
      },
      "text/plain": [
       "A Jupyter Widget"
      ]
     },
     "metadata": {},
     "output_type": "display_data"
    },
    {
     "data": {
      "application/vnd.jupyter.widget-view+json": {
       "model_id": "332905447d984d1b9fdb8d97cb2377bd",
       "version_major": 2,
       "version_minor": 0
      },
      "text/plain": [
       "A Jupyter Widget"
      ]
     },
     "metadata": {},
     "output_type": "display_data"
    },
    {
     "data": {
      "application/vnd.jupyter.widget-view+json": {
       "model_id": "11ab0cd1a06e43aeb13f1b2ee6f7f535",
       "version_major": 2,
       "version_minor": 0
      },
      "text/plain": [
       "A Jupyter Widget"
      ]
     },
     "metadata": {},
     "output_type": "display_data"
    },
    {
     "data": {
      "application/vnd.jupyter.widget-view+json": {
       "model_id": "d65c70d1849345cda8d64d0a9c4adbf2",
       "version_major": 2,
       "version_minor": 0
      },
      "text/plain": [
       "A Jupyter Widget"
      ]
     },
     "metadata": {},
     "output_type": "display_data"
    },
    {
     "data": {
      "application/vnd.jupyter.widget-view+json": {
       "model_id": "4c0a85c2ba7b40c199b94338a5e78969",
       "version_major": 2,
       "version_minor": 0
      },
      "text/plain": [
       "A Jupyter Widget"
      ]
     },
     "metadata": {},
     "output_type": "display_data"
    },
    {
     "data": {
      "application/vnd.jupyter.widget-view+json": {
       "model_id": "afe2dfcfebd447d6a69eded1ae2fee98",
       "version_major": 2,
       "version_minor": 0
      },
      "text/plain": [
       "A Jupyter Widget"
      ]
     },
     "metadata": {},
     "output_type": "display_data"
    },
    {
     "data": {
      "application/vnd.jupyter.widget-view+json": {
       "model_id": "05cbff57019a4eb8b524e3824653ab5c",
       "version_major": 2,
       "version_minor": 0
      },
      "text/plain": [
       "A Jupyter Widget"
      ]
     },
     "metadata": {},
     "output_type": "display_data"
    },
    {
     "data": {
      "application/vnd.jupyter.widget-view+json": {
       "model_id": "b81b73a336744232b56522db452d9782",
       "version_major": 2,
       "version_minor": 0
      },
      "text/plain": [
       "A Jupyter Widget"
      ]
     },
     "metadata": {},
     "output_type": "display_data"
    },
    {
     "data": {
      "application/vnd.jupyter.widget-view+json": {
       "model_id": "6933e3ff5be749f781b1e7176c4718c1",
       "version_major": 2,
       "version_minor": 0
      },
      "text/plain": [
       "A Jupyter Widget"
      ]
     },
     "metadata": {},
     "output_type": "display_data"
    },
    {
     "data": {
      "application/vnd.jupyter.widget-view+json": {
       "model_id": "f775d12f1b084d0b8b6ce8cf0a415dbf",
       "version_major": 2,
       "version_minor": 0
      },
      "text/plain": [
       "A Jupyter Widget"
      ]
     },
     "metadata": {},
     "output_type": "display_data"
    },
    {
     "data": {
      "application/vnd.jupyter.widget-view+json": {
       "model_id": "d17c9710ddd6425db528f23a4d3952f3",
       "version_major": 2,
       "version_minor": 0
      },
      "text/plain": [
       "A Jupyter Widget"
      ]
     },
     "metadata": {},
     "output_type": "display_data"
    },
    {
     "data": {
      "application/vnd.jupyter.widget-view+json": {
       "model_id": "d93da2ccfab7445f9ec393db70d0491b",
       "version_major": 2,
       "version_minor": 0
      },
      "text/plain": [
       "A Jupyter Widget"
      ]
     },
     "metadata": {},
     "output_type": "display_data"
    },
    {
     "data": {
      "application/vnd.jupyter.widget-view+json": {
       "model_id": "2cb25cccb0124916a9f1e9c545885bc6",
       "version_major": 2,
       "version_minor": 0
      },
      "text/plain": [
       "A Jupyter Widget"
      ]
     },
     "metadata": {},
     "output_type": "display_data"
    },
    {
     "data": {
      "application/vnd.jupyter.widget-view+json": {
       "model_id": "89d5899e5b554ca689d38ce3d3cce429",
       "version_major": 2,
       "version_minor": 0
      },
      "text/plain": [
       "A Jupyter Widget"
      ]
     },
     "metadata": {},
     "output_type": "display_data"
    },
    {
     "data": {
      "application/vnd.jupyter.widget-view+json": {
       "model_id": "7231927c849e4943ad2cb32fb79053d5",
       "version_major": 2,
       "version_minor": 0
      },
      "text/plain": [
       "A Jupyter Widget"
      ]
     },
     "metadata": {},
     "output_type": "display_data"
    },
    {
     "data": {
      "application/vnd.jupyter.widget-view+json": {
       "model_id": "eec59c7d790848a582e5fc310b597684",
       "version_major": 2,
       "version_minor": 0
      },
      "text/plain": [
       "A Jupyter Widget"
      ]
     },
     "metadata": {},
     "output_type": "display_data"
    },
    {
     "data": {
      "application/vnd.jupyter.widget-view+json": {
       "model_id": "958957694cf042f889e10f44d35d02ca",
       "version_major": 2,
       "version_minor": 0
      },
      "text/plain": [
       "A Jupyter Widget"
      ]
     },
     "metadata": {},
     "output_type": "display_data"
    },
    {
     "data": {
      "application/vnd.jupyter.widget-view+json": {
       "model_id": "a2364b1d0790483fb26f4af41ccf08dd",
       "version_major": 2,
       "version_minor": 0
      },
      "text/plain": [
       "A Jupyter Widget"
      ]
     },
     "metadata": {},
     "output_type": "display_data"
    },
    {
     "data": {
      "application/vnd.jupyter.widget-view+json": {
       "model_id": "961911e80c324eaa898e1e81e59e5efd",
       "version_major": 2,
       "version_minor": 0
      },
      "text/plain": [
       "A Jupyter Widget"
      ]
     },
     "metadata": {},
     "output_type": "display_data"
    },
    {
     "data": {
      "application/vnd.jupyter.widget-view+json": {
       "model_id": "541110679d644470a9d601f2f56ca53b",
       "version_major": 2,
       "version_minor": 0
      },
      "text/plain": [
       "A Jupyter Widget"
      ]
     },
     "metadata": {},
     "output_type": "display_data"
    },
    {
     "data": {
      "application/vnd.jupyter.widget-view+json": {
       "model_id": "866887dfab794c6aaabc154a2bf0c949",
       "version_major": 2,
       "version_minor": 0
      },
      "text/plain": [
       "A Jupyter Widget"
      ]
     },
     "metadata": {},
     "output_type": "display_data"
    },
    {
     "data": {
      "application/vnd.jupyter.widget-view+json": {
       "model_id": "30937b7f90e04847b76a076180dff42b",
       "version_major": 2,
       "version_minor": 0
      },
      "text/plain": [
       "A Jupyter Widget"
      ]
     },
     "metadata": {},
     "output_type": "display_data"
    },
    {
     "data": {
      "application/vnd.jupyter.widget-view+json": {
       "model_id": "a35bf9bc6c87458f8720d019beac35db",
       "version_major": 2,
       "version_minor": 0
      },
      "text/plain": [
       "A Jupyter Widget"
      ]
     },
     "metadata": {},
     "output_type": "display_data"
    },
    {
     "data": {
      "application/vnd.jupyter.widget-view+json": {
       "model_id": "259168a4a032454a8ebbf7c4e37b42da",
       "version_major": 2,
       "version_minor": 0
      },
      "text/plain": [
       "A Jupyter Widget"
      ]
     },
     "metadata": {},
     "output_type": "display_data"
    },
    {
     "data": {
      "application/vnd.jupyter.widget-view+json": {
       "model_id": "9883717e27da46e19912909c53476c32",
       "version_major": 2,
       "version_minor": 0
      },
      "text/plain": [
       "A Jupyter Widget"
      ]
     },
     "metadata": {},
     "output_type": "display_data"
    },
    {
     "data": {
      "application/vnd.jupyter.widget-view+json": {
       "model_id": "1679b8a1e0ea411dabd537dab5bb5fee",
       "version_major": 2,
       "version_minor": 0
      },
      "text/plain": [
       "A Jupyter Widget"
      ]
     },
     "metadata": {},
     "output_type": "display_data"
    },
    {
     "data": {
      "application/vnd.jupyter.widget-view+json": {
       "model_id": "ceee8990761547b7ac3b3d4d124746e2",
       "version_major": 2,
       "version_minor": 0
      },
      "text/plain": [
       "A Jupyter Widget"
      ]
     },
     "metadata": {},
     "output_type": "display_data"
    },
    {
     "data": {
      "application/vnd.jupyter.widget-view+json": {
       "model_id": "a35c8bdbee114f62a7378b8922e5908e",
       "version_major": 2,
       "version_minor": 0
      },
      "text/plain": [
       "A Jupyter Widget"
      ]
     },
     "metadata": {},
     "output_type": "display_data"
    },
    {
     "data": {
      "application/vnd.jupyter.widget-view+json": {
       "model_id": "da32854bc3e844e5a87466c361464161",
       "version_major": 2,
       "version_minor": 0
      },
      "text/plain": [
       "A Jupyter Widget"
      ]
     },
     "metadata": {},
     "output_type": "display_data"
    },
    {
     "data": {
      "application/vnd.jupyter.widget-view+json": {
       "model_id": "372adf9548b84667840d3706253ed0e8",
       "version_major": 2,
       "version_minor": 0
      },
      "text/plain": [
       "A Jupyter Widget"
      ]
     },
     "metadata": {},
     "output_type": "display_data"
    },
    {
     "data": {
      "application/vnd.jupyter.widget-view+json": {
       "model_id": "0cc5bc2a55c24faca7a8355cfd0a0a77",
       "version_major": 2,
       "version_minor": 0
      },
      "text/plain": [
       "A Jupyter Widget"
      ]
     },
     "metadata": {},
     "output_type": "display_data"
    },
    {
     "data": {
      "application/vnd.jupyter.widget-view+json": {
       "model_id": "371e2209423147e0bb75c927b249d3e8",
       "version_major": 2,
       "version_minor": 0
      },
      "text/plain": [
       "A Jupyter Widget"
      ]
     },
     "metadata": {},
     "output_type": "display_data"
    },
    {
     "data": {
      "application/vnd.jupyter.widget-view+json": {
       "model_id": "13524e463a594d49bc21f666f8610358",
       "version_major": 2,
       "version_minor": 0
      },
      "text/plain": [
       "A Jupyter Widget"
      ]
     },
     "metadata": {},
     "output_type": "display_data"
    },
    {
     "data": {
      "application/vnd.jupyter.widget-view+json": {
       "model_id": "f680e1e6bf874870a64d459ce7d04bc0",
       "version_major": 2,
       "version_minor": 0
      },
      "text/plain": [
       "A Jupyter Widget"
      ]
     },
     "metadata": {},
     "output_type": "display_data"
    },
    {
     "data": {
      "application/vnd.jupyter.widget-view+json": {
       "model_id": "aa96738851a54dce8dc7e637f0aebda4",
       "version_major": 2,
       "version_minor": 0
      },
      "text/plain": [
       "A Jupyter Widget"
      ]
     },
     "metadata": {},
     "output_type": "display_data"
    },
    {
     "data": {
      "application/vnd.jupyter.widget-view+json": {
       "model_id": "077dc25c41454c8984a9983a7ae6b837",
       "version_major": 2,
       "version_minor": 0
      },
      "text/plain": [
       "A Jupyter Widget"
      ]
     },
     "metadata": {},
     "output_type": "display_data"
    },
    {
     "data": {
      "application/vnd.jupyter.widget-view+json": {
       "model_id": "817e89d2277048739a46b52dbcacad16",
       "version_major": 2,
       "version_minor": 0
      },
      "text/plain": [
       "A Jupyter Widget"
      ]
     },
     "metadata": {},
     "output_type": "display_data"
    },
    {
     "data": {
      "application/vnd.jupyter.widget-view+json": {
       "model_id": "5f6f3919ed87445cb1749e3f8be3c715",
       "version_major": 2,
       "version_minor": 0
      },
      "text/plain": [
       "A Jupyter Widget"
      ]
     },
     "metadata": {},
     "output_type": "display_data"
    },
    {
     "data": {
      "application/vnd.jupyter.widget-view+json": {
       "model_id": "d157dc8b739d49619c2d4e616583681c",
       "version_major": 2,
       "version_minor": 0
      },
      "text/plain": [
       "A Jupyter Widget"
      ]
     },
     "metadata": {},
     "output_type": "display_data"
    },
    {
     "data": {
      "application/vnd.jupyter.widget-view+json": {
       "model_id": "efceb301f851478ebbcf6f5c50e8a642",
       "version_major": 2,
       "version_minor": 0
      },
      "text/plain": [
       "A Jupyter Widget"
      ]
     },
     "metadata": {},
     "output_type": "display_data"
    },
    {
     "data": {
      "application/vnd.jupyter.widget-view+json": {
       "model_id": "eb9f6de672b34ec68fe9650dd824f387",
       "version_major": 2,
       "version_minor": 0
      },
      "text/plain": [
       "A Jupyter Widget"
      ]
     },
     "metadata": {},
     "output_type": "display_data"
    },
    {
     "data": {
      "application/vnd.jupyter.widget-view+json": {
       "model_id": "065d66007fab4b1e98b4a8e0e08407f8",
       "version_major": 2,
       "version_minor": 0
      },
      "text/plain": [
       "A Jupyter Widget"
      ]
     },
     "metadata": {},
     "output_type": "display_data"
    },
    {
     "data": {
      "application/vnd.jupyter.widget-view+json": {
       "model_id": "a231996341154b1b8077003d4279de64",
       "version_major": 2,
       "version_minor": 0
      },
      "text/plain": [
       "A Jupyter Widget"
      ]
     },
     "metadata": {},
     "output_type": "display_data"
    },
    {
     "data": {
      "application/vnd.jupyter.widget-view+json": {
       "model_id": "88e825a4e1004dd5804e72b4a584d5ca",
       "version_major": 2,
       "version_minor": 0
      },
      "text/plain": [
       "A Jupyter Widget"
      ]
     },
     "metadata": {},
     "output_type": "display_data"
    },
    {
     "data": {
      "application/vnd.jupyter.widget-view+json": {
       "model_id": "1b37862f18cc409abe91ffd37b776337",
       "version_major": 2,
       "version_minor": 0
      },
      "text/plain": [
       "A Jupyter Widget"
      ]
     },
     "metadata": {},
     "output_type": "display_data"
    },
    {
     "data": {
      "application/vnd.jupyter.widget-view+json": {
       "model_id": "d65638f235e94bf294f10f2fd7af4277",
       "version_major": 2,
       "version_minor": 0
      },
      "text/plain": [
       "A Jupyter Widget"
      ]
     },
     "metadata": {},
     "output_type": "display_data"
    },
    {
     "data": {
      "application/vnd.jupyter.widget-view+json": {
       "model_id": "63f06d68851d4f3fb6f130310bd739f7",
       "version_major": 2,
       "version_minor": 0
      },
      "text/plain": [
       "A Jupyter Widget"
      ]
     },
     "metadata": {},
     "output_type": "display_data"
    },
    {
     "data": {
      "application/vnd.jupyter.widget-view+json": {
       "model_id": "db1a91f988ab4f5194935ba923ccd3cf",
       "version_major": 2,
       "version_minor": 0
      },
      "text/plain": [
       "A Jupyter Widget"
      ]
     },
     "metadata": {},
     "output_type": "display_data"
    },
    {
     "data": {
      "application/vnd.jupyter.widget-view+json": {
       "model_id": "05db1561c01f425d91ae1802ca748474",
       "version_major": 2,
       "version_minor": 0
      },
      "text/plain": [
       "A Jupyter Widget"
      ]
     },
     "metadata": {},
     "output_type": "display_data"
    },
    {
     "data": {
      "application/vnd.jupyter.widget-view+json": {
       "model_id": "733f294422e443efaa9bf86b9eef5c45",
       "version_major": 2,
       "version_minor": 0
      },
      "text/plain": [
       "A Jupyter Widget"
      ]
     },
     "metadata": {},
     "output_type": "display_data"
    },
    {
     "data": {
      "application/vnd.jupyter.widget-view+json": {
       "model_id": "3a93af1690654da0bf3bf09b7a3d13fd",
       "version_major": 2,
       "version_minor": 0
      },
      "text/plain": [
       "A Jupyter Widget"
      ]
     },
     "metadata": {},
     "output_type": "display_data"
    },
    {
     "data": {
      "application/vnd.jupyter.widget-view+json": {
       "model_id": "cd075c70a50945efa3929a2f2ba1892f",
       "version_major": 2,
       "version_minor": 0
      },
      "text/plain": [
       "A Jupyter Widget"
      ]
     },
     "metadata": {},
     "output_type": "display_data"
    },
    {
     "data": {
      "application/vnd.jupyter.widget-view+json": {
       "model_id": "956a458b793448ee9b6261f9b0fdd51d",
       "version_major": 2,
       "version_minor": 0
      },
      "text/plain": [
       "A Jupyter Widget"
      ]
     },
     "metadata": {},
     "output_type": "display_data"
    },
    {
     "data": {
      "application/vnd.jupyter.widget-view+json": {
       "model_id": "d5935a0098304242babe72eb343c36e6",
       "version_major": 2,
       "version_minor": 0
      },
      "text/plain": [
       "A Jupyter Widget"
      ]
     },
     "metadata": {},
     "output_type": "display_data"
    }
   ],
   "source": [
    "interval = 25\n",
    "times = 80\n",
    "for i in range(times):\n",
    "    trainer = training.Trainer(updater, (interval * (i + 1), 'epoch'), out='result/%02d' % i)\n",
    "    trainer.extend(extensions.Evaluator(testset, model, device=gpu_device))\n",
    "    trainer.extend(extensions.LogReport())\n",
    "    trainer.extend(PrintReport(['epoch', 'main/loss', 'validation/main/loss',\n",
    "         'main/accuracy', 'validation/main/accuracy', 'elapsed_time']))\n",
    "    trainer.extend(ProgressBar(update_interval=10))\n",
    "    trainer.run()\n",
    "    model.to_cpu()\n",
    "    serializers.save_npz('agent/snapshot_%02d.npz' % i, model.predictor)\n",
    "    model.to_gpu(gpu_device)"
   ]
  },
  {
   "cell_type": "code",
   "execution_count": 37,
   "metadata": {
    "scrolled": true
   },
   "outputs": [
    {
     "data": {
      "text/html": [
       "<div>\n",
       "<style>\n",
       "    .dataframe thead tr:only-child th {\n",
       "        text-align: right;\n",
       "    }\n",
       "\n",
       "    .dataframe thead th {\n",
       "        text-align: left;\n",
       "    }\n",
       "\n",
       "    .dataframe tbody tr th {\n",
       "        vertical-align: top;\n",
       "    }\n",
       "</style>\n",
       "<table border=\"1\" class=\"dataframe\">\n",
       "  <thead>\n",
       "    <tr style=\"text-align: right;\">\n",
       "      <th></th>\n",
       "      <th>pma12</th>\n",
       "      <th>pma96</th>\n",
       "      <th>pma672</th>\n",
       "      <th>ma4_36</th>\n",
       "      <th>ma12_96</th>\n",
       "      <th>ac12_12</th>\n",
       "      <th>ac96_96</th>\n",
       "      <th>vma12</th>\n",
       "      <th>vma96</th>\n",
       "      <th>vma672</th>\n",
       "      <th>...</th>\n",
       "      <th>pZ96_s87</th>\n",
       "      <th>pZ96_s88</th>\n",
       "      <th>pZ96_s89</th>\n",
       "      <th>pZ96_s90</th>\n",
       "      <th>pZ96_s91</th>\n",
       "      <th>pZ96_s92</th>\n",
       "      <th>pZ96_s93</th>\n",
       "      <th>pZ96_s94</th>\n",
       "      <th>pZ96_s95</th>\n",
       "      <th>utctime</th>\n",
       "    </tr>\n",
       "  </thead>\n",
       "  <tbody>\n",
       "    <tr>\n",
       "      <th>0</th>\n",
       "      <td>NaN</td>\n",
       "      <td>NaN</td>\n",
       "      <td>NaN</td>\n",
       "      <td>NaN</td>\n",
       "      <td>NaN</td>\n",
       "      <td>NaN</td>\n",
       "      <td>NaN</td>\n",
       "      <td>0.000000</td>\n",
       "      <td>NaN</td>\n",
       "      <td>NaN</td>\n",
       "      <td>...</td>\n",
       "      <td>NaN</td>\n",
       "      <td>NaN</td>\n",
       "      <td>NaN</td>\n",
       "      <td>NaN</td>\n",
       "      <td>NaN</td>\n",
       "      <td>NaN</td>\n",
       "      <td>NaN</td>\n",
       "      <td>NaN</td>\n",
       "      <td>NaN</td>\n",
       "      <td>0.000000</td>\n",
       "    </tr>\n",
       "    <tr>\n",
       "      <th>1</th>\n",
       "      <td>NaN</td>\n",
       "      <td>NaN</td>\n",
       "      <td>NaN</td>\n",
       "      <td>NaN</td>\n",
       "      <td>NaN</td>\n",
       "      <td>NaN</td>\n",
       "      <td>NaN</td>\n",
       "      <td>0.000000</td>\n",
       "      <td>NaN</td>\n",
       "      <td>NaN</td>\n",
       "      <td>...</td>\n",
       "      <td>NaN</td>\n",
       "      <td>NaN</td>\n",
       "      <td>NaN</td>\n",
       "      <td>NaN</td>\n",
       "      <td>NaN</td>\n",
       "      <td>NaN</td>\n",
       "      <td>NaN</td>\n",
       "      <td>NaN</td>\n",
       "      <td>NaN</td>\n",
       "      <td>0.010417</td>\n",
       "    </tr>\n",
       "    <tr>\n",
       "      <th>2</th>\n",
       "      <td>NaN</td>\n",
       "      <td>NaN</td>\n",
       "      <td>NaN</td>\n",
       "      <td>NaN</td>\n",
       "      <td>NaN</td>\n",
       "      <td>NaN</td>\n",
       "      <td>NaN</td>\n",
       "      <td>0.000000</td>\n",
       "      <td>NaN</td>\n",
       "      <td>NaN</td>\n",
       "      <td>...</td>\n",
       "      <td>NaN</td>\n",
       "      <td>NaN</td>\n",
       "      <td>NaN</td>\n",
       "      <td>NaN</td>\n",
       "      <td>NaN</td>\n",
       "      <td>NaN</td>\n",
       "      <td>NaN</td>\n",
       "      <td>NaN</td>\n",
       "      <td>NaN</td>\n",
       "      <td>0.020833</td>\n",
       "    </tr>\n",
       "    <tr>\n",
       "      <th>3</th>\n",
       "      <td>NaN</td>\n",
       "      <td>NaN</td>\n",
       "      <td>NaN</td>\n",
       "      <td>NaN</td>\n",
       "      <td>NaN</td>\n",
       "      <td>NaN</td>\n",
       "      <td>NaN</td>\n",
       "      <td>0.000000</td>\n",
       "      <td>NaN</td>\n",
       "      <td>NaN</td>\n",
       "      <td>...</td>\n",
       "      <td>NaN</td>\n",
       "      <td>NaN</td>\n",
       "      <td>NaN</td>\n",
       "      <td>NaN</td>\n",
       "      <td>NaN</td>\n",
       "      <td>NaN</td>\n",
       "      <td>NaN</td>\n",
       "      <td>NaN</td>\n",
       "      <td>NaN</td>\n",
       "      <td>0.031250</td>\n",
       "    </tr>\n",
       "    <tr>\n",
       "      <th>4</th>\n",
       "      <td>NaN</td>\n",
       "      <td>NaN</td>\n",
       "      <td>NaN</td>\n",
       "      <td>NaN</td>\n",
       "      <td>NaN</td>\n",
       "      <td>NaN</td>\n",
       "      <td>NaN</td>\n",
       "      <td>0.000000</td>\n",
       "      <td>NaN</td>\n",
       "      <td>NaN</td>\n",
       "      <td>...</td>\n",
       "      <td>NaN</td>\n",
       "      <td>NaN</td>\n",
       "      <td>NaN</td>\n",
       "      <td>NaN</td>\n",
       "      <td>NaN</td>\n",
       "      <td>NaN</td>\n",
       "      <td>NaN</td>\n",
       "      <td>NaN</td>\n",
       "      <td>NaN</td>\n",
       "      <td>0.041667</td>\n",
       "    </tr>\n",
       "    <tr>\n",
       "      <th>5</th>\n",
       "      <td>NaN</td>\n",
       "      <td>NaN</td>\n",
       "      <td>NaN</td>\n",
       "      <td>NaN</td>\n",
       "      <td>NaN</td>\n",
       "      <td>NaN</td>\n",
       "      <td>NaN</td>\n",
       "      <td>0.000000</td>\n",
       "      <td>NaN</td>\n",
       "      <td>NaN</td>\n",
       "      <td>...</td>\n",
       "      <td>NaN</td>\n",
       "      <td>NaN</td>\n",
       "      <td>NaN</td>\n",
       "      <td>NaN</td>\n",
       "      <td>NaN</td>\n",
       "      <td>NaN</td>\n",
       "      <td>NaN</td>\n",
       "      <td>NaN</td>\n",
       "      <td>NaN</td>\n",
       "      <td>0.052083</td>\n",
       "    </tr>\n",
       "    <tr>\n",
       "      <th>6</th>\n",
       "      <td>NaN</td>\n",
       "      <td>NaN</td>\n",
       "      <td>NaN</td>\n",
       "      <td>NaN</td>\n",
       "      <td>NaN</td>\n",
       "      <td>NaN</td>\n",
       "      <td>NaN</td>\n",
       "      <td>0.000000</td>\n",
       "      <td>NaN</td>\n",
       "      <td>NaN</td>\n",
       "      <td>...</td>\n",
       "      <td>NaN</td>\n",
       "      <td>NaN</td>\n",
       "      <td>NaN</td>\n",
       "      <td>NaN</td>\n",
       "      <td>NaN</td>\n",
       "      <td>NaN</td>\n",
       "      <td>NaN</td>\n",
       "      <td>NaN</td>\n",
       "      <td>NaN</td>\n",
       "      <td>0.062500</td>\n",
       "    </tr>\n",
       "    <tr>\n",
       "      <th>7</th>\n",
       "      <td>NaN</td>\n",
       "      <td>NaN</td>\n",
       "      <td>NaN</td>\n",
       "      <td>NaN</td>\n",
       "      <td>NaN</td>\n",
       "      <td>NaN</td>\n",
       "      <td>NaN</td>\n",
       "      <td>0.000000</td>\n",
       "      <td>NaN</td>\n",
       "      <td>NaN</td>\n",
       "      <td>...</td>\n",
       "      <td>NaN</td>\n",
       "      <td>NaN</td>\n",
       "      <td>NaN</td>\n",
       "      <td>NaN</td>\n",
       "      <td>NaN</td>\n",
       "      <td>NaN</td>\n",
       "      <td>NaN</td>\n",
       "      <td>NaN</td>\n",
       "      <td>NaN</td>\n",
       "      <td>0.072917</td>\n",
       "    </tr>\n",
       "    <tr>\n",
       "      <th>8</th>\n",
       "      <td>NaN</td>\n",
       "      <td>NaN</td>\n",
       "      <td>NaN</td>\n",
       "      <td>NaN</td>\n",
       "      <td>NaN</td>\n",
       "      <td>NaN</td>\n",
       "      <td>NaN</td>\n",
       "      <td>0.000000</td>\n",
       "      <td>NaN</td>\n",
       "      <td>NaN</td>\n",
       "      <td>...</td>\n",
       "      <td>NaN</td>\n",
       "      <td>NaN</td>\n",
       "      <td>NaN</td>\n",
       "      <td>NaN</td>\n",
       "      <td>NaN</td>\n",
       "      <td>NaN</td>\n",
       "      <td>NaN</td>\n",
       "      <td>NaN</td>\n",
       "      <td>NaN</td>\n",
       "      <td>0.083333</td>\n",
       "    </tr>\n",
       "    <tr>\n",
       "      <th>9</th>\n",
       "      <td>NaN</td>\n",
       "      <td>NaN</td>\n",
       "      <td>NaN</td>\n",
       "      <td>NaN</td>\n",
       "      <td>NaN</td>\n",
       "      <td>NaN</td>\n",
       "      <td>NaN</td>\n",
       "      <td>0.000000</td>\n",
       "      <td>NaN</td>\n",
       "      <td>NaN</td>\n",
       "      <td>...</td>\n",
       "      <td>NaN</td>\n",
       "      <td>NaN</td>\n",
       "      <td>NaN</td>\n",
       "      <td>NaN</td>\n",
       "      <td>NaN</td>\n",
       "      <td>NaN</td>\n",
       "      <td>NaN</td>\n",
       "      <td>NaN</td>\n",
       "      <td>NaN</td>\n",
       "      <td>0.093750</td>\n",
       "    </tr>\n",
       "    <tr>\n",
       "      <th>10</th>\n",
       "      <td>NaN</td>\n",
       "      <td>NaN</td>\n",
       "      <td>NaN</td>\n",
       "      <td>NaN</td>\n",
       "      <td>NaN</td>\n",
       "      <td>NaN</td>\n",
       "      <td>NaN</td>\n",
       "      <td>0.000000</td>\n",
       "      <td>NaN</td>\n",
       "      <td>NaN</td>\n",
       "      <td>...</td>\n",
       "      <td>NaN</td>\n",
       "      <td>NaN</td>\n",
       "      <td>NaN</td>\n",
       "      <td>NaN</td>\n",
       "      <td>NaN</td>\n",
       "      <td>NaN</td>\n",
       "      <td>NaN</td>\n",
       "      <td>NaN</td>\n",
       "      <td>NaN</td>\n",
       "      <td>0.104167</td>\n",
       "    </tr>\n",
       "    <tr>\n",
       "      <th>11</th>\n",
       "      <td>NaN</td>\n",
       "      <td>NaN</td>\n",
       "      <td>NaN</td>\n",
       "      <td>NaN</td>\n",
       "      <td>NaN</td>\n",
       "      <td>NaN</td>\n",
       "      <td>NaN</td>\n",
       "      <td>0.000000</td>\n",
       "      <td>NaN</td>\n",
       "      <td>NaN</td>\n",
       "      <td>...</td>\n",
       "      <td>NaN</td>\n",
       "      <td>NaN</td>\n",
       "      <td>NaN</td>\n",
       "      <td>NaN</td>\n",
       "      <td>NaN</td>\n",
       "      <td>NaN</td>\n",
       "      <td>NaN</td>\n",
       "      <td>NaN</td>\n",
       "      <td>NaN</td>\n",
       "      <td>0.114583</td>\n",
       "    </tr>\n",
       "    <tr>\n",
       "      <th>12</th>\n",
       "      <td>NaN</td>\n",
       "      <td>NaN</td>\n",
       "      <td>NaN</td>\n",
       "      <td>NaN</td>\n",
       "      <td>NaN</td>\n",
       "      <td>NaN</td>\n",
       "      <td>NaN</td>\n",
       "      <td>0.000000</td>\n",
       "      <td>NaN</td>\n",
       "      <td>NaN</td>\n",
       "      <td>...</td>\n",
       "      <td>NaN</td>\n",
       "      <td>NaN</td>\n",
       "      <td>NaN</td>\n",
       "      <td>NaN</td>\n",
       "      <td>NaN</td>\n",
       "      <td>NaN</td>\n",
       "      <td>NaN</td>\n",
       "      <td>NaN</td>\n",
       "      <td>NaN</td>\n",
       "      <td>0.125000</td>\n",
       "    </tr>\n",
       "    <tr>\n",
       "      <th>13</th>\n",
       "      <td>NaN</td>\n",
       "      <td>NaN</td>\n",
       "      <td>NaN</td>\n",
       "      <td>NaN</td>\n",
       "      <td>NaN</td>\n",
       "      <td>NaN</td>\n",
       "      <td>NaN</td>\n",
       "      <td>0.000000</td>\n",
       "      <td>NaN</td>\n",
       "      <td>NaN</td>\n",
       "      <td>...</td>\n",
       "      <td>NaN</td>\n",
       "      <td>NaN</td>\n",
       "      <td>NaN</td>\n",
       "      <td>NaN</td>\n",
       "      <td>NaN</td>\n",
       "      <td>NaN</td>\n",
       "      <td>NaN</td>\n",
       "      <td>NaN</td>\n",
       "      <td>NaN</td>\n",
       "      <td>0.135417</td>\n",
       "    </tr>\n",
       "    <tr>\n",
       "      <th>14</th>\n",
       "      <td>NaN</td>\n",
       "      <td>NaN</td>\n",
       "      <td>NaN</td>\n",
       "      <td>NaN</td>\n",
       "      <td>NaN</td>\n",
       "      <td>NaN</td>\n",
       "      <td>NaN</td>\n",
       "      <td>0.000000</td>\n",
       "      <td>NaN</td>\n",
       "      <td>NaN</td>\n",
       "      <td>...</td>\n",
       "      <td>NaN</td>\n",
       "      <td>NaN</td>\n",
       "      <td>NaN</td>\n",
       "      <td>NaN</td>\n",
       "      <td>NaN</td>\n",
       "      <td>NaN</td>\n",
       "      <td>NaN</td>\n",
       "      <td>NaN</td>\n",
       "      <td>NaN</td>\n",
       "      <td>0.145833</td>\n",
       "    </tr>\n",
       "    <tr>\n",
       "      <th>15</th>\n",
       "      <td>NaN</td>\n",
       "      <td>NaN</td>\n",
       "      <td>NaN</td>\n",
       "      <td>NaN</td>\n",
       "      <td>NaN</td>\n",
       "      <td>NaN</td>\n",
       "      <td>NaN</td>\n",
       "      <td>0.000000</td>\n",
       "      <td>NaN</td>\n",
       "      <td>NaN</td>\n",
       "      <td>...</td>\n",
       "      <td>NaN</td>\n",
       "      <td>NaN</td>\n",
       "      <td>NaN</td>\n",
       "      <td>NaN</td>\n",
       "      <td>NaN</td>\n",
       "      <td>NaN</td>\n",
       "      <td>NaN</td>\n",
       "      <td>NaN</td>\n",
       "      <td>NaN</td>\n",
       "      <td>0.156250</td>\n",
       "    </tr>\n",
       "    <tr>\n",
       "      <th>16</th>\n",
       "      <td>NaN</td>\n",
       "      <td>NaN</td>\n",
       "      <td>NaN</td>\n",
       "      <td>NaN</td>\n",
       "      <td>NaN</td>\n",
       "      <td>NaN</td>\n",
       "      <td>NaN</td>\n",
       "      <td>0.000000</td>\n",
       "      <td>NaN</td>\n",
       "      <td>NaN</td>\n",
       "      <td>...</td>\n",
       "      <td>NaN</td>\n",
       "      <td>NaN</td>\n",
       "      <td>NaN</td>\n",
       "      <td>NaN</td>\n",
       "      <td>NaN</td>\n",
       "      <td>NaN</td>\n",
       "      <td>NaN</td>\n",
       "      <td>NaN</td>\n",
       "      <td>NaN</td>\n",
       "      <td>0.166667</td>\n",
       "    </tr>\n",
       "    <tr>\n",
       "      <th>17</th>\n",
       "      <td>NaN</td>\n",
       "      <td>NaN</td>\n",
       "      <td>NaN</td>\n",
       "      <td>NaN</td>\n",
       "      <td>NaN</td>\n",
       "      <td>NaN</td>\n",
       "      <td>NaN</td>\n",
       "      <td>0.000000</td>\n",
       "      <td>NaN</td>\n",
       "      <td>NaN</td>\n",
       "      <td>...</td>\n",
       "      <td>NaN</td>\n",
       "      <td>NaN</td>\n",
       "      <td>NaN</td>\n",
       "      <td>NaN</td>\n",
       "      <td>NaN</td>\n",
       "      <td>NaN</td>\n",
       "      <td>NaN</td>\n",
       "      <td>NaN</td>\n",
       "      <td>NaN</td>\n",
       "      <td>0.177083</td>\n",
       "    </tr>\n",
       "    <tr>\n",
       "      <th>18</th>\n",
       "      <td>NaN</td>\n",
       "      <td>NaN</td>\n",
       "      <td>NaN</td>\n",
       "      <td>NaN</td>\n",
       "      <td>NaN</td>\n",
       "      <td>NaN</td>\n",
       "      <td>NaN</td>\n",
       "      <td>0.000000</td>\n",
       "      <td>NaN</td>\n",
       "      <td>NaN</td>\n",
       "      <td>...</td>\n",
       "      <td>NaN</td>\n",
       "      <td>NaN</td>\n",
       "      <td>NaN</td>\n",
       "      <td>NaN</td>\n",
       "      <td>NaN</td>\n",
       "      <td>NaN</td>\n",
       "      <td>NaN</td>\n",
       "      <td>NaN</td>\n",
       "      <td>NaN</td>\n",
       "      <td>0.187500</td>\n",
       "    </tr>\n",
       "    <tr>\n",
       "      <th>19</th>\n",
       "      <td>NaN</td>\n",
       "      <td>NaN</td>\n",
       "      <td>NaN</td>\n",
       "      <td>NaN</td>\n",
       "      <td>NaN</td>\n",
       "      <td>NaN</td>\n",
       "      <td>NaN</td>\n",
       "      <td>0.000000</td>\n",
       "      <td>NaN</td>\n",
       "      <td>NaN</td>\n",
       "      <td>...</td>\n",
       "      <td>NaN</td>\n",
       "      <td>NaN</td>\n",
       "      <td>NaN</td>\n",
       "      <td>NaN</td>\n",
       "      <td>NaN</td>\n",
       "      <td>NaN</td>\n",
       "      <td>NaN</td>\n",
       "      <td>NaN</td>\n",
       "      <td>NaN</td>\n",
       "      <td>0.197917</td>\n",
       "    </tr>\n",
       "    <tr>\n",
       "      <th>20</th>\n",
       "      <td>NaN</td>\n",
       "      <td>NaN</td>\n",
       "      <td>NaN</td>\n",
       "      <td>NaN</td>\n",
       "      <td>NaN</td>\n",
       "      <td>NaN</td>\n",
       "      <td>NaN</td>\n",
       "      <td>0.000000</td>\n",
       "      <td>NaN</td>\n",
       "      <td>NaN</td>\n",
       "      <td>...</td>\n",
       "      <td>NaN</td>\n",
       "      <td>NaN</td>\n",
       "      <td>NaN</td>\n",
       "      <td>NaN</td>\n",
       "      <td>NaN</td>\n",
       "      <td>NaN</td>\n",
       "      <td>NaN</td>\n",
       "      <td>NaN</td>\n",
       "      <td>NaN</td>\n",
       "      <td>0.208333</td>\n",
       "    </tr>\n",
       "    <tr>\n",
       "      <th>21</th>\n",
       "      <td>NaN</td>\n",
       "      <td>NaN</td>\n",
       "      <td>NaN</td>\n",
       "      <td>NaN</td>\n",
       "      <td>NaN</td>\n",
       "      <td>NaN</td>\n",
       "      <td>NaN</td>\n",
       "      <td>0.000000</td>\n",
       "      <td>NaN</td>\n",
       "      <td>NaN</td>\n",
       "      <td>...</td>\n",
       "      <td>NaN</td>\n",
       "      <td>NaN</td>\n",
       "      <td>NaN</td>\n",
       "      <td>NaN</td>\n",
       "      <td>NaN</td>\n",
       "      <td>NaN</td>\n",
       "      <td>NaN</td>\n",
       "      <td>NaN</td>\n",
       "      <td>NaN</td>\n",
       "      <td>0.218750</td>\n",
       "    </tr>\n",
       "    <tr>\n",
       "      <th>22</th>\n",
       "      <td>NaN</td>\n",
       "      <td>NaN</td>\n",
       "      <td>NaN</td>\n",
       "      <td>NaN</td>\n",
       "      <td>NaN</td>\n",
       "      <td>NaN</td>\n",
       "      <td>NaN</td>\n",
       "      <td>0.000000</td>\n",
       "      <td>NaN</td>\n",
       "      <td>NaN</td>\n",
       "      <td>...</td>\n",
       "      <td>NaN</td>\n",
       "      <td>NaN</td>\n",
       "      <td>NaN</td>\n",
       "      <td>NaN</td>\n",
       "      <td>NaN</td>\n",
       "      <td>NaN</td>\n",
       "      <td>NaN</td>\n",
       "      <td>NaN</td>\n",
       "      <td>NaN</td>\n",
       "      <td>0.229167</td>\n",
       "    </tr>\n",
       "    <tr>\n",
       "      <th>23</th>\n",
       "      <td>NaN</td>\n",
       "      <td>NaN</td>\n",
       "      <td>NaN</td>\n",
       "      <td>NaN</td>\n",
       "      <td>NaN</td>\n",
       "      <td>NaN</td>\n",
       "      <td>NaN</td>\n",
       "      <td>0.000000</td>\n",
       "      <td>NaN</td>\n",
       "      <td>NaN</td>\n",
       "      <td>...</td>\n",
       "      <td>NaN</td>\n",
       "      <td>NaN</td>\n",
       "      <td>NaN</td>\n",
       "      <td>NaN</td>\n",
       "      <td>NaN</td>\n",
       "      <td>NaN</td>\n",
       "      <td>NaN</td>\n",
       "      <td>NaN</td>\n",
       "      <td>NaN</td>\n",
       "      <td>0.239583</td>\n",
       "    </tr>\n",
       "    <tr>\n",
       "      <th>24</th>\n",
       "      <td>NaN</td>\n",
       "      <td>NaN</td>\n",
       "      <td>NaN</td>\n",
       "      <td>NaN</td>\n",
       "      <td>NaN</td>\n",
       "      <td>NaN</td>\n",
       "      <td>NaN</td>\n",
       "      <td>0.000000</td>\n",
       "      <td>NaN</td>\n",
       "      <td>NaN</td>\n",
       "      <td>...</td>\n",
       "      <td>NaN</td>\n",
       "      <td>NaN</td>\n",
       "      <td>NaN</td>\n",
       "      <td>NaN</td>\n",
       "      <td>NaN</td>\n",
       "      <td>NaN</td>\n",
       "      <td>NaN</td>\n",
       "      <td>NaN</td>\n",
       "      <td>NaN</td>\n",
       "      <td>0.250000</td>\n",
       "    </tr>\n",
       "    <tr>\n",
       "      <th>25</th>\n",
       "      <td>NaN</td>\n",
       "      <td>NaN</td>\n",
       "      <td>NaN</td>\n",
       "      <td>NaN</td>\n",
       "      <td>NaN</td>\n",
       "      <td>NaN</td>\n",
       "      <td>NaN</td>\n",
       "      <td>0.000000</td>\n",
       "      <td>NaN</td>\n",
       "      <td>NaN</td>\n",
       "      <td>...</td>\n",
       "      <td>NaN</td>\n",
       "      <td>NaN</td>\n",
       "      <td>NaN</td>\n",
       "      <td>NaN</td>\n",
       "      <td>NaN</td>\n",
       "      <td>NaN</td>\n",
       "      <td>NaN</td>\n",
       "      <td>NaN</td>\n",
       "      <td>NaN</td>\n",
       "      <td>0.260417</td>\n",
       "    </tr>\n",
       "    <tr>\n",
       "      <th>26</th>\n",
       "      <td>NaN</td>\n",
       "      <td>NaN</td>\n",
       "      <td>NaN</td>\n",
       "      <td>NaN</td>\n",
       "      <td>NaN</td>\n",
       "      <td>NaN</td>\n",
       "      <td>NaN</td>\n",
       "      <td>0.000000</td>\n",
       "      <td>NaN</td>\n",
       "      <td>NaN</td>\n",
       "      <td>...</td>\n",
       "      <td>NaN</td>\n",
       "      <td>NaN</td>\n",
       "      <td>NaN</td>\n",
       "      <td>NaN</td>\n",
       "      <td>NaN</td>\n",
       "      <td>NaN</td>\n",
       "      <td>NaN</td>\n",
       "      <td>NaN</td>\n",
       "      <td>NaN</td>\n",
       "      <td>0.270833</td>\n",
       "    </tr>\n",
       "    <tr>\n",
       "      <th>27</th>\n",
       "      <td>NaN</td>\n",
       "      <td>NaN</td>\n",
       "      <td>NaN</td>\n",
       "      <td>NaN</td>\n",
       "      <td>NaN</td>\n",
       "      <td>NaN</td>\n",
       "      <td>NaN</td>\n",
       "      <td>0.000000</td>\n",
       "      <td>NaN</td>\n",
       "      <td>NaN</td>\n",
       "      <td>...</td>\n",
       "      <td>NaN</td>\n",
       "      <td>NaN</td>\n",
       "      <td>NaN</td>\n",
       "      <td>NaN</td>\n",
       "      <td>NaN</td>\n",
       "      <td>NaN</td>\n",
       "      <td>NaN</td>\n",
       "      <td>NaN</td>\n",
       "      <td>NaN</td>\n",
       "      <td>0.281250</td>\n",
       "    </tr>\n",
       "    <tr>\n",
       "      <th>28</th>\n",
       "      <td>NaN</td>\n",
       "      <td>NaN</td>\n",
       "      <td>NaN</td>\n",
       "      <td>NaN</td>\n",
       "      <td>NaN</td>\n",
       "      <td>NaN</td>\n",
       "      <td>NaN</td>\n",
       "      <td>0.000000</td>\n",
       "      <td>NaN</td>\n",
       "      <td>NaN</td>\n",
       "      <td>...</td>\n",
       "      <td>NaN</td>\n",
       "      <td>NaN</td>\n",
       "      <td>NaN</td>\n",
       "      <td>NaN</td>\n",
       "      <td>NaN</td>\n",
       "      <td>NaN</td>\n",
       "      <td>NaN</td>\n",
       "      <td>NaN</td>\n",
       "      <td>NaN</td>\n",
       "      <td>0.291667</td>\n",
       "    </tr>\n",
       "    <tr>\n",
       "      <th>29</th>\n",
       "      <td>NaN</td>\n",
       "      <td>NaN</td>\n",
       "      <td>NaN</td>\n",
       "      <td>NaN</td>\n",
       "      <td>NaN</td>\n",
       "      <td>NaN</td>\n",
       "      <td>NaN</td>\n",
       "      <td>0.000000</td>\n",
       "      <td>NaN</td>\n",
       "      <td>NaN</td>\n",
       "      <td>...</td>\n",
       "      <td>NaN</td>\n",
       "      <td>NaN</td>\n",
       "      <td>NaN</td>\n",
       "      <td>NaN</td>\n",
       "      <td>NaN</td>\n",
       "      <td>NaN</td>\n",
       "      <td>NaN</td>\n",
       "      <td>NaN</td>\n",
       "      <td>NaN</td>\n",
       "      <td>0.302083</td>\n",
       "    </tr>\n",
       "    <tr>\n",
       "      <th>...</th>\n",
       "      <td>...</td>\n",
       "      <td>...</td>\n",
       "      <td>...</td>\n",
       "      <td>...</td>\n",
       "      <td>...</td>\n",
       "      <td>...</td>\n",
       "      <td>...</td>\n",
       "      <td>...</td>\n",
       "      <td>...</td>\n",
       "      <td>...</td>\n",
       "      <td>...</td>\n",
       "      <td>...</td>\n",
       "      <td>...</td>\n",
       "      <td>...</td>\n",
       "      <td>...</td>\n",
       "      <td>...</td>\n",
       "      <td>...</td>\n",
       "      <td>...</td>\n",
       "      <td>...</td>\n",
       "      <td>...</td>\n",
       "      <td>...</td>\n",
       "    </tr>\n",
       "    <tr>\n",
       "      <th>65273</th>\n",
       "      <td>-0.303229</td>\n",
       "      <td>-1.298210</td>\n",
       "      <td>-1.733302</td>\n",
       "      <td>-0.959453</td>\n",
       "      <td>-1.270123</td>\n",
       "      <td>0.270441</td>\n",
       "      <td>-0.322117</td>\n",
       "      <td>0.187060</td>\n",
       "      <td>-0.324227</td>\n",
       "      <td>-0.440297</td>\n",
       "      <td>...</td>\n",
       "      <td>-1.101093</td>\n",
       "      <td>-1.021714</td>\n",
       "      <td>-1.048180</td>\n",
       "      <td>-0.968671</td>\n",
       "      <td>-1.345940</td>\n",
       "      <td>-1.789663</td>\n",
       "      <td>-2.599979</td>\n",
       "      <td>-2.308506</td>\n",
       "      <td>-1.803585</td>\n",
       "      <td>0.927083</td>\n",
       "    </tr>\n",
       "    <tr>\n",
       "      <th>65274</th>\n",
       "      <td>-0.882849</td>\n",
       "      <td>-1.626820</td>\n",
       "      <td>-1.997624</td>\n",
       "      <td>-1.047531</td>\n",
       "      <td>-1.309165</td>\n",
       "      <td>-0.420620</td>\n",
       "      <td>-0.869285</td>\n",
       "      <td>0.026463</td>\n",
       "      <td>-0.551338</td>\n",
       "      <td>-0.639716</td>\n",
       "      <td>...</td>\n",
       "      <td>-0.787506</td>\n",
       "      <td>-1.102521</td>\n",
       "      <td>-1.023073</td>\n",
       "      <td>-1.049562</td>\n",
       "      <td>-0.969984</td>\n",
       "      <td>-1.347578</td>\n",
       "      <td>-1.791684</td>\n",
       "      <td>-2.602698</td>\n",
       "      <td>-2.310974</td>\n",
       "      <td>0.937500</td>\n",
       "    </tr>\n",
       "    <tr>\n",
       "      <th>65275</th>\n",
       "      <td>-1.368445</td>\n",
       "      <td>-1.940726</td>\n",
       "      <td>-2.223906</td>\n",
       "      <td>-1.163420</td>\n",
       "      <td>-1.381489</td>\n",
       "      <td>-0.928339</td>\n",
       "      <td>-1.316737</td>\n",
       "      <td>1.196417</td>\n",
       "      <td>0.545461</td>\n",
       "      <td>0.340581</td>\n",
       "      <td>...</td>\n",
       "      <td>-0.193279</td>\n",
       "      <td>-0.794259</td>\n",
       "      <td>-1.110993</td>\n",
       "      <td>-1.031111</td>\n",
       "      <td>-1.057745</td>\n",
       "      <td>-0.977733</td>\n",
       "      <td>-1.357388</td>\n",
       "      <td>-1.803918</td>\n",
       "      <td>-2.619359</td>\n",
       "      <td>0.947917</td>\n",
       "    </tr>\n",
       "    <tr>\n",
       "      <th>65276</th>\n",
       "      <td>-1.990550</td>\n",
       "      <td>-2.359390</td>\n",
       "      <td>-2.525070</td>\n",
       "      <td>-1.338539</td>\n",
       "      <td>-1.499886</td>\n",
       "      <td>-1.485718</td>\n",
       "      <td>-1.872605</td>\n",
       "      <td>2.657318</td>\n",
       "      <td>2.375402</td>\n",
       "      <td>2.010066</td>\n",
       "      <td>...</td>\n",
       "      <td>-0.221994</td>\n",
       "      <td>-0.194730</td>\n",
       "      <td>-0.797221</td>\n",
       "      <td>-1.114751</td>\n",
       "      <td>-1.034668</td>\n",
       "      <td>-1.061369</td>\n",
       "      <td>-0.981156</td>\n",
       "      <td>-1.361765</td>\n",
       "      <td>-1.809417</td>\n",
       "      <td>0.958333</td>\n",
       "    </tr>\n",
       "    <tr>\n",
       "      <th>65277</th>\n",
       "      <td>-2.456042</td>\n",
       "      <td>-2.673556</td>\n",
       "      <td>-2.746717</td>\n",
       "      <td>-1.677350</td>\n",
       "      <td>-1.614418</td>\n",
       "      <td>-1.915140</td>\n",
       "      <td>-2.281598</td>\n",
       "      <td>1.328893</td>\n",
       "      <td>1.503079</td>\n",
       "      <td>1.244467</td>\n",
       "      <td>...</td>\n",
       "      <td>-0.307380</td>\n",
       "      <td>-0.204227</td>\n",
       "      <td>-0.177715</td>\n",
       "      <td>-0.763585</td>\n",
       "      <td>-1.072355</td>\n",
       "      <td>-0.994482</td>\n",
       "      <td>-1.020446</td>\n",
       "      <td>-0.942445</td>\n",
       "      <td>-1.312554</td>\n",
       "      <td>0.968750</td>\n",
       "    </tr>\n",
       "    <tr>\n",
       "      <th>65278</th>\n",
       "      <td>-1.406053</td>\n",
       "      <td>-2.212426</td>\n",
       "      <td>-2.304138</td>\n",
       "      <td>-1.778476</td>\n",
       "      <td>-1.698214</td>\n",
       "      <td>-0.717373</td>\n",
       "      <td>-1.302519</td>\n",
       "      <td>1.123816</td>\n",
       "      <td>1.607594</td>\n",
       "      <td>1.371540</td>\n",
       "      <td>...</td>\n",
       "      <td>0.065899</td>\n",
       "      <td>-0.289767</td>\n",
       "      <td>-0.188762</td>\n",
       "      <td>-0.162802</td>\n",
       "      <td>-0.736475</td>\n",
       "      <td>-1.038817</td>\n",
       "      <td>-0.962565</td>\n",
       "      <td>-0.987989</td>\n",
       "      <td>-0.911612</td>\n",
       "      <td>0.979167</td>\n",
       "    </tr>\n",
       "    <tr>\n",
       "      <th>65279</th>\n",
       "      <td>-0.230065</td>\n",
       "      <td>-1.680151</td>\n",
       "      <td>-1.820336</td>\n",
       "      <td>-1.640588</td>\n",
       "      <td>-1.754964</td>\n",
       "      <td>0.620811</td>\n",
       "      <td>-0.206240</td>\n",
       "      <td>-0.539650</td>\n",
       "      <td>-0.340312</td>\n",
       "      <td>-0.423268</td>\n",
       "      <td>...</td>\n",
       "      <td>0.073137</td>\n",
       "      <td>0.074210</td>\n",
       "      <td>-0.277053</td>\n",
       "      <td>-0.177299</td>\n",
       "      <td>-0.151660</td>\n",
       "      <td>-0.718232</td>\n",
       "      <td>-1.016832</td>\n",
       "      <td>-0.941523</td>\n",
       "      <td>-0.966632</td>\n",
       "      <td>0.989583</td>\n",
       "    </tr>\n",
       "    <tr>\n",
       "      <th>65280</th>\n",
       "      <td>0.172697</td>\n",
       "      <td>-1.531856</td>\n",
       "      <td>-1.673272</td>\n",
       "      <td>-1.346970</td>\n",
       "      <td>-1.809264</td>\n",
       "      <td>1.088758</td>\n",
       "      <td>0.175713</td>\n",
       "      <td>0.231311</td>\n",
       "      <td>0.703656</td>\n",
       "      <td>0.545997</td>\n",
       "      <td>...</td>\n",
       "      <td>0.054987</td>\n",
       "      <td>0.079300</td>\n",
       "      <td>0.080362</td>\n",
       "      <td>-0.267789</td>\n",
       "      <td>-0.168918</td>\n",
       "      <td>-0.143506</td>\n",
       "      <td>-0.705059</td>\n",
       "      <td>-1.001014</td>\n",
       "      <td>-0.926373</td>\n",
       "      <td>0.000000</td>\n",
       "    </tr>\n",
       "    <tr>\n",
       "      <th>65281</th>\n",
       "      <td>-1.406131</td>\n",
       "      <td>-2.355516</td>\n",
       "      <td>-2.358385</td>\n",
       "      <td>-1.204261</td>\n",
       "      <td>-1.941895</td>\n",
       "      <td>-0.574615</td>\n",
       "      <td>-1.270497</td>\n",
       "      <td>2.508079</td>\n",
       "      <td>4.208414</td>\n",
       "      <td>3.925036</td>\n",
       "      <td>...</td>\n",
       "      <td>0.069227</td>\n",
       "      <td>0.070243</td>\n",
       "      <td>0.093839</td>\n",
       "      <td>0.094871</td>\n",
       "      <td>-0.243034</td>\n",
       "      <td>-0.147073</td>\n",
       "      <td>-0.122409</td>\n",
       "      <td>-0.667435</td>\n",
       "      <td>-0.954680</td>\n",
       "      <td>0.010417</td>\n",
       "    </tr>\n",
       "    <tr>\n",
       "      <th>65282</th>\n",
       "      <td>-0.932635</td>\n",
       "      <td>-2.180657</td>\n",
       "      <td>-2.192992</td>\n",
       "      <td>-1.167228</td>\n",
       "      <td>-2.027556</td>\n",
       "      <td>0.060658</td>\n",
       "      <td>-0.813237</td>\n",
       "      <td>0.933137</td>\n",
       "      <td>2.310875</td>\n",
       "      <td>2.183638</td>\n",
       "      <td>...</td>\n",
       "      <td>0.402320</td>\n",
       "      <td>0.082118</td>\n",
       "      <td>0.083109</td>\n",
       "      <td>0.106135</td>\n",
       "      <td>0.107141</td>\n",
       "      <td>-0.222591</td>\n",
       "      <td>-0.128951</td>\n",
       "      <td>-0.104884</td>\n",
       "      <td>-0.636728</td>\n",
       "      <td>0.020833</td>\n",
       "    </tr>\n",
       "    <tr>\n",
       "      <th>65283</th>\n",
       "      <td>-0.646429</td>\n",
       "      <td>-2.068298</td>\n",
       "      <td>-2.089424</td>\n",
       "      <td>-1.273196</td>\n",
       "      <td>-2.080325</td>\n",
       "      <td>0.437387</td>\n",
       "      <td>-0.525170</td>\n",
       "      <td>0.494641</td>\n",
       "      <td>1.693357</td>\n",
       "      <td>1.602162</td>\n",
       "      <td>...</td>\n",
       "      <td>0.664116</td>\n",
       "      <td>0.409291</td>\n",
       "      <td>0.096770</td>\n",
       "      <td>0.097737</td>\n",
       "      <td>0.120210</td>\n",
       "      <td>0.121193</td>\n",
       "      <td>-0.200631</td>\n",
       "      <td>-0.109236</td>\n",
       "      <td>-0.085746</td>\n",
       "      <td>0.031250</td>\n",
       "    </tr>\n",
       "    <tr>\n",
       "      <th>65284</th>\n",
       "      <td>0.130081</td>\n",
       "      <td>-1.720795</td>\n",
       "      <td>-1.798117</td>\n",
       "      <td>-1.337630</td>\n",
       "      <td>-2.081337</td>\n",
       "      <td>1.356396</td>\n",
       "      <td>0.232802</td>\n",
       "      <td>0.156750</td>\n",
       "      <td>1.341899</td>\n",
       "      <td>1.279301</td>\n",
       "      <td>...</td>\n",
       "      <td>0.886629</td>\n",
       "      <td>0.670556</td>\n",
       "      <td>0.420351</td>\n",
       "      <td>0.113498</td>\n",
       "      <td>0.114448</td>\n",
       "      <td>0.136513</td>\n",
       "      <td>0.137478</td>\n",
       "      <td>-0.178509</td>\n",
       "      <td>-0.088772</td>\n",
       "      <td>0.041667</td>\n",
       "    </tr>\n",
       "    <tr>\n",
       "      <th>65285</th>\n",
       "      <td>0.825472</td>\n",
       "      <td>-1.433155</td>\n",
       "      <td>-1.556611</td>\n",
       "      <td>-1.050843</td>\n",
       "      <td>-2.070267</td>\n",
       "      <td>2.098732</td>\n",
       "      <td>0.910283</td>\n",
       "      <td>-0.655418</td>\n",
       "      <td>0.142348</td>\n",
       "      <td>0.097452</td>\n",
       "      <td>...</td>\n",
       "      <td>0.897150</td>\n",
       "      <td>0.890686</td>\n",
       "      <td>0.677358</td>\n",
       "      <td>0.430332</td>\n",
       "      <td>0.127377</td>\n",
       "      <td>0.128315</td>\n",
       "      <td>0.150100</td>\n",
       "      <td>0.151053</td>\n",
       "      <td>-0.160919</td>\n",
       "      <td>0.052083</td>\n",
       "    </tr>\n",
       "    <tr>\n",
       "      <th>65286</th>\n",
       "      <td>0.644532</td>\n",
       "      <td>-1.493249</td>\n",
       "      <td>-1.606012</td>\n",
       "      <td>-0.819749</td>\n",
       "      <td>-2.037885</td>\n",
       "      <td>1.700871</td>\n",
       "      <td>0.754549</td>\n",
       "      <td>-0.476512</td>\n",
       "      <td>0.475462</td>\n",
       "      <td>0.429578</td>\n",
       "      <td>...</td>\n",
       "      <td>0.614428</td>\n",
       "      <td>0.900061</td>\n",
       "      <td>0.893685</td>\n",
       "      <td>0.683315</td>\n",
       "      <td>0.439713</td>\n",
       "      <td>0.140958</td>\n",
       "      <td>0.141883</td>\n",
       "      <td>0.163366</td>\n",
       "      <td>0.164306</td>\n",
       "      <td>0.062500</td>\n",
       "    </tr>\n",
       "    <tr>\n",
       "      <th>65287</th>\n",
       "      <td>0.738411</td>\n",
       "      <td>-1.418641</td>\n",
       "      <td>-1.547398</td>\n",
       "      <td>-0.588912</td>\n",
       "      <td>-1.973038</td>\n",
       "      <td>1.576175</td>\n",
       "      <td>0.863460</td>\n",
       "      <td>-0.403044</td>\n",
       "      <td>0.601180</td>\n",
       "      <td>0.564935</td>\n",
       "      <td>...</td>\n",
       "      <td>0.291524</td>\n",
       "      <td>0.624637</td>\n",
       "      <td>0.906637</td>\n",
       "      <td>0.900343</td>\n",
       "      <td>0.692647</td>\n",
       "      <td>0.452144</td>\n",
       "      <td>0.157188</td>\n",
       "      <td>0.158101</td>\n",
       "      <td>0.179311</td>\n",
       "      <td>0.072917</td>\n",
       "    </tr>\n",
       "    <tr>\n",
       "      <th>65288</th>\n",
       "      <td>1.113244</td>\n",
       "      <td>-1.197345</td>\n",
       "      <td>-1.365889</td>\n",
       "      <td>-0.408421</td>\n",
       "      <td>-1.861713</td>\n",
       "      <td>1.667700</td>\n",
       "      <td>1.230889</td>\n",
       "      <td>-0.375654</td>\n",
       "      <td>0.551198</td>\n",
       "      <td>0.530033</td>\n",
       "      <td>...</td>\n",
       "      <td>0.674106</td>\n",
       "      <td>0.304666</td>\n",
       "      <td>0.634703</td>\n",
       "      <td>0.914098</td>\n",
       "      <td>0.907862</td>\n",
       "      <td>0.702085</td>\n",
       "      <td>0.463803</td>\n",
       "      <td>0.171571</td>\n",
       "      <td>0.172475</td>\n",
       "      <td>0.083333</td>\n",
       "    </tr>\n",
       "    <tr>\n",
       "      <th>65289</th>\n",
       "      <td>2.008999</td>\n",
       "      <td>-0.711793</td>\n",
       "      <td>-0.962539</td>\n",
       "      <td>-0.169801</td>\n",
       "      <td>-1.688538</td>\n",
       "      <td>2.208898</td>\n",
       "      <td>2.080507</td>\n",
       "      <td>0.605564</td>\n",
       "      <td>2.091486</td>\n",
       "      <td>2.112494</td>\n",
       "      <td>...</td>\n",
       "      <td>0.808014</td>\n",
       "      <td>0.682242</td>\n",
       "      <td>0.314070</td>\n",
       "      <td>0.642974</td>\n",
       "      <td>0.921410</td>\n",
       "      <td>0.915196</td>\n",
       "      <td>0.710125</td>\n",
       "      <td>0.472660</td>\n",
       "      <td>0.181431</td>\n",
       "      <td>0.093750</td>\n",
       "    </tr>\n",
       "    <tr>\n",
       "      <th>65290</th>\n",
       "      <td>1.650840</td>\n",
       "      <td>-0.745500</td>\n",
       "      <td>-0.992817</td>\n",
       "      <td>0.085887</td>\n",
       "      <td>-1.559667</td>\n",
       "      <td>1.498461</td>\n",
       "      <td>1.733007</td>\n",
       "      <td>-0.762020</td>\n",
       "      <td>-0.084490</td>\n",
       "      <td>-0.072052</td>\n",
       "      <td>...</td>\n",
       "      <td>1.132488</td>\n",
       "      <td>0.815940</td>\n",
       "      <td>0.690647</td>\n",
       "      <td>0.323878</td>\n",
       "      <td>0.651529</td>\n",
       "      <td>0.928904</td>\n",
       "      <td>0.922714</td>\n",
       "      <td>0.718424</td>\n",
       "      <td>0.481864</td>\n",
       "      <td>0.104167</td>\n",
       "    </tr>\n",
       "    <tr>\n",
       "      <th>65291</th>\n",
       "      <td>2.013444</td>\n",
       "      <td>-0.518281</td>\n",
       "      <td>-0.808027</td>\n",
       "      <td>0.406832</td>\n",
       "      <td>-1.455903</td>\n",
       "      <td>1.684302</td>\n",
       "      <td>2.076025</td>\n",
       "      <td>-0.734141</td>\n",
       "      <td>-0.031595</td>\n",
       "      <td>-0.012667</td>\n",
       "      <td>...</td>\n",
       "      <td>1.139065</td>\n",
       "      <td>1.143206</td>\n",
       "      <td>0.826946</td>\n",
       "      <td>0.701767</td>\n",
       "      <td>0.335332</td>\n",
       "      <td>0.662685</td>\n",
       "      <td>0.939808</td>\n",
       "      <td>0.933622</td>\n",
       "      <td>0.729519</td>\n",
       "      <td>0.114583</td>\n",
       "    </tr>\n",
       "    <tr>\n",
       "      <th>65292</th>\n",
       "      <td>2.156428</td>\n",
       "      <td>-0.375475</td>\n",
       "      <td>-0.695743</td>\n",
       "      <td>0.703036</td>\n",
       "      <td>-1.353595</td>\n",
       "      <td>1.650345</td>\n",
       "      <td>2.210167</td>\n",
       "      <td>-0.589618</td>\n",
       "      <td>0.164048</td>\n",
       "      <td>0.195760</td>\n",
       "      <td>...</td>\n",
       "      <td>1.036082</td>\n",
       "      <td>1.153717</td>\n",
       "      <td>1.157864</td>\n",
       "      <td>0.841120</td>\n",
       "      <td>0.715749</td>\n",
       "      <td>0.348752</td>\n",
       "      <td>0.676606</td>\n",
       "      <td>0.954154</td>\n",
       "      <td>0.947959</td>\n",
       "      <td>0.125000</td>\n",
       "    </tr>\n",
       "    <tr>\n",
       "      <th>65293</th>\n",
       "      <td>1.736826</td>\n",
       "      <td>-0.399565</td>\n",
       "      <td>-0.724960</td>\n",
       "      <td>0.816675</td>\n",
       "      <td>-1.184721</td>\n",
       "      <td>0.873951</td>\n",
       "      <td>1.812051</td>\n",
       "      <td>-1.376299</td>\n",
       "      <td>-1.146664</td>\n",
       "      <td>-1.135457</td>\n",
       "      <td>...</td>\n",
       "      <td>0.834434</td>\n",
       "      <td>1.055127</td>\n",
       "      <td>1.173148</td>\n",
       "      <td>1.177309</td>\n",
       "      <td>0.859525</td>\n",
       "      <td>0.733743</td>\n",
       "      <td>0.365541</td>\n",
       "      <td>0.694471</td>\n",
       "      <td>0.972930</td>\n",
       "      <td>0.135417</td>\n",
       "    </tr>\n",
       "    <tr>\n",
       "      <th>65294</th>\n",
       "      <td>1.070795</td>\n",
       "      <td>-0.542748</td>\n",
       "      <td>-0.855202</td>\n",
       "      <td>0.894790</td>\n",
       "      <td>-1.042259</td>\n",
       "      <td>-0.054277</td>\n",
       "      <td>1.181990</td>\n",
       "      <td>-0.121136</td>\n",
       "      <td>0.389534</td>\n",
       "      <td>0.399951</td>\n",
       "      <td>...</td>\n",
       "      <td>0.777599</td>\n",
       "      <td>0.854122</td>\n",
       "      <td>1.075353</td>\n",
       "      <td>1.193661</td>\n",
       "      <td>1.197832</td>\n",
       "      <td>0.879274</td>\n",
       "      <td>0.753186</td>\n",
       "      <td>0.384088</td>\n",
       "      <td>0.713819</td>\n",
       "      <td>0.145833</td>\n",
       "    </tr>\n",
       "    <tr>\n",
       "      <th>65295</th>\n",
       "      <td>0.224043</td>\n",
       "      <td>-0.775774</td>\n",
       "      <td>-1.058523</td>\n",
       "      <td>0.807979</td>\n",
       "      <td>-0.929673</td>\n",
       "      <td>-1.053620</td>\n",
       "      <td>0.378273</td>\n",
       "      <td>-0.400828</td>\n",
       "      <td>-0.058313</td>\n",
       "      <td>-0.058993</td>\n",
       "      <td>...</td>\n",
       "      <td>1.033766</td>\n",
       "      <td>0.793491</td>\n",
       "      <td>0.869844</td>\n",
       "      <td>1.090582</td>\n",
       "      <td>1.208626</td>\n",
       "      <td>1.212788</td>\n",
       "      <td>0.894940</td>\n",
       "      <td>0.769133</td>\n",
       "      <td>0.400858</td>\n",
       "      <td>0.156250</td>\n",
       "    </tr>\n",
       "    <tr>\n",
       "      <th>65296</th>\n",
       "      <td>0.513287</td>\n",
       "      <td>-0.572929</td>\n",
       "      <td>-0.892217</td>\n",
       "      <td>0.731424</td>\n",
       "      <td>-0.832844</td>\n",
       "      <td>-0.783226</td>\n",
       "      <td>0.649306</td>\n",
       "      <td>-0.730478</td>\n",
       "      <td>-0.535023</td>\n",
       "      <td>-0.542916</td>\n",
       "      <td>...</td>\n",
       "      <td>1.341899</td>\n",
       "      <td>1.043672</td>\n",
       "      <td>0.803928</td>\n",
       "      <td>0.880112</td>\n",
       "      <td>1.100363</td>\n",
       "      <td>1.218147</td>\n",
       "      <td>1.222300</td>\n",
       "      <td>0.905153</td>\n",
       "      <td>0.779623</td>\n",
       "      <td>0.166667</td>\n",
       "    </tr>\n",
       "    <tr>\n",
       "      <th>65297</th>\n",
       "      <td>0.787287</td>\n",
       "      <td>-0.381225</td>\n",
       "      <td>-0.739068</td>\n",
       "      <td>0.711407</td>\n",
       "      <td>-0.741535</td>\n",
       "      <td>-0.479447</td>\n",
       "      <td>0.910343</td>\n",
       "      <td>-0.286478</td>\n",
       "      <td>-0.052770</td>\n",
       "      <td>-0.069660</td>\n",
       "      <td>...</td>\n",
       "      <td>1.161566</td>\n",
       "      <td>1.358145</td>\n",
       "      <td>1.059464</td>\n",
       "      <td>0.819354</td>\n",
       "      <td>0.895655</td>\n",
       "      <td>1.116241</td>\n",
       "      <td>1.234205</td>\n",
       "      <td>1.238364</td>\n",
       "      <td>0.920734</td>\n",
       "      <td>0.177083</td>\n",
       "    </tr>\n",
       "    <tr>\n",
       "      <th>65298</th>\n",
       "      <td>0.854908</td>\n",
       "      <td>-0.253606</td>\n",
       "      <td>-0.640596</td>\n",
       "      <td>0.783749</td>\n",
       "      <td>-0.633025</td>\n",
       "      <td>-0.424260</td>\n",
       "      <td>0.974417</td>\n",
       "      <td>-0.279890</td>\n",
       "      <td>-0.069919</td>\n",
       "      <td>-0.100835</td>\n",
       "      <td>...</td>\n",
       "      <td>1.115902</td>\n",
       "      <td>1.180030</td>\n",
       "      <td>1.377291</td>\n",
       "      <td>1.077574</td>\n",
       "      <td>0.836631</td>\n",
       "      <td>0.913196</td>\n",
       "      <td>1.134548</td>\n",
       "      <td>1.252921</td>\n",
       "      <td>1.257095</td>\n",
       "      <td>0.187500</td>\n",
       "    </tr>\n",
       "    <tr>\n",
       "      <th>65299</th>\n",
       "      <td>1.103651</td>\n",
       "      <td>-0.040038</td>\n",
       "      <td>-0.472848</td>\n",
       "      <td>1.024002</td>\n",
       "      <td>-0.510138</td>\n",
       "      <td>-0.191088</td>\n",
       "      <td>1.214849</td>\n",
       "      <td>-0.781015</td>\n",
       "      <td>-0.677244</td>\n",
       "      <td>-0.696581</td>\n",
       "      <td>...</td>\n",
       "      <td>1.383541</td>\n",
       "      <td>1.140911</td>\n",
       "      <td>1.205565</td>\n",
       "      <td>1.404445</td>\n",
       "      <td>1.102268</td>\n",
       "      <td>0.859347</td>\n",
       "      <td>0.936541</td>\n",
       "      <td>1.159710</td>\n",
       "      <td>1.279054</td>\n",
       "      <td>0.197917</td>\n",
       "    </tr>\n",
       "    <tr>\n",
       "      <th>65300</th>\n",
       "      <td>0.736605</td>\n",
       "      <td>-0.093490</td>\n",
       "      <td>-0.530281</td>\n",
       "      <td>1.179470</td>\n",
       "      <td>-0.410257</td>\n",
       "      <td>-0.560924</td>\n",
       "      <td>0.869147</td>\n",
       "      <td>-0.589438</td>\n",
       "      <td>-0.540193</td>\n",
       "      <td>-0.565321</td>\n",
       "      <td>...</td>\n",
       "      <td>1.609114</td>\n",
       "      <td>1.411868</td>\n",
       "      <td>1.167224</td>\n",
       "      <td>1.232414</td>\n",
       "      <td>1.432945</td>\n",
       "      <td>1.128260</td>\n",
       "      <td>0.883324</td>\n",
       "      <td>0.961158</td>\n",
       "      <td>1.186179</td>\n",
       "      <td>0.208333</td>\n",
       "    </tr>\n",
       "    <tr>\n",
       "      <th>65301</th>\n",
       "      <td>0.211472</td>\n",
       "      <td>-0.265465</td>\n",
       "      <td>-0.687541</td>\n",
       "      <td>1.195662</td>\n",
       "      <td>-0.368308</td>\n",
       "      <td>-0.963843</td>\n",
       "      <td>0.373834</td>\n",
       "      <td>0.220844</td>\n",
       "      <td>0.046761</td>\n",
       "      <td>0.005169</td>\n",
       "      <td>...</td>\n",
       "      <td>1.908189</td>\n",
       "      <td>1.636977</td>\n",
       "      <td>1.438510</td>\n",
       "      <td>1.192353</td>\n",
       "      <td>1.257947</td>\n",
       "      <td>1.459718</td>\n",
       "      <td>1.153149</td>\n",
       "      <td>0.906697</td>\n",
       "      <td>0.985013</td>\n",
       "      <td>0.218750</td>\n",
       "    </tr>\n",
       "    <tr>\n",
       "      <th>65302</th>\n",
       "      <td>0.210343</td>\n",
       "      <td>-0.221491</td>\n",
       "      <td>-0.659881</td>\n",
       "      <td>1.180323</td>\n",
       "      <td>-0.322035</td>\n",
       "      <td>-0.836202</td>\n",
       "      <td>0.371601</td>\n",
       "      <td>-1.328412</td>\n",
       "      <td>-1.345181</td>\n",
       "      <td>-1.355358</td>\n",
       "      <td>...</td>\n",
       "      <td>2.041249</td>\n",
       "      <td>1.931220</td>\n",
       "      <td>1.658925</td>\n",
       "      <td>1.459667</td>\n",
       "      <td>1.212528</td>\n",
       "      <td>1.278383</td>\n",
       "      <td>1.480959</td>\n",
       "      <td>1.173167</td>\n",
       "      <td>0.925732</td>\n",
       "      <td>0.229167</td>\n",
       "    </tr>\n",
       "  </tbody>\n",
       "</table>\n",
       "<p>65303 rows × 121 columns</p>\n",
       "</div>"
      ],
      "text/plain": [
       "          pma12     pma96    pma672    ma4_36   ma12_96   ac12_12   ac96_96  \\\n",
       "0           NaN       NaN       NaN       NaN       NaN       NaN       NaN   \n",
       "1           NaN       NaN       NaN       NaN       NaN       NaN       NaN   \n",
       "2           NaN       NaN       NaN       NaN       NaN       NaN       NaN   \n",
       "3           NaN       NaN       NaN       NaN       NaN       NaN       NaN   \n",
       "4           NaN       NaN       NaN       NaN       NaN       NaN       NaN   \n",
       "5           NaN       NaN       NaN       NaN       NaN       NaN       NaN   \n",
       "6           NaN       NaN       NaN       NaN       NaN       NaN       NaN   \n",
       "7           NaN       NaN       NaN       NaN       NaN       NaN       NaN   \n",
       "8           NaN       NaN       NaN       NaN       NaN       NaN       NaN   \n",
       "9           NaN       NaN       NaN       NaN       NaN       NaN       NaN   \n",
       "10          NaN       NaN       NaN       NaN       NaN       NaN       NaN   \n",
       "11          NaN       NaN       NaN       NaN       NaN       NaN       NaN   \n",
       "12          NaN       NaN       NaN       NaN       NaN       NaN       NaN   \n",
       "13          NaN       NaN       NaN       NaN       NaN       NaN       NaN   \n",
       "14          NaN       NaN       NaN       NaN       NaN       NaN       NaN   \n",
       "15          NaN       NaN       NaN       NaN       NaN       NaN       NaN   \n",
       "16          NaN       NaN       NaN       NaN       NaN       NaN       NaN   \n",
       "17          NaN       NaN       NaN       NaN       NaN       NaN       NaN   \n",
       "18          NaN       NaN       NaN       NaN       NaN       NaN       NaN   \n",
       "19          NaN       NaN       NaN       NaN       NaN       NaN       NaN   \n",
       "20          NaN       NaN       NaN       NaN       NaN       NaN       NaN   \n",
       "21          NaN       NaN       NaN       NaN       NaN       NaN       NaN   \n",
       "22          NaN       NaN       NaN       NaN       NaN       NaN       NaN   \n",
       "23          NaN       NaN       NaN       NaN       NaN       NaN       NaN   \n",
       "24          NaN       NaN       NaN       NaN       NaN       NaN       NaN   \n",
       "25          NaN       NaN       NaN       NaN       NaN       NaN       NaN   \n",
       "26          NaN       NaN       NaN       NaN       NaN       NaN       NaN   \n",
       "27          NaN       NaN       NaN       NaN       NaN       NaN       NaN   \n",
       "28          NaN       NaN       NaN       NaN       NaN       NaN       NaN   \n",
       "29          NaN       NaN       NaN       NaN       NaN       NaN       NaN   \n",
       "...         ...       ...       ...       ...       ...       ...       ...   \n",
       "65273 -0.303229 -1.298210 -1.733302 -0.959453 -1.270123  0.270441 -0.322117   \n",
       "65274 -0.882849 -1.626820 -1.997624 -1.047531 -1.309165 -0.420620 -0.869285   \n",
       "65275 -1.368445 -1.940726 -2.223906 -1.163420 -1.381489 -0.928339 -1.316737   \n",
       "65276 -1.990550 -2.359390 -2.525070 -1.338539 -1.499886 -1.485718 -1.872605   \n",
       "65277 -2.456042 -2.673556 -2.746717 -1.677350 -1.614418 -1.915140 -2.281598   \n",
       "65278 -1.406053 -2.212426 -2.304138 -1.778476 -1.698214 -0.717373 -1.302519   \n",
       "65279 -0.230065 -1.680151 -1.820336 -1.640588 -1.754964  0.620811 -0.206240   \n",
       "65280  0.172697 -1.531856 -1.673272 -1.346970 -1.809264  1.088758  0.175713   \n",
       "65281 -1.406131 -2.355516 -2.358385 -1.204261 -1.941895 -0.574615 -1.270497   \n",
       "65282 -0.932635 -2.180657 -2.192992 -1.167228 -2.027556  0.060658 -0.813237   \n",
       "65283 -0.646429 -2.068298 -2.089424 -1.273196 -2.080325  0.437387 -0.525170   \n",
       "65284  0.130081 -1.720795 -1.798117 -1.337630 -2.081337  1.356396  0.232802   \n",
       "65285  0.825472 -1.433155 -1.556611 -1.050843 -2.070267  2.098732  0.910283   \n",
       "65286  0.644532 -1.493249 -1.606012 -0.819749 -2.037885  1.700871  0.754549   \n",
       "65287  0.738411 -1.418641 -1.547398 -0.588912 -1.973038  1.576175  0.863460   \n",
       "65288  1.113244 -1.197345 -1.365889 -0.408421 -1.861713  1.667700  1.230889   \n",
       "65289  2.008999 -0.711793 -0.962539 -0.169801 -1.688538  2.208898  2.080507   \n",
       "65290  1.650840 -0.745500 -0.992817  0.085887 -1.559667  1.498461  1.733007   \n",
       "65291  2.013444 -0.518281 -0.808027  0.406832 -1.455903  1.684302  2.076025   \n",
       "65292  2.156428 -0.375475 -0.695743  0.703036 -1.353595  1.650345  2.210167   \n",
       "65293  1.736826 -0.399565 -0.724960  0.816675 -1.184721  0.873951  1.812051   \n",
       "65294  1.070795 -0.542748 -0.855202  0.894790 -1.042259 -0.054277  1.181990   \n",
       "65295  0.224043 -0.775774 -1.058523  0.807979 -0.929673 -1.053620  0.378273   \n",
       "65296  0.513287 -0.572929 -0.892217  0.731424 -0.832844 -0.783226  0.649306   \n",
       "65297  0.787287 -0.381225 -0.739068  0.711407 -0.741535 -0.479447  0.910343   \n",
       "65298  0.854908 -0.253606 -0.640596  0.783749 -0.633025 -0.424260  0.974417   \n",
       "65299  1.103651 -0.040038 -0.472848  1.024002 -0.510138 -0.191088  1.214849   \n",
       "65300  0.736605 -0.093490 -0.530281  1.179470 -0.410257 -0.560924  0.869147   \n",
       "65301  0.211472 -0.265465 -0.687541  1.195662 -0.368308 -0.963843  0.373834   \n",
       "65302  0.210343 -0.221491 -0.659881  1.180323 -0.322035 -0.836202  0.371601   \n",
       "\n",
       "          vma12     vma96    vma672    ...     pZ96_s87  pZ96_s88  pZ96_s89  \\\n",
       "0      0.000000       NaN       NaN    ...          NaN       NaN       NaN   \n",
       "1      0.000000       NaN       NaN    ...          NaN       NaN       NaN   \n",
       "2      0.000000       NaN       NaN    ...          NaN       NaN       NaN   \n",
       "3      0.000000       NaN       NaN    ...          NaN       NaN       NaN   \n",
       "4      0.000000       NaN       NaN    ...          NaN       NaN       NaN   \n",
       "5      0.000000       NaN       NaN    ...          NaN       NaN       NaN   \n",
       "6      0.000000       NaN       NaN    ...          NaN       NaN       NaN   \n",
       "7      0.000000       NaN       NaN    ...          NaN       NaN       NaN   \n",
       "8      0.000000       NaN       NaN    ...          NaN       NaN       NaN   \n",
       "9      0.000000       NaN       NaN    ...          NaN       NaN       NaN   \n",
       "10     0.000000       NaN       NaN    ...          NaN       NaN       NaN   \n",
       "11     0.000000       NaN       NaN    ...          NaN       NaN       NaN   \n",
       "12     0.000000       NaN       NaN    ...          NaN       NaN       NaN   \n",
       "13     0.000000       NaN       NaN    ...          NaN       NaN       NaN   \n",
       "14     0.000000       NaN       NaN    ...          NaN       NaN       NaN   \n",
       "15     0.000000       NaN       NaN    ...          NaN       NaN       NaN   \n",
       "16     0.000000       NaN       NaN    ...          NaN       NaN       NaN   \n",
       "17     0.000000       NaN       NaN    ...          NaN       NaN       NaN   \n",
       "18     0.000000       NaN       NaN    ...          NaN       NaN       NaN   \n",
       "19     0.000000       NaN       NaN    ...          NaN       NaN       NaN   \n",
       "20     0.000000       NaN       NaN    ...          NaN       NaN       NaN   \n",
       "21     0.000000       NaN       NaN    ...          NaN       NaN       NaN   \n",
       "22     0.000000       NaN       NaN    ...          NaN       NaN       NaN   \n",
       "23     0.000000       NaN       NaN    ...          NaN       NaN       NaN   \n",
       "24     0.000000       NaN       NaN    ...          NaN       NaN       NaN   \n",
       "25     0.000000       NaN       NaN    ...          NaN       NaN       NaN   \n",
       "26     0.000000       NaN       NaN    ...          NaN       NaN       NaN   \n",
       "27     0.000000       NaN       NaN    ...          NaN       NaN       NaN   \n",
       "28     0.000000       NaN       NaN    ...          NaN       NaN       NaN   \n",
       "29     0.000000       NaN       NaN    ...          NaN       NaN       NaN   \n",
       "...         ...       ...       ...    ...          ...       ...       ...   \n",
       "65273  0.187060 -0.324227 -0.440297    ...    -1.101093 -1.021714 -1.048180   \n",
       "65274  0.026463 -0.551338 -0.639716    ...    -0.787506 -1.102521 -1.023073   \n",
       "65275  1.196417  0.545461  0.340581    ...    -0.193279 -0.794259 -1.110993   \n",
       "65276  2.657318  2.375402  2.010066    ...    -0.221994 -0.194730 -0.797221   \n",
       "65277  1.328893  1.503079  1.244467    ...    -0.307380 -0.204227 -0.177715   \n",
       "65278  1.123816  1.607594  1.371540    ...     0.065899 -0.289767 -0.188762   \n",
       "65279 -0.539650 -0.340312 -0.423268    ...     0.073137  0.074210 -0.277053   \n",
       "65280  0.231311  0.703656  0.545997    ...     0.054987  0.079300  0.080362   \n",
       "65281  2.508079  4.208414  3.925036    ...     0.069227  0.070243  0.093839   \n",
       "65282  0.933137  2.310875  2.183638    ...     0.402320  0.082118  0.083109   \n",
       "65283  0.494641  1.693357  1.602162    ...     0.664116  0.409291  0.096770   \n",
       "65284  0.156750  1.341899  1.279301    ...     0.886629  0.670556  0.420351   \n",
       "65285 -0.655418  0.142348  0.097452    ...     0.897150  0.890686  0.677358   \n",
       "65286 -0.476512  0.475462  0.429578    ...     0.614428  0.900061  0.893685   \n",
       "65287 -0.403044  0.601180  0.564935    ...     0.291524  0.624637  0.906637   \n",
       "65288 -0.375654  0.551198  0.530033    ...     0.674106  0.304666  0.634703   \n",
       "65289  0.605564  2.091486  2.112494    ...     0.808014  0.682242  0.314070   \n",
       "65290 -0.762020 -0.084490 -0.072052    ...     1.132488  0.815940  0.690647   \n",
       "65291 -0.734141 -0.031595 -0.012667    ...     1.139065  1.143206  0.826946   \n",
       "65292 -0.589618  0.164048  0.195760    ...     1.036082  1.153717  1.157864   \n",
       "65293 -1.376299 -1.146664 -1.135457    ...     0.834434  1.055127  1.173148   \n",
       "65294 -0.121136  0.389534  0.399951    ...     0.777599  0.854122  1.075353   \n",
       "65295 -0.400828 -0.058313 -0.058993    ...     1.033766  0.793491  0.869844   \n",
       "65296 -0.730478 -0.535023 -0.542916    ...     1.341899  1.043672  0.803928   \n",
       "65297 -0.286478 -0.052770 -0.069660    ...     1.161566  1.358145  1.059464   \n",
       "65298 -0.279890 -0.069919 -0.100835    ...     1.115902  1.180030  1.377291   \n",
       "65299 -0.781015 -0.677244 -0.696581    ...     1.383541  1.140911  1.205565   \n",
       "65300 -0.589438 -0.540193 -0.565321    ...     1.609114  1.411868  1.167224   \n",
       "65301  0.220844  0.046761  0.005169    ...     1.908189  1.636977  1.438510   \n",
       "65302 -1.328412 -1.345181 -1.355358    ...     2.041249  1.931220  1.658925   \n",
       "\n",
       "       pZ96_s90  pZ96_s91  pZ96_s92  pZ96_s93  pZ96_s94  pZ96_s95   utctime  \n",
       "0           NaN       NaN       NaN       NaN       NaN       NaN  0.000000  \n",
       "1           NaN       NaN       NaN       NaN       NaN       NaN  0.010417  \n",
       "2           NaN       NaN       NaN       NaN       NaN       NaN  0.020833  \n",
       "3           NaN       NaN       NaN       NaN       NaN       NaN  0.031250  \n",
       "4           NaN       NaN       NaN       NaN       NaN       NaN  0.041667  \n",
       "5           NaN       NaN       NaN       NaN       NaN       NaN  0.052083  \n",
       "6           NaN       NaN       NaN       NaN       NaN       NaN  0.062500  \n",
       "7           NaN       NaN       NaN       NaN       NaN       NaN  0.072917  \n",
       "8           NaN       NaN       NaN       NaN       NaN       NaN  0.083333  \n",
       "9           NaN       NaN       NaN       NaN       NaN       NaN  0.093750  \n",
       "10          NaN       NaN       NaN       NaN       NaN       NaN  0.104167  \n",
       "11          NaN       NaN       NaN       NaN       NaN       NaN  0.114583  \n",
       "12          NaN       NaN       NaN       NaN       NaN       NaN  0.125000  \n",
       "13          NaN       NaN       NaN       NaN       NaN       NaN  0.135417  \n",
       "14          NaN       NaN       NaN       NaN       NaN       NaN  0.145833  \n",
       "15          NaN       NaN       NaN       NaN       NaN       NaN  0.156250  \n",
       "16          NaN       NaN       NaN       NaN       NaN       NaN  0.166667  \n",
       "17          NaN       NaN       NaN       NaN       NaN       NaN  0.177083  \n",
       "18          NaN       NaN       NaN       NaN       NaN       NaN  0.187500  \n",
       "19          NaN       NaN       NaN       NaN       NaN       NaN  0.197917  \n",
       "20          NaN       NaN       NaN       NaN       NaN       NaN  0.208333  \n",
       "21          NaN       NaN       NaN       NaN       NaN       NaN  0.218750  \n",
       "22          NaN       NaN       NaN       NaN       NaN       NaN  0.229167  \n",
       "23          NaN       NaN       NaN       NaN       NaN       NaN  0.239583  \n",
       "24          NaN       NaN       NaN       NaN       NaN       NaN  0.250000  \n",
       "25          NaN       NaN       NaN       NaN       NaN       NaN  0.260417  \n",
       "26          NaN       NaN       NaN       NaN       NaN       NaN  0.270833  \n",
       "27          NaN       NaN       NaN       NaN       NaN       NaN  0.281250  \n",
       "28          NaN       NaN       NaN       NaN       NaN       NaN  0.291667  \n",
       "29          NaN       NaN       NaN       NaN       NaN       NaN  0.302083  \n",
       "...         ...       ...       ...       ...       ...       ...       ...  \n",
       "65273 -0.968671 -1.345940 -1.789663 -2.599979 -2.308506 -1.803585  0.927083  \n",
       "65274 -1.049562 -0.969984 -1.347578 -1.791684 -2.602698 -2.310974  0.937500  \n",
       "65275 -1.031111 -1.057745 -0.977733 -1.357388 -1.803918 -2.619359  0.947917  \n",
       "65276 -1.114751 -1.034668 -1.061369 -0.981156 -1.361765 -1.809417  0.958333  \n",
       "65277 -0.763585 -1.072355 -0.994482 -1.020446 -0.942445 -1.312554  0.968750  \n",
       "65278 -0.162802 -0.736475 -1.038817 -0.962565 -0.987989 -0.911612  0.979167  \n",
       "65279 -0.177299 -0.151660 -0.718232 -1.016832 -0.941523 -0.966632  0.989583  \n",
       "65280 -0.267789 -0.168918 -0.143506 -0.705059 -1.001014 -0.926373  0.000000  \n",
       "65281  0.094871 -0.243034 -0.147073 -0.122409 -0.667435 -0.954680  0.010417  \n",
       "65282  0.106135  0.107141 -0.222591 -0.128951 -0.104884 -0.636728  0.020833  \n",
       "65283  0.097737  0.120210  0.121193 -0.200631 -0.109236 -0.085746  0.031250  \n",
       "65284  0.113498  0.114448  0.136513  0.137478 -0.178509 -0.088772  0.041667  \n",
       "65285  0.430332  0.127377  0.128315  0.150100  0.151053 -0.160919  0.052083  \n",
       "65286  0.683315  0.439713  0.140958  0.141883  0.163366  0.164306  0.062500  \n",
       "65287  0.900343  0.692647  0.452144  0.157188  0.158101  0.179311  0.072917  \n",
       "65288  0.914098  0.907862  0.702085  0.463803  0.171571  0.172475  0.083333  \n",
       "65289  0.642974  0.921410  0.915196  0.710125  0.472660  0.181431  0.093750  \n",
       "65290  0.323878  0.651529  0.928904  0.922714  0.718424  0.481864  0.104167  \n",
       "65291  0.701767  0.335332  0.662685  0.939808  0.933622  0.729519  0.114583  \n",
       "65292  0.841120  0.715749  0.348752  0.676606  0.954154  0.947959  0.125000  \n",
       "65293  1.177309  0.859525  0.733743  0.365541  0.694471  0.972930  0.135417  \n",
       "65294  1.193661  1.197832  0.879274  0.753186  0.384088  0.713819  0.145833  \n",
       "65295  1.090582  1.208626  1.212788  0.894940  0.769133  0.400858  0.156250  \n",
       "65296  0.880112  1.100363  1.218147  1.222300  0.905153  0.779623  0.166667  \n",
       "65297  0.819354  0.895655  1.116241  1.234205  1.238364  0.920734  0.177083  \n",
       "65298  1.077574  0.836631  0.913196  1.134548  1.252921  1.257095  0.187500  \n",
       "65299  1.404445  1.102268  0.859347  0.936541  1.159710  1.279054  0.197917  \n",
       "65300  1.232414  1.432945  1.128260  0.883324  0.961158  1.186179  0.208333  \n",
       "65301  1.192353  1.257947  1.459718  1.153149  0.906697  0.985013  0.218750  \n",
       "65302  1.459667  1.212528  1.278383  1.480959  1.173167  0.925732  0.229167  \n",
       "\n",
       "[65303 rows x 121 columns]"
      ]
     },
     "execution_count": 37,
     "metadata": {},
     "output_type": "execute_result"
    }
   ],
   "source": [
    "indicator"
   ]
  },
  {
   "cell_type": "code",
   "execution_count": 40,
   "metadata": {
    "scrolled": true
   },
   "outputs": [
    {
     "data": {
      "text/plain": [
       "9426     1\n",
       "5677     2\n",
       "29453    2\n",
       "7496     2\n",
       "20308    2\n",
       "23312    0\n",
       "21096    0\n",
       "18413    1\n",
       "14773    0\n",
       "31009    2\n",
       "6261     2\n",
       "6200     0\n",
       "3121     2\n",
       "23137    2\n",
       "11811    0\n",
       "8834     1\n",
       "2486     0\n",
       "7471     2\n",
       "6357     2\n",
       "25975    2\n",
       "22959    2\n",
       "13425    0\n",
       "19770    1\n",
       "17360    0\n",
       "15114    2\n",
       "20501    2\n",
       "8112     0\n",
       "5673     0\n",
       "28317    2\n",
       "28665    2\n",
       "        ..\n",
       "8515     1\n",
       "26043    0\n",
       "17906    0\n",
       "19316    0\n",
       "10270    1\n",
       "28766    2\n",
       "32462    0\n",
       "20929    0\n",
       "13976    2\n",
       "24342    0\n",
       "9749     1\n",
       "4874     0\n",
       "19730    1\n",
       "25349    2\n",
       "25828    0\n",
       "22238    1\n",
       "28635    0\n",
       "32426    2\n",
       "32008    2\n",
       "28249    2\n",
       "1986     0\n",
       "11870    0\n",
       "19345    1\n",
       "8892     1\n",
       "11008    1\n",
       "16594    2\n",
       "3653     1\n",
       "21583    2\n",
       "18738    2\n",
       "29247    0\n",
       "Name: price, Length: 1000, dtype: category\n",
       "Categories (3, int64): [0 < 1 < 2]"
      ]
     },
     "execution_count": 40,
     "metadata": {},
     "output_type": "execute_result"
    }
   ],
   "source": [
    "exp_sample = d_exp.sample(1000)\n",
    "obj_sample = d_obj[exp_sample.index]\n",
    "obj_sample"
   ]
  },
  {
   "cell_type": "code",
   "execution_count": 41,
   "metadata": {
    "collapsed": true,
    "scrolled": true
   },
   "outputs": [],
   "source": [
    "model.to_cpu()\n",
    "exp_sample_data = np.array(exp_sample, dtype=np.float32)\n",
    "res = model.predictor(exp_sample_data)"
   ]
  },
  {
   "cell_type": "code",
   "execution_count": 42,
   "metadata": {
    "scrolled": true
   },
   "outputs": [
    {
     "data": {
      "text/html": [
       "<div>\n",
       "<style>\n",
       "    .dataframe thead tr:only-child th {\n",
       "        text-align: right;\n",
       "    }\n",
       "\n",
       "    .dataframe thead th {\n",
       "        text-align: left;\n",
       "    }\n",
       "\n",
       "    .dataframe tbody tr th {\n",
       "        vertical-align: top;\n",
       "    }\n",
       "</style>\n",
       "<table border=\"1\" class=\"dataframe\">\n",
       "  <thead>\n",
       "    <tr style=\"text-align: right;\">\n",
       "      <th></th>\n",
       "      <th>index</th>\n",
       "      <th>price</th>\n",
       "      <th>pred</th>\n",
       "    </tr>\n",
       "  </thead>\n",
       "  <tbody>\n",
       "    <tr>\n",
       "      <th>0</th>\n",
       "      <td>9426</td>\n",
       "      <td>1</td>\n",
       "      <td>0</td>\n",
       "    </tr>\n",
       "    <tr>\n",
       "      <th>1</th>\n",
       "      <td>5677</td>\n",
       "      <td>2</td>\n",
       "      <td>1</td>\n",
       "    </tr>\n",
       "    <tr>\n",
       "      <th>2</th>\n",
       "      <td>29453</td>\n",
       "      <td>2</td>\n",
       "      <td>2</td>\n",
       "    </tr>\n",
       "    <tr>\n",
       "      <th>3</th>\n",
       "      <td>7496</td>\n",
       "      <td>2</td>\n",
       "      <td>2</td>\n",
       "    </tr>\n",
       "    <tr>\n",
       "      <th>4</th>\n",
       "      <td>20308</td>\n",
       "      <td>2</td>\n",
       "      <td>2</td>\n",
       "    </tr>\n",
       "    <tr>\n",
       "      <th>5</th>\n",
       "      <td>23312</td>\n",
       "      <td>0</td>\n",
       "      <td>2</td>\n",
       "    </tr>\n",
       "    <tr>\n",
       "      <th>6</th>\n",
       "      <td>21096</td>\n",
       "      <td>0</td>\n",
       "      <td>0</td>\n",
       "    </tr>\n",
       "    <tr>\n",
       "      <th>7</th>\n",
       "      <td>18413</td>\n",
       "      <td>1</td>\n",
       "      <td>0</td>\n",
       "    </tr>\n",
       "    <tr>\n",
       "      <th>8</th>\n",
       "      <td>14773</td>\n",
       "      <td>0</td>\n",
       "      <td>1</td>\n",
       "    </tr>\n",
       "    <tr>\n",
       "      <th>9</th>\n",
       "      <td>31009</td>\n",
       "      <td>2</td>\n",
       "      <td>2</td>\n",
       "    </tr>\n",
       "    <tr>\n",
       "      <th>10</th>\n",
       "      <td>6261</td>\n",
       "      <td>2</td>\n",
       "      <td>2</td>\n",
       "    </tr>\n",
       "    <tr>\n",
       "      <th>11</th>\n",
       "      <td>6200</td>\n",
       "      <td>0</td>\n",
       "      <td>0</td>\n",
       "    </tr>\n",
       "    <tr>\n",
       "      <th>12</th>\n",
       "      <td>3121</td>\n",
       "      <td>2</td>\n",
       "      <td>2</td>\n",
       "    </tr>\n",
       "    <tr>\n",
       "      <th>13</th>\n",
       "      <td>23137</td>\n",
       "      <td>2</td>\n",
       "      <td>2</td>\n",
       "    </tr>\n",
       "    <tr>\n",
       "      <th>14</th>\n",
       "      <td>11811</td>\n",
       "      <td>0</td>\n",
       "      <td>0</td>\n",
       "    </tr>\n",
       "    <tr>\n",
       "      <th>15</th>\n",
       "      <td>8834</td>\n",
       "      <td>1</td>\n",
       "      <td>2</td>\n",
       "    </tr>\n",
       "    <tr>\n",
       "      <th>16</th>\n",
       "      <td>2486</td>\n",
       "      <td>0</td>\n",
       "      <td>2</td>\n",
       "    </tr>\n",
       "    <tr>\n",
       "      <th>17</th>\n",
       "      <td>7471</td>\n",
       "      <td>2</td>\n",
       "      <td>0</td>\n",
       "    </tr>\n",
       "    <tr>\n",
       "      <th>18</th>\n",
       "      <td>6357</td>\n",
       "      <td>2</td>\n",
       "      <td>2</td>\n",
       "    </tr>\n",
       "    <tr>\n",
       "      <th>19</th>\n",
       "      <td>25975</td>\n",
       "      <td>2</td>\n",
       "      <td>1</td>\n",
       "    </tr>\n",
       "    <tr>\n",
       "      <th>20</th>\n",
       "      <td>22959</td>\n",
       "      <td>2</td>\n",
       "      <td>1</td>\n",
       "    </tr>\n",
       "    <tr>\n",
       "      <th>21</th>\n",
       "      <td>13425</td>\n",
       "      <td>0</td>\n",
       "      <td>0</td>\n",
       "    </tr>\n",
       "    <tr>\n",
       "      <th>22</th>\n",
       "      <td>19770</td>\n",
       "      <td>1</td>\n",
       "      <td>1</td>\n",
       "    </tr>\n",
       "    <tr>\n",
       "      <th>23</th>\n",
       "      <td>17360</td>\n",
       "      <td>0</td>\n",
       "      <td>0</td>\n",
       "    </tr>\n",
       "    <tr>\n",
       "      <th>24</th>\n",
       "      <td>15114</td>\n",
       "      <td>2</td>\n",
       "      <td>0</td>\n",
       "    </tr>\n",
       "    <tr>\n",
       "      <th>25</th>\n",
       "      <td>20501</td>\n",
       "      <td>2</td>\n",
       "      <td>2</td>\n",
       "    </tr>\n",
       "    <tr>\n",
       "      <th>26</th>\n",
       "      <td>8112</td>\n",
       "      <td>0</td>\n",
       "      <td>0</td>\n",
       "    </tr>\n",
       "    <tr>\n",
       "      <th>27</th>\n",
       "      <td>5673</td>\n",
       "      <td>0</td>\n",
       "      <td>0</td>\n",
       "    </tr>\n",
       "    <tr>\n",
       "      <th>28</th>\n",
       "      <td>28317</td>\n",
       "      <td>2</td>\n",
       "      <td>1</td>\n",
       "    </tr>\n",
       "    <tr>\n",
       "      <th>29</th>\n",
       "      <td>28665</td>\n",
       "      <td>2</td>\n",
       "      <td>1</td>\n",
       "    </tr>\n",
       "    <tr>\n",
       "      <th>...</th>\n",
       "      <td>...</td>\n",
       "      <td>...</td>\n",
       "      <td>...</td>\n",
       "    </tr>\n",
       "    <tr>\n",
       "      <th>970</th>\n",
       "      <td>8515</td>\n",
       "      <td>1</td>\n",
       "      <td>0</td>\n",
       "    </tr>\n",
       "    <tr>\n",
       "      <th>971</th>\n",
       "      <td>26043</td>\n",
       "      <td>0</td>\n",
       "      <td>1</td>\n",
       "    </tr>\n",
       "    <tr>\n",
       "      <th>972</th>\n",
       "      <td>17906</td>\n",
       "      <td>0</td>\n",
       "      <td>0</td>\n",
       "    </tr>\n",
       "    <tr>\n",
       "      <th>973</th>\n",
       "      <td>19316</td>\n",
       "      <td>0</td>\n",
       "      <td>2</td>\n",
       "    </tr>\n",
       "    <tr>\n",
       "      <th>974</th>\n",
       "      <td>10270</td>\n",
       "      <td>1</td>\n",
       "      <td>2</td>\n",
       "    </tr>\n",
       "    <tr>\n",
       "      <th>975</th>\n",
       "      <td>28766</td>\n",
       "      <td>2</td>\n",
       "      <td>1</td>\n",
       "    </tr>\n",
       "    <tr>\n",
       "      <th>976</th>\n",
       "      <td>32462</td>\n",
       "      <td>0</td>\n",
       "      <td>0</td>\n",
       "    </tr>\n",
       "    <tr>\n",
       "      <th>977</th>\n",
       "      <td>20929</td>\n",
       "      <td>0</td>\n",
       "      <td>0</td>\n",
       "    </tr>\n",
       "    <tr>\n",
       "      <th>978</th>\n",
       "      <td>13976</td>\n",
       "      <td>2</td>\n",
       "      <td>2</td>\n",
       "    </tr>\n",
       "    <tr>\n",
       "      <th>979</th>\n",
       "      <td>24342</td>\n",
       "      <td>0</td>\n",
       "      <td>0</td>\n",
       "    </tr>\n",
       "    <tr>\n",
       "      <th>980</th>\n",
       "      <td>9749</td>\n",
       "      <td>1</td>\n",
       "      <td>2</td>\n",
       "    </tr>\n",
       "    <tr>\n",
       "      <th>981</th>\n",
       "      <td>4874</td>\n",
       "      <td>0</td>\n",
       "      <td>0</td>\n",
       "    </tr>\n",
       "    <tr>\n",
       "      <th>982</th>\n",
       "      <td>19730</td>\n",
       "      <td>1</td>\n",
       "      <td>2</td>\n",
       "    </tr>\n",
       "    <tr>\n",
       "      <th>983</th>\n",
       "      <td>25349</td>\n",
       "      <td>2</td>\n",
       "      <td>2</td>\n",
       "    </tr>\n",
       "    <tr>\n",
       "      <th>984</th>\n",
       "      <td>25828</td>\n",
       "      <td>0</td>\n",
       "      <td>1</td>\n",
       "    </tr>\n",
       "    <tr>\n",
       "      <th>985</th>\n",
       "      <td>22238</td>\n",
       "      <td>1</td>\n",
       "      <td>0</td>\n",
       "    </tr>\n",
       "    <tr>\n",
       "      <th>986</th>\n",
       "      <td>28635</td>\n",
       "      <td>0</td>\n",
       "      <td>0</td>\n",
       "    </tr>\n",
       "    <tr>\n",
       "      <th>987</th>\n",
       "      <td>32426</td>\n",
       "      <td>2</td>\n",
       "      <td>0</td>\n",
       "    </tr>\n",
       "    <tr>\n",
       "      <th>988</th>\n",
       "      <td>32008</td>\n",
       "      <td>2</td>\n",
       "      <td>2</td>\n",
       "    </tr>\n",
       "    <tr>\n",
       "      <th>989</th>\n",
       "      <td>28249</td>\n",
       "      <td>2</td>\n",
       "      <td>2</td>\n",
       "    </tr>\n",
       "    <tr>\n",
       "      <th>990</th>\n",
       "      <td>1986</td>\n",
       "      <td>0</td>\n",
       "      <td>0</td>\n",
       "    </tr>\n",
       "    <tr>\n",
       "      <th>991</th>\n",
       "      <td>11870</td>\n",
       "      <td>0</td>\n",
       "      <td>0</td>\n",
       "    </tr>\n",
       "    <tr>\n",
       "      <th>992</th>\n",
       "      <td>19345</td>\n",
       "      <td>1</td>\n",
       "      <td>2</td>\n",
       "    </tr>\n",
       "    <tr>\n",
       "      <th>993</th>\n",
       "      <td>8892</td>\n",
       "      <td>1</td>\n",
       "      <td>1</td>\n",
       "    </tr>\n",
       "    <tr>\n",
       "      <th>994</th>\n",
       "      <td>11008</td>\n",
       "      <td>1</td>\n",
       "      <td>0</td>\n",
       "    </tr>\n",
       "    <tr>\n",
       "      <th>995</th>\n",
       "      <td>16594</td>\n",
       "      <td>2</td>\n",
       "      <td>2</td>\n",
       "    </tr>\n",
       "    <tr>\n",
       "      <th>996</th>\n",
       "      <td>3653</td>\n",
       "      <td>1</td>\n",
       "      <td>1</td>\n",
       "    </tr>\n",
       "    <tr>\n",
       "      <th>997</th>\n",
       "      <td>21583</td>\n",
       "      <td>2</td>\n",
       "      <td>1</td>\n",
       "    </tr>\n",
       "    <tr>\n",
       "      <th>998</th>\n",
       "      <td>18738</td>\n",
       "      <td>2</td>\n",
       "      <td>0</td>\n",
       "    </tr>\n",
       "    <tr>\n",
       "      <th>999</th>\n",
       "      <td>29247</td>\n",
       "      <td>0</td>\n",
       "      <td>0</td>\n",
       "    </tr>\n",
       "  </tbody>\n",
       "</table>\n",
       "<p>1000 rows × 3 columns</p>\n",
       "</div>"
      ],
      "text/plain": [
       "     index price  pred\n",
       "0     9426     1     0\n",
       "1     5677     2     1\n",
       "2    29453     2     2\n",
       "3     7496     2     2\n",
       "4    20308     2     2\n",
       "5    23312     0     2\n",
       "6    21096     0     0\n",
       "7    18413     1     0\n",
       "8    14773     0     1\n",
       "9    31009     2     2\n",
       "10    6261     2     2\n",
       "11    6200     0     0\n",
       "12    3121     2     2\n",
       "13   23137     2     2\n",
       "14   11811     0     0\n",
       "15    8834     1     2\n",
       "16    2486     0     2\n",
       "17    7471     2     0\n",
       "18    6357     2     2\n",
       "19   25975     2     1\n",
       "20   22959     2     1\n",
       "21   13425     0     0\n",
       "22   19770     1     1\n",
       "23   17360     0     0\n",
       "24   15114     2     0\n",
       "25   20501     2     2\n",
       "26    8112     0     0\n",
       "27    5673     0     0\n",
       "28   28317     2     1\n",
       "29   28665     2     1\n",
       "..     ...   ...   ...\n",
       "970   8515     1     0\n",
       "971  26043     0     1\n",
       "972  17906     0     0\n",
       "973  19316     0     2\n",
       "974  10270     1     2\n",
       "975  28766     2     1\n",
       "976  32462     0     0\n",
       "977  20929     0     0\n",
       "978  13976     2     2\n",
       "979  24342     0     0\n",
       "980   9749     1     2\n",
       "981   4874     0     0\n",
       "982  19730     1     2\n",
       "983  25349     2     2\n",
       "984  25828     0     1\n",
       "985  22238     1     0\n",
       "986  28635     0     0\n",
       "987  32426     2     0\n",
       "988  32008     2     2\n",
       "989  28249     2     2\n",
       "990   1986     0     0\n",
       "991  11870     0     0\n",
       "992  19345     1     2\n",
       "993   8892     1     1\n",
       "994  11008     1     0\n",
       "995  16594     2     2\n",
       "996   3653     1     1\n",
       "997  21583     2     1\n",
       "998  18738     2     0\n",
       "999  29247     0     0\n",
       "\n",
       "[1000 rows x 3 columns]"
      ]
     },
     "execution_count": 42,
     "metadata": {},
     "output_type": "execute_result"
    }
   ],
   "source": [
    "result = obj_sample.reset_index()\n",
    "result['pred'] = res.data.argmax(axis=1)\n",
    "result"
   ]
  },
  {
   "cell_type": "code",
   "execution_count": 43,
   "metadata": {},
   "outputs": [
    {
     "data": {
      "text/plain": [
       "(570, 3)"
      ]
     },
     "execution_count": 43,
     "metadata": {},
     "output_type": "execute_result"
    }
   ],
   "source": [
    "result[result.price == result['pred']].shape"
   ]
  },
  {
   "cell_type": "code",
   "execution_count": 44,
   "metadata": {},
   "outputs": [
    {
     "data": {
      "text/plain": [
       "(106, 3)"
      ]
     },
     "execution_count": 44,
     "metadata": {},
     "output_type": "execute_result"
    }
   ],
   "source": [
    "result[(result.price - result['pred']).abs() == 2].shape"
   ]
  },
  {
   "cell_type": "code",
   "execution_count": 45,
   "metadata": {},
   "outputs": [
    {
     "data": {
      "text/plain": [
       "<__main__.MyChain at 0x10dd108f5f8>"
      ]
     },
     "execution_count": 45,
     "metadata": {},
     "output_type": "execute_result"
    }
   ],
   "source": [
    "model.predictor"
   ]
  },
  {
   "cell_type": "code",
   "execution_count": 46,
   "metadata": {
    "collapsed": true
   },
   "outputs": [],
   "source": [
    "serializers.save_npz('min30p552_500_2-1000_200_3.npz', model.predictor)"
   ]
  },
  {
   "cell_type": "code",
   "execution_count": 47,
   "metadata": {},
   "outputs": [
    {
     "data": {
      "text/plain": [
       "price  pred\n",
       "0      0       226\n",
       "       1        62\n",
       "       2        53\n",
       "1      0        93\n",
       "       1       114\n",
       "       2       110\n",
       "2      0        53\n",
       "       1        59\n",
       "       2       230\n",
       "dtype: int64"
      ]
     },
     "execution_count": 47,
     "metadata": {},
     "output_type": "execute_result"
    }
   ],
   "source": [
    "result.groupby(['price', 'pred']).size()"
   ]
  },
  {
   "cell_type": "code",
   "execution_count": 61,
   "metadata": {},
   "outputs": [
    {
     "data": {
      "text/plain": [
       "(0.00167, 0.104]         10869\n",
       "(4.51e-05, 0.000536]     10869\n",
       "(-0.00147, -0.000403]    10869\n",
       "(-0.117, -0.00147]       10869\n",
       "(0.000536, 0.00167]      10868\n",
       "(-0.000403, 4.51e-05]    10868\n",
       "Name: price, dtype: int64"
      ]
     },
     "execution_count": 61,
     "metadata": {},
     "output_type": "execute_result"
    }
   ],
   "source": [
    "diff = (price_history / price_history.shift() - 1).fillna(0)\n",
    "pd.qcut(diff, 6).value_counts()"
   ]
  },
  {
   "cell_type": "code",
   "execution_count": 64,
   "metadata": {
    "scrolled": true
   },
   "outputs": [
    {
     "data": {
      "text/plain": [
       "0        2\n",
       "1        4\n",
       "2        4\n",
       "3        5\n",
       "4        0\n",
       "5        4\n",
       "6        2\n",
       "7        2\n",
       "8        2\n",
       "9        0\n",
       "10       4\n",
       "11       3\n",
       "12       4\n",
       "13       1\n",
       "14       2\n",
       "15       2\n",
       "16       1\n",
       "17       3\n",
       "18       2\n",
       "19       2\n",
       "20       0\n",
       "21       5\n",
       "22       2\n",
       "23       1\n",
       "24       4\n",
       "25       1\n",
       "26       4\n",
       "27       2\n",
       "28       4\n",
       "29       1\n",
       "        ..\n",
       "65182    5\n",
       "65183    5\n",
       "65184    1\n",
       "65185    3\n",
       "65186    1\n",
       "65187    5\n",
       "65188    5\n",
       "65189    2\n",
       "65190    1\n",
       "65191    5\n",
       "65192    2\n",
       "65193    2\n",
       "65194    2\n",
       "65195    5\n",
       "65196    5\n",
       "65197    5\n",
       "65198    3\n",
       "65199    0\n",
       "65200    0\n",
       "65201    5\n",
       "65202    5\n",
       "65203    5\n",
       "65204    2\n",
       "65205    0\n",
       "65206    0\n",
       "65207    1\n",
       "65208    5\n",
       "65209    5\n",
       "65210    0\n",
       "65211    1\n",
       "Name: price, Length: 65212, dtype: category\n",
       "Categories (6, int64): [0 < 1 < 2 < 3 < 4 < 5]"
      ]
     },
     "execution_count": 64,
     "metadata": {},
     "output_type": "execute_result"
    }
   ],
   "source": [
    "pd.qcut(diff, 6, labels=list(range(6)))"
   ]
  },
  {
   "cell_type": "code",
   "execution_count": null,
   "metadata": {
    "collapsed": true
   },
   "outputs": [],
   "source": []
  }
 ],
 "metadata": {
  "kernelspec": {
   "display_name": "Python 3",
   "language": "python",
   "name": "python3"
  },
  "language_info": {
   "codemirror_mode": {
    "name": "ipython",
    "version": 3
   },
   "file_extension": ".py",
   "mimetype": "text/x-python",
   "name": "python",
   "nbconvert_exporter": "python",
   "pygments_lexer": "ipython3",
   "version": "3.6.3"
  }
 },
 "nbformat": 4,
 "nbformat_minor": 2
}
