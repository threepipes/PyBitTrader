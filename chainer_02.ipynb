{
 "cells": [
  {
   "cell_type": "code",
   "execution_count": 170,
   "metadata": {
    "collapsed": true
   },
   "outputs": [],
   "source": [
    "import numpy as np\n",
    "import pandas as pd\n",
    "import time\n",
    "import chainer\n",
    "from chainer import cuda, Function, gradient_check, report, training, utils, Variable\n",
    "from chainer import datasets, iterators, optimizers, serializers\n",
    "from chainer import Link, Chain, ChainList, cuda\n",
    "import chainer.functions as F\n",
    "import chainer.links as L\n",
    "from chainer.training import extensions\n",
    "from chaineripy.extensions import PrintReport, ProgressBar\n",
    "from database.TradeHistory import get_session, History\n",
    "from database.db_utils import get_recent_hist15_df\n",
    "\n",
    "session = get_session()"
   ]
  },
  {
   "cell_type": "code",
   "execution_count": 2,
   "metadata": {
    "collapsed": true
   },
   "outputs": [],
   "source": [
    "from matplotlib import pyplot as plt\n",
    "%matplotlib inline"
   ]
  },
  {
   "cell_type": "code",
   "execution_count": 58,
   "metadata": {
    "collapsed": true
   },
   "outputs": [],
   "source": [
    "def zs(p, n, shift=0):\n",
    "    return (p.shift(shift) - p.rolling(n).mean()) / p.rolling(n).std().replace(0, 1)\n",
    "\n",
    "\n",
    "def avg(p, n):\n",
    "    return p.rolling(n).mean()\n",
    "\n",
    "\n",
    "def std(p, n):\n",
    "    return p.rolling(n).std()"
   ]
  },
  {
   "cell_type": "code",
   "execution_count": 177,
   "metadata": {},
   "outputs": [
    {
     "name": "stdout",
     "output_type": "stream",
     "text": [
      "loading from db\n",
      "loaded from db: 1.647327s\n"
     ]
    }
   ],
   "source": [
    "start = time.time()\n",
    "print('loading from db')\n",
    "df = pd.read_sql_query('select * from history15min', session.bind)\n",
    "print('loaded from db: %fs' % (time.time() - start))\n",
    "df.exec_date = pd.to_datetime(df.exec_date)\n",
    "df = df.set_index('exec_date')\n",
    "df = df.loc['2016-03':]"
   ]
  },
  {
   "cell_type": "code",
   "execution_count": 178,
   "metadata": {
    "scrolled": true
   },
   "outputs": [
    {
     "data": {
      "text/html": [
       "<div>\n",
       "<style>\n",
       "    .dataframe thead tr:only-child th {\n",
       "        text-align: right;\n",
       "    }\n",
       "\n",
       "    .dataframe thead th {\n",
       "        text-align: left;\n",
       "    }\n",
       "\n",
       "    .dataframe tbody tr th {\n",
       "        vertical-align: top;\n",
       "    }\n",
       "</style>\n",
       "<table border=\"1\" class=\"dataframe\">\n",
       "  <thead>\n",
       "    <tr style=\"text-align: right;\">\n",
       "      <th></th>\n",
       "      <th>price</th>\n",
       "      <th>size</th>\n",
       "    </tr>\n",
       "    <tr>\n",
       "      <th>exec_date</th>\n",
       "      <th></th>\n",
       "      <th></th>\n",
       "    </tr>\n",
       "  </thead>\n",
       "  <tbody>\n",
       "    <tr>\n",
       "      <th>2016-03-01 00:00:00</th>\n",
       "      <td>4.994609e+04</td>\n",
       "      <td>25.987227</td>\n",
       "    </tr>\n",
       "    <tr>\n",
       "      <th>2016-03-01 00:15:00</th>\n",
       "      <td>4.998313e+04</td>\n",
       "      <td>15.549000</td>\n",
       "    </tr>\n",
       "    <tr>\n",
       "      <th>2016-03-01 00:30:00</th>\n",
       "      <td>5.001167e+04</td>\n",
       "      <td>51.568395</td>\n",
       "    </tr>\n",
       "    <tr>\n",
       "      <th>2016-03-01 00:45:00</th>\n",
       "      <td>5.011319e+04</td>\n",
       "      <td>4.485000</td>\n",
       "    </tr>\n",
       "    <tr>\n",
       "      <th>2016-03-01 01:00:00</th>\n",
       "      <td>4.989262e+04</td>\n",
       "      <td>30.907859</td>\n",
       "    </tr>\n",
       "    <tr>\n",
       "      <th>2016-03-01 01:15:00</th>\n",
       "      <td>4.992312e+04</td>\n",
       "      <td>16.026564</td>\n",
       "    </tr>\n",
       "    <tr>\n",
       "      <th>2016-03-01 01:30:00</th>\n",
       "      <td>4.991145e+04</td>\n",
       "      <td>6.549000</td>\n",
       "    </tr>\n",
       "    <tr>\n",
       "      <th>2016-03-01 01:45:00</th>\n",
       "      <td>4.989500e+04</td>\n",
       "      <td>5.048000</td>\n",
       "    </tr>\n",
       "    <tr>\n",
       "      <th>2016-03-01 02:00:00</th>\n",
       "      <td>4.989188e+04</td>\n",
       "      <td>34.441220</td>\n",
       "    </tr>\n",
       "    <tr>\n",
       "      <th>2016-03-01 02:15:00</th>\n",
       "      <td>4.973135e+04</td>\n",
       "      <td>70.924000</td>\n",
       "    </tr>\n",
       "    <tr>\n",
       "      <th>2016-03-01 02:30:00</th>\n",
       "      <td>4.977133e+04</td>\n",
       "      <td>40.279800</td>\n",
       "    </tr>\n",
       "    <tr>\n",
       "      <th>2016-03-01 02:45:00</th>\n",
       "      <td>4.977708e+04</td>\n",
       "      <td>8.510941</td>\n",
       "    </tr>\n",
       "    <tr>\n",
       "      <th>2016-03-01 03:00:00</th>\n",
       "      <td>4.984455e+04</td>\n",
       "      <td>20.816200</td>\n",
       "    </tr>\n",
       "    <tr>\n",
       "      <th>2016-03-01 03:15:00</th>\n",
       "      <td>4.978238e+04</td>\n",
       "      <td>27.926200</td>\n",
       "    </tr>\n",
       "    <tr>\n",
       "      <th>2016-03-01 03:30:00</th>\n",
       "      <td>4.978328e+04</td>\n",
       "      <td>13.001800</td>\n",
       "    </tr>\n",
       "    <tr>\n",
       "      <th>2016-03-01 03:45:00</th>\n",
       "      <td>4.978029e+04</td>\n",
       "      <td>21.240773</td>\n",
       "    </tr>\n",
       "    <tr>\n",
       "      <th>2016-03-01 04:00:00</th>\n",
       "      <td>4.975326e+04</td>\n",
       "      <td>1.514000</td>\n",
       "    </tr>\n",
       "    <tr>\n",
       "      <th>2016-03-01 04:15:00</th>\n",
       "      <td>4.976352e+04</td>\n",
       "      <td>11.892000</td>\n",
       "    </tr>\n",
       "    <tr>\n",
       "      <th>2016-03-01 04:30:00</th>\n",
       "      <td>4.974525e+04</td>\n",
       "      <td>16.775000</td>\n",
       "    </tr>\n",
       "    <tr>\n",
       "      <th>2016-03-01 04:45:00</th>\n",
       "      <td>4.972840e+04</td>\n",
       "      <td>7.243000</td>\n",
       "    </tr>\n",
       "    <tr>\n",
       "      <th>2016-03-01 05:00:00</th>\n",
       "      <td>4.964846e+04</td>\n",
       "      <td>44.642900</td>\n",
       "    </tr>\n",
       "    <tr>\n",
       "      <th>2016-03-01 05:15:00</th>\n",
       "      <td>4.974708e+04</td>\n",
       "      <td>56.663300</td>\n",
       "    </tr>\n",
       "    <tr>\n",
       "      <th>2016-03-01 05:30:00</th>\n",
       "      <td>4.974160e+04</td>\n",
       "      <td>20.590500</td>\n",
       "    </tr>\n",
       "    <tr>\n",
       "      <th>2016-03-01 05:45:00</th>\n",
       "      <td>4.971163e+04</td>\n",
       "      <td>23.716000</td>\n",
       "    </tr>\n",
       "    <tr>\n",
       "      <th>2016-03-01 06:00:00</th>\n",
       "      <td>4.974042e+04</td>\n",
       "      <td>30.975500</td>\n",
       "    </tr>\n",
       "    <tr>\n",
       "      <th>2016-03-01 06:15:00</th>\n",
       "      <td>4.969849e+04</td>\n",
       "      <td>24.957000</td>\n",
       "    </tr>\n",
       "    <tr>\n",
       "      <th>2016-03-01 06:30:00</th>\n",
       "      <td>4.974602e+04</td>\n",
       "      <td>18.887900</td>\n",
       "    </tr>\n",
       "    <tr>\n",
       "      <th>2016-03-01 06:45:00</th>\n",
       "      <td>4.973829e+04</td>\n",
       "      <td>27.318800</td>\n",
       "    </tr>\n",
       "    <tr>\n",
       "      <th>2016-03-01 07:00:00</th>\n",
       "      <td>4.981818e+04</td>\n",
       "      <td>20.500000</td>\n",
       "    </tr>\n",
       "    <tr>\n",
       "      <th>2016-03-01 07:15:00</th>\n",
       "      <td>4.979404e+04</td>\n",
       "      <td>19.140000</td>\n",
       "    </tr>\n",
       "    <tr>\n",
       "      <th>...</th>\n",
       "      <td>...</td>\n",
       "      <td>...</td>\n",
       "    </tr>\n",
       "    <tr>\n",
       "      <th>2018-01-13 11:30:00</th>\n",
       "      <td>1.705051e+06</td>\n",
       "      <td>57.253646</td>\n",
       "    </tr>\n",
       "    <tr>\n",
       "      <th>2018-01-13 11:45:00</th>\n",
       "      <td>1.710104e+06</td>\n",
       "      <td>71.359044</td>\n",
       "    </tr>\n",
       "    <tr>\n",
       "      <th>2018-01-13 12:00:00</th>\n",
       "      <td>1.714587e+06</td>\n",
       "      <td>92.922234</td>\n",
       "    </tr>\n",
       "    <tr>\n",
       "      <th>2018-01-13 12:15:00</th>\n",
       "      <td>1.718919e+06</td>\n",
       "      <td>125.287093</td>\n",
       "    </tr>\n",
       "    <tr>\n",
       "      <th>2018-01-13 12:30:00</th>\n",
       "      <td>1.726458e+06</td>\n",
       "      <td>244.111661</td>\n",
       "    </tr>\n",
       "    <tr>\n",
       "      <th>2018-01-13 12:45:00</th>\n",
       "      <td>1.728860e+06</td>\n",
       "      <td>184.986617</td>\n",
       "    </tr>\n",
       "    <tr>\n",
       "      <th>2018-01-13 13:00:00</th>\n",
       "      <td>1.739308e+06</td>\n",
       "      <td>205.601505</td>\n",
       "    </tr>\n",
       "    <tr>\n",
       "      <th>2018-01-13 13:15:00</th>\n",
       "      <td>1.740990e+06</td>\n",
       "      <td>218.436054</td>\n",
       "    </tr>\n",
       "    <tr>\n",
       "      <th>2018-01-13 13:30:00</th>\n",
       "      <td>1.750461e+06</td>\n",
       "      <td>300.747932</td>\n",
       "    </tr>\n",
       "    <tr>\n",
       "      <th>2018-01-13 13:45:00</th>\n",
       "      <td>1.742162e+06</td>\n",
       "      <td>222.191006</td>\n",
       "    </tr>\n",
       "    <tr>\n",
       "      <th>2018-01-13 14:00:00</th>\n",
       "      <td>1.743020e+06</td>\n",
       "      <td>168.146310</td>\n",
       "    </tr>\n",
       "    <tr>\n",
       "      <th>2018-01-13 14:15:00</th>\n",
       "      <td>1.735013e+06</td>\n",
       "      <td>92.801804</td>\n",
       "    </tr>\n",
       "    <tr>\n",
       "      <th>2018-01-13 14:30:00</th>\n",
       "      <td>1.726273e+06</td>\n",
       "      <td>119.709384</td>\n",
       "    </tr>\n",
       "    <tr>\n",
       "      <th>2018-01-13 14:45:00</th>\n",
       "      <td>1.727407e+06</td>\n",
       "      <td>108.790756</td>\n",
       "    </tr>\n",
       "    <tr>\n",
       "      <th>2018-01-13 15:00:00</th>\n",
       "      <td>1.724117e+06</td>\n",
       "      <td>207.627386</td>\n",
       "    </tr>\n",
       "    <tr>\n",
       "      <th>2018-01-13 15:15:00</th>\n",
       "      <td>1.725165e+06</td>\n",
       "      <td>62.869701</td>\n",
       "    </tr>\n",
       "    <tr>\n",
       "      <th>2018-01-13 15:30:00</th>\n",
       "      <td>1.728081e+06</td>\n",
       "      <td>74.768338</td>\n",
       "    </tr>\n",
       "    <tr>\n",
       "      <th>2018-01-13 15:45:00</th>\n",
       "      <td>1.726594e+06</td>\n",
       "      <td>24.311464</td>\n",
       "    </tr>\n",
       "    <tr>\n",
       "      <th>2018-01-13 16:00:00</th>\n",
       "      <td>1.731757e+06</td>\n",
       "      <td>74.094004</td>\n",
       "    </tr>\n",
       "    <tr>\n",
       "      <th>2018-01-13 16:15:00</th>\n",
       "      <td>1.733573e+06</td>\n",
       "      <td>36.439659</td>\n",
       "    </tr>\n",
       "    <tr>\n",
       "      <th>2018-01-13 16:30:00</th>\n",
       "      <td>1.734911e+06</td>\n",
       "      <td>70.341227</td>\n",
       "    </tr>\n",
       "    <tr>\n",
       "      <th>2018-01-13 16:45:00</th>\n",
       "      <td>1.731352e+06</td>\n",
       "      <td>45.509480</td>\n",
       "    </tr>\n",
       "    <tr>\n",
       "      <th>2018-01-13 17:00:00</th>\n",
       "      <td>1.729859e+06</td>\n",
       "      <td>52.079577</td>\n",
       "    </tr>\n",
       "    <tr>\n",
       "      <th>2018-01-13 17:15:00</th>\n",
       "      <td>1.729073e+06</td>\n",
       "      <td>52.262453</td>\n",
       "    </tr>\n",
       "    <tr>\n",
       "      <th>2018-01-13 17:30:00</th>\n",
       "      <td>1.731786e+06</td>\n",
       "      <td>29.296092</td>\n",
       "    </tr>\n",
       "    <tr>\n",
       "      <th>2018-01-13 17:45:00</th>\n",
       "      <td>1.736775e+06</td>\n",
       "      <td>40.223065</td>\n",
       "    </tr>\n",
       "    <tr>\n",
       "      <th>2018-01-13 18:00:00</th>\n",
       "      <td>1.741708e+06</td>\n",
       "      <td>61.887951</td>\n",
       "    </tr>\n",
       "    <tr>\n",
       "      <th>2018-01-13 18:15:00</th>\n",
       "      <td>1.738981e+06</td>\n",
       "      <td>39.839328</td>\n",
       "    </tr>\n",
       "    <tr>\n",
       "      <th>2018-01-13 18:30:00</th>\n",
       "      <td>1.743527e+06</td>\n",
       "      <td>96.744767</td>\n",
       "    </tr>\n",
       "    <tr>\n",
       "      <th>2018-01-13 18:45:00</th>\n",
       "      <td>1.741046e+06</td>\n",
       "      <td>56.879500</td>\n",
       "    </tr>\n",
       "  </tbody>\n",
       "</table>\n",
       "<p>65644 rows × 2 columns</p>\n",
       "</div>"
      ],
      "text/plain": [
       "                            price        size\n",
       "exec_date                                    \n",
       "2016-03-01 00:00:00  4.994609e+04   25.987227\n",
       "2016-03-01 00:15:00  4.998313e+04   15.549000\n",
       "2016-03-01 00:30:00  5.001167e+04   51.568395\n",
       "2016-03-01 00:45:00  5.011319e+04    4.485000\n",
       "2016-03-01 01:00:00  4.989262e+04   30.907859\n",
       "2016-03-01 01:15:00  4.992312e+04   16.026564\n",
       "2016-03-01 01:30:00  4.991145e+04    6.549000\n",
       "2016-03-01 01:45:00  4.989500e+04    5.048000\n",
       "2016-03-01 02:00:00  4.989188e+04   34.441220\n",
       "2016-03-01 02:15:00  4.973135e+04   70.924000\n",
       "2016-03-01 02:30:00  4.977133e+04   40.279800\n",
       "2016-03-01 02:45:00  4.977708e+04    8.510941\n",
       "2016-03-01 03:00:00  4.984455e+04   20.816200\n",
       "2016-03-01 03:15:00  4.978238e+04   27.926200\n",
       "2016-03-01 03:30:00  4.978328e+04   13.001800\n",
       "2016-03-01 03:45:00  4.978029e+04   21.240773\n",
       "2016-03-01 04:00:00  4.975326e+04    1.514000\n",
       "2016-03-01 04:15:00  4.976352e+04   11.892000\n",
       "2016-03-01 04:30:00  4.974525e+04   16.775000\n",
       "2016-03-01 04:45:00  4.972840e+04    7.243000\n",
       "2016-03-01 05:00:00  4.964846e+04   44.642900\n",
       "2016-03-01 05:15:00  4.974708e+04   56.663300\n",
       "2016-03-01 05:30:00  4.974160e+04   20.590500\n",
       "2016-03-01 05:45:00  4.971163e+04   23.716000\n",
       "2016-03-01 06:00:00  4.974042e+04   30.975500\n",
       "2016-03-01 06:15:00  4.969849e+04   24.957000\n",
       "2016-03-01 06:30:00  4.974602e+04   18.887900\n",
       "2016-03-01 06:45:00  4.973829e+04   27.318800\n",
       "2016-03-01 07:00:00  4.981818e+04   20.500000\n",
       "2016-03-01 07:15:00  4.979404e+04   19.140000\n",
       "...                           ...         ...\n",
       "2018-01-13 11:30:00  1.705051e+06   57.253646\n",
       "2018-01-13 11:45:00  1.710104e+06   71.359044\n",
       "2018-01-13 12:00:00  1.714587e+06   92.922234\n",
       "2018-01-13 12:15:00  1.718919e+06  125.287093\n",
       "2018-01-13 12:30:00  1.726458e+06  244.111661\n",
       "2018-01-13 12:45:00  1.728860e+06  184.986617\n",
       "2018-01-13 13:00:00  1.739308e+06  205.601505\n",
       "2018-01-13 13:15:00  1.740990e+06  218.436054\n",
       "2018-01-13 13:30:00  1.750461e+06  300.747932\n",
       "2018-01-13 13:45:00  1.742162e+06  222.191006\n",
       "2018-01-13 14:00:00  1.743020e+06  168.146310\n",
       "2018-01-13 14:15:00  1.735013e+06   92.801804\n",
       "2018-01-13 14:30:00  1.726273e+06  119.709384\n",
       "2018-01-13 14:45:00  1.727407e+06  108.790756\n",
       "2018-01-13 15:00:00  1.724117e+06  207.627386\n",
       "2018-01-13 15:15:00  1.725165e+06   62.869701\n",
       "2018-01-13 15:30:00  1.728081e+06   74.768338\n",
       "2018-01-13 15:45:00  1.726594e+06   24.311464\n",
       "2018-01-13 16:00:00  1.731757e+06   74.094004\n",
       "2018-01-13 16:15:00  1.733573e+06   36.439659\n",
       "2018-01-13 16:30:00  1.734911e+06   70.341227\n",
       "2018-01-13 16:45:00  1.731352e+06   45.509480\n",
       "2018-01-13 17:00:00  1.729859e+06   52.079577\n",
       "2018-01-13 17:15:00  1.729073e+06   52.262453\n",
       "2018-01-13 17:30:00  1.731786e+06   29.296092\n",
       "2018-01-13 17:45:00  1.736775e+06   40.223065\n",
       "2018-01-13 18:00:00  1.741708e+06   61.887951\n",
       "2018-01-13 18:15:00  1.738981e+06   39.839328\n",
       "2018-01-13 18:30:00  1.743527e+06   96.744767\n",
       "2018-01-13 18:45:00  1.741046e+06   56.879500\n",
       "\n",
       "[65644 rows x 2 columns]"
      ]
     },
     "execution_count": 178,
     "metadata": {},
     "output_type": "execute_result"
    }
   ],
   "source": [
    "df"
   ]
  },
  {
   "cell_type": "code",
   "execution_count": 179,
   "metadata": {},
   "outputs": [],
   "source": [
    "# bench_price = df.price\n",
    "# bench_size = df['size']\n",
    "dfb = df\n",
    "\n",
    "p = dfb.price\n",
    "v = dfb['size']\n",
    "\n",
    "dfb['pma12'] = zs(p / avg(p, 12) - 1, 96)\n",
    "dfb['pma96'] = zs(p / avg(p, 96) - 1, 96)\n",
    "dfb['pma672'] = zs(p / avg(p, 672) - 1, 96)\n",
    "\n",
    "dfb['ma4_36'] = zs(avg(p, 4) / avg(p, 36) - 1, 96)\n",
    "dfb['ma12_96'] = zs(avg(p, 12) / avg(p, 96) - 1, 96)\n",
    "dfb['ac12_12'] = zs((p / avg(p, 12)) / avg(p / avg(p, 12), 12), 96)\n",
    "dfb['ac96_96'] = zs((p / avg(p, 96)) / avg(p / avg(p, 96), 12), 96)\n",
    "\n",
    "dfb['vma12'] = zs(v / avg(v, 12) - 1, 96)\n",
    "dfb['vma96'] = zs(v / avg(v, 96) - 1, 96)\n",
    "dfb['vma672'] = zs(v / avg(v, 672) - 1, 96)\n",
    "\n",
    "dfb['vZ12'] = zs(v, 12)\n",
    "dfb['vZ96'] = zs(v, 96)\n",
    "dfb['vZ672'] = zs(v, 672)\n",
    "\n",
    "r_label_list = [\n",
    "    'r', 'r_1', 'r_2',\n",
    "]\n",
    "for r_label in r_label_list:\n",
    "    dfb[r_label] = 0\n",
    "dfb['state'] = 0\n",
    "\n",
    "dfb['pZ12'] = zs(p, 12)\n",
    "dfb['pZ96'] = zs(p, 96)\n",
    "dfb['vol12'] = zs(std(p, 12), 96)\n",
    "dfb['vol96'] = zs(std(p, 96), 96)\n",
    "dfb['vol672'] = zs(std(p, 672), 96)\n",
    "dfb['dv12_96'] = zs(std(p, 12) / avg(std(p, 12), 96), 96)\n",
    "dfb['dv96_672'] = zs(std(p, 96) / avg(std(p, 96), 672), 96)\n",
    "\n",
    "for i in range(96):\n",
    "    dfb['pZ96_s%02d' % i] = zs(p, 96, shift=i)\n",
    "    \n",
    "dfb['pre_diff'] = p / p.shift(1) - 1\n",
    "\n",
    "dfb['max_diff12'] = p / p.rolling(12).max() - 1\n",
    "dfb['max_diff96'] = p / p.rolling(96).max() - 1\n",
    "dfb['max_diff672'] = p / p.rolling(672).max() - 1\n",
    "\n",
    "dfb['min_diff12'] = p / p.rolling(12).min() - 1\n",
    "dfb['min_diff96'] = p / p.rolling(96).min() - 1\n",
    "dfb['min_diff672'] = p / p.rolling(672).min() - 1\n",
    "\n",
    "dfb['utctime'] = (dfb.index.hour * 4 + dfb.index.minute / 15) / 96\n",
    "\n",
    "dfz = dfb\n",
    "\n",
    "indicator = dfz.reset_index().loc[:, 'pma12':'utctime']\n",
    "price_history = dfz.reset_index().price\n",
    "\n",
    "indicator['vma12'] = indicator.vma12.fillna(0)\n",
    "indicator['vZ12'] = indicator.vZ12.fillna(0)"
   ]
  },
  {
   "cell_type": "code",
   "execution_count": 180,
   "metadata": {
    "scrolled": true
   },
   "outputs": [
    {
     "data": {
      "text/plain": [
       "0        2\n",
       "1        2\n",
       "2        2\n",
       "3        0\n",
       "4        2\n",
       "5        1\n",
       "6        1\n",
       "7        1\n",
       "8        0\n",
       "9        2\n",
       "10       1\n",
       "11       2\n",
       "12       0\n",
       "13       1\n",
       "14       1\n",
       "15       0\n",
       "16       1\n",
       "17       1\n",
       "18       1\n",
       "19       0\n",
       "20       2\n",
       "21       1\n",
       "22       0\n",
       "23       2\n",
       "24       0\n",
       "25       2\n",
       "26       1\n",
       "27       2\n",
       "28       0\n",
       "29       0\n",
       "        ..\n",
       "65614    2\n",
       "65615    2\n",
       "65616    2\n",
       "65617    2\n",
       "65618    2\n",
       "65619    2\n",
       "65620    2\n",
       "65621    2\n",
       "65622    0\n",
       "65623    1\n",
       "65624    0\n",
       "65625    0\n",
       "65626    2\n",
       "65627    0\n",
       "65628    2\n",
       "65629    2\n",
       "65630    0\n",
       "65631    2\n",
       "65632    2\n",
       "65633    2\n",
       "65634    0\n",
       "65635    0\n",
       "65636    0\n",
       "65637    2\n",
       "65638    2\n",
       "65639    2\n",
       "65640    0\n",
       "65641    2\n",
       "65642    0\n",
       "65643    1\n",
       "Name: price, Length: 65644, dtype: category\n",
       "Categories (3, int64): [0 < 1 < 2]"
      ]
     },
     "execution_count": 180,
     "metadata": {},
     "output_type": "execute_result"
    }
   ],
   "source": [
    "answer = price_history.shift(-1) / price_history - 1\n",
    "answer = pd.qcut(answer, 3, labels=list(range(3))).fillna(1)\n",
    "answer"
   ]
  },
  {
   "cell_type": "code",
   "execution_count": 120,
   "metadata": {
    "scrolled": true
   },
   "outputs": [
    {
     "data": {
      "text/plain": [
       "0       -0.001019\n",
       "1        0.002447\n",
       "2       -0.001928\n",
       "3       -0.000754\n",
       "4       -0.002298\n",
       "5       -0.004137\n",
       "6       -0.000281\n",
       "7        0.002951\n",
       "8       -0.003377\n",
       "9       -0.001126\n",
       "10      -0.001242\n",
       "11       0.004284\n",
       "12      -0.000676\n",
       "13      -0.000015\n",
       "14       0.003209\n",
       "15       0.001605\n",
       "16       0.001228\n",
       "17      -0.000661\n",
       "18      -0.000980\n",
       "19       0.000950\n",
       "20       0.001359\n",
       "21      -0.000203\n",
       "22      -0.001154\n",
       "23       0.000880\n",
       "24       0.001716\n",
       "25       0.000111\n",
       "26       0.000089\n",
       "27       0.000010\n",
       "28      -0.001486\n",
       "29      -0.000839\n",
       "           ...   \n",
       "50823    0.007900\n",
       "50824    0.013196\n",
       "50825   -0.000741\n",
       "50826   -0.000780\n",
       "50827    0.000450\n",
       "50828    0.007736\n",
       "50829   -0.002217\n",
       "50830   -0.000228\n",
       "50831   -0.007786\n",
       "50832   -0.000784\n",
       "50833    0.000139\n",
       "50834    0.004287\n",
       "50835   -0.000509\n",
       "50836   -0.002169\n",
       "50837    0.002543\n",
       "50838   -0.007026\n",
       "50839   -0.003900\n",
       "50840   -0.003537\n",
       "50841    0.001525\n",
       "50842    0.003101\n",
       "50843   -0.002957\n",
       "50844   -0.005194\n",
       "50845   -0.005393\n",
       "50846    0.000735\n",
       "50847    0.004195\n",
       "50848   -0.009259\n",
       "50849   -0.002156\n",
       "50850   -0.002268\n",
       "50851   -0.005595\n",
       "50852         NaN\n",
       "Name: price, Length: 50853, dtype: float64"
      ]
     },
     "execution_count": 120,
     "metadata": {},
     "output_type": "execute_result"
    }
   ],
   "source": [
    "price_history.shift(-1) / price_history - 1"
   ]
  },
  {
   "cell_type": "code",
   "execution_count": 181,
   "metadata": {},
   "outputs": [
    {
     "data": {
      "text/plain": [
       "(0.000538, 0.104]        21881\n",
       "(-0.000407, 0.000538]    21881\n",
       "(-0.118, -0.000407]      21881\n",
       "Name: price, dtype: int64"
      ]
     },
     "execution_count": 181,
     "metadata": {},
     "output_type": "execute_result"
    }
   ],
   "source": [
    "pd.qcut(price_history.shift(-1) / price_history - 1, 3).value_counts()"
   ]
  },
  {
   "cell_type": "code",
   "execution_count": 182,
   "metadata": {
    "collapsed": true
   },
   "outputs": [],
   "source": [
    "indexer = indicator.dv96_672.notnull()"
   ]
  },
  {
   "cell_type": "code",
   "execution_count": 183,
   "metadata": {
    "collapsed": true
   },
   "outputs": [],
   "source": [
    "xp = cuda.cupy\n",
    "\n",
    "d_exp = indicator.loc[indexer].reset_index(drop=True)\n",
    "d_obj = answer[indexer].reset_index(drop=True)\n",
    "\n",
    "border = d_exp.index[-600]\n",
    "# last = d_exp.index[-200]\n",
    "test_exp = d_exp[border:]\n",
    "test_obj = d_obj[border:]\n",
    "d_exp = d_exp[:border]\n",
    "d_obj = d_obj[:border]\n",
    "\n",
    "data = xp.array(d_exp, dtype=xp.float32)\n",
    "t_data = xp.array(d_obj, dtype=xp.int32)\n",
    "data_test = xp.array(test_exp, dtype=xp.float32)\n",
    "t_data_test = xp.array(test_obj, dtype=xp.int32)"
   ]
  },
  {
   "cell_type": "code",
   "execution_count": 67,
   "metadata": {
    "scrolled": true
   },
   "outputs": [],
   "source": [
    "d_exp.describe().to_csv('tmp.csv')"
   ]
  },
  {
   "cell_type": "code",
   "execution_count": 13,
   "metadata": {
    "scrolled": true
   },
   "outputs": [
    {
     "data": {
      "text/html": [
       "<div>\n",
       "<style>\n",
       "    .dataframe thead tr:only-child th {\n",
       "        text-align: right;\n",
       "    }\n",
       "\n",
       "    .dataframe thead th {\n",
       "        text-align: left;\n",
       "    }\n",
       "\n",
       "    .dataframe tbody tr th {\n",
       "        vertical-align: top;\n",
       "    }\n",
       "</style>\n",
       "<table border=\"1\" class=\"dataframe\">\n",
       "  <thead>\n",
       "    <tr style=\"text-align: right;\">\n",
       "      <th></th>\n",
       "      <th>price</th>\n",
       "      <th>size</th>\n",
       "      <th>pma12</th>\n",
       "      <th>pma96</th>\n",
       "      <th>pma672</th>\n",
       "      <th>ma4_36</th>\n",
       "      <th>ma12_96</th>\n",
       "      <th>ac12_12</th>\n",
       "      <th>ac96_96</th>\n",
       "      <th>vma12</th>\n",
       "      <th>...</th>\n",
       "      <th>pZ96_s87</th>\n",
       "      <th>pZ96_s88</th>\n",
       "      <th>pZ96_s89</th>\n",
       "      <th>pZ96_s90</th>\n",
       "      <th>pZ96_s91</th>\n",
       "      <th>pZ96_s92</th>\n",
       "      <th>pZ96_s93</th>\n",
       "      <th>pZ96_s94</th>\n",
       "      <th>pZ96_s95</th>\n",
       "      <th>utctime</th>\n",
       "    </tr>\n",
       "  </thead>\n",
       "  <tbody>\n",
       "    <tr>\n",
       "      <th>False</th>\n",
       "      <td>65506.0</td>\n",
       "      <td>65506.0</td>\n",
       "      <td>65400</td>\n",
       "      <td>65316</td>\n",
       "      <td>64740</td>\n",
       "      <td>65376</td>\n",
       "      <td>65316</td>\n",
       "      <td>65389</td>\n",
       "      <td>65305</td>\n",
       "      <td>65400</td>\n",
       "      <td>...</td>\n",
       "      <td>65411</td>\n",
       "      <td>65411</td>\n",
       "      <td>65411</td>\n",
       "      <td>65411</td>\n",
       "      <td>65411</td>\n",
       "      <td>65411</td>\n",
       "      <td>65411</td>\n",
       "      <td>65411</td>\n",
       "      <td>65411</td>\n",
       "      <td>65506.0</td>\n",
       "    </tr>\n",
       "    <tr>\n",
       "      <th>True</th>\n",
       "      <td>NaN</td>\n",
       "      <td>NaN</td>\n",
       "      <td>106</td>\n",
       "      <td>190</td>\n",
       "      <td>766</td>\n",
       "      <td>130</td>\n",
       "      <td>190</td>\n",
       "      <td>117</td>\n",
       "      <td>201</td>\n",
       "      <td>106</td>\n",
       "      <td>...</td>\n",
       "      <td>95</td>\n",
       "      <td>95</td>\n",
       "      <td>95</td>\n",
       "      <td>95</td>\n",
       "      <td>95</td>\n",
       "      <td>95</td>\n",
       "      <td>95</td>\n",
       "      <td>95</td>\n",
       "      <td>95</td>\n",
       "      <td>NaN</td>\n",
       "    </tr>\n",
       "  </tbody>\n",
       "</table>\n",
       "<p>2 rows × 123 columns</p>\n",
       "</div>"
      ],
      "text/plain": [
       "         price     size  pma12  pma96  pma672  ma4_36  ma12_96  ac12_12  \\\n",
       "False  65506.0  65506.0  65400  65316   64740   65376    65316    65389   \n",
       "True       NaN      NaN    106    190     766     130      190      117   \n",
       "\n",
       "       ac96_96  vma12   ...     pZ96_s87  pZ96_s88  pZ96_s89  pZ96_s90  \\\n",
       "False    65305  65400   ...        65411     65411     65411     65411   \n",
       "True       201    106   ...           95        95        95        95   \n",
       "\n",
       "       pZ96_s91  pZ96_s92  pZ96_s93  pZ96_s94  pZ96_s95  utctime  \n",
       "False     65411     65411     65411     65411     65411  65506.0  \n",
       "True         95        95        95        95        95      NaN  \n",
       "\n",
       "[2 rows x 123 columns]"
      ]
     },
     "execution_count": 13,
     "metadata": {},
     "output_type": "execute_result"
    }
   ],
   "source": [
    "df.isnull().apply(pd.value_counts)"
   ]
  },
  {
   "cell_type": "code",
   "execution_count": 188,
   "metadata": {},
   "outputs": [],
   "source": [
    "row, col = d_exp.shape\n",
    "\n",
    "ls_1 = 400\n",
    "ls_2 = 800\n",
    "# ls_3 = 500\n",
    "ls_4 = 800\n",
    "ls_5 = 200\n",
    "out_size = 3\n",
    "class MyChain(Chain):\n",
    "    def __init__(self):\n",
    "        super().__init__(\n",
    "            l1=L.Linear(col, ls_1),\n",
    "            l2=L.Linear(ls_1, ls_2),\n",
    "#             l3=L.Linear(ls_2, ls_3),\n",
    "            l4=L.Linear(ls_2, ls_4),\n",
    "            l5=L.Linear(ls_4, ls_5),\n",
    "            l6=L.Linear(ls_5, out_size)\n",
    "        )\n",
    "    \n",
    "    def __call__(self, x):\n",
    "        if chainer.config.train:\n",
    "            h = F.sigmoid(self.l1(x))\n",
    "            h = F.dropout(F.sigmoid(self.l2(h)), ratio=0.05)\n",
    "#             h = F.dropout(F.sigmoid(self.l3(h)), ratio=0.1)\n",
    "            h = F.dropout(F.leaky_relu(self.l4(h)), ratio=0.1)\n",
    "            h = F.sigmoid(self.l5(h))\n",
    "        else:\n",
    "            h = F.sigmoid(self.l1(x))\n",
    "            h = F.sigmoid(self.l2(h))\n",
    "#             h = F.sigmoid(self.l3(h))\n",
    "            h = F.leaky_relu(self.l4(h))\n",
    "            h = F.sigmoid(self.l5(h))\n",
    "        o = self.l6(h)\n",
    "        return o"
   ]
  },
  {
   "cell_type": "code",
   "execution_count": 189,
   "metadata": {
    "collapsed": true
   },
   "outputs": [],
   "source": [
    "train = datasets.tuple_dataset.TupleDataset(data, t_data)\n",
    "train = iterators.SerialIterator(train, batch_size=100, shuffle=True, repeat=True)\n",
    "\n",
    "testset = datasets.tuple_dataset.TupleDataset(data_test, t_data_test)\n",
    "testset = iterators.SerialIterator(testset, batch_size=100, shuffle=False, repeat=False)"
   ]
  },
  {
   "cell_type": "code",
   "execution_count": 190,
   "metadata": {
    "collapsed": true
   },
   "outputs": [],
   "source": [
    "model = L.Classifier(MyChain())\n",
    "\n",
    "gpu_device = 0\n",
    "cuda.get_device_from_id(gpu_device).use()\n",
    "model.to_gpu(gpu_device)\n",
    "\n",
    "optimizer = optimizers.SGD()\n",
    "optimizer.setup(model)\n",
    "updater = training.StandardUpdater(train, optimizer, device=gpu_device)"
   ]
  },
  {
   "cell_type": "code",
   "execution_count": 191,
   "metadata": {
    "scrolled": true
   },
   "outputs": [
    {
     "data": {
      "application/vnd.jupyter.widget-view+json": {
       "model_id": "b754deb1f0b04127b84fa4abbaa3a145",
       "version_major": 2,
       "version_minor": 0
      },
      "text/plain": [
       "A Jupyter Widget"
      ]
     },
     "metadata": {},
     "output_type": "display_data"
    },
    {
     "data": {
      "application/vnd.jupyter.widget-view+json": {
       "model_id": "820e1c0967164bc0912874b453e80901",
       "version_major": 2,
       "version_minor": 0
      },
      "text/plain": [
       "A Jupyter Widget"
      ]
     },
     "metadata": {},
     "output_type": "display_data"
    },
    {
     "data": {
      "application/vnd.jupyter.widget-view+json": {
       "model_id": "62e90683ba154e5a904623a4d9859799",
       "version_major": 2,
       "version_minor": 0
      },
      "text/plain": [
       "A Jupyter Widget"
      ]
     },
     "metadata": {},
     "output_type": "display_data"
    },
    {
     "data": {
      "application/vnd.jupyter.widget-view+json": {
       "model_id": "59d5d12c8c4b48768e74cc7f50607045",
       "version_major": 2,
       "version_minor": 0
      },
      "text/plain": [
       "A Jupyter Widget"
      ]
     },
     "metadata": {},
     "output_type": "display_data"
    },
    {
     "data": {
      "application/vnd.jupyter.widget-view+json": {
       "model_id": "b419071ee55f4955ab9b02849d9b4944",
       "version_major": 2,
       "version_minor": 0
      },
      "text/plain": [
       "A Jupyter Widget"
      ]
     },
     "metadata": {},
     "output_type": "display_data"
    },
    {
     "data": {
      "application/vnd.jupyter.widget-view+json": {
       "model_id": "0b80baed2bf94959b2faca0e4520e8f6",
       "version_major": 2,
       "version_minor": 0
      },
      "text/plain": [
       "A Jupyter Widget"
      ]
     },
     "metadata": {},
     "output_type": "display_data"
    },
    {
     "data": {
      "application/vnd.jupyter.widget-view+json": {
       "model_id": "90d648cdf8ea400e98636f878e4fdbe0",
       "version_major": 2,
       "version_minor": 0
      },
      "text/plain": [
       "A Jupyter Widget"
      ]
     },
     "metadata": {},
     "output_type": "display_data"
    },
    {
     "data": {
      "application/vnd.jupyter.widget-view+json": {
       "model_id": "9460918638684f72b2f85ec411184ecd",
       "version_major": 2,
       "version_minor": 0
      },
      "text/plain": [
       "A Jupyter Widget"
      ]
     },
     "metadata": {},
     "output_type": "display_data"
    },
    {
     "data": {
      "application/vnd.jupyter.widget-view+json": {
       "model_id": "6be0d220e75a4bc9b5a8f56774ce629f",
       "version_major": 2,
       "version_minor": 0
      },
      "text/plain": [
       "A Jupyter Widget"
      ]
     },
     "metadata": {},
     "output_type": "display_data"
    },
    {
     "data": {
      "application/vnd.jupyter.widget-view+json": {
       "model_id": "46bf5df2e06246f79fe2304701b17d2b",
       "version_major": 2,
       "version_minor": 0
      },
      "text/plain": [
       "A Jupyter Widget"
      ]
     },
     "metadata": {},
     "output_type": "display_data"
    },
    {
     "data": {
      "application/vnd.jupyter.widget-view+json": {
       "model_id": "9b9425ac08644fc9bb76372be1636f90",
       "version_major": 2,
       "version_minor": 0
      },
      "text/plain": [
       "A Jupyter Widget"
      ]
     },
     "metadata": {},
     "output_type": "display_data"
    },
    {
     "data": {
      "application/vnd.jupyter.widget-view+json": {
       "model_id": "8883d5f8e1894371a7d8e6e2c81d5600",
       "version_major": 2,
       "version_minor": 0
      },
      "text/plain": [
       "A Jupyter Widget"
      ]
     },
     "metadata": {},
     "output_type": "display_data"
    },
    {
     "data": {
      "application/vnd.jupyter.widget-view+json": {
       "model_id": "464858da8a8f43ddba5fa6555ff58833",
       "version_major": 2,
       "version_minor": 0
      },
      "text/plain": [
       "A Jupyter Widget"
      ]
     },
     "metadata": {},
     "output_type": "display_data"
    },
    {
     "data": {
      "application/vnd.jupyter.widget-view+json": {
       "model_id": "93e51993803f456a907b6f55a96c33d7",
       "version_major": 2,
       "version_minor": 0
      },
      "text/plain": [
       "A Jupyter Widget"
      ]
     },
     "metadata": {},
     "output_type": "display_data"
    },
    {
     "data": {
      "application/vnd.jupyter.widget-view+json": {
       "model_id": "55e93b81dd4447898f252ea8705db623",
       "version_major": 2,
       "version_minor": 0
      },
      "text/plain": [
       "A Jupyter Widget"
      ]
     },
     "metadata": {},
     "output_type": "display_data"
    },
    {
     "data": {
      "application/vnd.jupyter.widget-view+json": {
       "model_id": "a5839b68f052493599b4d732e1722e9e",
       "version_major": 2,
       "version_minor": 0
      },
      "text/plain": [
       "A Jupyter Widget"
      ]
     },
     "metadata": {},
     "output_type": "display_data"
    },
    {
     "data": {
      "application/vnd.jupyter.widget-view+json": {
       "model_id": "d78117252e124961943a3de046641ba1",
       "version_major": 2,
       "version_minor": 0
      },
      "text/plain": [
       "A Jupyter Widget"
      ]
     },
     "metadata": {},
     "output_type": "display_data"
    },
    {
     "data": {
      "application/vnd.jupyter.widget-view+json": {
       "model_id": "ba5a49c10b7c49938b05d4a2dfb7ac25",
       "version_major": 2,
       "version_minor": 0
      },
      "text/plain": [
       "A Jupyter Widget"
      ]
     },
     "metadata": {},
     "output_type": "display_data"
    },
    {
     "data": {
      "application/vnd.jupyter.widget-view+json": {
       "model_id": "69e17de6c0bc4501a7a225f5f3010808",
       "version_major": 2,
       "version_minor": 0
      },
      "text/plain": [
       "A Jupyter Widget"
      ]
     },
     "metadata": {},
     "output_type": "display_data"
    },
    {
     "data": {
      "application/vnd.jupyter.widget-view+json": {
       "model_id": "a3471f75ac9449809dc43db42de0a526",
       "version_major": 2,
       "version_minor": 0
      },
      "text/plain": [
       "A Jupyter Widget"
      ]
     },
     "metadata": {},
     "output_type": "display_data"
    },
    {
     "data": {
      "application/vnd.jupyter.widget-view+json": {
       "model_id": "7bd8328f95a94b33a0cc05a84cac3b95",
       "version_major": 2,
       "version_minor": 0
      },
      "text/plain": [
       "A Jupyter Widget"
      ]
     },
     "metadata": {},
     "output_type": "display_data"
    },
    {
     "data": {
      "application/vnd.jupyter.widget-view+json": {
       "model_id": "f1f106b5fbcb4e64b45738701c7e2b99",
       "version_major": 2,
       "version_minor": 0
      },
      "text/plain": [
       "A Jupyter Widget"
      ]
     },
     "metadata": {},
     "output_type": "display_data"
    },
    {
     "data": {
      "application/vnd.jupyter.widget-view+json": {
       "model_id": "3f1175a7db44411aafb4c32f28f43888",
       "version_major": 2,
       "version_minor": 0
      },
      "text/plain": [
       "A Jupyter Widget"
      ]
     },
     "metadata": {},
     "output_type": "display_data"
    },
    {
     "data": {
      "application/vnd.jupyter.widget-view+json": {
       "model_id": "f00286c577594d639cf6bd1e82b7f381",
       "version_major": 2,
       "version_minor": 0
      },
      "text/plain": [
       "A Jupyter Widget"
      ]
     },
     "metadata": {},
     "output_type": "display_data"
    },
    {
     "data": {
      "application/vnd.jupyter.widget-view+json": {
       "model_id": "8799e5b0f75a4fa491475fe9ef428e4e",
       "version_major": 2,
       "version_minor": 0
      },
      "text/plain": [
       "A Jupyter Widget"
      ]
     },
     "metadata": {},
     "output_type": "display_data"
    },
    {
     "data": {
      "application/vnd.jupyter.widget-view+json": {
       "model_id": "30284c2ff1264e6f851327eb9bb7fb35",
       "version_major": 2,
       "version_minor": 0
      },
      "text/plain": [
       "A Jupyter Widget"
      ]
     },
     "metadata": {},
     "output_type": "display_data"
    },
    {
     "data": {
      "application/vnd.jupyter.widget-view+json": {
       "model_id": "9f3f3b3e3cd340e094b06620e4e3ba42",
       "version_major": 2,
       "version_minor": 0
      },
      "text/plain": [
       "A Jupyter Widget"
      ]
     },
     "metadata": {},
     "output_type": "display_data"
    },
    {
     "data": {
      "application/vnd.jupyter.widget-view+json": {
       "model_id": "1972c32dfb46459e8fb6b3dfbc220a8e",
       "version_major": 2,
       "version_minor": 0
      },
      "text/plain": [
       "A Jupyter Widget"
      ]
     },
     "metadata": {},
     "output_type": "display_data"
    },
    {
     "data": {
      "application/vnd.jupyter.widget-view+json": {
       "model_id": "af777d75b43c47668987e559a275e391",
       "version_major": 2,
       "version_minor": 0
      },
      "text/plain": [
       "A Jupyter Widget"
      ]
     },
     "metadata": {},
     "output_type": "display_data"
    },
    {
     "data": {
      "application/vnd.jupyter.widget-view+json": {
       "model_id": "c2d7b01f7fe84cb38b8510c244aac932",
       "version_major": 2,
       "version_minor": 0
      },
      "text/plain": [
       "A Jupyter Widget"
      ]
     },
     "metadata": {},
     "output_type": "display_data"
    },
    {
     "data": {
      "application/vnd.jupyter.widget-view+json": {
       "model_id": "f835da8346054d73bb36465dd1bb8b7e",
       "version_major": 2,
       "version_minor": 0
      },
      "text/plain": [
       "A Jupyter Widget"
      ]
     },
     "metadata": {},
     "output_type": "display_data"
    },
    {
     "data": {
      "application/vnd.jupyter.widget-view+json": {
       "model_id": "d77cce69ccb849cbb08c1cb23849afcc",
       "version_major": 2,
       "version_minor": 0
      },
      "text/plain": [
       "A Jupyter Widget"
      ]
     },
     "metadata": {},
     "output_type": "display_data"
    },
    {
     "data": {
      "application/vnd.jupyter.widget-view+json": {
       "model_id": "de48b95f572c4ff2965828de11479546",
       "version_major": 2,
       "version_minor": 0
      },
      "text/plain": [
       "A Jupyter Widget"
      ]
     },
     "metadata": {},
     "output_type": "display_data"
    },
    {
     "data": {
      "application/vnd.jupyter.widget-view+json": {
       "model_id": "572427e8bc5b4b24b44fe087a35a6eb4",
       "version_major": 2,
       "version_minor": 0
      },
      "text/plain": [
       "A Jupyter Widget"
      ]
     },
     "metadata": {},
     "output_type": "display_data"
    },
    {
     "data": {
      "application/vnd.jupyter.widget-view+json": {
       "model_id": "23e86032706d473f8680e476f18c7f05",
       "version_major": 2,
       "version_minor": 0
      },
      "text/plain": [
       "A Jupyter Widget"
      ]
     },
     "metadata": {},
     "output_type": "display_data"
    },
    {
     "data": {
      "application/vnd.jupyter.widget-view+json": {
       "model_id": "839a0c2a32084ae8a6cf11a49ca28e3b",
       "version_major": 2,
       "version_minor": 0
      },
      "text/plain": [
       "A Jupyter Widget"
      ]
     },
     "metadata": {},
     "output_type": "display_data"
    },
    {
     "data": {
      "application/vnd.jupyter.widget-view+json": {
       "model_id": "ddd5a08f2c7e43e89561e445d484571f",
       "version_major": 2,
       "version_minor": 0
      },
      "text/plain": [
       "A Jupyter Widget"
      ]
     },
     "metadata": {},
     "output_type": "display_data"
    },
    {
     "data": {
      "application/vnd.jupyter.widget-view+json": {
       "model_id": "82f316792d7c4096badb1b5698326f07",
       "version_major": 2,
       "version_minor": 0
      },
      "text/plain": [
       "A Jupyter Widget"
      ]
     },
     "metadata": {},
     "output_type": "display_data"
    },
    {
     "data": {
      "application/vnd.jupyter.widget-view+json": {
       "model_id": "810528dbfd3140d390796dbc76c34c19",
       "version_major": 2,
       "version_minor": 0
      },
      "text/plain": [
       "A Jupyter Widget"
      ]
     },
     "metadata": {},
     "output_type": "display_data"
    },
    {
     "data": {
      "application/vnd.jupyter.widget-view+json": {
       "model_id": "b3be3a72928a469c839ff8b0feb12faf",
       "version_major": 2,
       "version_minor": 0
      },
      "text/plain": [
       "A Jupyter Widget"
      ]
     },
     "metadata": {},
     "output_type": "display_data"
    },
    {
     "data": {
      "application/vnd.jupyter.widget-view+json": {
       "model_id": "4bfff41597fd4135a7d2c5f351ee830e",
       "version_major": 2,
       "version_minor": 0
      },
      "text/plain": [
       "A Jupyter Widget"
      ]
     },
     "metadata": {},
     "output_type": "display_data"
    },
    {
     "data": {
      "application/vnd.jupyter.widget-view+json": {
       "model_id": "0c14d8f963994fc9b82ed91594a41254",
       "version_major": 2,
       "version_minor": 0
      },
      "text/plain": [
       "A Jupyter Widget"
      ]
     },
     "metadata": {},
     "output_type": "display_data"
    },
    {
     "data": {
      "application/vnd.jupyter.widget-view+json": {
       "model_id": "10d4d80daad1495ea0cc79d19399a43e",
       "version_major": 2,
       "version_minor": 0
      },
      "text/plain": [
       "A Jupyter Widget"
      ]
     },
     "metadata": {},
     "output_type": "display_data"
    },
    {
     "data": {
      "application/vnd.jupyter.widget-view+json": {
       "model_id": "e82554d857ad4e24bebc149967d4288d",
       "version_major": 2,
       "version_minor": 0
      },
      "text/plain": [
       "A Jupyter Widget"
      ]
     },
     "metadata": {},
     "output_type": "display_data"
    },
    {
     "data": {
      "application/vnd.jupyter.widget-view+json": {
       "model_id": "d67f862e1c6e40f1952ac9af1cfe1a05",
       "version_major": 2,
       "version_minor": 0
      },
      "text/plain": [
       "A Jupyter Widget"
      ]
     },
     "metadata": {},
     "output_type": "display_data"
    },
    {
     "data": {
      "application/vnd.jupyter.widget-view+json": {
       "model_id": "72ce85f540014675b31891071091284a",
       "version_major": 2,
       "version_minor": 0
      },
      "text/plain": [
       "A Jupyter Widget"
      ]
     },
     "metadata": {},
     "output_type": "display_data"
    },
    {
     "data": {
      "application/vnd.jupyter.widget-view+json": {
       "model_id": "763f9d7704564d9981318c6cbfefaea8",
       "version_major": 2,
       "version_minor": 0
      },
      "text/plain": [
       "A Jupyter Widget"
      ]
     },
     "metadata": {},
     "output_type": "display_data"
    },
    {
     "data": {
      "application/vnd.jupyter.widget-view+json": {
       "model_id": "2d55328a47134f4b900a2f8601580a15",
       "version_major": 2,
       "version_minor": 0
      },
      "text/plain": [
       "A Jupyter Widget"
      ]
     },
     "metadata": {},
     "output_type": "display_data"
    },
    {
     "data": {
      "application/vnd.jupyter.widget-view+json": {
       "model_id": "3859df9f02284dbf9bdefe17c2643e54",
       "version_major": 2,
       "version_minor": 0
      },
      "text/plain": [
       "A Jupyter Widget"
      ]
     },
     "metadata": {},
     "output_type": "display_data"
    },
    {
     "data": {
      "application/vnd.jupyter.widget-view+json": {
       "model_id": "cc3a10d1207b41bcbd0a1b512573ef77",
       "version_major": 2,
       "version_minor": 0
      },
      "text/plain": [
       "A Jupyter Widget"
      ]
     },
     "metadata": {},
     "output_type": "display_data"
    },
    {
     "data": {
      "application/vnd.jupyter.widget-view+json": {
       "model_id": "5cd78c78acbc4208a956abbdfd49dc74",
       "version_major": 2,
       "version_minor": 0
      },
      "text/plain": [
       "A Jupyter Widget"
      ]
     },
     "metadata": {},
     "output_type": "display_data"
    },
    {
     "data": {
      "application/vnd.jupyter.widget-view+json": {
       "model_id": "d30d1be40d094710a7c37fbdee6d3268",
       "version_major": 2,
       "version_minor": 0
      },
      "text/plain": [
       "A Jupyter Widget"
      ]
     },
     "metadata": {},
     "output_type": "display_data"
    },
    {
     "data": {
      "application/vnd.jupyter.widget-view+json": {
       "model_id": "33c9e79a6ee34e0aa289ff894fd647d1",
       "version_major": 2,
       "version_minor": 0
      },
      "text/plain": [
       "A Jupyter Widget"
      ]
     },
     "metadata": {},
     "output_type": "display_data"
    },
    {
     "data": {
      "application/vnd.jupyter.widget-view+json": {
       "model_id": "b1e829ecc47b44baa92bef96079a028c",
       "version_major": 2,
       "version_minor": 0
      },
      "text/plain": [
       "A Jupyter Widget"
      ]
     },
     "metadata": {},
     "output_type": "display_data"
    },
    {
     "data": {
      "application/vnd.jupyter.widget-view+json": {
       "model_id": "84adfd8d892b4f319942a9a1557f562b",
       "version_major": 2,
       "version_minor": 0
      },
      "text/plain": [
       "A Jupyter Widget"
      ]
     },
     "metadata": {},
     "output_type": "display_data"
    },
    {
     "data": {
      "application/vnd.jupyter.widget-view+json": {
       "model_id": "6727101242bb4a0396e6fcc5b393441f",
       "version_major": 2,
       "version_minor": 0
      },
      "text/plain": [
       "A Jupyter Widget"
      ]
     },
     "metadata": {},
     "output_type": "display_data"
    },
    {
     "data": {
      "application/vnd.jupyter.widget-view+json": {
       "model_id": "7d12625ad4604c93a46a4a12af1a5546",
       "version_major": 2,
       "version_minor": 0
      },
      "text/plain": [
       "A Jupyter Widget"
      ]
     },
     "metadata": {},
     "output_type": "display_data"
    },
    {
     "data": {
      "application/vnd.jupyter.widget-view+json": {
       "model_id": "46622ed99d4c420281d4da0ac97877cd",
       "version_major": 2,
       "version_minor": 0
      },
      "text/plain": [
       "A Jupyter Widget"
      ]
     },
     "metadata": {},
     "output_type": "display_data"
    },
    {
     "data": {
      "application/vnd.jupyter.widget-view+json": {
       "model_id": "0f37d271558c49a99cbc81e733778150",
       "version_major": 2,
       "version_minor": 0
      },
      "text/plain": [
       "A Jupyter Widget"
      ]
     },
     "metadata": {},
     "output_type": "display_data"
    },
    {
     "data": {
      "application/vnd.jupyter.widget-view+json": {
       "model_id": "6d97a9e8fd864f63869ec38d0a9ea2bf",
       "version_major": 2,
       "version_minor": 0
      },
      "text/plain": [
       "A Jupyter Widget"
      ]
     },
     "metadata": {},
     "output_type": "display_data"
    },
    {
     "data": {
      "application/vnd.jupyter.widget-view+json": {
       "model_id": "50aab9f1d0a7411ca93c63f5fd730c09",
       "version_major": 2,
       "version_minor": 0
      },
      "text/plain": [
       "A Jupyter Widget"
      ]
     },
     "metadata": {},
     "output_type": "display_data"
    },
    {
     "data": {
      "application/vnd.jupyter.widget-view+json": {
       "model_id": "5d1397ab8a154f5cb91faaacbedb14b8",
       "version_major": 2,
       "version_minor": 0
      },
      "text/plain": [
       "A Jupyter Widget"
      ]
     },
     "metadata": {},
     "output_type": "display_data"
    },
    {
     "data": {
      "application/vnd.jupyter.widget-view+json": {
       "model_id": "402f545291654d4ba05b4f1a401b60e1",
       "version_major": 2,
       "version_minor": 0
      },
      "text/plain": [
       "A Jupyter Widget"
      ]
     },
     "metadata": {},
     "output_type": "display_data"
    },
    {
     "data": {
      "application/vnd.jupyter.widget-view+json": {
       "model_id": "5d451b5e604d40ce9fc649f07592b43f",
       "version_major": 2,
       "version_minor": 0
      },
      "text/plain": [
       "A Jupyter Widget"
      ]
     },
     "metadata": {},
     "output_type": "display_data"
    },
    {
     "data": {
      "application/vnd.jupyter.widget-view+json": {
       "model_id": "442fea2a583b4b3da3a31b61d5ed3542",
       "version_major": 2,
       "version_minor": 0
      },
      "text/plain": [
       "A Jupyter Widget"
      ]
     },
     "metadata": {},
     "output_type": "display_data"
    },
    {
     "data": {
      "application/vnd.jupyter.widget-view+json": {
       "model_id": "820479e401364862831caf968e938412",
       "version_major": 2,
       "version_minor": 0
      },
      "text/plain": [
       "A Jupyter Widget"
      ]
     },
     "metadata": {},
     "output_type": "display_data"
    },
    {
     "data": {
      "application/vnd.jupyter.widget-view+json": {
       "model_id": "9cef10dd56f94c31a316f4082411c0bc",
       "version_major": 2,
       "version_minor": 0
      },
      "text/plain": [
       "A Jupyter Widget"
      ]
     },
     "metadata": {},
     "output_type": "display_data"
    },
    {
     "data": {
      "application/vnd.jupyter.widget-view+json": {
       "model_id": "02d27b7d8a194aa2ad0782d1d41b52c1",
       "version_major": 2,
       "version_minor": 0
      },
      "text/plain": [
       "A Jupyter Widget"
      ]
     },
     "metadata": {},
     "output_type": "display_data"
    },
    {
     "data": {
      "application/vnd.jupyter.widget-view+json": {
       "model_id": "7823cf7559d74e90952d78836ff74804",
       "version_major": 2,
       "version_minor": 0
      },
      "text/plain": [
       "A Jupyter Widget"
      ]
     },
     "metadata": {},
     "output_type": "display_data"
    },
    {
     "data": {
      "application/vnd.jupyter.widget-view+json": {
       "model_id": "52900dd0aa474be5b5dab6f14e1d38a9",
       "version_major": 2,
       "version_minor": 0
      },
      "text/plain": [
       "A Jupyter Widget"
      ]
     },
     "metadata": {},
     "output_type": "display_data"
    },
    {
     "data": {
      "application/vnd.jupyter.widget-view+json": {
       "model_id": "4353a9324c03494bbf86839c51374122",
       "version_major": 2,
       "version_minor": 0
      },
      "text/plain": [
       "A Jupyter Widget"
      ]
     },
     "metadata": {},
     "output_type": "display_data"
    },
    {
     "data": {
      "application/vnd.jupyter.widget-view+json": {
       "model_id": "13a20d06c961480fa93b8056843952b3",
       "version_major": 2,
       "version_minor": 0
      },
      "text/plain": [
       "A Jupyter Widget"
      ]
     },
     "metadata": {},
     "output_type": "display_data"
    },
    {
     "data": {
      "application/vnd.jupyter.widget-view+json": {
       "model_id": "b0da9bfe2e014f82a60833e748a3bdad",
       "version_major": 2,
       "version_minor": 0
      },
      "text/plain": [
       "A Jupyter Widget"
      ]
     },
     "metadata": {},
     "output_type": "display_data"
    },
    {
     "data": {
      "application/vnd.jupyter.widget-view+json": {
       "model_id": "069f537d561349b6923f4884a6223946",
       "version_major": 2,
       "version_minor": 0
      },
      "text/plain": [
       "A Jupyter Widget"
      ]
     },
     "metadata": {},
     "output_type": "display_data"
    },
    {
     "data": {
      "application/vnd.jupyter.widget-view+json": {
       "model_id": "a1837a842e60422d88a7fe4bee800144",
       "version_major": 2,
       "version_minor": 0
      },
      "text/plain": [
       "A Jupyter Widget"
      ]
     },
     "metadata": {},
     "output_type": "display_data"
    },
    {
     "data": {
      "application/vnd.jupyter.widget-view+json": {
       "model_id": "dde80f6643fc4134a9f6546a996b6157",
       "version_major": 2,
       "version_minor": 0
      },
      "text/plain": [
       "A Jupyter Widget"
      ]
     },
     "metadata": {},
     "output_type": "display_data"
    },
    {
     "data": {
      "application/vnd.jupyter.widget-view+json": {
       "model_id": "f6a51dade31d4ea3a0655522a4a55e25",
       "version_major": 2,
       "version_minor": 0
      },
      "text/plain": [
       "A Jupyter Widget"
      ]
     },
     "metadata": {},
     "output_type": "display_data"
    },
    {
     "data": {
      "application/vnd.jupyter.widget-view+json": {
       "model_id": "d31fb9a8c4924e03ad4b545424b47d59",
       "version_major": 2,
       "version_minor": 0
      },
      "text/plain": [
       "A Jupyter Widget"
      ]
     },
     "metadata": {},
     "output_type": "display_data"
    },
    {
     "data": {
      "application/vnd.jupyter.widget-view+json": {
       "model_id": "e86aa74bd9214d9a8157b172b1fb70e8",
       "version_major": 2,
       "version_minor": 0
      },
      "text/plain": [
       "A Jupyter Widget"
      ]
     },
     "metadata": {},
     "output_type": "display_data"
    },
    {
     "data": {
      "application/vnd.jupyter.widget-view+json": {
       "model_id": "f667535f05b7465aa627ffa12abdbd85",
       "version_major": 2,
       "version_minor": 0
      },
      "text/plain": [
       "A Jupyter Widget"
      ]
     },
     "metadata": {},
     "output_type": "display_data"
    },
    {
     "data": {
      "application/vnd.jupyter.widget-view+json": {
       "model_id": "dc28f0e365b14db1a28260eacc3ad890",
       "version_major": 2,
       "version_minor": 0
      },
      "text/plain": [
       "A Jupyter Widget"
      ]
     },
     "metadata": {},
     "output_type": "display_data"
    },
    {
     "data": {
      "application/vnd.jupyter.widget-view+json": {
       "model_id": "9015770d3303497692403b266de8d802",
       "version_major": 2,
       "version_minor": 0
      },
      "text/plain": [
       "A Jupyter Widget"
      ]
     },
     "metadata": {},
     "output_type": "display_data"
    },
    {
     "data": {
      "application/vnd.jupyter.widget-view+json": {
       "model_id": "361201c8c4b3455b9c8f03fa793ceb3b",
       "version_major": 2,
       "version_minor": 0
      },
      "text/plain": [
       "A Jupyter Widget"
      ]
     },
     "metadata": {},
     "output_type": "display_data"
    },
    {
     "data": {
      "application/vnd.jupyter.widget-view+json": {
       "model_id": "10d654aec69c4fc79d2db033f68ec10f",
       "version_major": 2,
       "version_minor": 0
      },
      "text/plain": [
       "A Jupyter Widget"
      ]
     },
     "metadata": {},
     "output_type": "display_data"
    },
    {
     "data": {
      "application/vnd.jupyter.widget-view+json": {
       "model_id": "168f9736819d4a4c9bc358e2b6b4da94",
       "version_major": 2,
       "version_minor": 0
      },
      "text/plain": [
       "A Jupyter Widget"
      ]
     },
     "metadata": {},
     "output_type": "display_data"
    },
    {
     "data": {
      "application/vnd.jupyter.widget-view+json": {
       "model_id": "689288ea3852471a9d5498226d32f97a",
       "version_major": 2,
       "version_minor": 0
      },
      "text/plain": [
       "A Jupyter Widget"
      ]
     },
     "metadata": {},
     "output_type": "display_data"
    },
    {
     "data": {
      "application/vnd.jupyter.widget-view+json": {
       "model_id": "46f03cf0a8564691a1c3f1ea03fc1208",
       "version_major": 2,
       "version_minor": 0
      },
      "text/plain": [
       "A Jupyter Widget"
      ]
     },
     "metadata": {},
     "output_type": "display_data"
    },
    {
     "data": {
      "application/vnd.jupyter.widget-view+json": {
       "model_id": "783aea4a95a741979f3367edf39e953c",
       "version_major": 2,
       "version_minor": 0
      },
      "text/plain": [
       "A Jupyter Widget"
      ]
     },
     "metadata": {},
     "output_type": "display_data"
    },
    {
     "data": {
      "application/vnd.jupyter.widget-view+json": {
       "model_id": "c490236602b84c9c95c779fa3ca7fb47",
       "version_major": 2,
       "version_minor": 0
      },
      "text/plain": [
       "A Jupyter Widget"
      ]
     },
     "metadata": {},
     "output_type": "display_data"
    },
    {
     "data": {
      "application/vnd.jupyter.widget-view+json": {
       "model_id": "cc26b3606dcf49ad97dce7eb87d15bed",
       "version_major": 2,
       "version_minor": 0
      },
      "text/plain": [
       "A Jupyter Widget"
      ]
     },
     "metadata": {},
     "output_type": "display_data"
    },
    {
     "data": {
      "application/vnd.jupyter.widget-view+json": {
       "model_id": "6568d2d849c3483bbd5c9fd82e4e1b3e",
       "version_major": 2,
       "version_minor": 0
      },
      "text/plain": [
       "A Jupyter Widget"
      ]
     },
     "metadata": {},
     "output_type": "display_data"
    },
    {
     "data": {
      "application/vnd.jupyter.widget-view+json": {
       "model_id": "7029016c912c4a1495352c771a046ae4",
       "version_major": 2,
       "version_minor": 0
      },
      "text/plain": [
       "A Jupyter Widget"
      ]
     },
     "metadata": {},
     "output_type": "display_data"
    },
    {
     "data": {
      "application/vnd.jupyter.widget-view+json": {
       "model_id": "f4cf9e1d7285442e85a80133c2f31bd2",
       "version_major": 2,
       "version_minor": 0
      },
      "text/plain": [
       "A Jupyter Widget"
      ]
     },
     "metadata": {},
     "output_type": "display_data"
    },
    {
     "data": {
      "application/vnd.jupyter.widget-view+json": {
       "model_id": "7e29398fa44f48bebcc710bc8150f9fe",
       "version_major": 2,
       "version_minor": 0
      },
      "text/plain": [
       "A Jupyter Widget"
      ]
     },
     "metadata": {},
     "output_type": "display_data"
    },
    {
     "data": {
      "application/vnd.jupyter.widget-view+json": {
       "model_id": "e0779ee362e242619320804944b4f168",
       "version_major": 2,
       "version_minor": 0
      },
      "text/plain": [
       "A Jupyter Widget"
      ]
     },
     "metadata": {},
     "output_type": "display_data"
    },
    {
     "data": {
      "application/vnd.jupyter.widget-view+json": {
       "model_id": "85ba14c1fe46486188418fa85ec5da95",
       "version_major": 2,
       "version_minor": 0
      },
      "text/plain": [
       "A Jupyter Widget"
      ]
     },
     "metadata": {},
     "output_type": "display_data"
    },
    {
     "data": {
      "application/vnd.jupyter.widget-view+json": {
       "model_id": "9bfe89c6079b45f2b26e30749a392744",
       "version_major": 2,
       "version_minor": 0
      },
      "text/plain": [
       "A Jupyter Widget"
      ]
     },
     "metadata": {},
     "output_type": "display_data"
    },
    {
     "data": {
      "application/vnd.jupyter.widget-view+json": {
       "model_id": "f296063195fa487989dcc3d447874d04",
       "version_major": 2,
       "version_minor": 0
      },
      "text/plain": [
       "A Jupyter Widget"
      ]
     },
     "metadata": {},
     "output_type": "display_data"
    },
    {
     "data": {
      "application/vnd.jupyter.widget-view+json": {
       "model_id": "2fa440b3a6ea48298f9836b9e7e0aa0d",
       "version_major": 2,
       "version_minor": 0
      },
      "text/plain": [
       "A Jupyter Widget"
      ]
     },
     "metadata": {},
     "output_type": "display_data"
    },
    {
     "data": {
      "application/vnd.jupyter.widget-view+json": {
       "model_id": "eacef7de2ca643399e649323d7bc8d0b",
       "version_major": 2,
       "version_minor": 0
      },
      "text/plain": [
       "A Jupyter Widget"
      ]
     },
     "metadata": {},
     "output_type": "display_data"
    },
    {
     "data": {
      "application/vnd.jupyter.widget-view+json": {
       "model_id": "f75d53c0b95a4ec98ff0b494dc7b83a6",
       "version_major": 2,
       "version_minor": 0
      },
      "text/plain": [
       "A Jupyter Widget"
      ]
     },
     "metadata": {},
     "output_type": "display_data"
    },
    {
     "data": {
      "application/vnd.jupyter.widget-view+json": {
       "model_id": "95266442e70b400a841690de4cd1be5a",
       "version_major": 2,
       "version_minor": 0
      },
      "text/plain": [
       "A Jupyter Widget"
      ]
     },
     "metadata": {},
     "output_type": "display_data"
    },
    {
     "data": {
      "application/vnd.jupyter.widget-view+json": {
       "model_id": "56b697e19b79418483950a3908cf4db1",
       "version_major": 2,
       "version_minor": 0
      },
      "text/plain": [
       "A Jupyter Widget"
      ]
     },
     "metadata": {},
     "output_type": "display_data"
    },
    {
     "data": {
      "application/vnd.jupyter.widget-view+json": {
       "model_id": "0d66e594a6c841828bd139e8360acba8",
       "version_major": 2,
       "version_minor": 0
      },
      "text/plain": [
       "A Jupyter Widget"
      ]
     },
     "metadata": {},
     "output_type": "display_data"
    },
    {
     "data": {
      "application/vnd.jupyter.widget-view+json": {
       "model_id": "6ff44f2faf4c4e13a967d2bfd7711ced",
       "version_major": 2,
       "version_minor": 0
      },
      "text/plain": [
       "A Jupyter Widget"
      ]
     },
     "metadata": {},
     "output_type": "display_data"
    },
    {
     "data": {
      "application/vnd.jupyter.widget-view+json": {
       "model_id": "6710af3a419f45e9904c949ecdfdeb31",
       "version_major": 2,
       "version_minor": 0
      },
      "text/plain": [
       "A Jupyter Widget"
      ]
     },
     "metadata": {},
     "output_type": "display_data"
    },
    {
     "data": {
      "application/vnd.jupyter.widget-view+json": {
       "model_id": "cacaef6bd56344819cde7926bad20cae",
       "version_major": 2,
       "version_minor": 0
      },
      "text/plain": [
       "A Jupyter Widget"
      ]
     },
     "metadata": {},
     "output_type": "display_data"
    },
    {
     "data": {
      "application/vnd.jupyter.widget-view+json": {
       "model_id": "ef05e2f7595c4072b93857d2b9de27a0",
       "version_major": 2,
       "version_minor": 0
      },
      "text/plain": [
       "A Jupyter Widget"
      ]
     },
     "metadata": {},
     "output_type": "display_data"
    },
    {
     "data": {
      "application/vnd.jupyter.widget-view+json": {
       "model_id": "59b67dae46064117bcec609d7c7bc98c",
       "version_major": 2,
       "version_minor": 0
      },
      "text/plain": [
       "A Jupyter Widget"
      ]
     },
     "metadata": {},
     "output_type": "display_data"
    },
    {
     "data": {
      "application/vnd.jupyter.widget-view+json": {
       "model_id": "47865030157e47fb88add414d47fa9eb",
       "version_major": 2,
       "version_minor": 0
      },
      "text/plain": [
       "A Jupyter Widget"
      ]
     },
     "metadata": {},
     "output_type": "display_data"
    },
    {
     "data": {
      "application/vnd.jupyter.widget-view+json": {
       "model_id": "fe6dfabe150a49a7b030cf13d9407803",
       "version_major": 2,
       "version_minor": 0
      },
      "text/plain": [
       "A Jupyter Widget"
      ]
     },
     "metadata": {},
     "output_type": "display_data"
    },
    {
     "data": {
      "application/vnd.jupyter.widget-view+json": {
       "model_id": "0e877daddf2c46458590e47fe102b269",
       "version_major": 2,
       "version_minor": 0
      },
      "text/plain": [
       "A Jupyter Widget"
      ]
     },
     "metadata": {},
     "output_type": "display_data"
    },
    {
     "data": {
      "application/vnd.jupyter.widget-view+json": {
       "model_id": "00037f552dab4e0e82589a458ab6d994",
       "version_major": 2,
       "version_minor": 0
      },
      "text/plain": [
       "A Jupyter Widget"
      ]
     },
     "metadata": {},
     "output_type": "display_data"
    },
    {
     "data": {
      "application/vnd.jupyter.widget-view+json": {
       "model_id": "9049390f81b543bc83beb578ce263136",
       "version_major": 2,
       "version_minor": 0
      },
      "text/plain": [
       "A Jupyter Widget"
      ]
     },
     "metadata": {},
     "output_type": "display_data"
    },
    {
     "data": {
      "application/vnd.jupyter.widget-view+json": {
       "model_id": "eb268709ff9a446e8acd990a1447212f",
       "version_major": 2,
       "version_minor": 0
      },
      "text/plain": [
       "A Jupyter Widget"
      ]
     },
     "metadata": {},
     "output_type": "display_data"
    },
    {
     "data": {
      "application/vnd.jupyter.widget-view+json": {
       "model_id": "7466193f19404c118c71145c53ff8355",
       "version_major": 2,
       "version_minor": 0
      },
      "text/plain": [
       "A Jupyter Widget"
      ]
     },
     "metadata": {},
     "output_type": "display_data"
    },
    {
     "data": {
      "application/vnd.jupyter.widget-view+json": {
       "model_id": "5829720911ff4c37a798f2bba05237e8",
       "version_major": 2,
       "version_minor": 0
      },
      "text/plain": [
       "A Jupyter Widget"
      ]
     },
     "metadata": {},
     "output_type": "display_data"
    },
    {
     "data": {
      "application/vnd.jupyter.widget-view+json": {
       "model_id": "ecc7fe1d5a8e4034aa5a54a2282ba0b1",
       "version_major": 2,
       "version_minor": 0
      },
      "text/plain": [
       "A Jupyter Widget"
      ]
     },
     "metadata": {},
     "output_type": "display_data"
    },
    {
     "data": {
      "application/vnd.jupyter.widget-view+json": {
       "model_id": "6e93e292f7994b1d9db343679d264bef",
       "version_major": 2,
       "version_minor": 0
      },
      "text/plain": [
       "A Jupyter Widget"
      ]
     },
     "metadata": {},
     "output_type": "display_data"
    },
    {
     "data": {
      "application/vnd.jupyter.widget-view+json": {
       "model_id": "d24a5907a89c48cfb77d8a0a0159e747",
       "version_major": 2,
       "version_minor": 0
      },
      "text/plain": [
       "A Jupyter Widget"
      ]
     },
     "metadata": {},
     "output_type": "display_data"
    },
    {
     "data": {
      "application/vnd.jupyter.widget-view+json": {
       "model_id": "1c11d91d42ea414e90b31b1c60867f00",
       "version_major": 2,
       "version_minor": 0
      },
      "text/plain": [
       "A Jupyter Widget"
      ]
     },
     "metadata": {},
     "output_type": "display_data"
    },
    {
     "data": {
      "application/vnd.jupyter.widget-view+json": {
       "model_id": "6aa597f51bb045bc8f4127d24145cc3d",
       "version_major": 2,
       "version_minor": 0
      },
      "text/plain": [
       "A Jupyter Widget"
      ]
     },
     "metadata": {},
     "output_type": "display_data"
    },
    {
     "data": {
      "application/vnd.jupyter.widget-view+json": {
       "model_id": "21dcb7aa0f7d436c9957e25bc0c53c6f",
       "version_major": 2,
       "version_minor": 0
      },
      "text/plain": [
       "A Jupyter Widget"
      ]
     },
     "metadata": {},
     "output_type": "display_data"
    },
    {
     "data": {
      "application/vnd.jupyter.widget-view+json": {
       "model_id": "05a670a156e347d2ab115395834e659a",
       "version_major": 2,
       "version_minor": 0
      },
      "text/plain": [
       "A Jupyter Widget"
      ]
     },
     "metadata": {},
     "output_type": "display_data"
    },
    {
     "data": {
      "application/vnd.jupyter.widget-view+json": {
       "model_id": "e421051f3ff44d9f8e113660d1ed7ab7",
       "version_major": 2,
       "version_minor": 0
      },
      "text/plain": [
       "A Jupyter Widget"
      ]
     },
     "metadata": {},
     "output_type": "display_data"
    },
    {
     "data": {
      "application/vnd.jupyter.widget-view+json": {
       "model_id": "ecff890c9b0f445fa4c130f1f42241be",
       "version_major": 2,
       "version_minor": 0
      },
      "text/plain": [
       "A Jupyter Widget"
      ]
     },
     "metadata": {},
     "output_type": "display_data"
    },
    {
     "data": {
      "application/vnd.jupyter.widget-view+json": {
       "model_id": "c9c6fc8f154849d28ed0b74f83db0477",
       "version_major": 2,
       "version_minor": 0
      },
      "text/plain": [
       "A Jupyter Widget"
      ]
     },
     "metadata": {},
     "output_type": "display_data"
    },
    {
     "data": {
      "application/vnd.jupyter.widget-view+json": {
       "model_id": "00fd290db343438bb7acfe1f5d57de3c",
       "version_major": 2,
       "version_minor": 0
      },
      "text/plain": [
       "A Jupyter Widget"
      ]
     },
     "metadata": {},
     "output_type": "display_data"
    },
    {
     "data": {
      "application/vnd.jupyter.widget-view+json": {
       "model_id": "a40b6d099b7a4f40a3efcf01b7e63ec6",
       "version_major": 2,
       "version_minor": 0
      },
      "text/plain": [
       "A Jupyter Widget"
      ]
     },
     "metadata": {},
     "output_type": "display_data"
    },
    {
     "data": {
      "application/vnd.jupyter.widget-view+json": {
       "model_id": "731b0b970eee4d828737c74ccb694fef",
       "version_major": 2,
       "version_minor": 0
      },
      "text/plain": [
       "A Jupyter Widget"
      ]
     },
     "metadata": {},
     "output_type": "display_data"
    },
    {
     "data": {
      "application/vnd.jupyter.widget-view+json": {
       "model_id": "bf60215b2ddd4ee8ae7cf470227f741f",
       "version_major": 2,
       "version_minor": 0
      },
      "text/plain": [
       "A Jupyter Widget"
      ]
     },
     "metadata": {},
     "output_type": "display_data"
    },
    {
     "data": {
      "application/vnd.jupyter.widget-view+json": {
       "model_id": "f28a036ef0cf4532a13bde6b3a0335d5",
       "version_major": 2,
       "version_minor": 0
      },
      "text/plain": [
       "A Jupyter Widget"
      ]
     },
     "metadata": {},
     "output_type": "display_data"
    },
    {
     "data": {
      "application/vnd.jupyter.widget-view+json": {
       "model_id": "0fa7db036ea54013aa906c879d170027",
       "version_major": 2,
       "version_minor": 0
      },
      "text/plain": [
       "A Jupyter Widget"
      ]
     },
     "metadata": {},
     "output_type": "display_data"
    },
    {
     "data": {
      "application/vnd.jupyter.widget-view+json": {
       "model_id": "355b98e080814e3c878c1f9901d2c8d9",
       "version_major": 2,
       "version_minor": 0
      },
      "text/plain": [
       "A Jupyter Widget"
      ]
     },
     "metadata": {},
     "output_type": "display_data"
    },
    {
     "data": {
      "application/vnd.jupyter.widget-view+json": {
       "model_id": "f9e8a16cdf83402ba5a5116fe6ec5176",
       "version_major": 2,
       "version_minor": 0
      },
      "text/plain": [
       "A Jupyter Widget"
      ]
     },
     "metadata": {},
     "output_type": "display_data"
    },
    {
     "data": {
      "application/vnd.jupyter.widget-view+json": {
       "model_id": "cec8534467fb43ba99a27b4af583a5df",
       "version_major": 2,
       "version_minor": 0
      },
      "text/plain": [
       "A Jupyter Widget"
      ]
     },
     "metadata": {},
     "output_type": "display_data"
    },
    {
     "data": {
      "application/vnd.jupyter.widget-view+json": {
       "model_id": "426d28f1bd6b4177988315d6796bfcc2",
       "version_major": 2,
       "version_minor": 0
      },
      "text/plain": [
       "A Jupyter Widget"
      ]
     },
     "metadata": {},
     "output_type": "display_data"
    },
    {
     "data": {
      "application/vnd.jupyter.widget-view+json": {
       "model_id": "20f5ebc9df6045e3a6ac122e3e30f6a4",
       "version_major": 2,
       "version_minor": 0
      },
      "text/plain": [
       "A Jupyter Widget"
      ]
     },
     "metadata": {},
     "output_type": "display_data"
    },
    {
     "data": {
      "application/vnd.jupyter.widget-view+json": {
       "model_id": "58021f78e29147c9aaff6625afbab092",
       "version_major": 2,
       "version_minor": 0
      },
      "text/plain": [
       "A Jupyter Widget"
      ]
     },
     "metadata": {},
     "output_type": "display_data"
    },
    {
     "data": {
      "application/vnd.jupyter.widget-view+json": {
       "model_id": "4b1fede9dffb4f00b6d6fedb9d0dd62b",
       "version_major": 2,
       "version_minor": 0
      },
      "text/plain": [
       "A Jupyter Widget"
      ]
     },
     "metadata": {},
     "output_type": "display_data"
    },
    {
     "data": {
      "application/vnd.jupyter.widget-view+json": {
       "model_id": "c9f00b700573456480cf373257743315",
       "version_major": 2,
       "version_minor": 0
      },
      "text/plain": [
       "A Jupyter Widget"
      ]
     },
     "metadata": {},
     "output_type": "display_data"
    },
    {
     "data": {
      "application/vnd.jupyter.widget-view+json": {
       "model_id": "e7ff3c802678466abaa54d1cc3db0fdf",
       "version_major": 2,
       "version_minor": 0
      },
      "text/plain": [
       "A Jupyter Widget"
      ]
     },
     "metadata": {},
     "output_type": "display_data"
    },
    {
     "data": {
      "application/vnd.jupyter.widget-view+json": {
       "model_id": "247b57fa5c74433386e33b12fc4d7821",
       "version_major": 2,
       "version_minor": 0
      },
      "text/plain": [
       "A Jupyter Widget"
      ]
     },
     "metadata": {},
     "output_type": "display_data"
    },
    {
     "data": {
      "application/vnd.jupyter.widget-view+json": {
       "model_id": "9ad5a57fc09d461da101b03f3ae1afd3",
       "version_major": 2,
       "version_minor": 0
      },
      "text/plain": [
       "A Jupyter Widget"
      ]
     },
     "metadata": {},
     "output_type": "display_data"
    },
    {
     "data": {
      "application/vnd.jupyter.widget-view+json": {
       "model_id": "e074851562e743f6b0fc6131758da4bb",
       "version_major": 2,
       "version_minor": 0
      },
      "text/plain": [
       "A Jupyter Widget"
      ]
     },
     "metadata": {},
     "output_type": "display_data"
    },
    {
     "data": {
      "application/vnd.jupyter.widget-view+json": {
       "model_id": "fd464e39ca5d462c9670ae848b96c436",
       "version_major": 2,
       "version_minor": 0
      },
      "text/plain": [
       "A Jupyter Widget"
      ]
     },
     "metadata": {},
     "output_type": "display_data"
    },
    {
     "data": {
      "application/vnd.jupyter.widget-view+json": {
       "model_id": "6a3a4740a75648e1904bfef0d4113ada",
       "version_major": 2,
       "version_minor": 0
      },
      "text/plain": [
       "A Jupyter Widget"
      ]
     },
     "metadata": {},
     "output_type": "display_data"
    },
    {
     "data": {
      "application/vnd.jupyter.widget-view+json": {
       "model_id": "bb52b9cc4008421d9dfb92814836a696",
       "version_major": 2,
       "version_minor": 0
      },
      "text/plain": [
       "A Jupyter Widget"
      ]
     },
     "metadata": {},
     "output_type": "display_data"
    },
    {
     "data": {
      "application/vnd.jupyter.widget-view+json": {
       "model_id": "00dd63eff50b42979ed2c6293445affc",
       "version_major": 2,
       "version_minor": 0
      },
      "text/plain": [
       "A Jupyter Widget"
      ]
     },
     "metadata": {},
     "output_type": "display_data"
    },
    {
     "data": {
      "application/vnd.jupyter.widget-view+json": {
       "model_id": "7d5e51ea51524840bd2eaef33f4c61c6",
       "version_major": 2,
       "version_minor": 0
      },
      "text/plain": [
       "A Jupyter Widget"
      ]
     },
     "metadata": {},
     "output_type": "display_data"
    },
    {
     "data": {
      "application/vnd.jupyter.widget-view+json": {
       "model_id": "a7bd4b46036b4b1795f7f193b2a93919",
       "version_major": 2,
       "version_minor": 0
      },
      "text/plain": [
       "A Jupyter Widget"
      ]
     },
     "metadata": {},
     "output_type": "display_data"
    },
    {
     "data": {
      "application/vnd.jupyter.widget-view+json": {
       "model_id": "2274d6a811b54ddd82ec4fbd96a3e99a",
       "version_major": 2,
       "version_minor": 0
      },
      "text/plain": [
       "A Jupyter Widget"
      ]
     },
     "metadata": {},
     "output_type": "display_data"
    },
    {
     "data": {
      "application/vnd.jupyter.widget-view+json": {
       "model_id": "26bda67039ee4734acec465e6a5bc98f",
       "version_major": 2,
       "version_minor": 0
      },
      "text/plain": [
       "A Jupyter Widget"
      ]
     },
     "metadata": {},
     "output_type": "display_data"
    },
    {
     "data": {
      "application/vnd.jupyter.widget-view+json": {
       "model_id": "e5bd0c4a85544bd388bc921e6e0a8a9f",
       "version_major": 2,
       "version_minor": 0
      },
      "text/plain": [
       "A Jupyter Widget"
      ]
     },
     "metadata": {},
     "output_type": "display_data"
    },
    {
     "data": {
      "application/vnd.jupyter.widget-view+json": {
       "model_id": "3f9cf863657744e8b157031d4187edc9",
       "version_major": 2,
       "version_minor": 0
      },
      "text/plain": [
       "A Jupyter Widget"
      ]
     },
     "metadata": {},
     "output_type": "display_data"
    },
    {
     "data": {
      "application/vnd.jupyter.widget-view+json": {
       "model_id": "e82cc634f99a4bd19c4f3a36a2fe43c0",
       "version_major": 2,
       "version_minor": 0
      },
      "text/plain": [
       "A Jupyter Widget"
      ]
     },
     "metadata": {},
     "output_type": "display_data"
    },
    {
     "data": {
      "application/vnd.jupyter.widget-view+json": {
       "model_id": "e69a7f4bd31849f3b862aace991673ea",
       "version_major": 2,
       "version_minor": 0
      },
      "text/plain": [
       "A Jupyter Widget"
      ]
     },
     "metadata": {},
     "output_type": "display_data"
    },
    {
     "data": {
      "application/vnd.jupyter.widget-view+json": {
       "model_id": "dae732c0bf14481ba39b3dc6cad025bc",
       "version_major": 2,
       "version_minor": 0
      },
      "text/plain": [
       "A Jupyter Widget"
      ]
     },
     "metadata": {},
     "output_type": "display_data"
    },
    {
     "data": {
      "application/vnd.jupyter.widget-view+json": {
       "model_id": "7acd1359e9e7436f86a9b86c75992460",
       "version_major": 2,
       "version_minor": 0
      },
      "text/plain": [
       "A Jupyter Widget"
      ]
     },
     "metadata": {},
     "output_type": "display_data"
    },
    {
     "data": {
      "application/vnd.jupyter.widget-view+json": {
       "model_id": "cbff9928eba1433d9192b592c96b27e3",
       "version_major": 2,
       "version_minor": 0
      },
      "text/plain": [
       "A Jupyter Widget"
      ]
     },
     "metadata": {},
     "output_type": "display_data"
    }
   ],
   "source": [
    "interval = 25\n",
    "times = 80\n",
    "for i in range(times):\n",
    "    trainer = training.Trainer(updater, (interval * (i + 1), 'epoch'), out='result/%02d' % i)\n",
    "    trainer.extend(extensions.Evaluator(testset, model, device=gpu_device))\n",
    "    trainer.extend(extensions.LogReport())\n",
    "    trainer.extend(PrintReport(['epoch', 'main/loss', 'validation/main/loss',\n",
    "         'main/accuracy', 'validation/main/accuracy', 'elapsed_time']))\n",
    "    trainer.extend(ProgressBar(update_interval=10))\n",
    "    trainer.run()\n",
    "    model.to_cpu()\n",
    "    serializers.save_npz('agent/snapshot_%02d.npz' % i, model.predictor)\n",
    "    model.to_gpu(gpu_device)"
   ]
  },
  {
   "cell_type": "code",
   "execution_count": 37,
   "metadata": {
    "scrolled": true
   },
   "outputs": [
    {
     "data": {
      "text/html": [
       "<div>\n",
       "<style>\n",
       "    .dataframe thead tr:only-child th {\n",
       "        text-align: right;\n",
       "    }\n",
       "\n",
       "    .dataframe thead th {\n",
       "        text-align: left;\n",
       "    }\n",
       "\n",
       "    .dataframe tbody tr th {\n",
       "        vertical-align: top;\n",
       "    }\n",
       "</style>\n",
       "<table border=\"1\" class=\"dataframe\">\n",
       "  <thead>\n",
       "    <tr style=\"text-align: right;\">\n",
       "      <th></th>\n",
       "      <th>pma12</th>\n",
       "      <th>pma96</th>\n",
       "      <th>pma672</th>\n",
       "      <th>ma4_36</th>\n",
       "      <th>ma12_96</th>\n",
       "      <th>ac12_12</th>\n",
       "      <th>ac96_96</th>\n",
       "      <th>vma12</th>\n",
       "      <th>vma96</th>\n",
       "      <th>vma672</th>\n",
       "      <th>...</th>\n",
       "      <th>pZ96_s87</th>\n",
       "      <th>pZ96_s88</th>\n",
       "      <th>pZ96_s89</th>\n",
       "      <th>pZ96_s90</th>\n",
       "      <th>pZ96_s91</th>\n",
       "      <th>pZ96_s92</th>\n",
       "      <th>pZ96_s93</th>\n",
       "      <th>pZ96_s94</th>\n",
       "      <th>pZ96_s95</th>\n",
       "      <th>utctime</th>\n",
       "    </tr>\n",
       "  </thead>\n",
       "  <tbody>\n",
       "    <tr>\n",
       "      <th>0</th>\n",
       "      <td>NaN</td>\n",
       "      <td>NaN</td>\n",
       "      <td>NaN</td>\n",
       "      <td>NaN</td>\n",
       "      <td>NaN</td>\n",
       "      <td>NaN</td>\n",
       "      <td>NaN</td>\n",
       "      <td>0.000000</td>\n",
       "      <td>NaN</td>\n",
       "      <td>NaN</td>\n",
       "      <td>...</td>\n",
       "      <td>NaN</td>\n",
       "      <td>NaN</td>\n",
       "      <td>NaN</td>\n",
       "      <td>NaN</td>\n",
       "      <td>NaN</td>\n",
       "      <td>NaN</td>\n",
       "      <td>NaN</td>\n",
       "      <td>NaN</td>\n",
       "      <td>NaN</td>\n",
       "      <td>0.000000</td>\n",
       "    </tr>\n",
       "    <tr>\n",
       "      <th>1</th>\n",
       "      <td>NaN</td>\n",
       "      <td>NaN</td>\n",
       "      <td>NaN</td>\n",
       "      <td>NaN</td>\n",
       "      <td>NaN</td>\n",
       "      <td>NaN</td>\n",
       "      <td>NaN</td>\n",
       "      <td>0.000000</td>\n",
       "      <td>NaN</td>\n",
       "      <td>NaN</td>\n",
       "      <td>...</td>\n",
       "      <td>NaN</td>\n",
       "      <td>NaN</td>\n",
       "      <td>NaN</td>\n",
       "      <td>NaN</td>\n",
       "      <td>NaN</td>\n",
       "      <td>NaN</td>\n",
       "      <td>NaN</td>\n",
       "      <td>NaN</td>\n",
       "      <td>NaN</td>\n",
       "      <td>0.010417</td>\n",
       "    </tr>\n",
       "    <tr>\n",
       "      <th>2</th>\n",
       "      <td>NaN</td>\n",
       "      <td>NaN</td>\n",
       "      <td>NaN</td>\n",
       "      <td>NaN</td>\n",
       "      <td>NaN</td>\n",
       "      <td>NaN</td>\n",
       "      <td>NaN</td>\n",
       "      <td>0.000000</td>\n",
       "      <td>NaN</td>\n",
       "      <td>NaN</td>\n",
       "      <td>...</td>\n",
       "      <td>NaN</td>\n",
       "      <td>NaN</td>\n",
       "      <td>NaN</td>\n",
       "      <td>NaN</td>\n",
       "      <td>NaN</td>\n",
       "      <td>NaN</td>\n",
       "      <td>NaN</td>\n",
       "      <td>NaN</td>\n",
       "      <td>NaN</td>\n",
       "      <td>0.020833</td>\n",
       "    </tr>\n",
       "    <tr>\n",
       "      <th>3</th>\n",
       "      <td>NaN</td>\n",
       "      <td>NaN</td>\n",
       "      <td>NaN</td>\n",
       "      <td>NaN</td>\n",
       "      <td>NaN</td>\n",
       "      <td>NaN</td>\n",
       "      <td>NaN</td>\n",
       "      <td>0.000000</td>\n",
       "      <td>NaN</td>\n",
       "      <td>NaN</td>\n",
       "      <td>...</td>\n",
       "      <td>NaN</td>\n",
       "      <td>NaN</td>\n",
       "      <td>NaN</td>\n",
       "      <td>NaN</td>\n",
       "      <td>NaN</td>\n",
       "      <td>NaN</td>\n",
       "      <td>NaN</td>\n",
       "      <td>NaN</td>\n",
       "      <td>NaN</td>\n",
       "      <td>0.031250</td>\n",
       "    </tr>\n",
       "    <tr>\n",
       "      <th>4</th>\n",
       "      <td>NaN</td>\n",
       "      <td>NaN</td>\n",
       "      <td>NaN</td>\n",
       "      <td>NaN</td>\n",
       "      <td>NaN</td>\n",
       "      <td>NaN</td>\n",
       "      <td>NaN</td>\n",
       "      <td>0.000000</td>\n",
       "      <td>NaN</td>\n",
       "      <td>NaN</td>\n",
       "      <td>...</td>\n",
       "      <td>NaN</td>\n",
       "      <td>NaN</td>\n",
       "      <td>NaN</td>\n",
       "      <td>NaN</td>\n",
       "      <td>NaN</td>\n",
       "      <td>NaN</td>\n",
       "      <td>NaN</td>\n",
       "      <td>NaN</td>\n",
       "      <td>NaN</td>\n",
       "      <td>0.041667</td>\n",
       "    </tr>\n",
       "    <tr>\n",
       "      <th>5</th>\n",
       "      <td>NaN</td>\n",
       "      <td>NaN</td>\n",
       "      <td>NaN</td>\n",
       "      <td>NaN</td>\n",
       "      <td>NaN</td>\n",
       "      <td>NaN</td>\n",
       "      <td>NaN</td>\n",
       "      <td>0.000000</td>\n",
       "      <td>NaN</td>\n",
       "      <td>NaN</td>\n",
       "      <td>...</td>\n",
       "      <td>NaN</td>\n",
       "      <td>NaN</td>\n",
       "      <td>NaN</td>\n",
       "      <td>NaN</td>\n",
       "      <td>NaN</td>\n",
       "      <td>NaN</td>\n",
       "      <td>NaN</td>\n",
       "      <td>NaN</td>\n",
       "      <td>NaN</td>\n",
       "      <td>0.052083</td>\n",
       "    </tr>\n",
       "    <tr>\n",
       "      <th>6</th>\n",
       "      <td>NaN</td>\n",
       "      <td>NaN</td>\n",
       "      <td>NaN</td>\n",
       "      <td>NaN</td>\n",
       "      <td>NaN</td>\n",
       "      <td>NaN</td>\n",
       "      <td>NaN</td>\n",
       "      <td>0.000000</td>\n",
       "      <td>NaN</td>\n",
       "      <td>NaN</td>\n",
       "      <td>...</td>\n",
       "      <td>NaN</td>\n",
       "      <td>NaN</td>\n",
       "      <td>NaN</td>\n",
       "      <td>NaN</td>\n",
       "      <td>NaN</td>\n",
       "      <td>NaN</td>\n",
       "      <td>NaN</td>\n",
       "      <td>NaN</td>\n",
       "      <td>NaN</td>\n",
       "      <td>0.062500</td>\n",
       "    </tr>\n",
       "    <tr>\n",
       "      <th>7</th>\n",
       "      <td>NaN</td>\n",
       "      <td>NaN</td>\n",
       "      <td>NaN</td>\n",
       "      <td>NaN</td>\n",
       "      <td>NaN</td>\n",
       "      <td>NaN</td>\n",
       "      <td>NaN</td>\n",
       "      <td>0.000000</td>\n",
       "      <td>NaN</td>\n",
       "      <td>NaN</td>\n",
       "      <td>...</td>\n",
       "      <td>NaN</td>\n",
       "      <td>NaN</td>\n",
       "      <td>NaN</td>\n",
       "      <td>NaN</td>\n",
       "      <td>NaN</td>\n",
       "      <td>NaN</td>\n",
       "      <td>NaN</td>\n",
       "      <td>NaN</td>\n",
       "      <td>NaN</td>\n",
       "      <td>0.072917</td>\n",
       "    </tr>\n",
       "    <tr>\n",
       "      <th>8</th>\n",
       "      <td>NaN</td>\n",
       "      <td>NaN</td>\n",
       "      <td>NaN</td>\n",
       "      <td>NaN</td>\n",
       "      <td>NaN</td>\n",
       "      <td>NaN</td>\n",
       "      <td>NaN</td>\n",
       "      <td>0.000000</td>\n",
       "      <td>NaN</td>\n",
       "      <td>NaN</td>\n",
       "      <td>...</td>\n",
       "      <td>NaN</td>\n",
       "      <td>NaN</td>\n",
       "      <td>NaN</td>\n",
       "      <td>NaN</td>\n",
       "      <td>NaN</td>\n",
       "      <td>NaN</td>\n",
       "      <td>NaN</td>\n",
       "      <td>NaN</td>\n",
       "      <td>NaN</td>\n",
       "      <td>0.083333</td>\n",
       "    </tr>\n",
       "    <tr>\n",
       "      <th>9</th>\n",
       "      <td>NaN</td>\n",
       "      <td>NaN</td>\n",
       "      <td>NaN</td>\n",
       "      <td>NaN</td>\n",
       "      <td>NaN</td>\n",
       "      <td>NaN</td>\n",
       "      <td>NaN</td>\n",
       "      <td>0.000000</td>\n",
       "      <td>NaN</td>\n",
       "      <td>NaN</td>\n",
       "      <td>...</td>\n",
       "      <td>NaN</td>\n",
       "      <td>NaN</td>\n",
       "      <td>NaN</td>\n",
       "      <td>NaN</td>\n",
       "      <td>NaN</td>\n",
       "      <td>NaN</td>\n",
       "      <td>NaN</td>\n",
       "      <td>NaN</td>\n",
       "      <td>NaN</td>\n",
       "      <td>0.093750</td>\n",
       "    </tr>\n",
       "    <tr>\n",
       "      <th>10</th>\n",
       "      <td>NaN</td>\n",
       "      <td>NaN</td>\n",
       "      <td>NaN</td>\n",
       "      <td>NaN</td>\n",
       "      <td>NaN</td>\n",
       "      <td>NaN</td>\n",
       "      <td>NaN</td>\n",
       "      <td>0.000000</td>\n",
       "      <td>NaN</td>\n",
       "      <td>NaN</td>\n",
       "      <td>...</td>\n",
       "      <td>NaN</td>\n",
       "      <td>NaN</td>\n",
       "      <td>NaN</td>\n",
       "      <td>NaN</td>\n",
       "      <td>NaN</td>\n",
       "      <td>NaN</td>\n",
       "      <td>NaN</td>\n",
       "      <td>NaN</td>\n",
       "      <td>NaN</td>\n",
       "      <td>0.104167</td>\n",
       "    </tr>\n",
       "    <tr>\n",
       "      <th>11</th>\n",
       "      <td>NaN</td>\n",
       "      <td>NaN</td>\n",
       "      <td>NaN</td>\n",
       "      <td>NaN</td>\n",
       "      <td>NaN</td>\n",
       "      <td>NaN</td>\n",
       "      <td>NaN</td>\n",
       "      <td>0.000000</td>\n",
       "      <td>NaN</td>\n",
       "      <td>NaN</td>\n",
       "      <td>...</td>\n",
       "      <td>NaN</td>\n",
       "      <td>NaN</td>\n",
       "      <td>NaN</td>\n",
       "      <td>NaN</td>\n",
       "      <td>NaN</td>\n",
       "      <td>NaN</td>\n",
       "      <td>NaN</td>\n",
       "      <td>NaN</td>\n",
       "      <td>NaN</td>\n",
       "      <td>0.114583</td>\n",
       "    </tr>\n",
       "    <tr>\n",
       "      <th>12</th>\n",
       "      <td>NaN</td>\n",
       "      <td>NaN</td>\n",
       "      <td>NaN</td>\n",
       "      <td>NaN</td>\n",
       "      <td>NaN</td>\n",
       "      <td>NaN</td>\n",
       "      <td>NaN</td>\n",
       "      <td>0.000000</td>\n",
       "      <td>NaN</td>\n",
       "      <td>NaN</td>\n",
       "      <td>...</td>\n",
       "      <td>NaN</td>\n",
       "      <td>NaN</td>\n",
       "      <td>NaN</td>\n",
       "      <td>NaN</td>\n",
       "      <td>NaN</td>\n",
       "      <td>NaN</td>\n",
       "      <td>NaN</td>\n",
       "      <td>NaN</td>\n",
       "      <td>NaN</td>\n",
       "      <td>0.125000</td>\n",
       "    </tr>\n",
       "    <tr>\n",
       "      <th>13</th>\n",
       "      <td>NaN</td>\n",
       "      <td>NaN</td>\n",
       "      <td>NaN</td>\n",
       "      <td>NaN</td>\n",
       "      <td>NaN</td>\n",
       "      <td>NaN</td>\n",
       "      <td>NaN</td>\n",
       "      <td>0.000000</td>\n",
       "      <td>NaN</td>\n",
       "      <td>NaN</td>\n",
       "      <td>...</td>\n",
       "      <td>NaN</td>\n",
       "      <td>NaN</td>\n",
       "      <td>NaN</td>\n",
       "      <td>NaN</td>\n",
       "      <td>NaN</td>\n",
       "      <td>NaN</td>\n",
       "      <td>NaN</td>\n",
       "      <td>NaN</td>\n",
       "      <td>NaN</td>\n",
       "      <td>0.135417</td>\n",
       "    </tr>\n",
       "    <tr>\n",
       "      <th>14</th>\n",
       "      <td>NaN</td>\n",
       "      <td>NaN</td>\n",
       "      <td>NaN</td>\n",
       "      <td>NaN</td>\n",
       "      <td>NaN</td>\n",
       "      <td>NaN</td>\n",
       "      <td>NaN</td>\n",
       "      <td>0.000000</td>\n",
       "      <td>NaN</td>\n",
       "      <td>NaN</td>\n",
       "      <td>...</td>\n",
       "      <td>NaN</td>\n",
       "      <td>NaN</td>\n",
       "      <td>NaN</td>\n",
       "      <td>NaN</td>\n",
       "      <td>NaN</td>\n",
       "      <td>NaN</td>\n",
       "      <td>NaN</td>\n",
       "      <td>NaN</td>\n",
       "      <td>NaN</td>\n",
       "      <td>0.145833</td>\n",
       "    </tr>\n",
       "    <tr>\n",
       "      <th>15</th>\n",
       "      <td>NaN</td>\n",
       "      <td>NaN</td>\n",
       "      <td>NaN</td>\n",
       "      <td>NaN</td>\n",
       "      <td>NaN</td>\n",
       "      <td>NaN</td>\n",
       "      <td>NaN</td>\n",
       "      <td>0.000000</td>\n",
       "      <td>NaN</td>\n",
       "      <td>NaN</td>\n",
       "      <td>...</td>\n",
       "      <td>NaN</td>\n",
       "      <td>NaN</td>\n",
       "      <td>NaN</td>\n",
       "      <td>NaN</td>\n",
       "      <td>NaN</td>\n",
       "      <td>NaN</td>\n",
       "      <td>NaN</td>\n",
       "      <td>NaN</td>\n",
       "      <td>NaN</td>\n",
       "      <td>0.156250</td>\n",
       "    </tr>\n",
       "    <tr>\n",
       "      <th>16</th>\n",
       "      <td>NaN</td>\n",
       "      <td>NaN</td>\n",
       "      <td>NaN</td>\n",
       "      <td>NaN</td>\n",
       "      <td>NaN</td>\n",
       "      <td>NaN</td>\n",
       "      <td>NaN</td>\n",
       "      <td>0.000000</td>\n",
       "      <td>NaN</td>\n",
       "      <td>NaN</td>\n",
       "      <td>...</td>\n",
       "      <td>NaN</td>\n",
       "      <td>NaN</td>\n",
       "      <td>NaN</td>\n",
       "      <td>NaN</td>\n",
       "      <td>NaN</td>\n",
       "      <td>NaN</td>\n",
       "      <td>NaN</td>\n",
       "      <td>NaN</td>\n",
       "      <td>NaN</td>\n",
       "      <td>0.166667</td>\n",
       "    </tr>\n",
       "    <tr>\n",
       "      <th>17</th>\n",
       "      <td>NaN</td>\n",
       "      <td>NaN</td>\n",
       "      <td>NaN</td>\n",
       "      <td>NaN</td>\n",
       "      <td>NaN</td>\n",
       "      <td>NaN</td>\n",
       "      <td>NaN</td>\n",
       "      <td>0.000000</td>\n",
       "      <td>NaN</td>\n",
       "      <td>NaN</td>\n",
       "      <td>...</td>\n",
       "      <td>NaN</td>\n",
       "      <td>NaN</td>\n",
       "      <td>NaN</td>\n",
       "      <td>NaN</td>\n",
       "      <td>NaN</td>\n",
       "      <td>NaN</td>\n",
       "      <td>NaN</td>\n",
       "      <td>NaN</td>\n",
       "      <td>NaN</td>\n",
       "      <td>0.177083</td>\n",
       "    </tr>\n",
       "    <tr>\n",
       "      <th>18</th>\n",
       "      <td>NaN</td>\n",
       "      <td>NaN</td>\n",
       "      <td>NaN</td>\n",
       "      <td>NaN</td>\n",
       "      <td>NaN</td>\n",
       "      <td>NaN</td>\n",
       "      <td>NaN</td>\n",
       "      <td>0.000000</td>\n",
       "      <td>NaN</td>\n",
       "      <td>NaN</td>\n",
       "      <td>...</td>\n",
       "      <td>NaN</td>\n",
       "      <td>NaN</td>\n",
       "      <td>NaN</td>\n",
       "      <td>NaN</td>\n",
       "      <td>NaN</td>\n",
       "      <td>NaN</td>\n",
       "      <td>NaN</td>\n",
       "      <td>NaN</td>\n",
       "      <td>NaN</td>\n",
       "      <td>0.187500</td>\n",
       "    </tr>\n",
       "    <tr>\n",
       "      <th>19</th>\n",
       "      <td>NaN</td>\n",
       "      <td>NaN</td>\n",
       "      <td>NaN</td>\n",
       "      <td>NaN</td>\n",
       "      <td>NaN</td>\n",
       "      <td>NaN</td>\n",
       "      <td>NaN</td>\n",
       "      <td>0.000000</td>\n",
       "      <td>NaN</td>\n",
       "      <td>NaN</td>\n",
       "      <td>...</td>\n",
       "      <td>NaN</td>\n",
       "      <td>NaN</td>\n",
       "      <td>NaN</td>\n",
       "      <td>NaN</td>\n",
       "      <td>NaN</td>\n",
       "      <td>NaN</td>\n",
       "      <td>NaN</td>\n",
       "      <td>NaN</td>\n",
       "      <td>NaN</td>\n",
       "      <td>0.197917</td>\n",
       "    </tr>\n",
       "    <tr>\n",
       "      <th>20</th>\n",
       "      <td>NaN</td>\n",
       "      <td>NaN</td>\n",
       "      <td>NaN</td>\n",
       "      <td>NaN</td>\n",
       "      <td>NaN</td>\n",
       "      <td>NaN</td>\n",
       "      <td>NaN</td>\n",
       "      <td>0.000000</td>\n",
       "      <td>NaN</td>\n",
       "      <td>NaN</td>\n",
       "      <td>...</td>\n",
       "      <td>NaN</td>\n",
       "      <td>NaN</td>\n",
       "      <td>NaN</td>\n",
       "      <td>NaN</td>\n",
       "      <td>NaN</td>\n",
       "      <td>NaN</td>\n",
       "      <td>NaN</td>\n",
       "      <td>NaN</td>\n",
       "      <td>NaN</td>\n",
       "      <td>0.208333</td>\n",
       "    </tr>\n",
       "    <tr>\n",
       "      <th>21</th>\n",
       "      <td>NaN</td>\n",
       "      <td>NaN</td>\n",
       "      <td>NaN</td>\n",
       "      <td>NaN</td>\n",
       "      <td>NaN</td>\n",
       "      <td>NaN</td>\n",
       "      <td>NaN</td>\n",
       "      <td>0.000000</td>\n",
       "      <td>NaN</td>\n",
       "      <td>NaN</td>\n",
       "      <td>...</td>\n",
       "      <td>NaN</td>\n",
       "      <td>NaN</td>\n",
       "      <td>NaN</td>\n",
       "      <td>NaN</td>\n",
       "      <td>NaN</td>\n",
       "      <td>NaN</td>\n",
       "      <td>NaN</td>\n",
       "      <td>NaN</td>\n",
       "      <td>NaN</td>\n",
       "      <td>0.218750</td>\n",
       "    </tr>\n",
       "    <tr>\n",
       "      <th>22</th>\n",
       "      <td>NaN</td>\n",
       "      <td>NaN</td>\n",
       "      <td>NaN</td>\n",
       "      <td>NaN</td>\n",
       "      <td>NaN</td>\n",
       "      <td>NaN</td>\n",
       "      <td>NaN</td>\n",
       "      <td>0.000000</td>\n",
       "      <td>NaN</td>\n",
       "      <td>NaN</td>\n",
       "      <td>...</td>\n",
       "      <td>NaN</td>\n",
       "      <td>NaN</td>\n",
       "      <td>NaN</td>\n",
       "      <td>NaN</td>\n",
       "      <td>NaN</td>\n",
       "      <td>NaN</td>\n",
       "      <td>NaN</td>\n",
       "      <td>NaN</td>\n",
       "      <td>NaN</td>\n",
       "      <td>0.229167</td>\n",
       "    </tr>\n",
       "    <tr>\n",
       "      <th>23</th>\n",
       "      <td>NaN</td>\n",
       "      <td>NaN</td>\n",
       "      <td>NaN</td>\n",
       "      <td>NaN</td>\n",
       "      <td>NaN</td>\n",
       "      <td>NaN</td>\n",
       "      <td>NaN</td>\n",
       "      <td>0.000000</td>\n",
       "      <td>NaN</td>\n",
       "      <td>NaN</td>\n",
       "      <td>...</td>\n",
       "      <td>NaN</td>\n",
       "      <td>NaN</td>\n",
       "      <td>NaN</td>\n",
       "      <td>NaN</td>\n",
       "      <td>NaN</td>\n",
       "      <td>NaN</td>\n",
       "      <td>NaN</td>\n",
       "      <td>NaN</td>\n",
       "      <td>NaN</td>\n",
       "      <td>0.239583</td>\n",
       "    </tr>\n",
       "    <tr>\n",
       "      <th>24</th>\n",
       "      <td>NaN</td>\n",
       "      <td>NaN</td>\n",
       "      <td>NaN</td>\n",
       "      <td>NaN</td>\n",
       "      <td>NaN</td>\n",
       "      <td>NaN</td>\n",
       "      <td>NaN</td>\n",
       "      <td>0.000000</td>\n",
       "      <td>NaN</td>\n",
       "      <td>NaN</td>\n",
       "      <td>...</td>\n",
       "      <td>NaN</td>\n",
       "      <td>NaN</td>\n",
       "      <td>NaN</td>\n",
       "      <td>NaN</td>\n",
       "      <td>NaN</td>\n",
       "      <td>NaN</td>\n",
       "      <td>NaN</td>\n",
       "      <td>NaN</td>\n",
       "      <td>NaN</td>\n",
       "      <td>0.250000</td>\n",
       "    </tr>\n",
       "    <tr>\n",
       "      <th>25</th>\n",
       "      <td>NaN</td>\n",
       "      <td>NaN</td>\n",
       "      <td>NaN</td>\n",
       "      <td>NaN</td>\n",
       "      <td>NaN</td>\n",
       "      <td>NaN</td>\n",
       "      <td>NaN</td>\n",
       "      <td>0.000000</td>\n",
       "      <td>NaN</td>\n",
       "      <td>NaN</td>\n",
       "      <td>...</td>\n",
       "      <td>NaN</td>\n",
       "      <td>NaN</td>\n",
       "      <td>NaN</td>\n",
       "      <td>NaN</td>\n",
       "      <td>NaN</td>\n",
       "      <td>NaN</td>\n",
       "      <td>NaN</td>\n",
       "      <td>NaN</td>\n",
       "      <td>NaN</td>\n",
       "      <td>0.260417</td>\n",
       "    </tr>\n",
       "    <tr>\n",
       "      <th>26</th>\n",
       "      <td>NaN</td>\n",
       "      <td>NaN</td>\n",
       "      <td>NaN</td>\n",
       "      <td>NaN</td>\n",
       "      <td>NaN</td>\n",
       "      <td>NaN</td>\n",
       "      <td>NaN</td>\n",
       "      <td>0.000000</td>\n",
       "      <td>NaN</td>\n",
       "      <td>NaN</td>\n",
       "      <td>...</td>\n",
       "      <td>NaN</td>\n",
       "      <td>NaN</td>\n",
       "      <td>NaN</td>\n",
       "      <td>NaN</td>\n",
       "      <td>NaN</td>\n",
       "      <td>NaN</td>\n",
       "      <td>NaN</td>\n",
       "      <td>NaN</td>\n",
       "      <td>NaN</td>\n",
       "      <td>0.270833</td>\n",
       "    </tr>\n",
       "    <tr>\n",
       "      <th>27</th>\n",
       "      <td>NaN</td>\n",
       "      <td>NaN</td>\n",
       "      <td>NaN</td>\n",
       "      <td>NaN</td>\n",
       "      <td>NaN</td>\n",
       "      <td>NaN</td>\n",
       "      <td>NaN</td>\n",
       "      <td>0.000000</td>\n",
       "      <td>NaN</td>\n",
       "      <td>NaN</td>\n",
       "      <td>...</td>\n",
       "      <td>NaN</td>\n",
       "      <td>NaN</td>\n",
       "      <td>NaN</td>\n",
       "      <td>NaN</td>\n",
       "      <td>NaN</td>\n",
       "      <td>NaN</td>\n",
       "      <td>NaN</td>\n",
       "      <td>NaN</td>\n",
       "      <td>NaN</td>\n",
       "      <td>0.281250</td>\n",
       "    </tr>\n",
       "    <tr>\n",
       "      <th>28</th>\n",
       "      <td>NaN</td>\n",
       "      <td>NaN</td>\n",
       "      <td>NaN</td>\n",
       "      <td>NaN</td>\n",
       "      <td>NaN</td>\n",
       "      <td>NaN</td>\n",
       "      <td>NaN</td>\n",
       "      <td>0.000000</td>\n",
       "      <td>NaN</td>\n",
       "      <td>NaN</td>\n",
       "      <td>...</td>\n",
       "      <td>NaN</td>\n",
       "      <td>NaN</td>\n",
       "      <td>NaN</td>\n",
       "      <td>NaN</td>\n",
       "      <td>NaN</td>\n",
       "      <td>NaN</td>\n",
       "      <td>NaN</td>\n",
       "      <td>NaN</td>\n",
       "      <td>NaN</td>\n",
       "      <td>0.291667</td>\n",
       "    </tr>\n",
       "    <tr>\n",
       "      <th>29</th>\n",
       "      <td>NaN</td>\n",
       "      <td>NaN</td>\n",
       "      <td>NaN</td>\n",
       "      <td>NaN</td>\n",
       "      <td>NaN</td>\n",
       "      <td>NaN</td>\n",
       "      <td>NaN</td>\n",
       "      <td>0.000000</td>\n",
       "      <td>NaN</td>\n",
       "      <td>NaN</td>\n",
       "      <td>...</td>\n",
       "      <td>NaN</td>\n",
       "      <td>NaN</td>\n",
       "      <td>NaN</td>\n",
       "      <td>NaN</td>\n",
       "      <td>NaN</td>\n",
       "      <td>NaN</td>\n",
       "      <td>NaN</td>\n",
       "      <td>NaN</td>\n",
       "      <td>NaN</td>\n",
       "      <td>0.302083</td>\n",
       "    </tr>\n",
       "    <tr>\n",
       "      <th>...</th>\n",
       "      <td>...</td>\n",
       "      <td>...</td>\n",
       "      <td>...</td>\n",
       "      <td>...</td>\n",
       "      <td>...</td>\n",
       "      <td>...</td>\n",
       "      <td>...</td>\n",
       "      <td>...</td>\n",
       "      <td>...</td>\n",
       "      <td>...</td>\n",
       "      <td>...</td>\n",
       "      <td>...</td>\n",
       "      <td>...</td>\n",
       "      <td>...</td>\n",
       "      <td>...</td>\n",
       "      <td>...</td>\n",
       "      <td>...</td>\n",
       "      <td>...</td>\n",
       "      <td>...</td>\n",
       "      <td>...</td>\n",
       "      <td>...</td>\n",
       "    </tr>\n",
       "    <tr>\n",
       "      <th>65273</th>\n",
       "      <td>-0.303229</td>\n",
       "      <td>-1.298210</td>\n",
       "      <td>-1.733302</td>\n",
       "      <td>-0.959453</td>\n",
       "      <td>-1.270123</td>\n",
       "      <td>0.270441</td>\n",
       "      <td>-0.322117</td>\n",
       "      <td>0.187060</td>\n",
       "      <td>-0.324227</td>\n",
       "      <td>-0.440297</td>\n",
       "      <td>...</td>\n",
       "      <td>-1.101093</td>\n",
       "      <td>-1.021714</td>\n",
       "      <td>-1.048180</td>\n",
       "      <td>-0.968671</td>\n",
       "      <td>-1.345940</td>\n",
       "      <td>-1.789663</td>\n",
       "      <td>-2.599979</td>\n",
       "      <td>-2.308506</td>\n",
       "      <td>-1.803585</td>\n",
       "      <td>0.927083</td>\n",
       "    </tr>\n",
       "    <tr>\n",
       "      <th>65274</th>\n",
       "      <td>-0.882849</td>\n",
       "      <td>-1.626820</td>\n",
       "      <td>-1.997624</td>\n",
       "      <td>-1.047531</td>\n",
       "      <td>-1.309165</td>\n",
       "      <td>-0.420620</td>\n",
       "      <td>-0.869285</td>\n",
       "      <td>0.026463</td>\n",
       "      <td>-0.551338</td>\n",
       "      <td>-0.639716</td>\n",
       "      <td>...</td>\n",
       "      <td>-0.787506</td>\n",
       "      <td>-1.102521</td>\n",
       "      <td>-1.023073</td>\n",
       "      <td>-1.049562</td>\n",
       "      <td>-0.969984</td>\n",
       "      <td>-1.347578</td>\n",
       "      <td>-1.791684</td>\n",
       "      <td>-2.602698</td>\n",
       "      <td>-2.310974</td>\n",
       "      <td>0.937500</td>\n",
       "    </tr>\n",
       "    <tr>\n",
       "      <th>65275</th>\n",
       "      <td>-1.368445</td>\n",
       "      <td>-1.940726</td>\n",
       "      <td>-2.223906</td>\n",
       "      <td>-1.163420</td>\n",
       "      <td>-1.381489</td>\n",
       "      <td>-0.928339</td>\n",
       "      <td>-1.316737</td>\n",
       "      <td>1.196417</td>\n",
       "      <td>0.545461</td>\n",
       "      <td>0.340581</td>\n",
       "      <td>...</td>\n",
       "      <td>-0.193279</td>\n",
       "      <td>-0.794259</td>\n",
       "      <td>-1.110993</td>\n",
       "      <td>-1.031111</td>\n",
       "      <td>-1.057745</td>\n",
       "      <td>-0.977733</td>\n",
       "      <td>-1.357388</td>\n",
       "      <td>-1.803918</td>\n",
       "      <td>-2.619359</td>\n",
       "      <td>0.947917</td>\n",
       "    </tr>\n",
       "    <tr>\n",
       "      <th>65276</th>\n",
       "      <td>-1.990550</td>\n",
       "      <td>-2.359390</td>\n",
       "      <td>-2.525070</td>\n",
       "      <td>-1.338539</td>\n",
       "      <td>-1.499886</td>\n",
       "      <td>-1.485718</td>\n",
       "      <td>-1.872605</td>\n",
       "      <td>2.657318</td>\n",
       "      <td>2.375402</td>\n",
       "      <td>2.010066</td>\n",
       "      <td>...</td>\n",
       "      <td>-0.221994</td>\n",
       "      <td>-0.194730</td>\n",
       "      <td>-0.797221</td>\n",
       "      <td>-1.114751</td>\n",
       "      <td>-1.034668</td>\n",
       "      <td>-1.061369</td>\n",
       "      <td>-0.981156</td>\n",
       "      <td>-1.361765</td>\n",
       "      <td>-1.809417</td>\n",
       "      <td>0.958333</td>\n",
       "    </tr>\n",
       "    <tr>\n",
       "      <th>65277</th>\n",
       "      <td>-2.456042</td>\n",
       "      <td>-2.673556</td>\n",
       "      <td>-2.746717</td>\n",
       "      <td>-1.677350</td>\n",
       "      <td>-1.614418</td>\n",
       "      <td>-1.915140</td>\n",
       "      <td>-2.281598</td>\n",
       "      <td>1.328893</td>\n",
       "      <td>1.503079</td>\n",
       "      <td>1.244467</td>\n",
       "      <td>...</td>\n",
       "      <td>-0.307380</td>\n",
       "      <td>-0.204227</td>\n",
       "      <td>-0.177715</td>\n",
       "      <td>-0.763585</td>\n",
       "      <td>-1.072355</td>\n",
       "      <td>-0.994482</td>\n",
       "      <td>-1.020446</td>\n",
       "      <td>-0.942445</td>\n",
       "      <td>-1.312554</td>\n",
       "      <td>0.968750</td>\n",
       "    </tr>\n",
       "    <tr>\n",
       "      <th>65278</th>\n",
       "      <td>-1.406053</td>\n",
       "      <td>-2.212426</td>\n",
       "      <td>-2.304138</td>\n",
       "      <td>-1.778476</td>\n",
       "      <td>-1.698214</td>\n",
       "      <td>-0.717373</td>\n",
       "      <td>-1.302519</td>\n",
       "      <td>1.123816</td>\n",
       "      <td>1.607594</td>\n",
       "      <td>1.371540</td>\n",
       "      <td>...</td>\n",
       "      <td>0.065899</td>\n",
       "      <td>-0.289767</td>\n",
       "      <td>-0.188762</td>\n",
       "      <td>-0.162802</td>\n",
       "      <td>-0.736475</td>\n",
       "      <td>-1.038817</td>\n",
       "      <td>-0.962565</td>\n",
       "      <td>-0.987989</td>\n",
       "      <td>-0.911612</td>\n",
       "      <td>0.979167</td>\n",
       "    </tr>\n",
       "    <tr>\n",
       "      <th>65279</th>\n",
       "      <td>-0.230065</td>\n",
       "      <td>-1.680151</td>\n",
       "      <td>-1.820336</td>\n",
       "      <td>-1.640588</td>\n",
       "      <td>-1.754964</td>\n",
       "      <td>0.620811</td>\n",
       "      <td>-0.206240</td>\n",
       "      <td>-0.539650</td>\n",
       "      <td>-0.340312</td>\n",
       "      <td>-0.423268</td>\n",
       "      <td>...</td>\n",
       "      <td>0.073137</td>\n",
       "      <td>0.074210</td>\n",
       "      <td>-0.277053</td>\n",
       "      <td>-0.177299</td>\n",
       "      <td>-0.151660</td>\n",
       "      <td>-0.718232</td>\n",
       "      <td>-1.016832</td>\n",
       "      <td>-0.941523</td>\n",
       "      <td>-0.966632</td>\n",
       "      <td>0.989583</td>\n",
       "    </tr>\n",
       "    <tr>\n",
       "      <th>65280</th>\n",
       "      <td>0.172697</td>\n",
       "      <td>-1.531856</td>\n",
       "      <td>-1.673272</td>\n",
       "      <td>-1.346970</td>\n",
       "      <td>-1.809264</td>\n",
       "      <td>1.088758</td>\n",
       "      <td>0.175713</td>\n",
       "      <td>0.231311</td>\n",
       "      <td>0.703656</td>\n",
       "      <td>0.545997</td>\n",
       "      <td>...</td>\n",
       "      <td>0.054987</td>\n",
       "      <td>0.079300</td>\n",
       "      <td>0.080362</td>\n",
       "      <td>-0.267789</td>\n",
       "      <td>-0.168918</td>\n",
       "      <td>-0.143506</td>\n",
       "      <td>-0.705059</td>\n",
       "      <td>-1.001014</td>\n",
       "      <td>-0.926373</td>\n",
       "      <td>0.000000</td>\n",
       "    </tr>\n",
       "    <tr>\n",
       "      <th>65281</th>\n",
       "      <td>-1.406131</td>\n",
       "      <td>-2.355516</td>\n",
       "      <td>-2.358385</td>\n",
       "      <td>-1.204261</td>\n",
       "      <td>-1.941895</td>\n",
       "      <td>-0.574615</td>\n",
       "      <td>-1.270497</td>\n",
       "      <td>2.508079</td>\n",
       "      <td>4.208414</td>\n",
       "      <td>3.925036</td>\n",
       "      <td>...</td>\n",
       "      <td>0.069227</td>\n",
       "      <td>0.070243</td>\n",
       "      <td>0.093839</td>\n",
       "      <td>0.094871</td>\n",
       "      <td>-0.243034</td>\n",
       "      <td>-0.147073</td>\n",
       "      <td>-0.122409</td>\n",
       "      <td>-0.667435</td>\n",
       "      <td>-0.954680</td>\n",
       "      <td>0.010417</td>\n",
       "    </tr>\n",
       "    <tr>\n",
       "      <th>65282</th>\n",
       "      <td>-0.932635</td>\n",
       "      <td>-2.180657</td>\n",
       "      <td>-2.192992</td>\n",
       "      <td>-1.167228</td>\n",
       "      <td>-2.027556</td>\n",
       "      <td>0.060658</td>\n",
       "      <td>-0.813237</td>\n",
       "      <td>0.933137</td>\n",
       "      <td>2.310875</td>\n",
       "      <td>2.183638</td>\n",
       "      <td>...</td>\n",
       "      <td>0.402320</td>\n",
       "      <td>0.082118</td>\n",
       "      <td>0.083109</td>\n",
       "      <td>0.106135</td>\n",
       "      <td>0.107141</td>\n",
       "      <td>-0.222591</td>\n",
       "      <td>-0.128951</td>\n",
       "      <td>-0.104884</td>\n",
       "      <td>-0.636728</td>\n",
       "      <td>0.020833</td>\n",
       "    </tr>\n",
       "    <tr>\n",
       "      <th>65283</th>\n",
       "      <td>-0.646429</td>\n",
       "      <td>-2.068298</td>\n",
       "      <td>-2.089424</td>\n",
       "      <td>-1.273196</td>\n",
       "      <td>-2.080325</td>\n",
       "      <td>0.437387</td>\n",
       "      <td>-0.525170</td>\n",
       "      <td>0.494641</td>\n",
       "      <td>1.693357</td>\n",
       "      <td>1.602162</td>\n",
       "      <td>...</td>\n",
       "      <td>0.664116</td>\n",
       "      <td>0.409291</td>\n",
       "      <td>0.096770</td>\n",
       "      <td>0.097737</td>\n",
       "      <td>0.120210</td>\n",
       "      <td>0.121193</td>\n",
       "      <td>-0.200631</td>\n",
       "      <td>-0.109236</td>\n",
       "      <td>-0.085746</td>\n",
       "      <td>0.031250</td>\n",
       "    </tr>\n",
       "    <tr>\n",
       "      <th>65284</th>\n",
       "      <td>0.130081</td>\n",
       "      <td>-1.720795</td>\n",
       "      <td>-1.798117</td>\n",
       "      <td>-1.337630</td>\n",
       "      <td>-2.081337</td>\n",
       "      <td>1.356396</td>\n",
       "      <td>0.232802</td>\n",
       "      <td>0.156750</td>\n",
       "      <td>1.341899</td>\n",
       "      <td>1.279301</td>\n",
       "      <td>...</td>\n",
       "      <td>0.886629</td>\n",
       "      <td>0.670556</td>\n",
       "      <td>0.420351</td>\n",
       "      <td>0.113498</td>\n",
       "      <td>0.114448</td>\n",
       "      <td>0.136513</td>\n",
       "      <td>0.137478</td>\n",
       "      <td>-0.178509</td>\n",
       "      <td>-0.088772</td>\n",
       "      <td>0.041667</td>\n",
       "    </tr>\n",
       "    <tr>\n",
       "      <th>65285</th>\n",
       "      <td>0.825472</td>\n",
       "      <td>-1.433155</td>\n",
       "      <td>-1.556611</td>\n",
       "      <td>-1.050843</td>\n",
       "      <td>-2.070267</td>\n",
       "      <td>2.098732</td>\n",
       "      <td>0.910283</td>\n",
       "      <td>-0.655418</td>\n",
       "      <td>0.142348</td>\n",
       "      <td>0.097452</td>\n",
       "      <td>...</td>\n",
       "      <td>0.897150</td>\n",
       "      <td>0.890686</td>\n",
       "      <td>0.677358</td>\n",
       "      <td>0.430332</td>\n",
       "      <td>0.127377</td>\n",
       "      <td>0.128315</td>\n",
       "      <td>0.150100</td>\n",
       "      <td>0.151053</td>\n",
       "      <td>-0.160919</td>\n",
       "      <td>0.052083</td>\n",
       "    </tr>\n",
       "    <tr>\n",
       "      <th>65286</th>\n",
       "      <td>0.644532</td>\n",
       "      <td>-1.493249</td>\n",
       "      <td>-1.606012</td>\n",
       "      <td>-0.819749</td>\n",
       "      <td>-2.037885</td>\n",
       "      <td>1.700871</td>\n",
       "      <td>0.754549</td>\n",
       "      <td>-0.476512</td>\n",
       "      <td>0.475462</td>\n",
       "      <td>0.429578</td>\n",
       "      <td>...</td>\n",
       "      <td>0.614428</td>\n",
       "      <td>0.900061</td>\n",
       "      <td>0.893685</td>\n",
       "      <td>0.683315</td>\n",
       "      <td>0.439713</td>\n",
       "      <td>0.140958</td>\n",
       "      <td>0.141883</td>\n",
       "      <td>0.163366</td>\n",
       "      <td>0.164306</td>\n",
       "      <td>0.062500</td>\n",
       "    </tr>\n",
       "    <tr>\n",
       "      <th>65287</th>\n",
       "      <td>0.738411</td>\n",
       "      <td>-1.418641</td>\n",
       "      <td>-1.547398</td>\n",
       "      <td>-0.588912</td>\n",
       "      <td>-1.973038</td>\n",
       "      <td>1.576175</td>\n",
       "      <td>0.863460</td>\n",
       "      <td>-0.403044</td>\n",
       "      <td>0.601180</td>\n",
       "      <td>0.564935</td>\n",
       "      <td>...</td>\n",
       "      <td>0.291524</td>\n",
       "      <td>0.624637</td>\n",
       "      <td>0.906637</td>\n",
       "      <td>0.900343</td>\n",
       "      <td>0.692647</td>\n",
       "      <td>0.452144</td>\n",
       "      <td>0.157188</td>\n",
       "      <td>0.158101</td>\n",
       "      <td>0.179311</td>\n",
       "      <td>0.072917</td>\n",
       "    </tr>\n",
       "    <tr>\n",
       "      <th>65288</th>\n",
       "      <td>1.113244</td>\n",
       "      <td>-1.197345</td>\n",
       "      <td>-1.365889</td>\n",
       "      <td>-0.408421</td>\n",
       "      <td>-1.861713</td>\n",
       "      <td>1.667700</td>\n",
       "      <td>1.230889</td>\n",
       "      <td>-0.375654</td>\n",
       "      <td>0.551198</td>\n",
       "      <td>0.530033</td>\n",
       "      <td>...</td>\n",
       "      <td>0.674106</td>\n",
       "      <td>0.304666</td>\n",
       "      <td>0.634703</td>\n",
       "      <td>0.914098</td>\n",
       "      <td>0.907862</td>\n",
       "      <td>0.702085</td>\n",
       "      <td>0.463803</td>\n",
       "      <td>0.171571</td>\n",
       "      <td>0.172475</td>\n",
       "      <td>0.083333</td>\n",
       "    </tr>\n",
       "    <tr>\n",
       "      <th>65289</th>\n",
       "      <td>2.008999</td>\n",
       "      <td>-0.711793</td>\n",
       "      <td>-0.962539</td>\n",
       "      <td>-0.169801</td>\n",
       "      <td>-1.688538</td>\n",
       "      <td>2.208898</td>\n",
       "      <td>2.080507</td>\n",
       "      <td>0.605564</td>\n",
       "      <td>2.091486</td>\n",
       "      <td>2.112494</td>\n",
       "      <td>...</td>\n",
       "      <td>0.808014</td>\n",
       "      <td>0.682242</td>\n",
       "      <td>0.314070</td>\n",
       "      <td>0.642974</td>\n",
       "      <td>0.921410</td>\n",
       "      <td>0.915196</td>\n",
       "      <td>0.710125</td>\n",
       "      <td>0.472660</td>\n",
       "      <td>0.181431</td>\n",
       "      <td>0.093750</td>\n",
       "    </tr>\n",
       "    <tr>\n",
       "      <th>65290</th>\n",
       "      <td>1.650840</td>\n",
       "      <td>-0.745500</td>\n",
       "      <td>-0.992817</td>\n",
       "      <td>0.085887</td>\n",
       "      <td>-1.559667</td>\n",
       "      <td>1.498461</td>\n",
       "      <td>1.733007</td>\n",
       "      <td>-0.762020</td>\n",
       "      <td>-0.084490</td>\n",
       "      <td>-0.072052</td>\n",
       "      <td>...</td>\n",
       "      <td>1.132488</td>\n",
       "      <td>0.815940</td>\n",
       "      <td>0.690647</td>\n",
       "      <td>0.323878</td>\n",
       "      <td>0.651529</td>\n",
       "      <td>0.928904</td>\n",
       "      <td>0.922714</td>\n",
       "      <td>0.718424</td>\n",
       "      <td>0.481864</td>\n",
       "      <td>0.104167</td>\n",
       "    </tr>\n",
       "    <tr>\n",
       "      <th>65291</th>\n",
       "      <td>2.013444</td>\n",
       "      <td>-0.518281</td>\n",
       "      <td>-0.808027</td>\n",
       "      <td>0.406832</td>\n",
       "      <td>-1.455903</td>\n",
       "      <td>1.684302</td>\n",
       "      <td>2.076025</td>\n",
       "      <td>-0.734141</td>\n",
       "      <td>-0.031595</td>\n",
       "      <td>-0.012667</td>\n",
       "      <td>...</td>\n",
       "      <td>1.139065</td>\n",
       "      <td>1.143206</td>\n",
       "      <td>0.826946</td>\n",
       "      <td>0.701767</td>\n",
       "      <td>0.335332</td>\n",
       "      <td>0.662685</td>\n",
       "      <td>0.939808</td>\n",
       "      <td>0.933622</td>\n",
       "      <td>0.729519</td>\n",
       "      <td>0.114583</td>\n",
       "    </tr>\n",
       "    <tr>\n",
       "      <th>65292</th>\n",
       "      <td>2.156428</td>\n",
       "      <td>-0.375475</td>\n",
       "      <td>-0.695743</td>\n",
       "      <td>0.703036</td>\n",
       "      <td>-1.353595</td>\n",
       "      <td>1.650345</td>\n",
       "      <td>2.210167</td>\n",
       "      <td>-0.589618</td>\n",
       "      <td>0.164048</td>\n",
       "      <td>0.195760</td>\n",
       "      <td>...</td>\n",
       "      <td>1.036082</td>\n",
       "      <td>1.153717</td>\n",
       "      <td>1.157864</td>\n",
       "      <td>0.841120</td>\n",
       "      <td>0.715749</td>\n",
       "      <td>0.348752</td>\n",
       "      <td>0.676606</td>\n",
       "      <td>0.954154</td>\n",
       "      <td>0.947959</td>\n",
       "      <td>0.125000</td>\n",
       "    </tr>\n",
       "    <tr>\n",
       "      <th>65293</th>\n",
       "      <td>1.736826</td>\n",
       "      <td>-0.399565</td>\n",
       "      <td>-0.724960</td>\n",
       "      <td>0.816675</td>\n",
       "      <td>-1.184721</td>\n",
       "      <td>0.873951</td>\n",
       "      <td>1.812051</td>\n",
       "      <td>-1.376299</td>\n",
       "      <td>-1.146664</td>\n",
       "      <td>-1.135457</td>\n",
       "      <td>...</td>\n",
       "      <td>0.834434</td>\n",
       "      <td>1.055127</td>\n",
       "      <td>1.173148</td>\n",
       "      <td>1.177309</td>\n",
       "      <td>0.859525</td>\n",
       "      <td>0.733743</td>\n",
       "      <td>0.365541</td>\n",
       "      <td>0.694471</td>\n",
       "      <td>0.972930</td>\n",
       "      <td>0.135417</td>\n",
       "    </tr>\n",
       "    <tr>\n",
       "      <th>65294</th>\n",
       "      <td>1.070795</td>\n",
       "      <td>-0.542748</td>\n",
       "      <td>-0.855202</td>\n",
       "      <td>0.894790</td>\n",
       "      <td>-1.042259</td>\n",
       "      <td>-0.054277</td>\n",
       "      <td>1.181990</td>\n",
       "      <td>-0.121136</td>\n",
       "      <td>0.389534</td>\n",
       "      <td>0.399951</td>\n",
       "      <td>...</td>\n",
       "      <td>0.777599</td>\n",
       "      <td>0.854122</td>\n",
       "      <td>1.075353</td>\n",
       "      <td>1.193661</td>\n",
       "      <td>1.197832</td>\n",
       "      <td>0.879274</td>\n",
       "      <td>0.753186</td>\n",
       "      <td>0.384088</td>\n",
       "      <td>0.713819</td>\n",
       "      <td>0.145833</td>\n",
       "    </tr>\n",
       "    <tr>\n",
       "      <th>65295</th>\n",
       "      <td>0.224043</td>\n",
       "      <td>-0.775774</td>\n",
       "      <td>-1.058523</td>\n",
       "      <td>0.807979</td>\n",
       "      <td>-0.929673</td>\n",
       "      <td>-1.053620</td>\n",
       "      <td>0.378273</td>\n",
       "      <td>-0.400828</td>\n",
       "      <td>-0.058313</td>\n",
       "      <td>-0.058993</td>\n",
       "      <td>...</td>\n",
       "      <td>1.033766</td>\n",
       "      <td>0.793491</td>\n",
       "      <td>0.869844</td>\n",
       "      <td>1.090582</td>\n",
       "      <td>1.208626</td>\n",
       "      <td>1.212788</td>\n",
       "      <td>0.894940</td>\n",
       "      <td>0.769133</td>\n",
       "      <td>0.400858</td>\n",
       "      <td>0.156250</td>\n",
       "    </tr>\n",
       "    <tr>\n",
       "      <th>65296</th>\n",
       "      <td>0.513287</td>\n",
       "      <td>-0.572929</td>\n",
       "      <td>-0.892217</td>\n",
       "      <td>0.731424</td>\n",
       "      <td>-0.832844</td>\n",
       "      <td>-0.783226</td>\n",
       "      <td>0.649306</td>\n",
       "      <td>-0.730478</td>\n",
       "      <td>-0.535023</td>\n",
       "      <td>-0.542916</td>\n",
       "      <td>...</td>\n",
       "      <td>1.341899</td>\n",
       "      <td>1.043672</td>\n",
       "      <td>0.803928</td>\n",
       "      <td>0.880112</td>\n",
       "      <td>1.100363</td>\n",
       "      <td>1.218147</td>\n",
       "      <td>1.222300</td>\n",
       "      <td>0.905153</td>\n",
       "      <td>0.779623</td>\n",
       "      <td>0.166667</td>\n",
       "    </tr>\n",
       "    <tr>\n",
       "      <th>65297</th>\n",
       "      <td>0.787287</td>\n",
       "      <td>-0.381225</td>\n",
       "      <td>-0.739068</td>\n",
       "      <td>0.711407</td>\n",
       "      <td>-0.741535</td>\n",
       "      <td>-0.479447</td>\n",
       "      <td>0.910343</td>\n",
       "      <td>-0.286478</td>\n",
       "      <td>-0.052770</td>\n",
       "      <td>-0.069660</td>\n",
       "      <td>...</td>\n",
       "      <td>1.161566</td>\n",
       "      <td>1.358145</td>\n",
       "      <td>1.059464</td>\n",
       "      <td>0.819354</td>\n",
       "      <td>0.895655</td>\n",
       "      <td>1.116241</td>\n",
       "      <td>1.234205</td>\n",
       "      <td>1.238364</td>\n",
       "      <td>0.920734</td>\n",
       "      <td>0.177083</td>\n",
       "    </tr>\n",
       "    <tr>\n",
       "      <th>65298</th>\n",
       "      <td>0.854908</td>\n",
       "      <td>-0.253606</td>\n",
       "      <td>-0.640596</td>\n",
       "      <td>0.783749</td>\n",
       "      <td>-0.633025</td>\n",
       "      <td>-0.424260</td>\n",
       "      <td>0.974417</td>\n",
       "      <td>-0.279890</td>\n",
       "      <td>-0.069919</td>\n",
       "      <td>-0.100835</td>\n",
       "      <td>...</td>\n",
       "      <td>1.115902</td>\n",
       "      <td>1.180030</td>\n",
       "      <td>1.377291</td>\n",
       "      <td>1.077574</td>\n",
       "      <td>0.836631</td>\n",
       "      <td>0.913196</td>\n",
       "      <td>1.134548</td>\n",
       "      <td>1.252921</td>\n",
       "      <td>1.257095</td>\n",
       "      <td>0.187500</td>\n",
       "    </tr>\n",
       "    <tr>\n",
       "      <th>65299</th>\n",
       "      <td>1.103651</td>\n",
       "      <td>-0.040038</td>\n",
       "      <td>-0.472848</td>\n",
       "      <td>1.024002</td>\n",
       "      <td>-0.510138</td>\n",
       "      <td>-0.191088</td>\n",
       "      <td>1.214849</td>\n",
       "      <td>-0.781015</td>\n",
       "      <td>-0.677244</td>\n",
       "      <td>-0.696581</td>\n",
       "      <td>...</td>\n",
       "      <td>1.383541</td>\n",
       "      <td>1.140911</td>\n",
       "      <td>1.205565</td>\n",
       "      <td>1.404445</td>\n",
       "      <td>1.102268</td>\n",
       "      <td>0.859347</td>\n",
       "      <td>0.936541</td>\n",
       "      <td>1.159710</td>\n",
       "      <td>1.279054</td>\n",
       "      <td>0.197917</td>\n",
       "    </tr>\n",
       "    <tr>\n",
       "      <th>65300</th>\n",
       "      <td>0.736605</td>\n",
       "      <td>-0.093490</td>\n",
       "      <td>-0.530281</td>\n",
       "      <td>1.179470</td>\n",
       "      <td>-0.410257</td>\n",
       "      <td>-0.560924</td>\n",
       "      <td>0.869147</td>\n",
       "      <td>-0.589438</td>\n",
       "      <td>-0.540193</td>\n",
       "      <td>-0.565321</td>\n",
       "      <td>...</td>\n",
       "      <td>1.609114</td>\n",
       "      <td>1.411868</td>\n",
       "      <td>1.167224</td>\n",
       "      <td>1.232414</td>\n",
       "      <td>1.432945</td>\n",
       "      <td>1.128260</td>\n",
       "      <td>0.883324</td>\n",
       "      <td>0.961158</td>\n",
       "      <td>1.186179</td>\n",
       "      <td>0.208333</td>\n",
       "    </tr>\n",
       "    <tr>\n",
       "      <th>65301</th>\n",
       "      <td>0.211472</td>\n",
       "      <td>-0.265465</td>\n",
       "      <td>-0.687541</td>\n",
       "      <td>1.195662</td>\n",
       "      <td>-0.368308</td>\n",
       "      <td>-0.963843</td>\n",
       "      <td>0.373834</td>\n",
       "      <td>0.220844</td>\n",
       "      <td>0.046761</td>\n",
       "      <td>0.005169</td>\n",
       "      <td>...</td>\n",
       "      <td>1.908189</td>\n",
       "      <td>1.636977</td>\n",
       "      <td>1.438510</td>\n",
       "      <td>1.192353</td>\n",
       "      <td>1.257947</td>\n",
       "      <td>1.459718</td>\n",
       "      <td>1.153149</td>\n",
       "      <td>0.906697</td>\n",
       "      <td>0.985013</td>\n",
       "      <td>0.218750</td>\n",
       "    </tr>\n",
       "    <tr>\n",
       "      <th>65302</th>\n",
       "      <td>0.210343</td>\n",
       "      <td>-0.221491</td>\n",
       "      <td>-0.659881</td>\n",
       "      <td>1.180323</td>\n",
       "      <td>-0.322035</td>\n",
       "      <td>-0.836202</td>\n",
       "      <td>0.371601</td>\n",
       "      <td>-1.328412</td>\n",
       "      <td>-1.345181</td>\n",
       "      <td>-1.355358</td>\n",
       "      <td>...</td>\n",
       "      <td>2.041249</td>\n",
       "      <td>1.931220</td>\n",
       "      <td>1.658925</td>\n",
       "      <td>1.459667</td>\n",
       "      <td>1.212528</td>\n",
       "      <td>1.278383</td>\n",
       "      <td>1.480959</td>\n",
       "      <td>1.173167</td>\n",
       "      <td>0.925732</td>\n",
       "      <td>0.229167</td>\n",
       "    </tr>\n",
       "  </tbody>\n",
       "</table>\n",
       "<p>65303 rows × 121 columns</p>\n",
       "</div>"
      ],
      "text/plain": [
       "          pma12     pma96    pma672    ma4_36   ma12_96   ac12_12   ac96_96  \\\n",
       "0           NaN       NaN       NaN       NaN       NaN       NaN       NaN   \n",
       "1           NaN       NaN       NaN       NaN       NaN       NaN       NaN   \n",
       "2           NaN       NaN       NaN       NaN       NaN       NaN       NaN   \n",
       "3           NaN       NaN       NaN       NaN       NaN       NaN       NaN   \n",
       "4           NaN       NaN       NaN       NaN       NaN       NaN       NaN   \n",
       "5           NaN       NaN       NaN       NaN       NaN       NaN       NaN   \n",
       "6           NaN       NaN       NaN       NaN       NaN       NaN       NaN   \n",
       "7           NaN       NaN       NaN       NaN       NaN       NaN       NaN   \n",
       "8           NaN       NaN       NaN       NaN       NaN       NaN       NaN   \n",
       "9           NaN       NaN       NaN       NaN       NaN       NaN       NaN   \n",
       "10          NaN       NaN       NaN       NaN       NaN       NaN       NaN   \n",
       "11          NaN       NaN       NaN       NaN       NaN       NaN       NaN   \n",
       "12          NaN       NaN       NaN       NaN       NaN       NaN       NaN   \n",
       "13          NaN       NaN       NaN       NaN       NaN       NaN       NaN   \n",
       "14          NaN       NaN       NaN       NaN       NaN       NaN       NaN   \n",
       "15          NaN       NaN       NaN       NaN       NaN       NaN       NaN   \n",
       "16          NaN       NaN       NaN       NaN       NaN       NaN       NaN   \n",
       "17          NaN       NaN       NaN       NaN       NaN       NaN       NaN   \n",
       "18          NaN       NaN       NaN       NaN       NaN       NaN       NaN   \n",
       "19          NaN       NaN       NaN       NaN       NaN       NaN       NaN   \n",
       "20          NaN       NaN       NaN       NaN       NaN       NaN       NaN   \n",
       "21          NaN       NaN       NaN       NaN       NaN       NaN       NaN   \n",
       "22          NaN       NaN       NaN       NaN       NaN       NaN       NaN   \n",
       "23          NaN       NaN       NaN       NaN       NaN       NaN       NaN   \n",
       "24          NaN       NaN       NaN       NaN       NaN       NaN       NaN   \n",
       "25          NaN       NaN       NaN       NaN       NaN       NaN       NaN   \n",
       "26          NaN       NaN       NaN       NaN       NaN       NaN       NaN   \n",
       "27          NaN       NaN       NaN       NaN       NaN       NaN       NaN   \n",
       "28          NaN       NaN       NaN       NaN       NaN       NaN       NaN   \n",
       "29          NaN       NaN       NaN       NaN       NaN       NaN       NaN   \n",
       "...         ...       ...       ...       ...       ...       ...       ...   \n",
       "65273 -0.303229 -1.298210 -1.733302 -0.959453 -1.270123  0.270441 -0.322117   \n",
       "65274 -0.882849 -1.626820 -1.997624 -1.047531 -1.309165 -0.420620 -0.869285   \n",
       "65275 -1.368445 -1.940726 -2.223906 -1.163420 -1.381489 -0.928339 -1.316737   \n",
       "65276 -1.990550 -2.359390 -2.525070 -1.338539 -1.499886 -1.485718 -1.872605   \n",
       "65277 -2.456042 -2.673556 -2.746717 -1.677350 -1.614418 -1.915140 -2.281598   \n",
       "65278 -1.406053 -2.212426 -2.304138 -1.778476 -1.698214 -0.717373 -1.302519   \n",
       "65279 -0.230065 -1.680151 -1.820336 -1.640588 -1.754964  0.620811 -0.206240   \n",
       "65280  0.172697 -1.531856 -1.673272 -1.346970 -1.809264  1.088758  0.175713   \n",
       "65281 -1.406131 -2.355516 -2.358385 -1.204261 -1.941895 -0.574615 -1.270497   \n",
       "65282 -0.932635 -2.180657 -2.192992 -1.167228 -2.027556  0.060658 -0.813237   \n",
       "65283 -0.646429 -2.068298 -2.089424 -1.273196 -2.080325  0.437387 -0.525170   \n",
       "65284  0.130081 -1.720795 -1.798117 -1.337630 -2.081337  1.356396  0.232802   \n",
       "65285  0.825472 -1.433155 -1.556611 -1.050843 -2.070267  2.098732  0.910283   \n",
       "65286  0.644532 -1.493249 -1.606012 -0.819749 -2.037885  1.700871  0.754549   \n",
       "65287  0.738411 -1.418641 -1.547398 -0.588912 -1.973038  1.576175  0.863460   \n",
       "65288  1.113244 -1.197345 -1.365889 -0.408421 -1.861713  1.667700  1.230889   \n",
       "65289  2.008999 -0.711793 -0.962539 -0.169801 -1.688538  2.208898  2.080507   \n",
       "65290  1.650840 -0.745500 -0.992817  0.085887 -1.559667  1.498461  1.733007   \n",
       "65291  2.013444 -0.518281 -0.808027  0.406832 -1.455903  1.684302  2.076025   \n",
       "65292  2.156428 -0.375475 -0.695743  0.703036 -1.353595  1.650345  2.210167   \n",
       "65293  1.736826 -0.399565 -0.724960  0.816675 -1.184721  0.873951  1.812051   \n",
       "65294  1.070795 -0.542748 -0.855202  0.894790 -1.042259 -0.054277  1.181990   \n",
       "65295  0.224043 -0.775774 -1.058523  0.807979 -0.929673 -1.053620  0.378273   \n",
       "65296  0.513287 -0.572929 -0.892217  0.731424 -0.832844 -0.783226  0.649306   \n",
       "65297  0.787287 -0.381225 -0.739068  0.711407 -0.741535 -0.479447  0.910343   \n",
       "65298  0.854908 -0.253606 -0.640596  0.783749 -0.633025 -0.424260  0.974417   \n",
       "65299  1.103651 -0.040038 -0.472848  1.024002 -0.510138 -0.191088  1.214849   \n",
       "65300  0.736605 -0.093490 -0.530281  1.179470 -0.410257 -0.560924  0.869147   \n",
       "65301  0.211472 -0.265465 -0.687541  1.195662 -0.368308 -0.963843  0.373834   \n",
       "65302  0.210343 -0.221491 -0.659881  1.180323 -0.322035 -0.836202  0.371601   \n",
       "\n",
       "          vma12     vma96    vma672    ...     pZ96_s87  pZ96_s88  pZ96_s89  \\\n",
       "0      0.000000       NaN       NaN    ...          NaN       NaN       NaN   \n",
       "1      0.000000       NaN       NaN    ...          NaN       NaN       NaN   \n",
       "2      0.000000       NaN       NaN    ...          NaN       NaN       NaN   \n",
       "3      0.000000       NaN       NaN    ...          NaN       NaN       NaN   \n",
       "4      0.000000       NaN       NaN    ...          NaN       NaN       NaN   \n",
       "5      0.000000       NaN       NaN    ...          NaN       NaN       NaN   \n",
       "6      0.000000       NaN       NaN    ...          NaN       NaN       NaN   \n",
       "7      0.000000       NaN       NaN    ...          NaN       NaN       NaN   \n",
       "8      0.000000       NaN       NaN    ...          NaN       NaN       NaN   \n",
       "9      0.000000       NaN       NaN    ...          NaN       NaN       NaN   \n",
       "10     0.000000       NaN       NaN    ...          NaN       NaN       NaN   \n",
       "11     0.000000       NaN       NaN    ...          NaN       NaN       NaN   \n",
       "12     0.000000       NaN       NaN    ...          NaN       NaN       NaN   \n",
       "13     0.000000       NaN       NaN    ...          NaN       NaN       NaN   \n",
       "14     0.000000       NaN       NaN    ...          NaN       NaN       NaN   \n",
       "15     0.000000       NaN       NaN    ...          NaN       NaN       NaN   \n",
       "16     0.000000       NaN       NaN    ...          NaN       NaN       NaN   \n",
       "17     0.000000       NaN       NaN    ...          NaN       NaN       NaN   \n",
       "18     0.000000       NaN       NaN    ...          NaN       NaN       NaN   \n",
       "19     0.000000       NaN       NaN    ...          NaN       NaN       NaN   \n",
       "20     0.000000       NaN       NaN    ...          NaN       NaN       NaN   \n",
       "21     0.000000       NaN       NaN    ...          NaN       NaN       NaN   \n",
       "22     0.000000       NaN       NaN    ...          NaN       NaN       NaN   \n",
       "23     0.000000       NaN       NaN    ...          NaN       NaN       NaN   \n",
       "24     0.000000       NaN       NaN    ...          NaN       NaN       NaN   \n",
       "25     0.000000       NaN       NaN    ...          NaN       NaN       NaN   \n",
       "26     0.000000       NaN       NaN    ...          NaN       NaN       NaN   \n",
       "27     0.000000       NaN       NaN    ...          NaN       NaN       NaN   \n",
       "28     0.000000       NaN       NaN    ...          NaN       NaN       NaN   \n",
       "29     0.000000       NaN       NaN    ...          NaN       NaN       NaN   \n",
       "...         ...       ...       ...    ...          ...       ...       ...   \n",
       "65273  0.187060 -0.324227 -0.440297    ...    -1.101093 -1.021714 -1.048180   \n",
       "65274  0.026463 -0.551338 -0.639716    ...    -0.787506 -1.102521 -1.023073   \n",
       "65275  1.196417  0.545461  0.340581    ...    -0.193279 -0.794259 -1.110993   \n",
       "65276  2.657318  2.375402  2.010066    ...    -0.221994 -0.194730 -0.797221   \n",
       "65277  1.328893  1.503079  1.244467    ...    -0.307380 -0.204227 -0.177715   \n",
       "65278  1.123816  1.607594  1.371540    ...     0.065899 -0.289767 -0.188762   \n",
       "65279 -0.539650 -0.340312 -0.423268    ...     0.073137  0.074210 -0.277053   \n",
       "65280  0.231311  0.703656  0.545997    ...     0.054987  0.079300  0.080362   \n",
       "65281  2.508079  4.208414  3.925036    ...     0.069227  0.070243  0.093839   \n",
       "65282  0.933137  2.310875  2.183638    ...     0.402320  0.082118  0.083109   \n",
       "65283  0.494641  1.693357  1.602162    ...     0.664116  0.409291  0.096770   \n",
       "65284  0.156750  1.341899  1.279301    ...     0.886629  0.670556  0.420351   \n",
       "65285 -0.655418  0.142348  0.097452    ...     0.897150  0.890686  0.677358   \n",
       "65286 -0.476512  0.475462  0.429578    ...     0.614428  0.900061  0.893685   \n",
       "65287 -0.403044  0.601180  0.564935    ...     0.291524  0.624637  0.906637   \n",
       "65288 -0.375654  0.551198  0.530033    ...     0.674106  0.304666  0.634703   \n",
       "65289  0.605564  2.091486  2.112494    ...     0.808014  0.682242  0.314070   \n",
       "65290 -0.762020 -0.084490 -0.072052    ...     1.132488  0.815940  0.690647   \n",
       "65291 -0.734141 -0.031595 -0.012667    ...     1.139065  1.143206  0.826946   \n",
       "65292 -0.589618  0.164048  0.195760    ...     1.036082  1.153717  1.157864   \n",
       "65293 -1.376299 -1.146664 -1.135457    ...     0.834434  1.055127  1.173148   \n",
       "65294 -0.121136  0.389534  0.399951    ...     0.777599  0.854122  1.075353   \n",
       "65295 -0.400828 -0.058313 -0.058993    ...     1.033766  0.793491  0.869844   \n",
       "65296 -0.730478 -0.535023 -0.542916    ...     1.341899  1.043672  0.803928   \n",
       "65297 -0.286478 -0.052770 -0.069660    ...     1.161566  1.358145  1.059464   \n",
       "65298 -0.279890 -0.069919 -0.100835    ...     1.115902  1.180030  1.377291   \n",
       "65299 -0.781015 -0.677244 -0.696581    ...     1.383541  1.140911  1.205565   \n",
       "65300 -0.589438 -0.540193 -0.565321    ...     1.609114  1.411868  1.167224   \n",
       "65301  0.220844  0.046761  0.005169    ...     1.908189  1.636977  1.438510   \n",
       "65302 -1.328412 -1.345181 -1.355358    ...     2.041249  1.931220  1.658925   \n",
       "\n",
       "       pZ96_s90  pZ96_s91  pZ96_s92  pZ96_s93  pZ96_s94  pZ96_s95   utctime  \n",
       "0           NaN       NaN       NaN       NaN       NaN       NaN  0.000000  \n",
       "1           NaN       NaN       NaN       NaN       NaN       NaN  0.010417  \n",
       "2           NaN       NaN       NaN       NaN       NaN       NaN  0.020833  \n",
       "3           NaN       NaN       NaN       NaN       NaN       NaN  0.031250  \n",
       "4           NaN       NaN       NaN       NaN       NaN       NaN  0.041667  \n",
       "5           NaN       NaN       NaN       NaN       NaN       NaN  0.052083  \n",
       "6           NaN       NaN       NaN       NaN       NaN       NaN  0.062500  \n",
       "7           NaN       NaN       NaN       NaN       NaN       NaN  0.072917  \n",
       "8           NaN       NaN       NaN       NaN       NaN       NaN  0.083333  \n",
       "9           NaN       NaN       NaN       NaN       NaN       NaN  0.093750  \n",
       "10          NaN       NaN       NaN       NaN       NaN       NaN  0.104167  \n",
       "11          NaN       NaN       NaN       NaN       NaN       NaN  0.114583  \n",
       "12          NaN       NaN       NaN       NaN       NaN       NaN  0.125000  \n",
       "13          NaN       NaN       NaN       NaN       NaN       NaN  0.135417  \n",
       "14          NaN       NaN       NaN       NaN       NaN       NaN  0.145833  \n",
       "15          NaN       NaN       NaN       NaN       NaN       NaN  0.156250  \n",
       "16          NaN       NaN       NaN       NaN       NaN       NaN  0.166667  \n",
       "17          NaN       NaN       NaN       NaN       NaN       NaN  0.177083  \n",
       "18          NaN       NaN       NaN       NaN       NaN       NaN  0.187500  \n",
       "19          NaN       NaN       NaN       NaN       NaN       NaN  0.197917  \n",
       "20          NaN       NaN       NaN       NaN       NaN       NaN  0.208333  \n",
       "21          NaN       NaN       NaN       NaN       NaN       NaN  0.218750  \n",
       "22          NaN       NaN       NaN       NaN       NaN       NaN  0.229167  \n",
       "23          NaN       NaN       NaN       NaN       NaN       NaN  0.239583  \n",
       "24          NaN       NaN       NaN       NaN       NaN       NaN  0.250000  \n",
       "25          NaN       NaN       NaN       NaN       NaN       NaN  0.260417  \n",
       "26          NaN       NaN       NaN       NaN       NaN       NaN  0.270833  \n",
       "27          NaN       NaN       NaN       NaN       NaN       NaN  0.281250  \n",
       "28          NaN       NaN       NaN       NaN       NaN       NaN  0.291667  \n",
       "29          NaN       NaN       NaN       NaN       NaN       NaN  0.302083  \n",
       "...         ...       ...       ...       ...       ...       ...       ...  \n",
       "65273 -0.968671 -1.345940 -1.789663 -2.599979 -2.308506 -1.803585  0.927083  \n",
       "65274 -1.049562 -0.969984 -1.347578 -1.791684 -2.602698 -2.310974  0.937500  \n",
       "65275 -1.031111 -1.057745 -0.977733 -1.357388 -1.803918 -2.619359  0.947917  \n",
       "65276 -1.114751 -1.034668 -1.061369 -0.981156 -1.361765 -1.809417  0.958333  \n",
       "65277 -0.763585 -1.072355 -0.994482 -1.020446 -0.942445 -1.312554  0.968750  \n",
       "65278 -0.162802 -0.736475 -1.038817 -0.962565 -0.987989 -0.911612  0.979167  \n",
       "65279 -0.177299 -0.151660 -0.718232 -1.016832 -0.941523 -0.966632  0.989583  \n",
       "65280 -0.267789 -0.168918 -0.143506 -0.705059 -1.001014 -0.926373  0.000000  \n",
       "65281  0.094871 -0.243034 -0.147073 -0.122409 -0.667435 -0.954680  0.010417  \n",
       "65282  0.106135  0.107141 -0.222591 -0.128951 -0.104884 -0.636728  0.020833  \n",
       "65283  0.097737  0.120210  0.121193 -0.200631 -0.109236 -0.085746  0.031250  \n",
       "65284  0.113498  0.114448  0.136513  0.137478 -0.178509 -0.088772  0.041667  \n",
       "65285  0.430332  0.127377  0.128315  0.150100  0.151053 -0.160919  0.052083  \n",
       "65286  0.683315  0.439713  0.140958  0.141883  0.163366  0.164306  0.062500  \n",
       "65287  0.900343  0.692647  0.452144  0.157188  0.158101  0.179311  0.072917  \n",
       "65288  0.914098  0.907862  0.702085  0.463803  0.171571  0.172475  0.083333  \n",
       "65289  0.642974  0.921410  0.915196  0.710125  0.472660  0.181431  0.093750  \n",
       "65290  0.323878  0.651529  0.928904  0.922714  0.718424  0.481864  0.104167  \n",
       "65291  0.701767  0.335332  0.662685  0.939808  0.933622  0.729519  0.114583  \n",
       "65292  0.841120  0.715749  0.348752  0.676606  0.954154  0.947959  0.125000  \n",
       "65293  1.177309  0.859525  0.733743  0.365541  0.694471  0.972930  0.135417  \n",
       "65294  1.193661  1.197832  0.879274  0.753186  0.384088  0.713819  0.145833  \n",
       "65295  1.090582  1.208626  1.212788  0.894940  0.769133  0.400858  0.156250  \n",
       "65296  0.880112  1.100363  1.218147  1.222300  0.905153  0.779623  0.166667  \n",
       "65297  0.819354  0.895655  1.116241  1.234205  1.238364  0.920734  0.177083  \n",
       "65298  1.077574  0.836631  0.913196  1.134548  1.252921  1.257095  0.187500  \n",
       "65299  1.404445  1.102268  0.859347  0.936541  1.159710  1.279054  0.197917  \n",
       "65300  1.232414  1.432945  1.128260  0.883324  0.961158  1.186179  0.208333  \n",
       "65301  1.192353  1.257947  1.459718  1.153149  0.906697  0.985013  0.218750  \n",
       "65302  1.459667  1.212528  1.278383  1.480959  1.173167  0.925732  0.229167  \n",
       "\n",
       "[65303 rows x 121 columns]"
      ]
     },
     "execution_count": 37,
     "metadata": {},
     "output_type": "execute_result"
    }
   ],
   "source": [
    "indicator"
   ]
  },
  {
   "cell_type": "code",
   "execution_count": 40,
   "metadata": {
    "scrolled": true
   },
   "outputs": [
    {
     "data": {
      "text/plain": [
       "9426     1\n",
       "5677     2\n",
       "29453    2\n",
       "7496     2\n",
       "20308    2\n",
       "23312    0\n",
       "21096    0\n",
       "18413    1\n",
       "14773    0\n",
       "31009    2\n",
       "6261     2\n",
       "6200     0\n",
       "3121     2\n",
       "23137    2\n",
       "11811    0\n",
       "8834     1\n",
       "2486     0\n",
       "7471     2\n",
       "6357     2\n",
       "25975    2\n",
       "22959    2\n",
       "13425    0\n",
       "19770    1\n",
       "17360    0\n",
       "15114    2\n",
       "20501    2\n",
       "8112     0\n",
       "5673     0\n",
       "28317    2\n",
       "28665    2\n",
       "        ..\n",
       "8515     1\n",
       "26043    0\n",
       "17906    0\n",
       "19316    0\n",
       "10270    1\n",
       "28766    2\n",
       "32462    0\n",
       "20929    0\n",
       "13976    2\n",
       "24342    0\n",
       "9749     1\n",
       "4874     0\n",
       "19730    1\n",
       "25349    2\n",
       "25828    0\n",
       "22238    1\n",
       "28635    0\n",
       "32426    2\n",
       "32008    2\n",
       "28249    2\n",
       "1986     0\n",
       "11870    0\n",
       "19345    1\n",
       "8892     1\n",
       "11008    1\n",
       "16594    2\n",
       "3653     1\n",
       "21583    2\n",
       "18738    2\n",
       "29247    0\n",
       "Name: price, Length: 1000, dtype: category\n",
       "Categories (3, int64): [0 < 1 < 2]"
      ]
     },
     "execution_count": 40,
     "metadata": {},
     "output_type": "execute_result"
    }
   ],
   "source": [
    "exp_sample = d_exp.sample(1000)\n",
    "obj_sample = d_obj[exp_sample.index]\n",
    "obj_sample"
   ]
  },
  {
   "cell_type": "code",
   "execution_count": 41,
   "metadata": {
    "collapsed": true,
    "scrolled": true
   },
   "outputs": [],
   "source": [
    "model.to_cpu()\n",
    "exp_sample_data = np.array(exp_sample, dtype=np.float32)\n",
    "res = model.predictor(exp_sample_data)"
   ]
  },
  {
   "cell_type": "code",
   "execution_count": 42,
   "metadata": {
    "scrolled": true
   },
   "outputs": [
    {
     "data": {
      "text/html": [
       "<div>\n",
       "<style>\n",
       "    .dataframe thead tr:only-child th {\n",
       "        text-align: right;\n",
       "    }\n",
       "\n",
       "    .dataframe thead th {\n",
       "        text-align: left;\n",
       "    }\n",
       "\n",
       "    .dataframe tbody tr th {\n",
       "        vertical-align: top;\n",
       "    }\n",
       "</style>\n",
       "<table border=\"1\" class=\"dataframe\">\n",
       "  <thead>\n",
       "    <tr style=\"text-align: right;\">\n",
       "      <th></th>\n",
       "      <th>index</th>\n",
       "      <th>price</th>\n",
       "      <th>pred</th>\n",
       "    </tr>\n",
       "  </thead>\n",
       "  <tbody>\n",
       "    <tr>\n",
       "      <th>0</th>\n",
       "      <td>9426</td>\n",
       "      <td>1</td>\n",
       "      <td>0</td>\n",
       "    </tr>\n",
       "    <tr>\n",
       "      <th>1</th>\n",
       "      <td>5677</td>\n",
       "      <td>2</td>\n",
       "      <td>1</td>\n",
       "    </tr>\n",
       "    <tr>\n",
       "      <th>2</th>\n",
       "      <td>29453</td>\n",
       "      <td>2</td>\n",
       "      <td>2</td>\n",
       "    </tr>\n",
       "    <tr>\n",
       "      <th>3</th>\n",
       "      <td>7496</td>\n",
       "      <td>2</td>\n",
       "      <td>2</td>\n",
       "    </tr>\n",
       "    <tr>\n",
       "      <th>4</th>\n",
       "      <td>20308</td>\n",
       "      <td>2</td>\n",
       "      <td>2</td>\n",
       "    </tr>\n",
       "    <tr>\n",
       "      <th>5</th>\n",
       "      <td>23312</td>\n",
       "      <td>0</td>\n",
       "      <td>2</td>\n",
       "    </tr>\n",
       "    <tr>\n",
       "      <th>6</th>\n",
       "      <td>21096</td>\n",
       "      <td>0</td>\n",
       "      <td>0</td>\n",
       "    </tr>\n",
       "    <tr>\n",
       "      <th>7</th>\n",
       "      <td>18413</td>\n",
       "      <td>1</td>\n",
       "      <td>0</td>\n",
       "    </tr>\n",
       "    <tr>\n",
       "      <th>8</th>\n",
       "      <td>14773</td>\n",
       "      <td>0</td>\n",
       "      <td>1</td>\n",
       "    </tr>\n",
       "    <tr>\n",
       "      <th>9</th>\n",
       "      <td>31009</td>\n",
       "      <td>2</td>\n",
       "      <td>2</td>\n",
       "    </tr>\n",
       "    <tr>\n",
       "      <th>10</th>\n",
       "      <td>6261</td>\n",
       "      <td>2</td>\n",
       "      <td>2</td>\n",
       "    </tr>\n",
       "    <tr>\n",
       "      <th>11</th>\n",
       "      <td>6200</td>\n",
       "      <td>0</td>\n",
       "      <td>0</td>\n",
       "    </tr>\n",
       "    <tr>\n",
       "      <th>12</th>\n",
       "      <td>3121</td>\n",
       "      <td>2</td>\n",
       "      <td>2</td>\n",
       "    </tr>\n",
       "    <tr>\n",
       "      <th>13</th>\n",
       "      <td>23137</td>\n",
       "      <td>2</td>\n",
       "      <td>2</td>\n",
       "    </tr>\n",
       "    <tr>\n",
       "      <th>14</th>\n",
       "      <td>11811</td>\n",
       "      <td>0</td>\n",
       "      <td>0</td>\n",
       "    </tr>\n",
       "    <tr>\n",
       "      <th>15</th>\n",
       "      <td>8834</td>\n",
       "      <td>1</td>\n",
       "      <td>2</td>\n",
       "    </tr>\n",
       "    <tr>\n",
       "      <th>16</th>\n",
       "      <td>2486</td>\n",
       "      <td>0</td>\n",
       "      <td>2</td>\n",
       "    </tr>\n",
       "    <tr>\n",
       "      <th>17</th>\n",
       "      <td>7471</td>\n",
       "      <td>2</td>\n",
       "      <td>0</td>\n",
       "    </tr>\n",
       "    <tr>\n",
       "      <th>18</th>\n",
       "      <td>6357</td>\n",
       "      <td>2</td>\n",
       "      <td>2</td>\n",
       "    </tr>\n",
       "    <tr>\n",
       "      <th>19</th>\n",
       "      <td>25975</td>\n",
       "      <td>2</td>\n",
       "      <td>1</td>\n",
       "    </tr>\n",
       "    <tr>\n",
       "      <th>20</th>\n",
       "      <td>22959</td>\n",
       "      <td>2</td>\n",
       "      <td>1</td>\n",
       "    </tr>\n",
       "    <tr>\n",
       "      <th>21</th>\n",
       "      <td>13425</td>\n",
       "      <td>0</td>\n",
       "      <td>0</td>\n",
       "    </tr>\n",
       "    <tr>\n",
       "      <th>22</th>\n",
       "      <td>19770</td>\n",
       "      <td>1</td>\n",
       "      <td>1</td>\n",
       "    </tr>\n",
       "    <tr>\n",
       "      <th>23</th>\n",
       "      <td>17360</td>\n",
       "      <td>0</td>\n",
       "      <td>0</td>\n",
       "    </tr>\n",
       "    <tr>\n",
       "      <th>24</th>\n",
       "      <td>15114</td>\n",
       "      <td>2</td>\n",
       "      <td>0</td>\n",
       "    </tr>\n",
       "    <tr>\n",
       "      <th>25</th>\n",
       "      <td>20501</td>\n",
       "      <td>2</td>\n",
       "      <td>2</td>\n",
       "    </tr>\n",
       "    <tr>\n",
       "      <th>26</th>\n",
       "      <td>8112</td>\n",
       "      <td>0</td>\n",
       "      <td>0</td>\n",
       "    </tr>\n",
       "    <tr>\n",
       "      <th>27</th>\n",
       "      <td>5673</td>\n",
       "      <td>0</td>\n",
       "      <td>0</td>\n",
       "    </tr>\n",
       "    <tr>\n",
       "      <th>28</th>\n",
       "      <td>28317</td>\n",
       "      <td>2</td>\n",
       "      <td>1</td>\n",
       "    </tr>\n",
       "    <tr>\n",
       "      <th>29</th>\n",
       "      <td>28665</td>\n",
       "      <td>2</td>\n",
       "      <td>1</td>\n",
       "    </tr>\n",
       "    <tr>\n",
       "      <th>...</th>\n",
       "      <td>...</td>\n",
       "      <td>...</td>\n",
       "      <td>...</td>\n",
       "    </tr>\n",
       "    <tr>\n",
       "      <th>970</th>\n",
       "      <td>8515</td>\n",
       "      <td>1</td>\n",
       "      <td>0</td>\n",
       "    </tr>\n",
       "    <tr>\n",
       "      <th>971</th>\n",
       "      <td>26043</td>\n",
       "      <td>0</td>\n",
       "      <td>1</td>\n",
       "    </tr>\n",
       "    <tr>\n",
       "      <th>972</th>\n",
       "      <td>17906</td>\n",
       "      <td>0</td>\n",
       "      <td>0</td>\n",
       "    </tr>\n",
       "    <tr>\n",
       "      <th>973</th>\n",
       "      <td>19316</td>\n",
       "      <td>0</td>\n",
       "      <td>2</td>\n",
       "    </tr>\n",
       "    <tr>\n",
       "      <th>974</th>\n",
       "      <td>10270</td>\n",
       "      <td>1</td>\n",
       "      <td>2</td>\n",
       "    </tr>\n",
       "    <tr>\n",
       "      <th>975</th>\n",
       "      <td>28766</td>\n",
       "      <td>2</td>\n",
       "      <td>1</td>\n",
       "    </tr>\n",
       "    <tr>\n",
       "      <th>976</th>\n",
       "      <td>32462</td>\n",
       "      <td>0</td>\n",
       "      <td>0</td>\n",
       "    </tr>\n",
       "    <tr>\n",
       "      <th>977</th>\n",
       "      <td>20929</td>\n",
       "      <td>0</td>\n",
       "      <td>0</td>\n",
       "    </tr>\n",
       "    <tr>\n",
       "      <th>978</th>\n",
       "      <td>13976</td>\n",
       "      <td>2</td>\n",
       "      <td>2</td>\n",
       "    </tr>\n",
       "    <tr>\n",
       "      <th>979</th>\n",
       "      <td>24342</td>\n",
       "      <td>0</td>\n",
       "      <td>0</td>\n",
       "    </tr>\n",
       "    <tr>\n",
       "      <th>980</th>\n",
       "      <td>9749</td>\n",
       "      <td>1</td>\n",
       "      <td>2</td>\n",
       "    </tr>\n",
       "    <tr>\n",
       "      <th>981</th>\n",
       "      <td>4874</td>\n",
       "      <td>0</td>\n",
       "      <td>0</td>\n",
       "    </tr>\n",
       "    <tr>\n",
       "      <th>982</th>\n",
       "      <td>19730</td>\n",
       "      <td>1</td>\n",
       "      <td>2</td>\n",
       "    </tr>\n",
       "    <tr>\n",
       "      <th>983</th>\n",
       "      <td>25349</td>\n",
       "      <td>2</td>\n",
       "      <td>2</td>\n",
       "    </tr>\n",
       "    <tr>\n",
       "      <th>984</th>\n",
       "      <td>25828</td>\n",
       "      <td>0</td>\n",
       "      <td>1</td>\n",
       "    </tr>\n",
       "    <tr>\n",
       "      <th>985</th>\n",
       "      <td>22238</td>\n",
       "      <td>1</td>\n",
       "      <td>0</td>\n",
       "    </tr>\n",
       "    <tr>\n",
       "      <th>986</th>\n",
       "      <td>28635</td>\n",
       "      <td>0</td>\n",
       "      <td>0</td>\n",
       "    </tr>\n",
       "    <tr>\n",
       "      <th>987</th>\n",
       "      <td>32426</td>\n",
       "      <td>2</td>\n",
       "      <td>0</td>\n",
       "    </tr>\n",
       "    <tr>\n",
       "      <th>988</th>\n",
       "      <td>32008</td>\n",
       "      <td>2</td>\n",
       "      <td>2</td>\n",
       "    </tr>\n",
       "    <tr>\n",
       "      <th>989</th>\n",
       "      <td>28249</td>\n",
       "      <td>2</td>\n",
       "      <td>2</td>\n",
       "    </tr>\n",
       "    <tr>\n",
       "      <th>990</th>\n",
       "      <td>1986</td>\n",
       "      <td>0</td>\n",
       "      <td>0</td>\n",
       "    </tr>\n",
       "    <tr>\n",
       "      <th>991</th>\n",
       "      <td>11870</td>\n",
       "      <td>0</td>\n",
       "      <td>0</td>\n",
       "    </tr>\n",
       "    <tr>\n",
       "      <th>992</th>\n",
       "      <td>19345</td>\n",
       "      <td>1</td>\n",
       "      <td>2</td>\n",
       "    </tr>\n",
       "    <tr>\n",
       "      <th>993</th>\n",
       "      <td>8892</td>\n",
       "      <td>1</td>\n",
       "      <td>1</td>\n",
       "    </tr>\n",
       "    <tr>\n",
       "      <th>994</th>\n",
       "      <td>11008</td>\n",
       "      <td>1</td>\n",
       "      <td>0</td>\n",
       "    </tr>\n",
       "    <tr>\n",
       "      <th>995</th>\n",
       "      <td>16594</td>\n",
       "      <td>2</td>\n",
       "      <td>2</td>\n",
       "    </tr>\n",
       "    <tr>\n",
       "      <th>996</th>\n",
       "      <td>3653</td>\n",
       "      <td>1</td>\n",
       "      <td>1</td>\n",
       "    </tr>\n",
       "    <tr>\n",
       "      <th>997</th>\n",
       "      <td>21583</td>\n",
       "      <td>2</td>\n",
       "      <td>1</td>\n",
       "    </tr>\n",
       "    <tr>\n",
       "      <th>998</th>\n",
       "      <td>18738</td>\n",
       "      <td>2</td>\n",
       "      <td>0</td>\n",
       "    </tr>\n",
       "    <tr>\n",
       "      <th>999</th>\n",
       "      <td>29247</td>\n",
       "      <td>0</td>\n",
       "      <td>0</td>\n",
       "    </tr>\n",
       "  </tbody>\n",
       "</table>\n",
       "<p>1000 rows × 3 columns</p>\n",
       "</div>"
      ],
      "text/plain": [
       "     index price  pred\n",
       "0     9426     1     0\n",
       "1     5677     2     1\n",
       "2    29453     2     2\n",
       "3     7496     2     2\n",
       "4    20308     2     2\n",
       "5    23312     0     2\n",
       "6    21096     0     0\n",
       "7    18413     1     0\n",
       "8    14773     0     1\n",
       "9    31009     2     2\n",
       "10    6261     2     2\n",
       "11    6200     0     0\n",
       "12    3121     2     2\n",
       "13   23137     2     2\n",
       "14   11811     0     0\n",
       "15    8834     1     2\n",
       "16    2486     0     2\n",
       "17    7471     2     0\n",
       "18    6357     2     2\n",
       "19   25975     2     1\n",
       "20   22959     2     1\n",
       "21   13425     0     0\n",
       "22   19770     1     1\n",
       "23   17360     0     0\n",
       "24   15114     2     0\n",
       "25   20501     2     2\n",
       "26    8112     0     0\n",
       "27    5673     0     0\n",
       "28   28317     2     1\n",
       "29   28665     2     1\n",
       "..     ...   ...   ...\n",
       "970   8515     1     0\n",
       "971  26043     0     1\n",
       "972  17906     0     0\n",
       "973  19316     0     2\n",
       "974  10270     1     2\n",
       "975  28766     2     1\n",
       "976  32462     0     0\n",
       "977  20929     0     0\n",
       "978  13976     2     2\n",
       "979  24342     0     0\n",
       "980   9749     1     2\n",
       "981   4874     0     0\n",
       "982  19730     1     2\n",
       "983  25349     2     2\n",
       "984  25828     0     1\n",
       "985  22238     1     0\n",
       "986  28635     0     0\n",
       "987  32426     2     0\n",
       "988  32008     2     2\n",
       "989  28249     2     2\n",
       "990   1986     0     0\n",
       "991  11870     0     0\n",
       "992  19345     1     2\n",
       "993   8892     1     1\n",
       "994  11008     1     0\n",
       "995  16594     2     2\n",
       "996   3653     1     1\n",
       "997  21583     2     1\n",
       "998  18738     2     0\n",
       "999  29247     0     0\n",
       "\n",
       "[1000 rows x 3 columns]"
      ]
     },
     "execution_count": 42,
     "metadata": {},
     "output_type": "execute_result"
    }
   ],
   "source": [
    "result = obj_sample.reset_index()\n",
    "result['pred'] = res.data.argmax(axis=1)\n",
    "result"
   ]
  },
  {
   "cell_type": "code",
   "execution_count": 43,
   "metadata": {},
   "outputs": [
    {
     "data": {
      "text/plain": [
       "(570, 3)"
      ]
     },
     "execution_count": 43,
     "metadata": {},
     "output_type": "execute_result"
    }
   ],
   "source": [
    "result[result.price == result['pred']].shape"
   ]
  },
  {
   "cell_type": "code",
   "execution_count": 44,
   "metadata": {},
   "outputs": [
    {
     "data": {
      "text/plain": [
       "(106, 3)"
      ]
     },
     "execution_count": 44,
     "metadata": {},
     "output_type": "execute_result"
    }
   ],
   "source": [
    "result[(result.price - result['pred']).abs() == 2].shape"
   ]
  },
  {
   "cell_type": "code",
   "execution_count": 45,
   "metadata": {},
   "outputs": [
    {
     "data": {
      "text/plain": [
       "<__main__.MyChain at 0x10dd108f5f8>"
      ]
     },
     "execution_count": 45,
     "metadata": {},
     "output_type": "execute_result"
    }
   ],
   "source": [
    "model.predictor"
   ]
  },
  {
   "cell_type": "code",
   "execution_count": 46,
   "metadata": {
    "collapsed": true
   },
   "outputs": [],
   "source": [
    "serializers.save_npz('min30p552_500_2-1000_200_3.npz', model.predictor)"
   ]
  },
  {
   "cell_type": "code",
   "execution_count": 47,
   "metadata": {},
   "outputs": [
    {
     "data": {
      "text/plain": [
       "price  pred\n",
       "0      0       226\n",
       "       1        62\n",
       "       2        53\n",
       "1      0        93\n",
       "       1       114\n",
       "       2       110\n",
       "2      0        53\n",
       "       1        59\n",
       "       2       230\n",
       "dtype: int64"
      ]
     },
     "execution_count": 47,
     "metadata": {},
     "output_type": "execute_result"
    }
   ],
   "source": [
    "result.groupby(['price', 'pred']).size()"
   ]
  },
  {
   "cell_type": "code",
   "execution_count": 61,
   "metadata": {},
   "outputs": [
    {
     "data": {
      "text/plain": [
       "(0.00167, 0.104]         10869\n",
       "(4.51e-05, 0.000536]     10869\n",
       "(-0.00147, -0.000403]    10869\n",
       "(-0.117, -0.00147]       10869\n",
       "(0.000536, 0.00167]      10868\n",
       "(-0.000403, 4.51e-05]    10868\n",
       "Name: price, dtype: int64"
      ]
     },
     "execution_count": 61,
     "metadata": {},
     "output_type": "execute_result"
    }
   ],
   "source": [
    "diff = (price_history / price_history.shift() - 1).fillna(0)\n",
    "pd.qcut(diff, 6).value_counts()"
   ]
  },
  {
   "cell_type": "code",
   "execution_count": 64,
   "metadata": {
    "scrolled": true
   },
   "outputs": [
    {
     "data": {
      "text/plain": [
       "0        2\n",
       "1        4\n",
       "2        4\n",
       "3        5\n",
       "4        0\n",
       "5        4\n",
       "6        2\n",
       "7        2\n",
       "8        2\n",
       "9        0\n",
       "10       4\n",
       "11       3\n",
       "12       4\n",
       "13       1\n",
       "14       2\n",
       "15       2\n",
       "16       1\n",
       "17       3\n",
       "18       2\n",
       "19       2\n",
       "20       0\n",
       "21       5\n",
       "22       2\n",
       "23       1\n",
       "24       4\n",
       "25       1\n",
       "26       4\n",
       "27       2\n",
       "28       4\n",
       "29       1\n",
       "        ..\n",
       "65182    5\n",
       "65183    5\n",
       "65184    1\n",
       "65185    3\n",
       "65186    1\n",
       "65187    5\n",
       "65188    5\n",
       "65189    2\n",
       "65190    1\n",
       "65191    5\n",
       "65192    2\n",
       "65193    2\n",
       "65194    2\n",
       "65195    5\n",
       "65196    5\n",
       "65197    5\n",
       "65198    3\n",
       "65199    0\n",
       "65200    0\n",
       "65201    5\n",
       "65202    5\n",
       "65203    5\n",
       "65204    2\n",
       "65205    0\n",
       "65206    0\n",
       "65207    1\n",
       "65208    5\n",
       "65209    5\n",
       "65210    0\n",
       "65211    1\n",
       "Name: price, Length: 65212, dtype: category\n",
       "Categories (6, int64): [0 < 1 < 2 < 3 < 4 < 5]"
      ]
     },
     "execution_count": 64,
     "metadata": {},
     "output_type": "execute_result"
    }
   ],
   "source": [
    "pd.qcut(diff, 6, labels=list(range(6)))"
   ]
  },
  {
   "cell_type": "code",
   "execution_count": null,
   "metadata": {
    "collapsed": true
   },
   "outputs": [],
   "source": []
  }
 ],
 "metadata": {
  "kernelspec": {
   "display_name": "Python 3",
   "language": "python",
   "name": "python3"
  },
  "language_info": {
   "codemirror_mode": {
    "name": "ipython",
    "version": 3
   },
   "file_extension": ".py",
   "mimetype": "text/x-python",
   "name": "python",
   "nbconvert_exporter": "python",
   "pygments_lexer": "ipython3",
   "version": "3.6.3"
  }
 },
 "nbformat": 4,
 "nbformat_minor": 2
}
