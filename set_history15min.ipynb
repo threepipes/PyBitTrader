{
 "cells": [
  {
   "cell_type": "code",
   "execution_count": 1,
   "metadata": {
    "collapsed": true
   },
   "outputs": [],
   "source": [
    "from database.TradeHistory import get_session\n",
    "import pandas as pd\n",
    "session = get_session()"
   ]
  },
  {
   "cell_type": "code",
   "execution_count": 2,
   "metadata": {},
   "outputs": [
    {
     "name": "stdout",
     "output_type": "stream",
     "text": [
      "loading\n",
      "loaded\n"
     ]
    }
   ],
   "source": [
    "print('loading')\n",
    "df = pd.read_sql_query(\"select * from history\", session.bind)\n",
    "print('loaded')\n",
    "df.exec_date = pd.to_datetime(df.exec_date)\n",
    "df = df.set_index('exec_date')\n",
    "df = df.loc['2016-03':]\n",
    "df = df[['id', 'price', 'size']]\n",
    "bench_price = df.price.resample('1Min').mean().fillna(method='ffill')\n",
    "bench_size = df['size'].resample('1Min').sum().fillna(0)\n",
    "dfb = pd.DataFrame([bench_price, bench_size]).T"
   ]
  },
  {
   "cell_type": "code",
   "execution_count": 3,
   "metadata": {
    "scrolled": true
   },
   "outputs": [
    {
     "data": {
      "text/html": [
       "<div>\n",
       "<style>\n",
       "    .dataframe thead tr:only-child th {\n",
       "        text-align: right;\n",
       "    }\n",
       "\n",
       "    .dataframe thead th {\n",
       "        text-align: left;\n",
       "    }\n",
       "\n",
       "    .dataframe tbody tr th {\n",
       "        vertical-align: top;\n",
       "    }\n",
       "</style>\n",
       "<table border=\"1\" class=\"dataframe\">\n",
       "  <thead>\n",
       "    <tr style=\"text-align: right;\">\n",
       "      <th></th>\n",
       "      <th>price</th>\n",
       "      <th>size</th>\n",
       "    </tr>\n",
       "    <tr>\n",
       "      <th>exec_date</th>\n",
       "      <th></th>\n",
       "      <th></th>\n",
       "    </tr>\n",
       "  </thead>\n",
       "  <tbody>\n",
       "    <tr>\n",
       "      <th>2016-03-01 00:01:00</th>\n",
       "      <td>4.990433e+04</td>\n",
       "      <td>0.439000</td>\n",
       "    </tr>\n",
       "    <tr>\n",
       "      <th>2016-03-01 00:02:00</th>\n",
       "      <td>4.988900e+04</td>\n",
       "      <td>0.060000</td>\n",
       "    </tr>\n",
       "    <tr>\n",
       "      <th>2016-03-01 00:03:00</th>\n",
       "      <td>4.991577e+04</td>\n",
       "      <td>4.496000</td>\n",
       "    </tr>\n",
       "    <tr>\n",
       "      <th>2016-03-01 00:04:00</th>\n",
       "      <td>4.991524e+04</td>\n",
       "      <td>0.586900</td>\n",
       "    </tr>\n",
       "    <tr>\n",
       "      <th>2016-03-01 00:05:00</th>\n",
       "      <td>4.991371e+04</td>\n",
       "      <td>0.873500</td>\n",
       "    </tr>\n",
       "    <tr>\n",
       "      <th>2016-03-01 00:06:00</th>\n",
       "      <td>4.992550e+04</td>\n",
       "      <td>0.936000</td>\n",
       "    </tr>\n",
       "    <tr>\n",
       "      <th>2016-03-01 00:07:00</th>\n",
       "      <td>4.994281e+04</td>\n",
       "      <td>1.995000</td>\n",
       "    </tr>\n",
       "    <tr>\n",
       "      <th>2016-03-01 00:08:00</th>\n",
       "      <td>4.994500e+04</td>\n",
       "      <td>0.736000</td>\n",
       "    </tr>\n",
       "    <tr>\n",
       "      <th>2016-03-01 00:09:00</th>\n",
       "      <td>4.995500e+04</td>\n",
       "      <td>0.500000</td>\n",
       "    </tr>\n",
       "    <tr>\n",
       "      <th>2016-03-01 00:10:00</th>\n",
       "      <td>4.995500e+04</td>\n",
       "      <td>0.160000</td>\n",
       "    </tr>\n",
       "    <tr>\n",
       "      <th>2016-03-01 00:11:00</th>\n",
       "      <td>4.996473e+04</td>\n",
       "      <td>1.824300</td>\n",
       "    </tr>\n",
       "    <tr>\n",
       "      <th>2016-03-01 00:12:00</th>\n",
       "      <td>4.996609e+04</td>\n",
       "      <td>1.268527</td>\n",
       "    </tr>\n",
       "    <tr>\n",
       "      <th>2016-03-01 00:13:00</th>\n",
       "      <td>5.000000e+04</td>\n",
       "      <td>6.989000</td>\n",
       "    </tr>\n",
       "    <tr>\n",
       "      <th>2016-03-01 00:14:00</th>\n",
       "      <td>5.000783e+04</td>\n",
       "      <td>5.123000</td>\n",
       "    </tr>\n",
       "    <tr>\n",
       "      <th>2016-03-01 00:15:00</th>\n",
       "      <td>5.000469e+04</td>\n",
       "      <td>2.799000</td>\n",
       "    </tr>\n",
       "    <tr>\n",
       "      <th>2016-03-01 00:16:00</th>\n",
       "      <td>5.002250e+04</td>\n",
       "      <td>1.094000</td>\n",
       "    </tr>\n",
       "    <tr>\n",
       "      <th>2016-03-01 00:17:00</th>\n",
       "      <td>5.000683e+04</td>\n",
       "      <td>1.168000</td>\n",
       "    </tr>\n",
       "    <tr>\n",
       "      <th>2016-03-01 00:18:00</th>\n",
       "      <td>5.002060e+04</td>\n",
       "      <td>1.483000</td>\n",
       "    </tr>\n",
       "    <tr>\n",
       "      <th>2016-03-01 00:19:00</th>\n",
       "      <td>4.999500e+04</td>\n",
       "      <td>0.010000</td>\n",
       "    </tr>\n",
       "    <tr>\n",
       "      <th>2016-03-01 00:20:00</th>\n",
       "      <td>4.996725e+04</td>\n",
       "      <td>0.500000</td>\n",
       "    </tr>\n",
       "    <tr>\n",
       "      <th>2016-03-01 00:21:00</th>\n",
       "      <td>4.996000e+04</td>\n",
       "      <td>0.060000</td>\n",
       "    </tr>\n",
       "    <tr>\n",
       "      <th>2016-03-01 00:22:00</th>\n",
       "      <td>4.995033e+04</td>\n",
       "      <td>0.312000</td>\n",
       "    </tr>\n",
       "    <tr>\n",
       "      <th>2016-03-01 00:23:00</th>\n",
       "      <td>4.995964e+04</td>\n",
       "      <td>3.576000</td>\n",
       "    </tr>\n",
       "    <tr>\n",
       "      <th>2016-03-01 00:24:00</th>\n",
       "      <td>4.996000e+04</td>\n",
       "      <td>1.150000</td>\n",
       "    </tr>\n",
       "    <tr>\n",
       "      <th>2016-03-01 00:25:00</th>\n",
       "      <td>4.994750e+04</td>\n",
       "      <td>0.106000</td>\n",
       "    </tr>\n",
       "    <tr>\n",
       "      <th>2016-03-01 00:26:00</th>\n",
       "      <td>4.996825e+04</td>\n",
       "      <td>0.700000</td>\n",
       "    </tr>\n",
       "    <tr>\n",
       "      <th>2016-03-01 00:27:00</th>\n",
       "      <td>4.995375e+04</td>\n",
       "      <td>0.700000</td>\n",
       "    </tr>\n",
       "    <tr>\n",
       "      <th>2016-03-01 00:28:00</th>\n",
       "      <td>4.994067e+04</td>\n",
       "      <td>0.941000</td>\n",
       "    </tr>\n",
       "    <tr>\n",
       "      <th>2016-03-01 00:29:00</th>\n",
       "      <td>4.995614e+04</td>\n",
       "      <td>0.950000</td>\n",
       "    </tr>\n",
       "    <tr>\n",
       "      <th>2016-03-01 00:30:00</th>\n",
       "      <td>4.994525e+04</td>\n",
       "      <td>0.551000</td>\n",
       "    </tr>\n",
       "    <tr>\n",
       "      <th>...</th>\n",
       "      <td>...</td>\n",
       "      <td>...</td>\n",
       "    </tr>\n",
       "    <tr>\n",
       "      <th>2018-01-19 09:01:00</th>\n",
       "      <td>1.335271e+06</td>\n",
       "      <td>18.197189</td>\n",
       "    </tr>\n",
       "    <tr>\n",
       "      <th>2018-01-19 09:02:00</th>\n",
       "      <td>1.335593e+06</td>\n",
       "      <td>14.935620</td>\n",
       "    </tr>\n",
       "    <tr>\n",
       "      <th>2018-01-19 09:03:00</th>\n",
       "      <td>1.336023e+06</td>\n",
       "      <td>13.038105</td>\n",
       "    </tr>\n",
       "    <tr>\n",
       "      <th>2018-01-19 09:04:00</th>\n",
       "      <td>1.336094e+06</td>\n",
       "      <td>9.320120</td>\n",
       "    </tr>\n",
       "    <tr>\n",
       "      <th>2018-01-19 09:05:00</th>\n",
       "      <td>1.336850e+06</td>\n",
       "      <td>18.572378</td>\n",
       "    </tr>\n",
       "    <tr>\n",
       "      <th>2018-01-19 09:06:00</th>\n",
       "      <td>1.336683e+06</td>\n",
       "      <td>4.313149</td>\n",
       "    </tr>\n",
       "    <tr>\n",
       "      <th>2018-01-19 09:07:00</th>\n",
       "      <td>1.337038e+06</td>\n",
       "      <td>5.581495</td>\n",
       "    </tr>\n",
       "    <tr>\n",
       "      <th>2018-01-19 09:08:00</th>\n",
       "      <td>1.339862e+06</td>\n",
       "      <td>85.236726</td>\n",
       "    </tr>\n",
       "    <tr>\n",
       "      <th>2018-01-19 09:09:00</th>\n",
       "      <td>1.341939e+06</td>\n",
       "      <td>21.500554</td>\n",
       "    </tr>\n",
       "    <tr>\n",
       "      <th>2018-01-19 09:10:00</th>\n",
       "      <td>1.342683e+06</td>\n",
       "      <td>18.602333</td>\n",
       "    </tr>\n",
       "    <tr>\n",
       "      <th>2018-01-19 09:11:00</th>\n",
       "      <td>1.341281e+06</td>\n",
       "      <td>10.383799</td>\n",
       "    </tr>\n",
       "    <tr>\n",
       "      <th>2018-01-19 09:12:00</th>\n",
       "      <td>1.338782e+06</td>\n",
       "      <td>21.020045</td>\n",
       "    </tr>\n",
       "    <tr>\n",
       "      <th>2018-01-19 09:13:00</th>\n",
       "      <td>1.340305e+06</td>\n",
       "      <td>25.317280</td>\n",
       "    </tr>\n",
       "    <tr>\n",
       "      <th>2018-01-19 09:14:00</th>\n",
       "      <td>1.340468e+06</td>\n",
       "      <td>19.582571</td>\n",
       "    </tr>\n",
       "    <tr>\n",
       "      <th>2018-01-19 09:15:00</th>\n",
       "      <td>1.337346e+06</td>\n",
       "      <td>9.099434</td>\n",
       "    </tr>\n",
       "    <tr>\n",
       "      <th>2018-01-19 09:16:00</th>\n",
       "      <td>1.338563e+06</td>\n",
       "      <td>3.848011</td>\n",
       "    </tr>\n",
       "    <tr>\n",
       "      <th>2018-01-19 09:17:00</th>\n",
       "      <td>1.337437e+06</td>\n",
       "      <td>1.654906</td>\n",
       "    </tr>\n",
       "    <tr>\n",
       "      <th>2018-01-19 09:18:00</th>\n",
       "      <td>1.336899e+06</td>\n",
       "      <td>4.380303</td>\n",
       "    </tr>\n",
       "    <tr>\n",
       "      <th>2018-01-19 09:19:00</th>\n",
       "      <td>1.337199e+06</td>\n",
       "      <td>7.389172</td>\n",
       "    </tr>\n",
       "    <tr>\n",
       "      <th>2018-01-19 09:20:00</th>\n",
       "      <td>1.336920e+06</td>\n",
       "      <td>40.119614</td>\n",
       "    </tr>\n",
       "    <tr>\n",
       "      <th>2018-01-19 09:21:00</th>\n",
       "      <td>1.336103e+06</td>\n",
       "      <td>16.885549</td>\n",
       "    </tr>\n",
       "    <tr>\n",
       "      <th>2018-01-19 09:22:00</th>\n",
       "      <td>1.337237e+06</td>\n",
       "      <td>29.700197</td>\n",
       "    </tr>\n",
       "    <tr>\n",
       "      <th>2018-01-19 09:23:00</th>\n",
       "      <td>1.339859e+06</td>\n",
       "      <td>54.985899</td>\n",
       "    </tr>\n",
       "    <tr>\n",
       "      <th>2018-01-19 09:24:00</th>\n",
       "      <td>1.344293e+06</td>\n",
       "      <td>58.856787</td>\n",
       "    </tr>\n",
       "    <tr>\n",
       "      <th>2018-01-19 09:25:00</th>\n",
       "      <td>1.343938e+06</td>\n",
       "      <td>22.174042</td>\n",
       "    </tr>\n",
       "    <tr>\n",
       "      <th>2018-01-19 09:26:00</th>\n",
       "      <td>1.342472e+06</td>\n",
       "      <td>19.567661</td>\n",
       "    </tr>\n",
       "    <tr>\n",
       "      <th>2018-01-19 09:27:00</th>\n",
       "      <td>1.340105e+06</td>\n",
       "      <td>35.006361</td>\n",
       "    </tr>\n",
       "    <tr>\n",
       "      <th>2018-01-19 09:28:00</th>\n",
       "      <td>1.335802e+06</td>\n",
       "      <td>34.723725</td>\n",
       "    </tr>\n",
       "    <tr>\n",
       "      <th>2018-01-19 09:29:00</th>\n",
       "      <td>1.333147e+06</td>\n",
       "      <td>21.995411</td>\n",
       "    </tr>\n",
       "    <tr>\n",
       "      <th>2018-01-19 09:30:00</th>\n",
       "      <td>1.333021e+06</td>\n",
       "      <td>9.273900</td>\n",
       "    </tr>\n",
       "  </tbody>\n",
       "</table>\n",
       "<p>992730 rows × 2 columns</p>\n",
       "</div>"
      ],
      "text/plain": [
       "                            price       size\n",
       "exec_date                                   \n",
       "2016-03-01 00:01:00  4.990433e+04   0.439000\n",
       "2016-03-01 00:02:00  4.988900e+04   0.060000\n",
       "2016-03-01 00:03:00  4.991577e+04   4.496000\n",
       "2016-03-01 00:04:00  4.991524e+04   0.586900\n",
       "2016-03-01 00:05:00  4.991371e+04   0.873500\n",
       "2016-03-01 00:06:00  4.992550e+04   0.936000\n",
       "2016-03-01 00:07:00  4.994281e+04   1.995000\n",
       "2016-03-01 00:08:00  4.994500e+04   0.736000\n",
       "2016-03-01 00:09:00  4.995500e+04   0.500000\n",
       "2016-03-01 00:10:00  4.995500e+04   0.160000\n",
       "2016-03-01 00:11:00  4.996473e+04   1.824300\n",
       "2016-03-01 00:12:00  4.996609e+04   1.268527\n",
       "2016-03-01 00:13:00  5.000000e+04   6.989000\n",
       "2016-03-01 00:14:00  5.000783e+04   5.123000\n",
       "2016-03-01 00:15:00  5.000469e+04   2.799000\n",
       "2016-03-01 00:16:00  5.002250e+04   1.094000\n",
       "2016-03-01 00:17:00  5.000683e+04   1.168000\n",
       "2016-03-01 00:18:00  5.002060e+04   1.483000\n",
       "2016-03-01 00:19:00  4.999500e+04   0.010000\n",
       "2016-03-01 00:20:00  4.996725e+04   0.500000\n",
       "2016-03-01 00:21:00  4.996000e+04   0.060000\n",
       "2016-03-01 00:22:00  4.995033e+04   0.312000\n",
       "2016-03-01 00:23:00  4.995964e+04   3.576000\n",
       "2016-03-01 00:24:00  4.996000e+04   1.150000\n",
       "2016-03-01 00:25:00  4.994750e+04   0.106000\n",
       "2016-03-01 00:26:00  4.996825e+04   0.700000\n",
       "2016-03-01 00:27:00  4.995375e+04   0.700000\n",
       "2016-03-01 00:28:00  4.994067e+04   0.941000\n",
       "2016-03-01 00:29:00  4.995614e+04   0.950000\n",
       "2016-03-01 00:30:00  4.994525e+04   0.551000\n",
       "...                           ...        ...\n",
       "2018-01-19 09:01:00  1.335271e+06  18.197189\n",
       "2018-01-19 09:02:00  1.335593e+06  14.935620\n",
       "2018-01-19 09:03:00  1.336023e+06  13.038105\n",
       "2018-01-19 09:04:00  1.336094e+06   9.320120\n",
       "2018-01-19 09:05:00  1.336850e+06  18.572378\n",
       "2018-01-19 09:06:00  1.336683e+06   4.313149\n",
       "2018-01-19 09:07:00  1.337038e+06   5.581495\n",
       "2018-01-19 09:08:00  1.339862e+06  85.236726\n",
       "2018-01-19 09:09:00  1.341939e+06  21.500554\n",
       "2018-01-19 09:10:00  1.342683e+06  18.602333\n",
       "2018-01-19 09:11:00  1.341281e+06  10.383799\n",
       "2018-01-19 09:12:00  1.338782e+06  21.020045\n",
       "2018-01-19 09:13:00  1.340305e+06  25.317280\n",
       "2018-01-19 09:14:00  1.340468e+06  19.582571\n",
       "2018-01-19 09:15:00  1.337346e+06   9.099434\n",
       "2018-01-19 09:16:00  1.338563e+06   3.848011\n",
       "2018-01-19 09:17:00  1.337437e+06   1.654906\n",
       "2018-01-19 09:18:00  1.336899e+06   4.380303\n",
       "2018-01-19 09:19:00  1.337199e+06   7.389172\n",
       "2018-01-19 09:20:00  1.336920e+06  40.119614\n",
       "2018-01-19 09:21:00  1.336103e+06  16.885549\n",
       "2018-01-19 09:22:00  1.337237e+06  29.700197\n",
       "2018-01-19 09:23:00  1.339859e+06  54.985899\n",
       "2018-01-19 09:24:00  1.344293e+06  58.856787\n",
       "2018-01-19 09:25:00  1.343938e+06  22.174042\n",
       "2018-01-19 09:26:00  1.342472e+06  19.567661\n",
       "2018-01-19 09:27:00  1.340105e+06  35.006361\n",
       "2018-01-19 09:28:00  1.335802e+06  34.723725\n",
       "2018-01-19 09:29:00  1.333147e+06  21.995411\n",
       "2018-01-19 09:30:00  1.333021e+06   9.273900\n",
       "\n",
       "[992730 rows x 2 columns]"
      ]
     },
     "execution_count": 3,
     "metadata": {},
     "output_type": "execute_result"
    }
   ],
   "source": [
    "dfb"
   ]
  },
  {
   "cell_type": "code",
   "execution_count": 4,
   "metadata": {
    "collapsed": true
   },
   "outputs": [],
   "source": [
    "dfb.to_sql('history1min', session.bind, chunksize=1000, if_exists='append')"
   ]
  },
  {
   "cell_type": "code",
   "execution_count": 17,
   "metadata": {},
   "outputs": [
    {
     "data": {
      "text/html": [
       "<div>\n",
       "<style>\n",
       "    .dataframe thead tr:only-child th {\n",
       "        text-align: right;\n",
       "    }\n",
       "\n",
       "    .dataframe thead th {\n",
       "        text-align: left;\n",
       "    }\n",
       "\n",
       "    .dataframe tbody tr th {\n",
       "        vertical-align: top;\n",
       "    }\n",
       "</style>\n",
       "<table border=\"1\" class=\"dataframe\">\n",
       "  <thead>\n",
       "    <tr style=\"text-align: right;\">\n",
       "      <th></th>\n",
       "      <th>id</th>\n",
       "      <th>price</th>\n",
       "      <th>size</th>\n",
       "    </tr>\n",
       "    <tr>\n",
       "      <th>exec_date</th>\n",
       "      <th></th>\n",
       "      <th></th>\n",
       "      <th></th>\n",
       "    </tr>\n",
       "  </thead>\n",
       "  <tbody>\n",
       "    <tr>\n",
       "      <th>2018-01-11 14:22:16</th>\n",
       "      <td>111342754</td>\n",
       "      <td>1744900</td>\n",
       "      <td>0.010</td>\n",
       "    </tr>\n",
       "    <tr>\n",
       "      <th>2018-01-11 14:22:17</th>\n",
       "      <td>111342758</td>\n",
       "      <td>1744900</td>\n",
       "      <td>0.030</td>\n",
       "    </tr>\n",
       "    <tr>\n",
       "      <th>2018-01-11 14:22:21</th>\n",
       "      <td>111342800</td>\n",
       "      <td>1744900</td>\n",
       "      <td>0.059</td>\n",
       "    </tr>\n",
       "    <tr>\n",
       "      <th>2018-01-11 14:22:21</th>\n",
       "      <td>111342804</td>\n",
       "      <td>1744900</td>\n",
       "      <td>0.010</td>\n",
       "    </tr>\n",
       "    <tr>\n",
       "      <th>2018-01-11 14:22:21</th>\n",
       "      <td>111342807</td>\n",
       "      <td>1744900</td>\n",
       "      <td>0.001</td>\n",
       "    </tr>\n",
       "  </tbody>\n",
       "</table>\n",
       "</div>"
      ],
      "text/plain": [
       "                            id    price   size\n",
       "exec_date                                     \n",
       "2018-01-11 14:22:16  111342754  1744900  0.010\n",
       "2018-01-11 14:22:17  111342758  1744900  0.030\n",
       "2018-01-11 14:22:21  111342800  1744900  0.059\n",
       "2018-01-11 14:22:21  111342804  1744900  0.010\n",
       "2018-01-11 14:22:21  111342807  1744900  0.001"
      ]
     },
     "execution_count": 17,
     "metadata": {},
     "output_type": "execute_result"
    }
   ],
   "source": [
    "df.tail(5)"
   ]
  },
  {
   "cell_type": "code",
   "execution_count": 24,
   "metadata": {},
   "outputs": [],
   "source": [
    "%matplotlib inline\n",
    "\n",
    "price_std = []\n",
    "size_std = []\n",
    "for i in range(100):\n",
    "    diffs_price = (dfb.price / dfb.price.shift(-i) - 1)\n",
    "    diffs_size = (dfb['size'] / dfb['size'].shift(-i).replace(0, 0.00001) - 1)\n",
    "    price_std.append(diffs_price.std())\n",
    "    size_std.append(diffs_size.std())"
   ]
  },
  {
   "cell_type": "code",
   "execution_count": 10,
   "metadata": {
    "collapsed": true
   },
   "outputs": [],
   "source": [
    "from matplotlib import pyplot as plt"
   ]
  },
  {
   "cell_type": "code",
   "execution_count": 18,
   "metadata": {},
   "outputs": [
    {
     "data": {
      "text/plain": [
       "[<matplotlib.lines.Line2D at 0x17982f9cd68>]"
      ]
     },
     "execution_count": 18,
     "metadata": {},
     "output_type": "execute_result"
    },
    {
     "data": {
      "image/png": "[encoded data removed]",
      "text/plain": [
       "<matplotlib.figure.Figure at 0x1798255a438>"
      ]
     },
     "metadata": {},
     "output_type": "display_data"
    }
   ],
   "source": [
    "plt.plot(range(100), price_std)"
   ]
  },
  {
   "cell_type": "code",
   "execution_count": 25,
   "metadata": {},
   "outputs": [
    {
     "data": {
      "text/plain": [
       "[<matplotlib.lines.Line2D at 0x179837bb668>]"
      ]
     },
     "execution_count": 25,
     "metadata": {},
     "output_type": "execute_result"
    },
    {
     "data": {
      "image/png": "[encoded data removed]",
      "text/plain": [
       "<matplotlib.figure.Figure at 0x17982f79940>"
      ]
     },
     "metadata": {},
     "output_type": "display_data"
    }
   ],
   "source": [
    "plt.plot(range(100), size_std)"
   ]
  },
  {
   "cell_type": "code",
   "execution_count": 26,
   "metadata": {},
   "outputs": [
    {
     "data": {
      "text/plain": [
       "price    60980\n",
       "size     60980\n",
       "dtype: int64"
      ]
     },
     "execution_count": 26,
     "metadata": {},
     "output_type": "execute_result"
    }
   ],
   "source": [
    "dfb[dfb['size'] == 0].count()"
   ]
  },
  {
   "cell_type": "code",
   "execution_count": 27,
   "metadata": {
    "collapsed": true
   },
   "outputs": [],
   "source": [
    "from scipy import stats"
   ]
  },
  {
   "cell_type": "code",
   "execution_count": 29,
   "metadata": {},
   "outputs": [
    {
     "data": {
      "text/plain": [
       "(0.33048740439230528, 0.0)"
      ]
     },
     "execution_count": 29,
     "metadata": {},
     "output_type": "execute_result"
    }
   ],
   "source": [
    "diff0 = (dfb.price / dfb.price.shift(-1) - 1).fillna(0)\n",
    "stats.pearsonr(diff0, diff0.shift(1).fillna(0))"
   ]
  },
  {
   "cell_type": "code",
   "execution_count": 30,
   "metadata": {},
   "outputs": [
    {
     "data": {
      "text/plain": [
       "<matplotlib.collections.PathCollection at 0x179847afb38>"
      ]
     },
     "execution_count": 30,
     "metadata": {},
     "output_type": "execute_result"
    },
    {
     "data": {
      "image/png": "[encoded data removed]",
      "text/plain": [
       "<matplotlib.figure.Figure at 0x17982fee588>"
      ]
     },
     "metadata": {},
     "output_type": "display_data"
    }
   ],
   "source": [
    "plt.scatter(diff0, diff0.shift(1))"
   ]
  },
  {
   "cell_type": "code",
   "execution_count": 32,
   "metadata": {},
   "outputs": [
    {
     "data": {
      "text/plain": [
       "238989"
      ]
     },
     "execution_count": 32,
     "metadata": {},
     "output_type": "execute_result"
    }
   ],
   "source": [
    "diff0[(diff0 > 0) & (diff0.shift(1) > 0)].count()"
   ]
  },
  {
   "cell_type": "code",
   "execution_count": 33,
   "metadata": {},
   "outputs": [
    {
     "data": {
      "text/plain": [
       "197997"
      ]
     },
     "execution_count": 33,
     "metadata": {},
     "output_type": "execute_result"
    }
   ],
   "source": [
    "diff0[(diff0 > 0) & (diff0.shift(1) < 0)].count()"
   ]
  },
  {
   "cell_type": "code",
   "execution_count": 34,
   "metadata": {},
   "outputs": [
    {
     "data": {
      "text/plain": [
       "251794"
      ]
     },
     "execution_count": 34,
     "metadata": {},
     "output_type": "execute_result"
    }
   ],
   "source": [
    "diff0[(diff0 < 0) & (diff0.shift(1) < 0)].count()"
   ]
  },
  {
   "cell_type": "code",
   "execution_count": 35,
   "metadata": {},
   "outputs": [
    {
     "data": {
      "text/plain": [
       "197733"
      ]
     },
     "execution_count": 35,
     "metadata": {},
     "output_type": "execute_result"
    }
   ],
   "source": [
    "diff0[(diff0 < 0) & (diff0.shift(1) > 0)].count()"
   ]
  },
  {
   "cell_type": "code",
   "execution_count": 36,
   "metadata": {},
   "outputs": [
    {
     "data": {
      "text/plain": [
       "0.5601309821212074"
      ]
     },
     "execution_count": 36,
     "metadata": {},
     "output_type": "execute_result"
    }
   ],
   "source": [
    "251794 / (251794 + 197733)"
   ]
  }
 ],
 "metadata": {
  "kernelspec": {
   "display_name": "Python 3",
   "language": "python",
   "name": "python3"
  },
  "language_info": {
   "codemirror_mode": {
    "name": "ipython",
    "version": 3
   },
   "file_extension": ".py",
   "mimetype": "text/x-python",
   "name": "python",
   "nbconvert_exporter": "python",
   "pygments_lexer": "ipython3",
   "version": "3.6.3"
  }
 },
 "nbformat": 4,
 "nbformat_minor": 2
}
